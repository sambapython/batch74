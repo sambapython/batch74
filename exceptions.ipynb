{
 "cells": [
  {
   "cell_type": "code",
   "execution_count": 1,
   "metadata": {},
   "outputs": [
    {
     "ename": "SyntaxError",
     "evalue": "EOL while scanning string literal (<ipython-input-1-3eae4bc42d98>, line 2)",
     "output_type": "error",
     "traceback": [
      "\u001b[1;36m  File \u001b[1;32m\"<ipython-input-1-3eae4bc42d98>\"\u001b[1;36m, line \u001b[1;32m2\u001b[0m\n\u001b[1;33m    print(\"hi)\u001b[0m\n\u001b[1;37m              ^\u001b[0m\n\u001b[1;31mSyntaxError\u001b[0m\u001b[1;31m:\u001b[0m EOL while scanning string literal\n"
     ]
    }
   ],
   "source": [
    "print(\"hello\")\n",
    "print(\"hi)"
   ]
  },
  {
   "cell_type": "code",
   "execution_count": 2,
   "metadata": {},
   "outputs": [
    {
     "name": "stdout",
     "output_type": "stream",
     "text": [
      "hello\n",
      "hi\n"
     ]
    },
    {
     "ename": "ZeroDivisionError",
     "evalue": "division by zero",
     "output_type": "error",
     "traceback": [
      "\u001b[1;31m---------------------------------------------------------------------------\u001b[0m",
      "\u001b[1;31mZeroDivisionError\u001b[0m                         Traceback (most recent call last)",
      "\u001b[1;32m<ipython-input-2-387b348717da>\u001b[0m in \u001b[0;36m<module>\u001b[1;34m\u001b[0m\n\u001b[0;32m      1\u001b[0m \u001b[0mprint\u001b[0m\u001b[1;33m(\u001b[0m\u001b[1;34m\"hello\"\u001b[0m\u001b[1;33m)\u001b[0m\u001b[1;33m\u001b[0m\u001b[1;33m\u001b[0m\u001b[0m\n\u001b[0;32m      2\u001b[0m \u001b[0mprint\u001b[0m\u001b[1;33m(\u001b[0m\u001b[1;34m\"hi\"\u001b[0m\u001b[1;33m)\u001b[0m\u001b[1;33m\u001b[0m\u001b[1;33m\u001b[0m\u001b[0m\n\u001b[1;32m----> 3\u001b[1;33m \u001b[0mprint\u001b[0m\u001b[1;33m(\u001b[0m\u001b[1;36m1\u001b[0m\u001b[1;33m/\u001b[0m\u001b[1;36m0\u001b[0m\u001b[1;33m)\u001b[0m\u001b[1;33m\u001b[0m\u001b[1;33m\u001b[0m\u001b[0m\n\u001b[0m\u001b[0;32m      4\u001b[0m \u001b[0mprint\u001b[0m\u001b[1;33m(\u001b[0m\u001b[1;34m\"Hyderabad\"\u001b[0m\u001b[1;33m)\u001b[0m\u001b[1;33m\u001b[0m\u001b[1;33m\u001b[0m\u001b[0m\n",
      "\u001b[1;31mZeroDivisionError\u001b[0m: division by zero"
     ]
    }
   ],
   "source": [
    "print(\"hello\")\n",
    "print(\"hi\")\n",
    "print(1/0)\n",
    "print(\"Hyderabad\")"
   ]
  },
  {
   "cell_type": "code",
   "execution_count": 3,
   "metadata": {},
   "outputs": [
    {
     "data": {
      "text/plain": [
       "12"
      ]
     },
     "execution_count": 3,
     "metadata": {},
     "output_type": "execute_result"
    }
   ],
   "source": [
    "int(\"12\")"
   ]
  },
  {
   "cell_type": "code",
   "execution_count": 4,
   "metadata": {},
   "outputs": [
    {
     "ename": "ValueError",
     "evalue": "invalid literal for int() with base 10: '12.23'",
     "output_type": "error",
     "traceback": [
      "\u001b[1;31m---------------------------------------------------------------------------\u001b[0m",
      "\u001b[1;31mValueError\u001b[0m                                Traceback (most recent call last)",
      "\u001b[1;32m<ipython-input-4-b04a50f6c2d1>\u001b[0m in \u001b[0;36m<module>\u001b[1;34m\u001b[0m\n\u001b[1;32m----> 1\u001b[1;33m \u001b[0mint\u001b[0m\u001b[1;33m(\u001b[0m\u001b[1;34m\"12.23\"\u001b[0m\u001b[1;33m)\u001b[0m\u001b[1;33m\u001b[0m\u001b[1;33m\u001b[0m\u001b[0m\n\u001b[0m",
      "\u001b[1;31mValueError\u001b[0m: invalid literal for int() with base 10: '12.23'"
     ]
    }
   ],
   "source": [
    "int(\"12.23\")"
   ]
  },
  {
   "cell_type": "code",
   "execution_count": 5,
   "metadata": {},
   "outputs": [
    {
     "data": {
      "text/plain": [
       "12.23"
      ]
     },
     "execution_count": 5,
     "metadata": {},
     "output_type": "execute_result"
    }
   ],
   "source": [
    "float(\"12.23\")"
   ]
  },
  {
   "cell_type": "code",
   "execution_count": 6,
   "metadata": {},
   "outputs": [
    {
     "ename": "ValueError",
     "evalue": "could not convert string to float: '12.232wer'",
     "output_type": "error",
     "traceback": [
      "\u001b[1;31m---------------------------------------------------------------------------\u001b[0m",
      "\u001b[1;31mValueError\u001b[0m                                Traceback (most recent call last)",
      "\u001b[1;32m<ipython-input-6-215e15550dc2>\u001b[0m in \u001b[0;36m<module>\u001b[1;34m\u001b[0m\n\u001b[1;32m----> 1\u001b[1;33m \u001b[0mfloat\u001b[0m\u001b[1;33m(\u001b[0m\u001b[1;34m\"12.232wer\"\u001b[0m\u001b[1;33m)\u001b[0m\u001b[1;33m\u001b[0m\u001b[1;33m\u001b[0m\u001b[0m\n\u001b[0m",
      "\u001b[1;31mValueError\u001b[0m: could not convert string to float: '12.232wer'"
     ]
    }
   ],
   "source": [
    "float(\"12.232wer\")"
   ]
  },
  {
   "cell_type": "code",
   "execution_count": 7,
   "metadata": {},
   "outputs": [
    {
     "name": "stdout",
     "output_type": "stream",
     "text": [
      "started\n",
      "Enter a value:12\n",
      "Enter b value:6\n",
      "before conversion: a=12,b=6\n",
      "after conversion: a=12,b=6\n",
      "result=2.0\n",
      "ended\n"
     ]
    }
   ],
   "source": [
    "print(\"started\")\n",
    "a=input(\"Enter a value:\")\n",
    "b=input(\"Enter b value:\")\n",
    "print(f\"before conversion: a={a},b={b}\")\n",
    "a,b=int(a),int(b)\n",
    "print(f\"after conversion: a={a},b={b}\")\n",
    "res=a/b\n",
    "print(f\"result={res}\")\n",
    "print(\"ended\")"
   ]
  },
  {
   "cell_type": "code",
   "execution_count": 8,
   "metadata": {},
   "outputs": [
    {
     "name": "stdout",
     "output_type": "stream",
     "text": [
      "started\n",
      "Enter a value:1.2\n",
      "Enter b value:3\n",
      "before conversion: a=1.2,b=3\n"
     ]
    },
    {
     "ename": "ValueError",
     "evalue": "invalid literal for int() with base 10: '1.2'",
     "output_type": "error",
     "traceback": [
      "\u001b[1;31m---------------------------------------------------------------------------\u001b[0m",
      "\u001b[1;31mValueError\u001b[0m                                Traceback (most recent call last)",
      "\u001b[1;32m<ipython-input-8-7e49736afb0f>\u001b[0m in \u001b[0;36m<module>\u001b[1;34m\u001b[0m\n\u001b[0;32m      3\u001b[0m \u001b[0mb\u001b[0m\u001b[1;33m=\u001b[0m\u001b[0minput\u001b[0m\u001b[1;33m(\u001b[0m\u001b[1;34m\"Enter b value:\"\u001b[0m\u001b[1;33m)\u001b[0m\u001b[1;33m\u001b[0m\u001b[1;33m\u001b[0m\u001b[0m\n\u001b[0;32m      4\u001b[0m \u001b[0mprint\u001b[0m\u001b[1;33m(\u001b[0m\u001b[1;34mf\"before conversion: a={a},b={b}\"\u001b[0m\u001b[1;33m)\u001b[0m\u001b[1;33m\u001b[0m\u001b[1;33m\u001b[0m\u001b[0m\n\u001b[1;32m----> 5\u001b[1;33m \u001b[0ma\u001b[0m\u001b[1;33m,\u001b[0m\u001b[0mb\u001b[0m\u001b[1;33m=\u001b[0m\u001b[0mint\u001b[0m\u001b[1;33m(\u001b[0m\u001b[0ma\u001b[0m\u001b[1;33m)\u001b[0m\u001b[1;33m,\u001b[0m\u001b[0mint\u001b[0m\u001b[1;33m(\u001b[0m\u001b[0mb\u001b[0m\u001b[1;33m)\u001b[0m\u001b[1;33m\u001b[0m\u001b[1;33m\u001b[0m\u001b[0m\n\u001b[0m\u001b[0;32m      6\u001b[0m \u001b[0mprint\u001b[0m\u001b[1;33m(\u001b[0m\u001b[1;34mf\"after conversion: a={a},b={b}\"\u001b[0m\u001b[1;33m)\u001b[0m\u001b[1;33m\u001b[0m\u001b[1;33m\u001b[0m\u001b[0m\n\u001b[0;32m      7\u001b[0m \u001b[0mres\u001b[0m\u001b[1;33m=\u001b[0m\u001b[0ma\u001b[0m\u001b[1;33m/\u001b[0m\u001b[0mb\u001b[0m\u001b[1;33m\u001b[0m\u001b[1;33m\u001b[0m\u001b[0m\n",
      "\u001b[1;31mValueError\u001b[0m: invalid literal for int() with base 10: '1.2'"
     ]
    }
   ],
   "source": [
    "print(\"started\")\n",
    "a=input(\"Enter a value:\")\n",
    "b=input(\"Enter b value:\")\n",
    "print(f\"before conversion: a={a},b={b}\")\n",
    "a,b=int(a),int(b)\n",
    "print(f\"after conversion: a={a},b={b}\")\n",
    "res=a/b\n",
    "print(f\"result={res}\")\n",
    "print(\"ended\")"
   ]
  },
  {
   "cell_type": "code",
   "execution_count": 9,
   "metadata": {},
   "outputs": [
    {
     "name": "stdout",
     "output_type": "stream",
     "text": [
      "started\n",
      "Enter a value:a\n",
      "Enter b value:23\n",
      "before conversion: a=a,b=23\n"
     ]
    },
    {
     "ename": "ValueError",
     "evalue": "invalid literal for int() with base 10: 'a'",
     "output_type": "error",
     "traceback": [
      "\u001b[1;31m---------------------------------------------------------------------------\u001b[0m",
      "\u001b[1;31mValueError\u001b[0m                                Traceback (most recent call last)",
      "\u001b[1;32m<ipython-input-9-7e49736afb0f>\u001b[0m in \u001b[0;36m<module>\u001b[1;34m\u001b[0m\n\u001b[0;32m      3\u001b[0m \u001b[0mb\u001b[0m\u001b[1;33m=\u001b[0m\u001b[0minput\u001b[0m\u001b[1;33m(\u001b[0m\u001b[1;34m\"Enter b value:\"\u001b[0m\u001b[1;33m)\u001b[0m\u001b[1;33m\u001b[0m\u001b[1;33m\u001b[0m\u001b[0m\n\u001b[0;32m      4\u001b[0m \u001b[0mprint\u001b[0m\u001b[1;33m(\u001b[0m\u001b[1;34mf\"before conversion: a={a},b={b}\"\u001b[0m\u001b[1;33m)\u001b[0m\u001b[1;33m\u001b[0m\u001b[1;33m\u001b[0m\u001b[0m\n\u001b[1;32m----> 5\u001b[1;33m \u001b[0ma\u001b[0m\u001b[1;33m,\u001b[0m\u001b[0mb\u001b[0m\u001b[1;33m=\u001b[0m\u001b[0mint\u001b[0m\u001b[1;33m(\u001b[0m\u001b[0ma\u001b[0m\u001b[1;33m)\u001b[0m\u001b[1;33m,\u001b[0m\u001b[0mint\u001b[0m\u001b[1;33m(\u001b[0m\u001b[0mb\u001b[0m\u001b[1;33m)\u001b[0m\u001b[1;33m\u001b[0m\u001b[1;33m\u001b[0m\u001b[0m\n\u001b[0m\u001b[0;32m      6\u001b[0m \u001b[0mprint\u001b[0m\u001b[1;33m(\u001b[0m\u001b[1;34mf\"after conversion: a={a},b={b}\"\u001b[0m\u001b[1;33m)\u001b[0m\u001b[1;33m\u001b[0m\u001b[1;33m\u001b[0m\u001b[0m\n\u001b[0;32m      7\u001b[0m \u001b[0mres\u001b[0m\u001b[1;33m=\u001b[0m\u001b[0ma\u001b[0m\u001b[1;33m/\u001b[0m\u001b[0mb\u001b[0m\u001b[1;33m\u001b[0m\u001b[1;33m\u001b[0m\u001b[0m\n",
      "\u001b[1;31mValueError\u001b[0m: invalid literal for int() with base 10: 'a'"
     ]
    }
   ],
   "source": [
    "print(\"started\")\n",
    "a=input(\"Enter a value:\")\n",
    "b=input(\"Enter b value:\")\n",
    "print(f\"before conversion: a={a},b={b}\")\n",
    "a,b=int(a),int(b)\n",
    "print(f\"after conversion: a={a},b={b}\")\n",
    "res=a/b\n",
    "print(f\"result={res}\")\n",
    "print(\"ended\")"
   ]
  },
  {
   "cell_type": "code",
   "execution_count": 10,
   "metadata": {},
   "outputs": [
    {
     "name": "stdout",
     "output_type": "stream",
     "text": [
      "started\n",
      "Enter a value:23\n",
      "Enter b value:0\n",
      "before conversion: a=23,b=0\n",
      "after conversion: a=23,b=0\n"
     ]
    },
    {
     "ename": "ZeroDivisionError",
     "evalue": "division by zero",
     "output_type": "error",
     "traceback": [
      "\u001b[1;31m---------------------------------------------------------------------------\u001b[0m",
      "\u001b[1;31mZeroDivisionError\u001b[0m                         Traceback (most recent call last)",
      "\u001b[1;32m<ipython-input-10-7e49736afb0f>\u001b[0m in \u001b[0;36m<module>\u001b[1;34m\u001b[0m\n\u001b[0;32m      5\u001b[0m \u001b[0ma\u001b[0m\u001b[1;33m,\u001b[0m\u001b[0mb\u001b[0m\u001b[1;33m=\u001b[0m\u001b[0mint\u001b[0m\u001b[1;33m(\u001b[0m\u001b[0ma\u001b[0m\u001b[1;33m)\u001b[0m\u001b[1;33m,\u001b[0m\u001b[0mint\u001b[0m\u001b[1;33m(\u001b[0m\u001b[0mb\u001b[0m\u001b[1;33m)\u001b[0m\u001b[1;33m\u001b[0m\u001b[1;33m\u001b[0m\u001b[0m\n\u001b[0;32m      6\u001b[0m \u001b[0mprint\u001b[0m\u001b[1;33m(\u001b[0m\u001b[1;34mf\"after conversion: a={a},b={b}\"\u001b[0m\u001b[1;33m)\u001b[0m\u001b[1;33m\u001b[0m\u001b[1;33m\u001b[0m\u001b[0m\n\u001b[1;32m----> 7\u001b[1;33m \u001b[0mres\u001b[0m\u001b[1;33m=\u001b[0m\u001b[0ma\u001b[0m\u001b[1;33m/\u001b[0m\u001b[0mb\u001b[0m\u001b[1;33m\u001b[0m\u001b[1;33m\u001b[0m\u001b[0m\n\u001b[0m\u001b[0;32m      8\u001b[0m \u001b[0mprint\u001b[0m\u001b[1;33m(\u001b[0m\u001b[1;34mf\"result={res}\"\u001b[0m\u001b[1;33m)\u001b[0m\u001b[1;33m\u001b[0m\u001b[1;33m\u001b[0m\u001b[0m\n\u001b[0;32m      9\u001b[0m \u001b[0mprint\u001b[0m\u001b[1;33m(\u001b[0m\u001b[1;34m\"ended\"\u001b[0m\u001b[1;33m)\u001b[0m\u001b[1;33m\u001b[0m\u001b[1;33m\u001b[0m\u001b[0m\n",
      "\u001b[1;31mZeroDivisionError\u001b[0m: division by zero"
     ]
    }
   ],
   "source": [
    "print(\"started\")\n",
    "a=input(\"Enter a value:\")\n",
    "b=input(\"Enter b value:\")\n",
    "print(f\"before conversion: a={a},b={b}\")\n",
    "a,b=int(a),int(b)\n",
    "print(f\"after conversion: a={a},b={b}\")\n",
    "res=a/b\n",
    "print(f\"result={res}\")\n",
    "print(\"ended\")"
   ]
  },
  {
   "cell_type": "code",
   "execution_count": 11,
   "metadata": {},
   "outputs": [
    {
     "name": "stdout",
     "output_type": "stream",
     "text": [
      "started\n",
      "Enter a value:12\n",
      "Enter b value:6\n",
      "before conversion: a=12,b=6\n",
      "after conversion: a=12.0,b=6.0\n",
      "result=2.0\n",
      "ended\n"
     ]
    }
   ],
   "source": [
    "print(\"started\")\n",
    "a=input(\"Enter a value:\")\n",
    "b=input(\"Enter b value:\")\n",
    "print(f\"before conversion: a={a},b={b}\")\n",
    "a,b=float(a),float(b)\n",
    "print(f\"after conversion: a={a},b={b}\")\n",
    "res=a/b\n",
    "print(f\"result={res}\")\n",
    "print(\"ended\")"
   ]
  },
  {
   "cell_type": "code",
   "execution_count": 12,
   "metadata": {},
   "outputs": [
    {
     "name": "stdout",
     "output_type": "stream",
     "text": [
      "started\n",
      "Enter a value:12.6\n",
      "Enter b value:6.3\n",
      "before conversion: a=12.6,b=6.3\n",
      "after conversion: a=12.6,b=6.3\n",
      "result=2.0\n",
      "ended\n"
     ]
    }
   ],
   "source": [
    "print(\"started\")\n",
    "a=input(\"Enter a value:\")\n",
    "b=input(\"Enter b value:\")\n",
    "print(f\"before conversion: a={a},b={b}\")\n",
    "a,b=float(a),float(b)\n",
    "print(f\"after conversion: a={a},b={b}\")\n",
    "res=a/b\n",
    "print(f\"result={res}\")\n",
    "print(\"ended\")"
   ]
  },
  {
   "cell_type": "code",
   "execution_count": 13,
   "metadata": {},
   "outputs": [
    {
     "name": "stdout",
     "output_type": "stream",
     "text": [
      "started\n",
      "Enter a value:sd\n",
      "Enter b value:23\n",
      "before conversion: a=sd,b=23\n"
     ]
    },
    {
     "ename": "ValueError",
     "evalue": "could not convert string to float: 'sd'",
     "output_type": "error",
     "traceback": [
      "\u001b[1;31m---------------------------------------------------------------------------\u001b[0m",
      "\u001b[1;31mValueError\u001b[0m                                Traceback (most recent call last)",
      "\u001b[1;32m<ipython-input-13-8b7d83659fb4>\u001b[0m in \u001b[0;36m<module>\u001b[1;34m\u001b[0m\n\u001b[0;32m      3\u001b[0m \u001b[0mb\u001b[0m\u001b[1;33m=\u001b[0m\u001b[0minput\u001b[0m\u001b[1;33m(\u001b[0m\u001b[1;34m\"Enter b value:\"\u001b[0m\u001b[1;33m)\u001b[0m\u001b[1;33m\u001b[0m\u001b[1;33m\u001b[0m\u001b[0m\n\u001b[0;32m      4\u001b[0m \u001b[0mprint\u001b[0m\u001b[1;33m(\u001b[0m\u001b[1;34mf\"before conversion: a={a},b={b}\"\u001b[0m\u001b[1;33m)\u001b[0m\u001b[1;33m\u001b[0m\u001b[1;33m\u001b[0m\u001b[0m\n\u001b[1;32m----> 5\u001b[1;33m \u001b[0ma\u001b[0m\u001b[1;33m,\u001b[0m\u001b[0mb\u001b[0m\u001b[1;33m=\u001b[0m\u001b[0mfloat\u001b[0m\u001b[1;33m(\u001b[0m\u001b[0ma\u001b[0m\u001b[1;33m)\u001b[0m\u001b[1;33m,\u001b[0m\u001b[0mfloat\u001b[0m\u001b[1;33m(\u001b[0m\u001b[0mb\u001b[0m\u001b[1;33m)\u001b[0m\u001b[1;33m\u001b[0m\u001b[1;33m\u001b[0m\u001b[0m\n\u001b[0m\u001b[0;32m      6\u001b[0m \u001b[0mprint\u001b[0m\u001b[1;33m(\u001b[0m\u001b[1;34mf\"after conversion: a={a},b={b}\"\u001b[0m\u001b[1;33m)\u001b[0m\u001b[1;33m\u001b[0m\u001b[1;33m\u001b[0m\u001b[0m\n\u001b[0;32m      7\u001b[0m \u001b[0mres\u001b[0m\u001b[1;33m=\u001b[0m\u001b[0ma\u001b[0m\u001b[1;33m/\u001b[0m\u001b[0mb\u001b[0m\u001b[1;33m\u001b[0m\u001b[1;33m\u001b[0m\u001b[0m\n",
      "\u001b[1;31mValueError\u001b[0m: could not convert string to float: 'sd'"
     ]
    }
   ],
   "source": [
    "print(\"started\")\n",
    "a=input(\"Enter a value:\")\n",
    "b=input(\"Enter b value:\")\n",
    "print(f\"before conversion: a={a},b={b}\")\n",
    "a,b=float(a),float(b)\n",
    "print(f\"after conversion: a={a},b={b}\")\n",
    "res=a/b\n",
    "print(f\"result={res}\")\n",
    "print(\"ended\")"
   ]
  },
  {
   "cell_type": "code",
   "execution_count": 14,
   "metadata": {},
   "outputs": [
    {
     "name": "stdout",
     "output_type": "stream",
     "text": [
      "started\n",
      "Enter a value:23\n",
      "Enter b value:0\n",
      "before conversion: a=23,b=0\n",
      "after conversion: a=23.0,b=0.0\n"
     ]
    },
    {
     "ename": "ZeroDivisionError",
     "evalue": "float division by zero",
     "output_type": "error",
     "traceback": [
      "\u001b[1;31m---------------------------------------------------------------------------\u001b[0m",
      "\u001b[1;31mZeroDivisionError\u001b[0m                         Traceback (most recent call last)",
      "\u001b[1;32m<ipython-input-14-8b7d83659fb4>\u001b[0m in \u001b[0;36m<module>\u001b[1;34m\u001b[0m\n\u001b[0;32m      5\u001b[0m \u001b[0ma\u001b[0m\u001b[1;33m,\u001b[0m\u001b[0mb\u001b[0m\u001b[1;33m=\u001b[0m\u001b[0mfloat\u001b[0m\u001b[1;33m(\u001b[0m\u001b[0ma\u001b[0m\u001b[1;33m)\u001b[0m\u001b[1;33m,\u001b[0m\u001b[0mfloat\u001b[0m\u001b[1;33m(\u001b[0m\u001b[0mb\u001b[0m\u001b[1;33m)\u001b[0m\u001b[1;33m\u001b[0m\u001b[1;33m\u001b[0m\u001b[0m\n\u001b[0;32m      6\u001b[0m \u001b[0mprint\u001b[0m\u001b[1;33m(\u001b[0m\u001b[1;34mf\"after conversion: a={a},b={b}\"\u001b[0m\u001b[1;33m)\u001b[0m\u001b[1;33m\u001b[0m\u001b[1;33m\u001b[0m\u001b[0m\n\u001b[1;32m----> 7\u001b[1;33m \u001b[0mres\u001b[0m\u001b[1;33m=\u001b[0m\u001b[0ma\u001b[0m\u001b[1;33m/\u001b[0m\u001b[0mb\u001b[0m\u001b[1;33m\u001b[0m\u001b[1;33m\u001b[0m\u001b[0m\n\u001b[0m\u001b[0;32m      8\u001b[0m \u001b[0mprint\u001b[0m\u001b[1;33m(\u001b[0m\u001b[1;34mf\"result={res}\"\u001b[0m\u001b[1;33m)\u001b[0m\u001b[1;33m\u001b[0m\u001b[1;33m\u001b[0m\u001b[0m\n\u001b[0;32m      9\u001b[0m \u001b[0mprint\u001b[0m\u001b[1;33m(\u001b[0m\u001b[1;34m\"ended\"\u001b[0m\u001b[1;33m)\u001b[0m\u001b[1;33m\u001b[0m\u001b[1;33m\u001b[0m\u001b[0m\n",
      "\u001b[1;31mZeroDivisionError\u001b[0m: float division by zero"
     ]
    }
   ],
   "source": [
    "print(\"started\")\n",
    "a=input(\"Enter a value:\")\n",
    "b=input(\"Enter b value:\")\n",
    "print(f\"before conversion: a={a},b={b}\")\n",
    "a,b=float(a),float(b)\n",
    "print(f\"after conversion: a={a},b={b}\")\n",
    "res=a/b\n",
    "print(f\"result={res}\")\n",
    "print(\"ended\")"
   ]
  },
  {
   "cell_type": "code",
   "execution_count": 15,
   "metadata": {},
   "outputs": [
    {
     "name": "stdout",
     "output_type": "stream",
     "text": [
      "started\n",
      "Enter a value:12\n",
      "Enter b value:6\n",
      "before conversion: a=12,b=6\n",
      "after conversion: a=12.0,b=6.0\n",
      "result=2.0\n",
      "ended\n"
     ]
    }
   ],
   "source": [
    "try:\n",
    "    print(\"started\")\n",
    "    a=input(\"Enter a value:\")\n",
    "    b=input(\"Enter b value:\")\n",
    "    print(f\"before conversion: a={a},b={b}\")\n",
    "    a,b=float(a),float(b)\n",
    "    print(f\"after conversion: a={a},b={b}\")\n",
    "    res=a/b\n",
    "    print(f\"result={res}\")\n",
    "    print(\"ended\")\n",
    "except:\n",
    "    print(\"something went wrong\")"
   ]
  },
  {
   "cell_type": "code",
   "execution_count": 16,
   "metadata": {},
   "outputs": [
    {
     "name": "stdout",
     "output_type": "stream",
     "text": [
      "started\n",
      "Enter a value:12\n",
      "Enter b value:0\n",
      "before conversion: a=12,b=0\n",
      "after conversion: a=12.0,b=0.0\n",
      "something went wrong\n"
     ]
    }
   ],
   "source": [
    "try:\n",
    "    print(\"started\")\n",
    "    a=input(\"Enter a value:\")\n",
    "    b=input(\"Enter b value:\")\n",
    "    print(f\"before conversion: a={a},b={b}\")\n",
    "    a,b=float(a),float(b)\n",
    "    print(f\"after conversion: a={a},b={b}\")\n",
    "    res=a/b #raise\n",
    "    print(f\"result={res}\")\n",
    "    print(\"ended\")\n",
    "except:\n",
    "    print(\"something went wrong\")"
   ]
  },
  {
   "cell_type": "code",
   "execution_count": 17,
   "metadata": {},
   "outputs": [
    {
     "name": "stdout",
     "output_type": "stream",
     "text": [
      "started\n",
      "Enter a value:12\n",
      "Enter b value:er\n",
      "before conversion: a=12,b=er\n",
      "something went wrong\n"
     ]
    }
   ],
   "source": [
    "try:\n",
    "    print(\"started\")\n",
    "    a=input(\"Enter a value:\")\n",
    "    b=input(\"Enter b value:\")\n",
    "    print(f\"before conversion: a={a},b={b}\")\n",
    "    a,b=float(a),float(b)\n",
    "    print(f\"after conversion: a={a},b={b}\")\n",
    "    res=a/b #raise\n",
    "    print(f\"result={res}\")\n",
    "    print(\"ended\")\n",
    "except:\n",
    "    print(\"something went wrong\")"
   ]
  },
  {
   "cell_type": "code",
   "execution_count": 18,
   "metadata": {},
   "outputs": [
    {
     "name": "stdout",
     "output_type": "stream",
     "text": [
      "started\n",
      "Enter a value:12\n",
      "Enter b value:6\n",
      "before conversion: a=12,b=6\n",
      "after conversion: a=12.0,b=6.0\n",
      "result=2.0\n",
      "ended\n"
     ]
    }
   ],
   "source": [
    "print(\"started\")\n",
    "a=input(\"Enter a value:\")\n",
    "b=input(\"Enter b value:\")\n",
    "print(f\"before conversion: a={a},b={b}\")\n",
    "try:\n",
    "    a,b=float(a),float(b)\n",
    "    print(f\"after conversion: a={a},b={b}\")\n",
    "    res=a/b #raise\n",
    "    print(f\"result={res}\")\n",
    "except:\n",
    "    print(\"something went wrong\")\n",
    "print(\"ended\")"
   ]
  },
  {
   "cell_type": "code",
   "execution_count": 19,
   "metadata": {},
   "outputs": [
    {
     "name": "stdout",
     "output_type": "stream",
     "text": [
      "started\n",
      "Enter a value:12\n",
      "Enter b value:0\n",
      "before conversion: a=12,b=0\n",
      "after conversion: a=12.0,b=0.0\n",
      "something went wrong\n",
      "ended\n"
     ]
    }
   ],
   "source": [
    "print(\"started\")\n",
    "a=input(\"Enter a value:\")\n",
    "b=input(\"Enter b value:\")\n",
    "print(f\"before conversion: a={a},b={b}\")\n",
    "try:\n",
    "    a,b=float(a),float(b)\n",
    "    print(f\"after conversion: a={a},b={b}\")\n",
    "    res=a/b #raise\n",
    "    print(f\"result={res}\")\n",
    "except:\n",
    "    print(\"something went wrong\")\n",
    "print(\"ended\")"
   ]
  },
  {
   "cell_type": "code",
   "execution_count": 20,
   "metadata": {},
   "outputs": [
    {
     "name": "stdout",
     "output_type": "stream",
     "text": [
      "started\n",
      "Enter a value:12\n",
      "Enter b value:6\n",
      "before conversion: a=12,b=6\n",
      "after conversion: a=12.0,b=6.0\n",
      "result=2.0\n",
      "ended\n"
     ]
    }
   ],
   "source": [
    "print(\"started\")\n",
    "a=input(\"Enter a value:\")\n",
    "b=input(\"Enter b value:\")\n",
    "print(f\"before conversion: a={a},b={b}\")\n",
    "try:\n",
    "    a,b=float(a),float(b)\n",
    "    print(f\"after conversion: a={a},b={b}\")\n",
    "    res=a/b #raise\n",
    "    print(f\"result={res}\")\n",
    "except Exception as err:\n",
    "    print(\"something went wrong\")\n",
    "    print(\"Error:\",err)\n",
    "print(\"ended\")"
   ]
  },
  {
   "cell_type": "code",
   "execution_count": 21,
   "metadata": {},
   "outputs": [
    {
     "name": "stdout",
     "output_type": "stream",
     "text": [
      "started\n",
      "Enter a value:12\n",
      "Enter b value:0\n",
      "before conversion: a=12,b=0\n",
      "after conversion: a=12.0,b=0.0\n",
      "something went wrong\n",
      "Error: float division by zero\n",
      "ended\n"
     ]
    }
   ],
   "source": [
    "print(\"started\")\n",
    "a=input(\"Enter a value:\")\n",
    "b=input(\"Enter b value:\")\n",
    "print(f\"before conversion: a={a},b={b}\")\n",
    "try:\n",
    "    a,b=float(a),float(b)\n",
    "    print(f\"after conversion: a={a},b={b}\")\n",
    "    res=a/b #raise\n",
    "    print(f\"result={res}\")\n",
    "except Exception as err:\n",
    "    print(\"something went wrong\")\n",
    "    print(\"Error:\",err)\n",
    "print(\"ended\")"
   ]
  },
  {
   "cell_type": "code",
   "execution_count": 22,
   "metadata": {},
   "outputs": [
    {
     "name": "stdout",
     "output_type": "stream",
     "text": [
      "started\n",
      "Enter a value:12\n",
      "Enter b value:wr\n",
      "before conversion: a=12,b=wr\n",
      "something went wrong\n",
      "Error: could not convert string to float: 'wr'\n",
      "ended\n"
     ]
    }
   ],
   "source": [
    "print(\"started\")\n",
    "a=input(\"Enter a value:\")\n",
    "b=input(\"Enter b value:\")\n",
    "print(f\"before conversion: a={a},b={b}\")\n",
    "try:\n",
    "    a,b=float(a),float(b)\n",
    "    print(f\"after conversion: a={a},b={b}\")\n",
    "    res=a/b #raise\n",
    "    print(f\"result={res}\")\n",
    "except Exception as err:\n",
    "    print(\"something went wrong\")\n",
    "    print(\"Error:\",err)\n",
    "print(\"ended\")"
   ]
  },
  {
   "cell_type": "code",
   "execution_count": 23,
   "metadata": {},
   "outputs": [
    {
     "name": "stdout",
     "output_type": "stream",
     "text": [
      "started\n",
      "Enter a value:12\n",
      "Enter b value:0\n",
      "before conversion: a=12,b=0\n",
      "after conversion: a=12.0,b=0.0\n",
      "ended\n"
     ]
    }
   ],
   "source": [
    "print(\"started\")\n",
    "a=input(\"Enter a value:\")\n",
    "b=input(\"Enter b value:\")\n",
    "print(f\"before conversion: a={a},b={b}\")\n",
    "try:\n",
    "    a,b=float(a),float(b)\n",
    "    print(f\"after conversion: a={a},b={b}\")\n",
    "    res=a/b #raise\n",
    "    print(f\"result={res}\")\n",
    "except ValueError as err:\n",
    "    pass\n",
    "except ZeroDivisionError as err:\n",
    "    pass\n",
    "except Exception as err:\n",
    "    print(\"something went wrong\")\n",
    "    print(\"Error:\",err)\n",
    "except:\n",
    "    print(\"something went wrong\")\n",
    "print(\"ended\")"
   ]
  },
  {
   "cell_type": "code",
   "execution_count": 24,
   "metadata": {},
   "outputs": [
    {
     "name": "stdout",
     "output_type": "stream",
     "text": [
      "started\n",
      "Enter a value:12\n",
      "Enter b value:2\n",
      "before conversion: a=12,b=2\n",
      "after conversion: a=12.0,b=2.0\n",
      "result=6.0\n",
      "ended\n"
     ]
    }
   ],
   "source": [
    "print(\"started\")\n",
    "a=input(\"Enter a value:\")\n",
    "b=input(\"Enter b value:\")\n",
    "print(f\"before conversion: a={a},b={b}\")\n",
    "try:\n",
    "    a,b=float(a),float(b)\n",
    "    print(f\"after conversion: a={a},b={b}\")\n",
    "    res=a/b #raise\n",
    "    print(f\"result={res}\")\n",
    "except ValueError as err:\n",
    "    print(\"Expecting only digits.\")\n",
    "except ZeroDivisionError as err:\n",
    "    print(\"expecting b not equal 0.\")\n",
    "except Exception as err:\n",
    "    print(\"something went wrong\")\n",
    "    print(\"Error:\",err)\n",
    "except:\n",
    "    print(\"something went wrong\")\n",
    "print(\"ended\")"
   ]
  },
  {
   "cell_type": "code",
   "execution_count": 25,
   "metadata": {},
   "outputs": [
    {
     "name": "stdout",
     "output_type": "stream",
     "text": [
      "started\n",
      "Enter a value:12\n",
      "Enter b value:0\n",
      "before conversion: a=12,b=0\n",
      "after conversion: a=12.0,b=0.0\n",
      "expecting b not equal 0.\n",
      "ended\n"
     ]
    }
   ],
   "source": [
    "print(\"started\")\n",
    "a=input(\"Enter a value:\")\n",
    "b=input(\"Enter b value:\")\n",
    "print(f\"before conversion: a={a},b={b}\")\n",
    "try:\n",
    "    a,b=float(a),float(b)\n",
    "    print(f\"after conversion: a={a},b={b}\")\n",
    "    res=a/b #raise\n",
    "    print(f\"result={res}\")\n",
    "except ValueError as err:\n",
    "    print(\"Expecting only digits.\")\n",
    "except ZeroDivisionError as err:\n",
    "    print(\"expecting b not equal 0.\")\n",
    "except Exception as err:\n",
    "    print(\"something went wrong\")\n",
    "    print(\"Error:\",err)\n",
    "except:\n",
    "    print(\"something went wrong\")\n",
    "print(\"ended\")"
   ]
  },
  {
   "cell_type": "code",
   "execution_count": 26,
   "metadata": {},
   "outputs": [
    {
     "name": "stdout",
     "output_type": "stream",
     "text": [
      "started\n",
      "Enter a value:12\n",
      "Enter b value:we\n",
      "before conversion: a=12,b=we\n",
      "Expecting only digits.\n",
      "ended\n"
     ]
    }
   ],
   "source": [
    "print(\"started\")\n",
    "a=input(\"Enter a value:\")\n",
    "b=input(\"Enter b value:\")\n",
    "print(f\"before conversion: a={a},b={b}\")\n",
    "try:\n",
    "    a,b=float(a),float(b)\n",
    "    print(f\"after conversion: a={a},b={b}\")\n",
    "    res=a/b #raise\n",
    "    print(f\"result={res}\")\n",
    "except ValueError as err:\n",
    "    print(\"Expecting only digits.\")\n",
    "except ZeroDivisionError as err:\n",
    "    print(\"expecting b not equal 0.\")\n",
    "except Exception as err:\n",
    "    print(\"something went wrong\")\n",
    "    print(\"Error:\",err)\n",
    "except:\n",
    "    print(\"something went wrong\")\n",
    "print(\"ended\")"
   ]
  },
  {
   "cell_type": "code",
   "execution_count": null,
   "metadata": {},
   "outputs": [],
   "source": [
    "print(\"started\")\n",
    "a=input(\"Enter a value:\")\n",
    "b=input(\"Enter b value:\")\n",
    "print(f\"before conversion: a={a},b={b}\")\n",
    "try:\n",
    "    a,b=float(a),float(b)\n",
    "    print(f\"after conversion: a={a},b={b}\")\n",
    "    res=a/b #raise\n",
    "    print(f\"result={res}\")\n",
    "except ValueError as err:\n",
    "    print(\"Expecting only digits.\")\n",
    "except ZeroDivisionError as err:\n",
    "    print(\"expecting b not equal 0.\")\n",
    "except Exception as err:\n",
    "    print(\"something went wrong\")\n",
    "    print(\"Error:\",err)\n",
    "except:\n",
    "    print(\"something went wrong\")\n",
    "print(\"ended\")"
   ]
  },
  {
   "cell_type": "code",
   "execution_count": 27,
   "metadata": {},
   "outputs": [
    {
     "name": "stdout",
     "output_type": "stream",
     "text": [
      "started\n",
      "try\n",
      "finally\n",
      "ended\n"
     ]
    }
   ],
   "source": [
    "print(\"started\")\n",
    "try:\n",
    "    print(\"try\")\n",
    "except:\n",
    "    print(\"except\")\n",
    "finally:\n",
    "    print(\"finally\")\n",
    "print(\"ended\")"
   ]
  },
  {
   "cell_type": "code",
   "execution_count": 28,
   "metadata": {},
   "outputs": [
    {
     "name": "stdout",
     "output_type": "stream",
     "text": [
      "started\n",
      "try\n",
      "except\n",
      "finally\n",
      "ended\n"
     ]
    }
   ],
   "source": [
    "print(\"started\")\n",
    "try:\n",
    "    print(\"try\")\n",
    "    print(1/0)\n",
    "except:\n",
    "    print(\"except\")\n",
    "finally:\n",
    "    print(\"finally\")\n",
    "print(\"ended\")"
   ]
  },
  {
   "cell_type": "code",
   "execution_count": 29,
   "metadata": {},
   "outputs": [
    {
     "name": "stdout",
     "output_type": "stream",
     "text": [
      "started\n",
      "try\n",
      "except\n",
      "finally\n",
      "ended\n"
     ]
    }
   ],
   "source": [
    "print(\"started\")\n",
    "try:\n",
    "    print(\"try\")\n",
    "    print(1/0)\n",
    "except:\n",
    "    print(\"except\")\n",
    "print(\"finally\")\n",
    "print(\"ended\")"
   ]
  },
  {
   "cell_type": "code",
   "execution_count": 30,
   "metadata": {},
   "outputs": [
    {
     "name": "stdout",
     "output_type": "stream",
     "text": [
      "started\n",
      "try\n",
      "finally\n",
      "ended\n"
     ]
    }
   ],
   "source": [
    "print(\"started\")\n",
    "try:\n",
    "    print(\"try\")\n",
    "except:\n",
    "    print(\"except\")\n",
    "print(\"finally\")\n",
    "print(\"ended\")"
   ]
  },
  {
   "cell_type": "code",
   "execution_count": 31,
   "metadata": {},
   "outputs": [
    {
     "name": "stdout",
     "output_type": "stream",
     "text": [
      "try\n",
      "finally\n",
      "result= 30\n"
     ]
    }
   ],
   "source": [
    "def fun():\n",
    "    try:\n",
    "        print(\"try\")\n",
    "        return 10\n",
    "    except:\n",
    "        print(\"except\")\n",
    "        return 20\n",
    "    finally:\n",
    "        print(\"finally\")\n",
    "        return 30\n",
    "    print(\"fun main block\")\n",
    "    return 40\n",
    "res=fun()\n",
    "print(\"result=\",res)"
   ]
  },
  {
   "cell_type": "code",
   "execution_count": 32,
   "metadata": {},
   "outputs": [
    {
     "name": "stdout",
     "output_type": "stream",
     "text": [
      "try\n",
      "finally\n",
      "main block\n"
     ]
    }
   ],
   "source": [
    "try:\n",
    "    print(\"try\")\n",
    "finally:\n",
    "    print(\"finally\")\n",
    "print(\"main block\")"
   ]
  },
  {
   "cell_type": "code",
   "execution_count": 33,
   "metadata": {},
   "outputs": [
    {
     "name": "stdout",
     "output_type": "stream",
     "text": [
      "try\n",
      "finally\n"
     ]
    },
    {
     "ename": "ZeroDivisionError",
     "evalue": "division by zero",
     "output_type": "error",
     "traceback": [
      "\u001b[1;31m---------------------------------------------------------------------------\u001b[0m",
      "\u001b[1;31mZeroDivisionError\u001b[0m                         Traceback (most recent call last)",
      "\u001b[1;32m<ipython-input-33-88716355ccad>\u001b[0m in \u001b[0;36m<module>\u001b[1;34m\u001b[0m\n\u001b[0;32m      1\u001b[0m \u001b[1;32mtry\u001b[0m\u001b[1;33m:\u001b[0m\u001b[1;33m\u001b[0m\u001b[1;33m\u001b[0m\u001b[0m\n\u001b[0;32m      2\u001b[0m     \u001b[0mprint\u001b[0m\u001b[1;33m(\u001b[0m\u001b[1;34m\"try\"\u001b[0m\u001b[1;33m)\u001b[0m\u001b[1;33m\u001b[0m\u001b[1;33m\u001b[0m\u001b[0m\n\u001b[1;32m----> 3\u001b[1;33m     \u001b[0mprint\u001b[0m\u001b[1;33m(\u001b[0m\u001b[1;36m1\u001b[0m\u001b[1;33m/\u001b[0m\u001b[1;36m0\u001b[0m\u001b[1;33m)\u001b[0m\u001b[1;33m\u001b[0m\u001b[1;33m\u001b[0m\u001b[0m\n\u001b[0m\u001b[0;32m      4\u001b[0m \u001b[1;32mfinally\u001b[0m\u001b[1;33m:\u001b[0m\u001b[1;33m\u001b[0m\u001b[1;33m\u001b[0m\u001b[0m\n\u001b[0;32m      5\u001b[0m     \u001b[0mprint\u001b[0m\u001b[1;33m(\u001b[0m\u001b[1;34m\"finally\"\u001b[0m\u001b[1;33m)\u001b[0m\u001b[1;33m\u001b[0m\u001b[1;33m\u001b[0m\u001b[0m\n",
      "\u001b[1;31mZeroDivisionError\u001b[0m: division by zero"
     ]
    }
   ],
   "source": [
    "try:\n",
    "    print(\"try\")\n",
    "    print(1/0)\n",
    "finally:\n",
    "    print(\"finally\")\n",
    "print(\"main block\")"
   ]
  },
  {
   "cell_type": "code",
   "execution_count": 34,
   "metadata": {},
   "outputs": [
    {
     "name": "stdout",
     "output_type": "stream",
     "text": [
      "try\n",
      "finally\n",
      "result= 10\n"
     ]
    }
   ],
   "source": [
    "def fun():\n",
    "    try:\n",
    "        print(\"try\")\n",
    "        return 10\n",
    "    except:\n",
    "        print(\"except\")\n",
    "        return 20\n",
    "    finally:\n",
    "        print(\"finally\")\n",
    "    print(\"fun main block\")\n",
    "    return 40\n",
    "res=fun()\n",
    "print(\"result=\",res)"
   ]
  },
  {
   "cell_type": "code",
   "execution_count": 35,
   "metadata": {},
   "outputs": [
    {
     "name": "stdout",
     "output_type": "stream",
     "text": [
      "try\n",
      "except\n",
      "finally\n",
      "result= 20\n"
     ]
    }
   ],
   "source": [
    "def fun():\n",
    "    try:\n",
    "        print(\"try\")\n",
    "        print(1/0)\n",
    "        return 10\n",
    "    except:\n",
    "        print(\"except\")\n",
    "        return 20\n",
    "    finally:\n",
    "        print(\"finally\")\n",
    "    print(\"fun main block\")\n",
    "    return 40\n",
    "res=fun()\n",
    "print(\"result=\",res)"
   ]
  },
  {
   "cell_type": "code",
   "execution_count": 36,
   "metadata": {},
   "outputs": [
    {
     "name": "stdout",
     "output_type": "stream",
     "text": [
      "try\n",
      "esle\n",
      "finally\n"
     ]
    }
   ],
   "source": [
    "try:\n",
    "    print(\"try\")\n",
    "except:\n",
    "    print(\"except\")\n",
    "else:\n",
    "    print(\"esle\")\n",
    "finally:\n",
    "    print(\"finally\")"
   ]
  },
  {
   "cell_type": "code",
   "execution_count": 37,
   "metadata": {},
   "outputs": [
    {
     "name": "stdout",
     "output_type": "stream",
     "text": [
      "try\n",
      "except\n",
      "finally\n"
     ]
    }
   ],
   "source": [
    "try:\n",
    "    print(\"try\")\n",
    "    print(1/0)\n",
    "except:\n",
    "    print(\"except\")\n",
    "else:\n",
    "    print(\"esle\")\n",
    "finally:\n",
    "    print(\"finally\")"
   ]
  },
  {
   "cell_type": "code",
   "execution_count": 38,
   "metadata": {},
   "outputs": [
    {
     "data": {
      "text/plain": [
       "['1', '2', '3', '4']"
      ]
     },
     "execution_count": 38,
     "metadata": {},
     "output_type": "execute_result"
    }
   ],
   "source": [
    "s=\"1 2 3   4\"\n",
    "s.split()"
   ]
  },
  {
   "cell_type": "code",
   "execution_count": 39,
   "metadata": {},
   "outputs": [
    {
     "data": {
      "text/plain": [
       "['1', '2', '3', '', '', '4']"
      ]
     },
     "execution_count": 39,
     "metadata": {},
     "output_type": "execute_result"
    }
   ],
   "source": [
    "s=\"1 2 3   4\"\n",
    "s.split(\" \")"
   ]
  },
  {
   "cell_type": "code",
   "execution_count": null,
   "metadata": {},
   "outputs": [],
   "source": []
  }
 ],
 "metadata": {
  "kernelspec": {
   "display_name": "Python 3",
   "language": "python",
   "name": "python3"
  },
  "language_info": {
   "codemirror_mode": {
    "name": "ipython",
    "version": 3
   },
   "file_extension": ".py",
   "mimetype": "text/x-python",
   "name": "python",
   "nbconvert_exporter": "python",
   "pygments_lexer": "ipython3",
   "version": "3.8.3"
  }
 },
 "nbformat": 4,
 "nbformat_minor": 4
}
