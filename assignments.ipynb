{
 "cells": [
  {
   "cell_type": "code",
   "execution_count": 1,
   "metadata": {},
   "outputs": [
    {
     "name": "stdout",
     "output_type": "stream",
     "text": [
      "enter x1:12\n"
     ]
    }
   ],
   "source": [
    "x1=input(\"enter x1:\")\n",
    "x1=int(x1)"
   ]
  },
  {
   "cell_type": "code",
   "execution_count": 3,
   "metadata": {},
   "outputs": [
    {
     "name": "stdout",
     "output_type": "stream",
     "text": [
      "166.66666666666666\n"
     ]
    }
   ],
   "source": [
    "x1=10  #int(input(\"enter x1:\"))\n",
    "x2=20  #int(input(\"enter x2:\"))\n",
    "x3=30  #int(input(\"enter x3:\"))\n",
    "x4=40  #int(input(\"enter x4:\"))\n",
    "n=4\n",
    "mean = (x1+x2+x3+x4)/n\n",
    "nominator = (x1-mean)**2+(x2-mean)**2+(x3-mean)**2+(x4-mean)**2\n",
    "variance = nominator/(n-1)\n",
    "print(variance)\n"
   ]
  },
  {
   "cell_type": "code",
   "execution_count": 4,
   "metadata": {},
   "outputs": [
    {
     "name": "stdout",
     "output_type": "stream",
     "text": [
      "enter x1:12\n",
      "enter x2:23\n",
      "enter x3:34\n",
      "enter x4:56\n",
      "352.9166666666667\n"
     ]
    }
   ],
   "source": [
    "x1=int(input(\"enter x1:\"))\n",
    "x2=int(input(\"enter x2:\"))\n",
    "x3=int(input(\"enter x3:\"))\n",
    "x4=int(input(\"enter x4:\"))\n",
    "n=4\n",
    "mean = (x1+x2+x3+x4)/n\n",
    "nominator = (x1-mean)**2+(x2-mean)**2+(x3-mean)**2+(x4-mean)**2\n",
    "variance = nominator/(n-1)\n",
    "print(variance)\n"
   ]
  },
  {
   "cell_type": "code",
   "execution_count": null,
   "metadata": {},
   "outputs": [],
   "source": []
  }
 ],
 "metadata": {
  "kernelspec": {
   "display_name": "Python 3",
   "language": "python",
   "name": "python3"
  },
  "language_info": {
   "codemirror_mode": {
    "name": "ipython",
    "version": 3
   },
   "file_extension": ".py",
   "mimetype": "text/x-python",
   "name": "python",
   "nbconvert_exporter": "python",
   "pygments_lexer": "ipython3",
   "version": "3.8.3"
  }
 },
 "nbformat": 4,
 "nbformat_minor": 4
}
