{
 "cells": [
  {
   "cell_type": "code",
   "execution_count": 1,
   "metadata": {},
   "outputs": [
    {
     "name": "stdout",
     "output_type": "stream",
     "text": [
      "started\n",
      "a is big\n",
      "b is big\n",
      "ended\n"
     ]
    }
   ],
   "source": [
    "print(\"started\")\n",
    "a=10\n",
    "b=20\n",
    "print(\"a is big\")\n",
    "print(\"b is big\")\n",
    "print(\"ended\")"
   ]
  },
  {
   "cell_type": "code",
   "execution_count": 2,
   "metadata": {},
   "outputs": [
    {
     "name": "stdout",
     "output_type": "stream",
     "text": [
      "started\n",
      "False\n",
      "b is big\n",
      "ended\n"
     ]
    }
   ],
   "source": [
    "print(\"started\")\n",
    "a=10\n",
    "b=20\n",
    "print(a>b)\n",
    "if a>b:\n",
    "    print(\"a is big\")\n",
    "else:\n",
    "    print(\"b is big\")\n",
    "print(\"ended\")"
   ]
  },
  {
   "cell_type": "code",
   "execution_count": 3,
   "metadata": {},
   "outputs": [
    {
     "name": "stdout",
     "output_type": "stream",
     "text": [
      "started\n",
      "True\n",
      "a is big\n",
      "ended\n"
     ]
    }
   ],
   "source": [
    "print(\"started\")\n",
    "a=100\n",
    "b=20\n",
    "print(a>b)\n",
    "if a>b:\n",
    "    print(\"a is big\")\n",
    "else:\n",
    "    print(\"b is big\")\n",
    "print(\"ended\")"
   ]
  },
  {
   "cell_type": "code",
   "execution_count": 4,
   "metadata": {},
   "outputs": [
    {
     "name": "stdout",
     "output_type": "stream",
     "text": [
      "started\n",
      "True\n",
      "if block started\n",
      "a is big\n",
      "if block ended\n",
      "ended\n"
     ]
    }
   ],
   "source": [
    "print(\"started\")\n",
    "a=100\n",
    "b=20\n",
    "print(a>b)\n",
    "if a>b:\n",
    "    print(\"if block started\")\n",
    "    print(\"a is big\")\n",
    "    print(\"if block ended\")\n",
    "else:\n",
    "    print(\"else block started\")\n",
    "    print(\"b is big\")\n",
    "    print(\"else block ended\")\n",
    "print(\"ended\")"
   ]
  },
  {
   "cell_type": "code",
   "execution_count": 5,
   "metadata": {},
   "outputs": [
    {
     "name": "stdout",
     "output_type": "stream",
     "text": [
      "started\n",
      "True\n",
      "if block started\n",
      "a is big\n",
      "if block ended\n",
      "ended\n"
     ]
    }
   ],
   "source": [
    "print(\"started\")\n",
    "a=100\n",
    "b=20\n",
    "print(a>b)\n",
    "if a>b:\n",
    "    print(\"if block started\")\n",
    "    print(\"a is big\")\n",
    "    print(\"if block ended\")\n",
    "else:\n",
    " print(\"else block started\")\n",
    " print(\"b is big\")\n",
    " print(\"else block ended\")\n",
    "print(\"ended\")"
   ]
  },
  {
   "cell_type": "code",
   "execution_count": 7,
   "metadata": {},
   "outputs": [
    {
     "ename": "IndentationError",
     "evalue": "unindent does not match any outer indentation level (<tokenize>, line 7)",
     "output_type": "error",
     "traceback": [
      "\u001b[1;36m  File \u001b[1;32m\"<tokenize>\"\u001b[1;36m, line \u001b[1;32m7\u001b[0m\n\u001b[1;33m    print(\"a is big\")\u001b[0m\n\u001b[1;37m    ^\u001b[0m\n\u001b[1;31mIndentationError\u001b[0m\u001b[1;31m:\u001b[0m unindent does not match any outer indentation level\n"
     ]
    }
   ],
   "source": [
    "print(\"started\")\n",
    "a=100\n",
    "b=20\n",
    "print(a>b)\n",
    "if a>b:\n",
    "    print(\"if block started\")\n",
    " print(\"a is big\")\n",
    "   print(\"if block ended\")\n",
    "else:\n",
    " print(\"else block started\")\n",
    " print(\"b is big\")\n",
    " print(\"else block ended\")\n",
    "print(\"ended\")"
   ]
  },
  {
   "cell_type": "code",
   "execution_count": 9,
   "metadata": {},
   "outputs": [
    {
     "ename": "IndentationError",
     "evalue": "unindent does not match any outer indentation level (<tokenize>, line 7)",
     "output_type": "error",
     "traceback": [
      "\u001b[1;36m  File \u001b[1;32m\"<tokenize>\"\u001b[1;36m, line \u001b[1;32m7\u001b[0m\n\u001b[1;33m    print(\"a is big\")\u001b[0m\n\u001b[1;37m    ^\u001b[0m\n\u001b[1;31mIndentationError\u001b[0m\u001b[1;31m:\u001b[0m unindent does not match any outer indentation level\n"
     ]
    }
   ],
   "source": [
    "print(\"started\")\n",
    "a=100\n",
    "b=20\n",
    "print(a>b)\n",
    "if a>b:\n",
    "    print(\"if block started\")\n",
    " print(\"a is big\")\n",
    " print(\"if block ended\")\n",
    "else:\n",
    " print(\"else block started\")\n",
    " print(\"b is big\")\n",
    " print(\"else block ended\")\n",
    "print(\"ended\")"
   ]
  },
  {
   "cell_type": "code",
   "execution_count": 10,
   "metadata": {},
   "outputs": [
    {
     "name": "stdout",
     "output_type": "stream",
     "text": [
      "started\n",
      "True\n",
      "if block started\n",
      "a is big\n",
      "if block ended\n",
      "ended\n"
     ]
    }
   ],
   "source": [
    "print(\"started\")\n",
    "a=100\n",
    "b=20\n",
    "print(a>b)\n",
    "if a>b:\n",
    "    print(\"if block started\")\n",
    "    print(\"a is big\")\n",
    "    print(\"if block ended\")\n",
    "else:\n",
    "   print(\"else block started\")\n",
    "   print(\"b is big\")\n",
    "   print(\"else block ended\")\n",
    "print(\"ended\")"
   ]
  },
  {
   "cell_type": "code",
   "execution_count": 11,
   "metadata": {},
   "outputs": [
    {
     "name": "stdout",
     "output_type": "stream",
     "text": [
      "started\n",
      "True\n",
      "if block started\n",
      "a is big\n",
      "if block ended\n",
      "ended\n"
     ]
    }
   ],
   "source": [
    "print(\"started\")\n",
    "a=100\n",
    "b=20\n",
    "print(a>b)\n",
    "if a>b:\n",
    "    print(\"if block started\")\n",
    "    print(\"a is big\")\n",
    "    print(\"if block ended\")\n",
    "\n",
    "print(\"ended\")"
   ]
  },
  {
   "cell_type": "code",
   "execution_count": 12,
   "metadata": {},
   "outputs": [
    {
     "ename": "SyntaxError",
     "evalue": "invalid syntax (<ipython-input-12-89ab0e3c2bfe>, line 9)",
     "output_type": "error",
     "traceback": [
      "\u001b[1;36m  File \u001b[1;32m\"<ipython-input-12-89ab0e3c2bfe>\"\u001b[1;36m, line \u001b[1;32m9\u001b[0m\n\u001b[1;33m    else:\u001b[0m\n\u001b[1;37m    ^\u001b[0m\n\u001b[1;31mSyntaxError\u001b[0m\u001b[1;31m:\u001b[0m invalid syntax\n"
     ]
    }
   ],
   "source": [
    "print(\"started\")\n",
    "a=100\n",
    "b=20\n",
    "print(a>b)\n",
    "if a>b:\n",
    "    print(\"if block started\")\n",
    "    print(\"a is big\")\n",
    "print(\"if block ended\")\n",
    "else:\n",
    "   print(\"else block started\")\n",
    "   print(\"b is big\")\n",
    "   print(\"else block ended\")\n",
    "print(\"ended\")"
   ]
  },
  {
   "cell_type": "code",
   "execution_count": 13,
   "metadata": {},
   "outputs": [],
   "source": [
    "# take a number from the user and decide whether it is even or odd."
   ]
  },
  {
   "cell_type": "code",
   "execution_count": 14,
   "metadata": {},
   "outputs": [
    {
     "name": "stdout",
     "output_type": "stream",
     "text": [
      "Enter a number: 12\n",
      "12 is EVEN number\n"
     ]
    }
   ],
   "source": [
    "num = int(input(\"Enter a number: \"))  \n",
    "res = \"EVEN\" if (num % 2) == 0 else \"ODD\"  \n",
    "print(f\"{num} is {res} number\")  \n"
   ]
  },
  {
   "cell_type": "code",
   "execution_count": 15,
   "metadata": {},
   "outputs": [
    {
     "name": "stdout",
     "output_type": "stream",
     "text": [
      "Enter a number: 13\n",
      "13 is ODD number\n"
     ]
    }
   ],
   "source": [
    "num = int(input(\"Enter a number: \"))  \n",
    "res = \"EVEN\" if (num % 2) == 0 else \"ODD\"  \n",
    "print(f\"{num} is {res} number\")  \n"
   ]
  },
  {
   "cell_type": "code",
   "execution_count": 16,
   "metadata": {},
   "outputs": [
    {
     "name": "stdout",
     "output_type": "stream",
     "text": [
      "Enter a number: 12\n",
      "EVEN\n"
     ]
    }
   ],
   "source": [
    "num = int(input(\"Enter a number: \"))  \n",
    "print(\"EVEN\" if (num % 2) == 0 else \"ODD\") "
   ]
  },
  {
   "cell_type": "code",
   "execution_count": 17,
   "metadata": {},
   "outputs": [
    {
     "name": "stdout",
     "output_type": "stream",
     "text": [
      "Enter a number: 13\n",
      "ODD\n"
     ]
    }
   ],
   "source": [
    "num = int(input(\"Enter a number: \"))  \n",
    "print(\"EVEN\" if (num % 2) == 0 else \"ODD\") "
   ]
  },
  {
   "cell_type": "code",
   "execution_count": 18,
   "metadata": {},
   "outputs": [],
   "source": [
    "# positive and negative"
   ]
  },
  {
   "cell_type": "code",
   "execution_count": null,
   "metadata": {},
   "outputs": [],
   "source": [
    "# WRITE A MENU DRIVEN PROGRAM\n",
    "\"\"\"\n",
    "fruits:\n",
    "    1.orange\n",
    "    2.banana\n",
    "    3.mangos\n",
    "    Enter an option: 1: the cost of dozen oranges: Rs.120\n",
    "                     2: the cost of dozen oranges: Rs.60\n",
    "                     3: The cost of KG mangoes: Rs.100\n",
    "                     something else: we are buying only 3 wirities.\n",
    "                     \n",
    "\"\"\""
   ]
  }
 ],
 "metadata": {
  "kernelspec": {
   "display_name": "Python 3",
   "language": "python",
   "name": "python3"
  },
  "language_info": {
   "codemirror_mode": {
    "name": "ipython",
    "version": 3
   },
   "file_extension": ".py",
   "mimetype": "text/x-python",
   "name": "python",
   "nbconvert_exporter": "python",
   "pygments_lexer": "ipython3",
   "version": "3.8.3"
  }
 },
 "nbformat": 4,
 "nbformat_minor": 4
}
