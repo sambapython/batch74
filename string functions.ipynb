{
 "cells": [
  {
   "cell_type": "code",
   "execution_count": 1,
   "metadata": {},
   "outputs": [
    {
     "name": "stdout",
     "output_type": "stream",
     "text": [
      "['__add__', '__class__', '__contains__', '__delattr__', '__dir__', '__doc__', '__eq__', '__format__', '__ge__', '__getattribute__', '__getitem__', '__getnewargs__', '__gt__', '__hash__', '__init__', '__init_subclass__', '__iter__', '__le__', '__len__', '__lt__', '__mod__', '__mul__', '__ne__', '__new__', '__reduce__', '__reduce_ex__', '__repr__', '__rmod__', '__rmul__', '__setattr__', '__sizeof__', '__str__', '__subclasshook__', 'capitalize', 'casefold', 'center', 'count', 'encode', 'endswith', 'expandtabs', 'find', 'format', 'format_map', 'index', 'isalnum', 'isalpha', 'isascii', 'isdecimal', 'isdigit', 'isidentifier', 'islower', 'isnumeric', 'isprintable', 'isspace', 'istitle', 'isupper', 'join', 'ljust', 'lower', 'lstrip', 'maketrans', 'partition', 'replace', 'rfind', 'rindex', 'rjust', 'rpartition', 'rsplit', 'rstrip', 'split', 'splitlines', 'startswith', 'strip', 'swapcase', 'title', 'translate', 'upper', 'zfill']\n"
     ]
    }
   ],
   "source": [
    "s=\"python\"\n",
    "print(dir(s))"
   ]
  },
  {
   "cell_type": "code",
   "execution_count": 2,
   "metadata": {},
   "outputs": [
    {
     "name": "stdout",
     "output_type": "stream",
     "text": [
      "capitalize Python program\n",
      "casefold python program\n",
      "lower python program\n",
      "upper PYTHON PROGRAM\n",
      "swapcase PYTHON PROgram\n",
      "title Python Program\n"
     ]
    }
   ],
   "source": [
    "s=\"python proGRAM\"\n",
    "print(\"capitalize\",s.capitalize())\n",
    "print(\"casefold\",s.casefold())\n",
    "print(\"lower\",s.lower())\n",
    "print(\"upper\",s.upper())\n",
    "print(\"swapcase\",s.swapcase())\n",
    "print(\"title\", s.title())"
   ]
  },
  {
   "cell_type": "code",
   "execution_count": 3,
   "metadata": {},
   "outputs": [
    {
     "name": "stdout",
     "output_type": "stream",
     "text": [
      "capitalize Py1t2hon p$rogram\n",
      "casefold py1t2hon p$rogram\n",
      "lower py1t2hon p$rogram\n",
      "upper PY1T2HON P$ROGRAM\n",
      "swapcase PY1T2HON P$ROgram\n",
      "title Py1T2Hon P$Rogram\n"
     ]
    }
   ],
   "source": [
    "s=\"py1t2hon p$roGRAM\"\n",
    "print(\"capitalize\",s.capitalize())\n",
    "print(\"casefold\",s.casefold())\n",
    "print(\"lower\",s.lower())\n",
    "print(\"upper\",s.upper())\n",
    "print(\"swapcase\",s.swapcase())\n",
    "print(\"title\", s.title())"
   ]
  },
  {
   "cell_type": "code",
   "execution_count": 4,
   "metadata": {},
   "outputs": [
    {
     "data": {
      "text/plain": [
       "False"
      ]
     },
     "execution_count": 4,
     "metadata": {},
     "output_type": "execute_result"
    }
   ],
   "source": [
    "s=\"python\"\n",
    "s1=\"PYTHON\"\n",
    "\n",
    "s==s1"
   ]
  },
  {
   "cell_type": "code",
   "execution_count": 5,
   "metadata": {},
   "outputs": [
    {
     "data": {
      "text/plain": [
       "True"
      ]
     },
     "execution_count": 5,
     "metadata": {},
     "output_type": "execute_result"
    }
   ],
   "source": [
    "s=\"python\"\n",
    "s1=\"PYTHON\"\n",
    "s.lower()==s1.lower()"
   ]
  },
  {
   "cell_type": "code",
   "execution_count": 6,
   "metadata": {},
   "outputs": [
    {
     "data": {
      "text/plain": [
       "True"
      ]
     },
     "execution_count": 6,
     "metadata": {},
     "output_type": "execute_result"
    }
   ],
   "source": [
    "s=\"python\"\n",
    "s1=\"PYTHON\"\n",
    "s.upper()==s1.upper()"
   ]
  },
  {
   "cell_type": "code",
   "execution_count": 7,
   "metadata": {},
   "outputs": [
    {
     "data": {
      "text/plain": [
       "True"
      ]
     },
     "execution_count": 7,
     "metadata": {},
     "output_type": "execute_result"
    }
   ],
   "source": [
    "s=\"python\"\n",
    "s1=\"PYTHON\"\n",
    "s.casefold()==s1.casefold()"
   ]
  },
  {
   "cell_type": "code",
   "execution_count": 8,
   "metadata": {},
   "outputs": [
    {
     "name": "stdout",
     "output_type": "stream",
     "text": [
      "capitalize $#py1t2hon p$rogram\n",
      "casefold $#py1t2hon p$rogram\n",
      "lower $#py1t2hon p$rogram\n",
      "upper $#PY1T2HON P$ROGRAM\n",
      "swapcase $#PY1T2HON P$ROgram\n",
      "title $#Py1T2Hon P$Rogram\n"
     ]
    }
   ],
   "source": [
    "s=\"$#py1t2hon p$roGRAM\"\n",
    "print(\"capitalize\",s.capitalize())\n",
    "print(\"casefold\",s.casefold())\n",
    "print(\"lower\",s.lower())\n",
    "print(\"upper\",s.upper())\n",
    "print(\"swapcase\",s.swapcase())\n",
    "print(\"title\", s.title())"
   ]
  },
  {
   "cell_type": "code",
   "execution_count": 9,
   "metadata": {},
   "outputs": [
    {
     "name": "stdout",
     "output_type": "stream",
     "text": [
      "capitalize \n",
      "casefold \n",
      "lower \n",
      "upper \n",
      "swapcase \n",
      "title \n"
     ]
    }
   ],
   "source": [
    "s=\"\"\n",
    "print(\"capitalize\",s.capitalize())\n",
    "print(\"casefold\",s.casefold())\n",
    "print(\"lower\",s.lower())\n",
    "print(\"upper\",s.upper())\n",
    "print(\"swapcase\",s.swapcase())\n",
    "print(\"title\", s.title())"
   ]
  },
  {
   "cell_type": "code",
   "execution_count": 10,
   "metadata": {},
   "outputs": [
    {
     "name": "stdout",
     "output_type": "stream",
     "text": [
      "['__add__', '__class__', '__contains__', '__delattr__', '__dir__', '__doc__', '__eq__', '__format__', '__ge__', '__getattribute__', '__getitem__', '__getnewargs__', '__gt__', '__hash__', '__init__', '__init_subclass__', '__iter__', '__le__', '__len__', '__lt__', '__mod__', '__mul__', '__ne__', '__new__', '__reduce__', '__reduce_ex__', '__repr__', '__rmod__', '__rmul__', '__setattr__', '__sizeof__', '__str__', '__subclasshook__', 'capitalize', 'casefold', 'center', 'count', 'encode', 'endswith', 'expandtabs', 'find', 'format', 'format_map', 'index', 'isalnum', 'isalpha', 'isascii', 'isdecimal', 'isdigit', 'isidentifier', 'islower', 'isnumeric', 'isprintable', 'isspace', 'istitle', 'isupper', 'join', 'ljust', 'lower', 'lstrip', 'maketrans', 'partition', 'replace', 'rfind', 'rindex', 'rjust', 'rpartition', 'rsplit', 'rstrip', 'split', 'splitlines', 'startswith', 'strip', 'swapcase', 'title', 'translate', 'upper', 'zfill']\n"
     ]
    }
   ],
   "source": [
    "# is functions\n",
    "print(dir(s))"
   ]
  },
  {
   "cell_type": "code",
   "execution_count": 11,
   "metadata": {},
   "outputs": [
    {
     "name": "stdout",
     "output_type": "stream",
     "text": [
      "True\n"
     ]
    }
   ],
   "source": [
    "s=\"abc123\"#isalnum', 'isalpha', 'isascii', 'isdecimal', 'isdigit', 'isidentifier', 'islower', 'isnumeric', 'isprintable', 'isspace', 'istitle', 'isupper',\n",
    "print(s.isalnum())"
   ]
  },
  {
   "cell_type": "code",
   "execution_count": 12,
   "metadata": {},
   "outputs": [
    {
     "name": "stdout",
     "output_type": "stream",
     "text": [
      "True\n"
     ]
    }
   ],
   "source": [
    "s=\"abc\"#isalnum', 'isalpha', 'isascii', 'isdecimal', 'isdigit', 'isidentifier', 'islower', 'isnumeric', 'isprintable', 'isspace', 'istitle', 'isupper',\n",
    "print(s.isalnum())"
   ]
  },
  {
   "cell_type": "code",
   "execution_count": 13,
   "metadata": {},
   "outputs": [
    {
     "name": "stdout",
     "output_type": "stream",
     "text": [
      "True\n"
     ]
    }
   ],
   "source": [
    "s=\"123\"#isalnum', 'isalpha', 'isascii', 'isdecimal', 'isdigit', 'isidentifier', 'islower', 'isnumeric', 'isprintable', 'isspace', 'istitle', 'isupper',\n",
    "print(s.isalnum())"
   ]
  },
  {
   "cell_type": "code",
   "execution_count": 14,
   "metadata": {},
   "outputs": [
    {
     "name": "stdout",
     "output_type": "stream",
     "text": [
      "False\n"
     ]
    }
   ],
   "source": [
    "s=\"anc123#$%%\"#isalnum', 'isalpha', 'isascii', 'isdecimal', 'isdigit', 'isidentifier', 'islower', 'isnumeric', 'isprintable', 'isspace', 'istitle', 'isupper',\n",
    "print(s.isalnum())"
   ]
  },
  {
   "cell_type": "code",
   "execution_count": 15,
   "metadata": {},
   "outputs": [
    {
     "name": "stdout",
     "output_type": "stream",
     "text": [
      "False\n"
     ]
    }
   ],
   "source": [
    "s=\"\"#isalnum', 'isalpha', 'isascii', 'isdecimal', 'isdigit', 'isidentifier', 'islower', 'isnumeric', 'isprintable', 'isspace', 'istitle', 'isupper',\n",
    "print(s.isalnum())"
   ]
  },
  {
   "cell_type": "code",
   "execution_count": 16,
   "metadata": {},
   "outputs": [
    {
     "name": "stdout",
     "output_type": "stream",
     "text": [
      "True\n"
     ]
    }
   ],
   "source": [
    "s=\"abcd\" # 'isalpha', 'isascii', 'isdecimal', 'isdigit', 'isidentifier', 'islower', 'isnumeric', 'isprintable', 'isspace', 'istitle', 'isupper',\n",
    "print(s.isalpha())"
   ]
  },
  {
   "cell_type": "code",
   "execution_count": 17,
   "metadata": {},
   "outputs": [
    {
     "name": "stdout",
     "output_type": "stream",
     "text": [
      "False\n"
     ]
    }
   ],
   "source": [
    "s=\"abcd123\" # 'isalpha', 'isascii', 'isdecimal', 'isdigit', 'isidentifier', 'islower', 'isnumeric', 'isprintable', 'isspace', 'istitle', 'isupper',\n",
    "print(s.isalpha())"
   ]
  },
  {
   "cell_type": "code",
   "execution_count": 18,
   "metadata": {},
   "outputs": [
    {
     "name": "stdout",
     "output_type": "stream",
     "text": [
      "False\n"
     ]
    }
   ],
   "source": [
    "s=\"abcd@#\" # 'isalpha', 'isascii', 'isdecimal', 'isdigit', 'isidentifier', 'islower', 'isnumeric', 'isprintable', 'isspace', 'istitle', 'isupper',\n",
    "print(s.isalpha())"
   ]
  },
  {
   "cell_type": "code",
   "execution_count": 19,
   "metadata": {},
   "outputs": [
    {
     "name": "stdout",
     "output_type": "stream",
     "text": [
      "False\n"
     ]
    }
   ],
   "source": [
    "s=\"\" # 'isalpha', 'isascii', 'isdecimal', 'isdigit', 'isidentifier', 'islower', 'isnumeric', 'isprintable', 'isspace', 'istitle', 'isupper',\n",
    "print(s.isalpha())"
   ]
  },
  {
   "cell_type": "code",
   "execution_count": 20,
   "metadata": {},
   "outputs": [
    {
     "data": {
      "text/plain": [
       "True"
      ]
     },
     "execution_count": 20,
     "metadata": {},
     "output_type": "execute_result"
    }
   ],
   "source": [
    "# wap to check given string contains the atlease one special symbol or not.\n",
    "s=\"abc123\"\n",
    "s.isalnum()\n"
   ]
  },
  {
   "cell_type": "code",
   "execution_count": 21,
   "metadata": {},
   "outputs": [
    {
     "data": {
      "text/plain": [
       "False"
      ]
     },
     "execution_count": 21,
     "metadata": {},
     "output_type": "execute_result"
    }
   ],
   "source": [
    "# wap to check given string contains the atlease one special symbol or not.\n",
    "s=\"abc123$\"\n",
    "s.isalnum()\n"
   ]
  },
  {
   "cell_type": "code",
   "execution_count": 22,
   "metadata": {},
   "outputs": [
    {
     "name": "stdout",
     "output_type": "stream",
     "text": [
      "It's contains special symbols\n"
     ]
    }
   ],
   "source": [
    "s=\"abc123$\"\n",
    "if s.isalnum():\n",
    "    print(\"it's does not contains special symbols\")\n",
    "else:\n",
    "    print(\"It's contains special symbols\")\n"
   ]
  },
  {
   "cell_type": "code",
   "execution_count": 23,
   "metadata": {},
   "outputs": [
    {
     "name": "stdout",
     "output_type": "stream",
     "text": [
      "it's does not contains special symbols\n"
     ]
    }
   ],
   "source": [
    "s=\"abc123\"\n",
    "if s.isalnum():\n",
    "    print(\"it's does not contains special symbols\")\n",
    "else:\n",
    "    print(\"It's contains special symbols\")\n"
   ]
  },
  {
   "cell_type": "code",
   "execution_count": 24,
   "metadata": {},
   "outputs": [
    {
     "name": "stdout",
     "output_type": "stream",
     "text": [
      "It's contains special symbols\n"
     ]
    }
   ],
   "source": [
    "s=\"\"\n",
    "if s.isalnum():\n",
    "    print(\"it's does not contains special symbols\")\n",
    "else:\n",
    "    print(\"It's contains special symbols\")\n"
   ]
  },
  {
   "cell_type": "code",
   "execution_count": 25,
   "metadata": {},
   "outputs": [
    {
     "name": "stdout",
     "output_type": "stream",
     "text": [
      "Invlaid string\n"
     ]
    }
   ],
   "source": [
    "s=\"\"\n",
    "if s:\n",
    "    if s.isalnum():\n",
    "        print(\"it's does not contains special symbols\")\n",
    "    else:\n",
    "        print(\"It's contains special symbols\")\n",
    "else:\n",
    "    print(\"Invlaid string\")"
   ]
  },
  {
   "cell_type": "code",
   "execution_count": 26,
   "metadata": {},
   "outputs": [
    {
     "name": "stdout",
     "output_type": "stream",
     "text": [
      "It's contains special symbols\n"
     ]
    }
   ],
   "source": [
    "s=\"@#$%\"\n",
    "if s:\n",
    "    if s.isalnum():\n",
    "        print(\"it's does not contains special symbols\")\n",
    "    else:\n",
    "        print(\"It's contains special symbols\")\n",
    "else:\n",
    "    print(\"Invlaid string\")"
   ]
  },
  {
   "cell_type": "code",
   "execution_count": 27,
   "metadata": {},
   "outputs": [
    {
     "name": "stdout",
     "output_type": "stream",
     "text": [
      "it's does not contains special symbols\n"
     ]
    }
   ],
   "source": [
    "s=\"0\"\n",
    "if s:\n",
    "    if s.isalnum():\n",
    "        print(\"it's does not contains special symbols\")\n",
    "    else:\n",
    "        print(\"It's contains special symbols\")\n",
    "else:\n",
    "    print(\"Invlaid string\")"
   ]
  },
  {
   "cell_type": "code",
   "execution_count": 28,
   "metadata": {},
   "outputs": [
    {
     "name": "stdout",
     "output_type": "stream",
     "text": [
      "it's does not contains special symbols\n"
     ]
    }
   ],
   "source": [
    "s=\"1234234\"\n",
    "if s:\n",
    "    if s.isalnum():\n",
    "        print(\"it's does not contains special symbols\")\n",
    "    else:\n",
    "        print(\"It's contains special symbols\")\n",
    "else:\n",
    "    print(\"Invlaid string\")"
   ]
  },
  {
   "cell_type": "code",
   "execution_count": 29,
   "metadata": {},
   "outputs": [
    {
     "name": "stdout",
     "output_type": "stream",
     "text": [
      "it's does not contains special symbols\n"
     ]
    }
   ],
   "source": [
    "s=\"sdfsdggwe\"\n",
    "if s:\n",
    "    if s.isalnum():\n",
    "        print(\"it's does not contains special symbols\")\n",
    "    else:\n",
    "        print(\"It's contains special symbols\")\n",
    "else:\n",
    "    print(\"Invlaid string\")"
   ]
  },
  {
   "cell_type": "code",
   "execution_count": 30,
   "metadata": {},
   "outputs": [
    {
     "name": "stdout",
     "output_type": "stream",
     "text": [
      "False\n"
     ]
    }
   ],
   "source": [
    "#నిఘంటువు. సీ. అడిగిన యర్థంబునంతయు సమకూర్చు నడిగిన తత్క్షణంబమరనిౘ్చు\n",
    "s=\"అ\" # 'isascii', 'isdecimal', 'isdigit', 'isidentifier', 'islower', 'isnumeric', 'isprintable', 'isspace', 'istitle', 'isupper',\n",
    "print(s.isascii())"
   ]
  },
  {
   "cell_type": "code",
   "execution_count": 31,
   "metadata": {},
   "outputs": [
    {
     "name": "stdout",
     "output_type": "stream",
     "text": [
      "True\n"
     ]
    }
   ],
   "source": [
    "#నిఘంటువు. సీ. అడిగిన యర్థంబునంతయు సమకూర్చు నడిగిన తత్క్షణంబమరనిౘ్చు\n",
    "s=\"a\" # 'isascii', 'isdecimal', 'isdigit', 'isidentifier', 'islower', 'isnumeric', 'isprintable', 'isspace', 'istitle', 'isupper',\n",
    "print(s.isascii())"
   ]
  },
  {
   "cell_type": "code",
   "execution_count": 32,
   "metadata": {},
   "outputs": [
    {
     "name": "stdout",
     "output_type": "stream",
     "text": [
      "3077\n"
     ]
    }
   ],
   "source": [
    "s=\"అ\"\n",
    "print(ord(s))"
   ]
  },
  {
   "cell_type": "code",
   "execution_count": 33,
   "metadata": {},
   "outputs": [
    {
     "name": "stdout",
     "output_type": "stream",
     "text": [
      "True\n"
     ]
    }
   ],
   "source": [
    "#నిఘంటువు. సీ. అడిగిన యర్థంబునంతయు సమకూర్చు నడిగిన తత్క్షణంబమరనిౘ్చు\n",
    "s=\"abansddf 1224231 @#$@ 232423\" # 'isascii', 'isdecimal', 'isdigit', 'isidentifier', 'islower', 'isnumeric', 'isprintable', 'isspace', 'istitle', 'isupper',\n",
    "print(s.isascii())"
   ]
  },
  {
   "cell_type": "code",
   "execution_count": 34,
   "metadata": {},
   "outputs": [
    {
     "name": "stdout",
     "output_type": "stream",
     "text": [
      "False\n"
     ]
    }
   ],
   "source": [
    "#నిఘంటువు. సీ. అడిగిన యర్థంబునంతయు సమకూర్చు నడిగిన తత్క్షణంబమరనిౘ్చు\n",
    "s=\"abansddf 1224231 @#$@ 232423 అ\" # 'isascii', 'isdecimal', 'isdigit', 'isidentifier', 'islower', 'isnumeric', 'isprintable', 'isspace', 'istitle', 'isupper',\n",
    "print(s.isascii())"
   ]
  },
  {
   "cell_type": "code",
   "execution_count": 35,
   "metadata": {},
   "outputs": [
    {
     "name": "stdout",
     "output_type": "stream",
     "text": [
      "True\n"
     ]
    }
   ],
   "source": [
    "#నిఘంటువు. సీ. అడిగిన యర్థంబునంతయు సమకూర్చు నడిగిన తత్క్షణంబమరనిౘ్చు\n",
    "s=\"\" # 'isascii', 'isdecimal', 'isdigit', 'isidentifier', 'islower', 'isnumeric', 'isprintable', 'isspace', 'istitle', 'isupper',\n",
    "print(s.isascii())"
   ]
  },
  {
   "cell_type": "code",
   "execution_count": 36,
   "metadata": {},
   "outputs": [
    {
     "ename": "TypeError",
     "evalue": "ord() expected a character, but string of length 0 found",
     "output_type": "error",
     "traceback": [
      "\u001b[1;31m---------------------------------------------------------------------------\u001b[0m",
      "\u001b[1;31mTypeError\u001b[0m                                 Traceback (most recent call last)",
      "\u001b[1;32m<ipython-input-36-351be9bab388>\u001b[0m in \u001b[0;36m<module>\u001b[1;34m\u001b[0m\n\u001b[1;32m----> 1\u001b[1;33m \u001b[0mprint\u001b[0m\u001b[1;33m(\u001b[0m\u001b[0mord\u001b[0m\u001b[1;33m(\u001b[0m\u001b[1;34m\"\"\u001b[0m\u001b[1;33m)\u001b[0m\u001b[1;33m)\u001b[0m\u001b[1;33m\u001b[0m\u001b[1;33m\u001b[0m\u001b[0m\n\u001b[0m",
      "\u001b[1;31mTypeError\u001b[0m: ord() expected a character, but string of length 0 found"
     ]
    }
   ],
   "source": [
    "print(ord(\"\"))"
   ]
  },
  {
   "cell_type": "code",
   "execution_count": 37,
   "metadata": {},
   "outputs": [
    {
     "name": "stdout",
     "output_type": "stream",
     "text": [
      "True\n",
      "True\n",
      "True\n"
     ]
    }
   ],
   "source": [
    "#నిఘంటువు. సీ. అడిగిన యర్థంబునంతయు సమకూర్చు నడిగిన తత్క్షణంబమరనిౘ్చు\n",
    "s=\"123456\" # 'isdecimal', 'isdigit', 'isidentifier', 'islower', 'isnumeric', 'isprintable', 'isspace', 'istitle', 'isupper',\n",
    "print(s.isdecimal())\n",
    "print(s.isdigit())\n",
    "print(s.isnumeric())"
   ]
  },
  {
   "cell_type": "code",
   "execution_count": 38,
   "metadata": {},
   "outputs": [
    {
     "name": "stdout",
     "output_type": "stream",
     "text": [
      "False\n",
      "False\n",
      "False\n"
     ]
    }
   ],
   "source": [
    "#నిఘంటువు. సీ. అడిగిన యర్థంబునంతయు సమకూర్చు నడిగిన తత్క్షణంబమరనిౘ్చు\n",
    "s=\"123456a\" # 'isdecimal', 'isdigit', 'isidentifier', 'islower', 'isnumeric', 'isprintable', 'isspace', 'istitle', 'isupper',\n",
    "print(s.isdecimal())\n",
    "print(s.isdigit())\n",
    "print(s.isnumeric())"
   ]
  },
  {
   "cell_type": "code",
   "execution_count": 39,
   "metadata": {},
   "outputs": [
    {
     "name": "stdout",
     "output_type": "stream",
     "text": [
      "False\n",
      "False\n",
      "False\n"
     ]
    }
   ],
   "source": [
    "#నిఘంటువు. సీ. అడిగిన యర్థంబునంతయు సమకూర్చు నడిగిన తత్క్షణంబమరనిౘ్చు\n",
    "s=\"123456#$\" # 'isdecimal', 'isdigit', 'isidentifier', 'islower', 'isnumeric', 'isprintable', 'isspace', 'istitle', 'isupper',\n",
    "print(s.isdecimal())\n",
    "print(s.isdigit())\n",
    "print(s.isnumeric())"
   ]
  },
  {
   "cell_type": "code",
   "execution_count": 40,
   "metadata": {},
   "outputs": [
    {
     "name": "stdout",
     "output_type": "stream",
     "text": [
      "False\n",
      "False\n",
      "False\n"
     ]
    }
   ],
   "source": [
    "#నిఘంటువు. సీ. అడిగిన యర్థంబునంతయు సమకూర్చు నడిగిన తత్క్షణంబమరనిౘ్చు\n",
    "s=\"123.456\" # 'isdecimal', 'isdigit', 'isidentifier', 'islower', 'isnumeric', 'isprintable', 'isspace', 'istitle', 'isupper',\n",
    "print(s.isdecimal())\n",
    "print(s.isdigit())\n",
    "print(s.isnumeric())"
   ]
  },
  {
   "cell_type": "code",
   "execution_count": 41,
   "metadata": {},
   "outputs": [
    {
     "name": "stdout",
     "output_type": "stream",
     "text": [
      "123.456 <class 'float'>\n",
      "['__abs__', '__add__', '__bool__', '__class__', '__delattr__', '__dir__', '__divmod__', '__doc__', '__eq__', '__float__', '__floordiv__', '__format__', '__ge__', '__getattribute__', '__getformat__', '__getnewargs__', '__gt__', '__hash__', '__init__', '__init_subclass__', '__int__', '__le__', '__lt__', '__mod__', '__mul__', '__ne__', '__neg__', '__new__', '__pos__', '__pow__', '__radd__', '__rdivmod__', '__reduce__', '__reduce_ex__', '__repr__', '__rfloordiv__', '__rmod__', '__rmul__', '__round__', '__rpow__', '__rsub__', '__rtruediv__', '__set_format__', '__setattr__', '__sizeof__', '__str__', '__sub__', '__subclasshook__', '__truediv__', '__trunc__', 'as_integer_ratio', 'conjugate', 'fromhex', 'hex', 'imag', 'is_integer', 'real']\n"
     ]
    }
   ],
   "source": [
    "s=123.456\n",
    "print(s, type(s))\n",
    "print(dir(s))"
   ]
  },
  {
   "cell_type": "code",
   "execution_count": 42,
   "metadata": {},
   "outputs": [
    {
     "name": "stdout",
     "output_type": "stream",
     "text": [
      "2³\n"
     ]
    }
   ],
   "source": [
    "s=\"2\\u00b3\"\n",
    "print(s)"
   ]
  },
  {
   "cell_type": "code",
   "execution_count": 43,
   "metadata": {},
   "outputs": [
    {
     "name": "stdout",
     "output_type": "stream",
     "text": [
      "False\n",
      "True\n",
      "True\n"
     ]
    }
   ],
   "source": [
    "s=\"2³\" # 'isdecimal', 'isdigit', 'isidentifier', 'islower', 'isnumeric', 'isprintable', 'isspace', 'istitle', 'isupper',\n",
    "print(s.isdecimal())\n",
    "print(s.isdigit())\n",
    "print(s.isnumeric())\n"
   ]
  },
  {
   "cell_type": "code",
   "execution_count": 44,
   "metadata": {},
   "outputs": [
    {
     "name": "stdout",
     "output_type": "stream",
     "text": [
      "False\n",
      "True\n",
      "True\n"
     ]
    }
   ],
   "source": [
    "s=\"2³\" # 'isdecimal', 'isdigit', 'isidentifier', 'islower', 'isnumeric', 'isprintable', 'isspace', 'istitle', 'isupper',\n",
    "print(s.isdecimal())\n",
    "print(s.isdigit())\n",
    "print(s.isnumeric())\n"
   ]
  },
  {
   "cell_type": "code",
   "execution_count": 45,
   "metadata": {},
   "outputs": [
    {
     "name": "stdout",
     "output_type": "stream",
     "text": [
      "False\n",
      "False\n",
      "True\n"
     ]
    }
   ],
   "source": [
    "s=\"九\"\n",
    "print(s.isdecimal())\n",
    "print(s.isdigit())\n",
    "print(s.isnumeric())"
   ]
  },
  {
   "cell_type": "code",
   "execution_count": 46,
   "metadata": {},
   "outputs": [
    {
     "name": "stdout",
     "output_type": "stream",
     "text": [
      "True\n",
      "True\n",
      "True\n"
     ]
    }
   ],
   "source": [
    "s=\"१\"\n",
    "print(s.isdecimal())\n",
    "print(s.isdigit())\n",
    "print(s.isnumeric())"
   ]
  },
  {
   "cell_type": "code",
   "execution_count": 47,
   "metadata": {},
   "outputs": [
    {
     "name": "stdout",
     "output_type": "stream",
     "text": [
      "Enter number:12\n",
      "Enter number:34\n",
      "46.0\n"
     ]
    }
   ],
   "source": [
    "a=input(\"Enter number:\")\n",
    "b=input(\"Enter number:\")\n",
    "if a.isdecimal() and b.isdecimal():\n",
    "    a=float(a)\n",
    "    b=float(b)\n",
    "    print(a+b)\n",
    "else:\n",
    "    print(\"invalid data\")"
   ]
  },
  {
   "cell_type": "code",
   "execution_count": 48,
   "metadata": {},
   "outputs": [
    {
     "name": "stdout",
     "output_type": "stream",
     "text": [
      "Enter number:12.34\n",
      "Enter number:45.67\n",
      "invalid data\n"
     ]
    }
   ],
   "source": [
    "a=input(\"Enter number:\")\n",
    "b=input(\"Enter number:\")\n",
    "if a.isdecimal() and b.isdecimal():\n",
    "    a=float(a)\n",
    "    b=float(b)\n",
    "    print(a+b)\n",
    "else:\n",
    "    print(\"invalid data\")"
   ]
  },
  {
   "cell_type": "code",
   "execution_count": 49,
   "metadata": {},
   "outputs": [
    {
     "name": "stdout",
     "output_type": "stream",
     "text": [
      "True\n",
      "False\n"
     ]
    }
   ],
   "source": [
    "s=\"abcd\" # isidentifier', 'islower', 'isprintable', 'isspace', 'istitle', 'isupper',\n",
    "print(s.islower())\n",
    "print(s.isupper())"
   ]
  },
  {
   "cell_type": "code",
   "execution_count": 50,
   "metadata": {},
   "outputs": [
    {
     "name": "stdout",
     "output_type": "stream",
     "text": [
      "False\n",
      "True\n"
     ]
    }
   ],
   "source": [
    "s=\"ASBSDFSDG\" # isidentifier', 'islower', 'isprintable', 'isspace', 'istitle', 'isupper',\n",
    "print(s.islower())\n",
    "print(s.isupper())"
   ]
  },
  {
   "cell_type": "code",
   "execution_count": 51,
   "metadata": {},
   "outputs": [
    {
     "name": "stdout",
     "output_type": "stream",
     "text": [
      "False\n",
      "False\n"
     ]
    }
   ],
   "source": [
    "s=\"ASBSDFSDGadafasfsd\" # isidentifier', 'islower', 'isprintable', 'isspace', 'istitle', 'isupper',\n",
    "print(s.islower())\n",
    "print(s.isupper())"
   ]
  },
  {
   "cell_type": "code",
   "execution_count": 52,
   "metadata": {},
   "outputs": [
    {
     "name": "stdout",
     "output_type": "stream",
     "text": [
      "True\n",
      "False\n"
     ]
    }
   ],
   "source": [
    "s=\"asasf@#$$12124\" # isidentifier', 'islower', 'isprintable', 'isspace', 'istitle', 'isupper',\n",
    "print(s.islower())\n",
    "print(s.isupper())"
   ]
  },
  {
   "cell_type": "code",
   "execution_count": 53,
   "metadata": {},
   "outputs": [
    {
     "name": "stdout",
     "output_type": "stream",
     "text": [
      "False\n",
      "True\n"
     ]
    }
   ],
   "source": [
    "s=\"AASFSD@#$$12124\" # isidentifier', 'islower', 'isprintable', 'isspace', 'istitle', 'isupper',\n",
    "print(s.islower())\n",
    "print(s.isupper())"
   ]
  },
  {
   "cell_type": "code",
   "execution_count": 54,
   "metadata": {},
   "outputs": [
    {
     "name": "stdout",
     "output_type": "stream",
     "text": [
      "False\n",
      "False\n"
     ]
    }
   ],
   "source": [
    "s=\"AASFSD@#$$12124w\" # isidentifier', 'islower', 'isprintable', 'isspace', 'istitle', 'isupper',\n",
    "print(s.islower())\n",
    "print(s.isupper())"
   ]
  },
  {
   "cell_type": "code",
   "execution_count": 55,
   "metadata": {},
   "outputs": [
    {
     "name": "stdout",
     "output_type": "stream",
     "text": [
      "False\n",
      "False\n"
     ]
    }
   ],
   "source": [
    "s=\"\" # isidentifier', 'islower', 'isprintable', 'isspace', 'istitle', 'isupper',\n",
    "print(s.islower())\n",
    "print(s.isupper())"
   ]
  },
  {
   "cell_type": "code",
   "execution_count": 56,
   "metadata": {},
   "outputs": [
    {
     "name": "stdout",
     "output_type": "stream",
     "text": [
      "False\n",
      "False\n"
     ]
    }
   ],
   "source": [
    "s=\"@#$$12124\" # isidentifier', 'islower', 'isprintable', 'isspace', 'istitle', 'isupper',\n",
    "print(s.islower())\n",
    "print(s.isupper())"
   ]
  },
  {
   "cell_type": "code",
   "execution_count": 57,
   "metadata": {},
   "outputs": [
    {
     "name": "stdout",
     "output_type": "stream",
     "text": [
      "contains\n"
     ]
    }
   ],
   "source": [
    "# wap to check given string contains atleast one upper case letter or not.\n",
    "s=\"ABC123\"\n",
    "if s.isupper():\n",
    "    print(\"contains\")\n",
    "else:\n",
    "    print(\"it's not contains\")"
   ]
  },
  {
   "cell_type": "code",
   "execution_count": 58,
   "metadata": {},
   "outputs": [
    {
     "name": "stdout",
     "output_type": "stream",
     "text": [
      "it's not contains\n"
     ]
    }
   ],
   "source": [
    "# wap to check given string contains atleast one upper case letter or not.\n",
    "s=\"absd123\"\n",
    "if s.isupper():\n",
    "    print(\"contains\")\n",
    "else:\n",
    "    print(\"it's not contains\")"
   ]
  },
  {
   "cell_type": "code",
   "execution_count": 59,
   "metadata": {},
   "outputs": [
    {
     "name": "stdout",
     "output_type": "stream",
     "text": [
      "it's not contains\n"
     ]
    }
   ],
   "source": [
    "# wap to check given string contains atleast one upper case letter or not.\n",
    "s=\"absdQWE123\"\n",
    "if s.isupper():\n",
    "    print(\"contains\")\n",
    "else:\n",
    "    print(\"it's not contains\")"
   ]
  },
  {
   "cell_type": "code",
   "execution_count": 61,
   "metadata": {},
   "outputs": [
    {
     "name": "stdout",
     "output_type": "stream",
     "text": [
      "contains\n"
     ]
    }
   ],
   "source": [
    "# wap to check given string contains atleast one upper case letter or not.\n",
    "s=\"absdQWE123\"\n",
    "for i in s:\n",
    "    if i.isupper():\n",
    "        print(\"contains\")\n",
    "        break\n",
    "else:\n",
    "    print(\"it's not contains\")"
   ]
  },
  {
   "cell_type": "code",
   "execution_count": 62,
   "metadata": {},
   "outputs": [
    {
     "name": "stdout",
     "output_type": "stream",
     "text": [
      "it's not contains\n"
     ]
    }
   ],
   "source": [
    "# wap to check given string contains atleast one upper case letter or not.\n",
    "s=\"\"\n",
    "for i in s:\n",
    "    if i.isupper():\n",
    "        print(\"contains\")\n",
    "        break\n",
    "else:\n",
    "    print(\"it's not contains\")"
   ]
  },
  {
   "cell_type": "code",
   "execution_count": 63,
   "metadata": {},
   "outputs": [
    {
     "name": "stdout",
     "output_type": "stream",
     "text": [
      "it's not contains\n"
     ]
    }
   ],
   "source": [
    "# wap to check given string contains atleast one upper case letter or not.\n",
    "s=\"12345\"\n",
    "for i in s:\n",
    "    if i.isupper():\n",
    "        print(\"contains\")\n",
    "        break\n",
    "else:\n",
    "    print(\"it's not contains\")"
   ]
  },
  {
   "cell_type": "code",
   "execution_count": 64,
   "metadata": {},
   "outputs": [
    {
     "name": "stdout",
     "output_type": "stream",
     "text": [
      "it's not contains\n"
     ]
    }
   ],
   "source": [
    "# wap to check given string contains atleast one upper case letter or not.\n",
    "s=\"rrw\"\n",
    "for i in s:\n",
    "    if i.isupper():\n",
    "        print(\"contains\")\n",
    "        break\n",
    "else:\n",
    "    print(\"it's not contains\")"
   ]
  },
  {
   "cell_type": "code",
   "execution_count": 65,
   "metadata": {},
   "outputs": [
    {
     "name": "stdout",
     "output_type": "stream",
     "text": [
      "['__add__', '__class__', '__contains__', '__delattr__', '__dir__', '__doc__', '__eq__', '__format__', '__ge__', '__getattribute__', '__getitem__', '__getnewargs__', '__gt__', '__hash__', '__init__', '__init_subclass__', '__iter__', '__le__', '__len__', '__lt__', '__mod__', '__mul__', '__ne__', '__new__', '__reduce__', '__reduce_ex__', '__repr__', '__rmod__', '__rmul__', '__setattr__', '__sizeof__', '__str__', '__subclasshook__', 'capitalize', 'casefold', 'center', 'count', 'encode', 'endswith', 'expandtabs', 'find', 'format', 'format_map', 'index', 'isalnum', 'isalpha', 'isascii', 'isdecimal', 'isdigit', 'isidentifier', 'islower', 'isnumeric', 'isprintable', 'isspace', 'istitle', 'isupper', 'join', 'ljust', 'lower', 'lstrip', 'maketrans', 'partition', 'replace', 'rfind', 'rindex', 'rjust', 'rpartition', 'rsplit', 'rstrip', 'split', 'splitlines', 'startswith', 'strip', 'swapcase', 'title', 'translate', 'upper', 'zfill']\n"
     ]
    }
   ],
   "source": [
    "print(dir(s))"
   ]
  },
  {
   "cell_type": "code",
   "execution_count": 66,
   "metadata": {},
   "outputs": [],
   "source": [
    "s.index?"
   ]
  },
  {
   "cell_type": "code",
   "execution_count": null,
   "metadata": {},
   "outputs": [],
   "source": []
  }
 ],
 "metadata": {
  "kernelspec": {
   "display_name": "Python 3",
   "language": "python",
   "name": "python3"
  },
  "language_info": {
   "codemirror_mode": {
    "name": "ipython",
    "version": 3
   },
   "file_extension": ".py",
   "mimetype": "text/x-python",
   "name": "python",
   "nbconvert_exporter": "python",
   "pygments_lexer": "ipython3",
   "version": "3.8.3"
  }
 },
 "nbformat": 4,
 "nbformat_minor": 4
}
