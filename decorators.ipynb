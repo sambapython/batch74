{
 "cells": [
  {
   "cell_type": "code",
   "execution_count": 1,
   "metadata": {},
   "outputs": [],
   "source": [
    "def fun():\n",
    "    print(\"this is fun\")\n",
    "    return 20\n",
    "res=fun"
   ]
  },
  {
   "cell_type": "code",
   "execution_count": 3,
   "metadata": {},
   "outputs": [
    {
     "name": "stdout",
     "output_type": "stream",
     "text": [
      "this is fun\n",
      "20\n",
      "this is fun\n",
      "20\n"
     ]
    }
   ],
   "source": [
    "def fun():\n",
    "    print(\"this is fun\")\n",
    "    return 20\n",
    "res=fun # can assign a function reference to some other reference. these two references refer the same object.\n",
    "# so we can call the fun by using fun() and also res()\n",
    "print(fun())\n",
    "print(res())"
   ]
  },
  {
   "cell_type": "code",
   "execution_count": 5,
   "metadata": {},
   "outputs": [
    {
     "name": "stdout",
     "output_type": "stream",
     "text": [
      "<function add at 0x0000021774C9DEE0>\n",
      "30\n",
      "30\n"
     ]
    }
   ],
   "source": [
    "def add(x,y):\n",
    "    return x+y\n",
    "def result():\n",
    "    return add # the function object can return from some other function\n",
    "res=result()\n",
    "#res and add references refer the same object.\n",
    "# so we can call the add function by using add() and also res()\n",
    "print(res)\n",
    "print(res(10,20))\n",
    "print(add(10,20))"
   ]
  },
  {
   "cell_type": "code",
   "execution_count": 6,
   "metadata": {},
   "outputs": [
    {
     "name": "stdout",
     "output_type": "stream",
     "text": [
      "Sum: 30\n"
     ]
    }
   ],
   "source": [
    "# we can pass function as an argument to some other function\n",
    "def add(x,y):\n",
    "    return x+y\n",
    "def fun1(fun,x,y):\n",
    "    return \"Sum: %s\" %(fun(x,y))# fun and add refereing the same object.\n",
    "print(fun1(add,10,20)) # we are passing add function object as a argument to some other function"
   ]
  },
  {
   "cell_type": "code",
   "execution_count": 7,
   "metadata": {},
   "outputs": [
    {
     "name": "stdout",
     "output_type": "stream",
     "text": [
      "Sum: 30\n",
      "Sum: 5.0\n"
     ]
    }
   ],
   "source": [
    "# we can pass function as an argument to some other function\n",
    "def add(x,y):\n",
    "    return x+y\n",
    "def div(x,y):\n",
    "    return x/y\n",
    "def fun1(fun,x,y):\n",
    "    return \"Sum: %s\" %(fun(x,y))# fun and add refereing the same object.\n",
    "print(fun1(add,10,20)) # we are passing add function object as a argument to some other function\n",
    "print(fun1(div,100,20))"
   ]
  },
  {
   "cell_type": "code",
   "execution_count": 8,
   "metadata": {},
   "outputs": [
    {
     "name": "stdout",
     "output_type": "stream",
     "text": [
      "this is outer\n",
      "result: <function outer.<locals>.inner at 0x0000021774CD8160>\n"
     ]
    }
   ],
   "source": [
    "def outer():\n",
    "    print(\"this is outer\")\n",
    "    def inner():\n",
    "        print(\"this is inner\")\n",
    "        return 20\n",
    "    return inner\n",
    "res=outer()\n",
    "print(\"result:\",res)"
   ]
  },
  {
   "cell_type": "code",
   "execution_count": 9,
   "metadata": {},
   "outputs": [
    {
     "name": "stdout",
     "output_type": "stream",
     "text": [
      "this is outer\n",
      "this is inner\n",
      "result: 20\n"
     ]
    }
   ],
   "source": [
    "def outer():\n",
    "    print(\"this is outer\")\n",
    "    def inner():\n",
    "        print(\"this is inner\")\n",
    "        return 20\n",
    "    return inner()\n",
    "res=outer()\n",
    "print(\"result:\",res)"
   ]
  },
  {
   "cell_type": "code",
   "execution_count": 10,
   "metadata": {},
   "outputs": [
    {
     "name": "stdout",
     "output_type": "stream",
     "text": [
      "this is outer\n",
      "result: <function outer.<locals>.inner at 0x0000021774CD81F0>\n"
     ]
    }
   ],
   "source": [
    "def outer():\n",
    "    print(\"this is outer\")\n",
    "    def inner():\n",
    "        print(\"this is inner\")\n",
    "        return 20\n",
    "    return inner\n",
    "res=outer()\n",
    "print(\"result:\",res)"
   ]
  },
  {
   "cell_type": "code",
   "execution_count": 11,
   "metadata": {},
   "outputs": [
    {
     "name": "stdout",
     "output_type": "stream",
     "text": [
      "this is outer\n",
      "result: <function outer.<locals>.inner at 0x0000021774CD8280>\n"
     ]
    },
    {
     "ename": "NameError",
     "evalue": "name 'inner' is not defined",
     "output_type": "error",
     "traceback": [
      "\u001b[1;31m---------------------------------------------------------------------------\u001b[0m",
      "\u001b[1;31mNameError\u001b[0m                                 Traceback (most recent call last)",
      "\u001b[1;32m<ipython-input-11-e600c1142157>\u001b[0m in \u001b[0;36m<module>\u001b[1;34m\u001b[0m\n\u001b[0;32m      7\u001b[0m \u001b[0mres\u001b[0m\u001b[1;33m=\u001b[0m\u001b[0mouter\u001b[0m\u001b[1;33m(\u001b[0m\u001b[1;33m)\u001b[0m\u001b[1;33m\u001b[0m\u001b[1;33m\u001b[0m\u001b[0m\n\u001b[0;32m      8\u001b[0m \u001b[0mprint\u001b[0m\u001b[1;33m(\u001b[0m\u001b[1;34m\"result:\"\u001b[0m\u001b[1;33m,\u001b[0m\u001b[0mres\u001b[0m\u001b[1;33m)\u001b[0m\u001b[1;33m\u001b[0m\u001b[1;33m\u001b[0m\u001b[0m\n\u001b[1;32m----> 9\u001b[1;33m \u001b[0mres1\u001b[0m\u001b[1;33m=\u001b[0m\u001b[0minner\u001b[0m\u001b[1;33m(\u001b[0m\u001b[1;33m)\u001b[0m\u001b[1;33m\u001b[0m\u001b[1;33m\u001b[0m\u001b[0m\n\u001b[0m\u001b[0;32m     10\u001b[0m \u001b[0mprint\u001b[0m\u001b[1;33m(\u001b[0m\u001b[1;34m\"result1:\"\u001b[0m\u001b[1;33m,\u001b[0m\u001b[0mres1\u001b[0m\u001b[1;33m)\u001b[0m\u001b[1;33m\u001b[0m\u001b[1;33m\u001b[0m\u001b[0m\n",
      "\u001b[1;31mNameError\u001b[0m: name 'inner' is not defined"
     ]
    }
   ],
   "source": [
    "def outer():\n",
    "    print(\"this is outer\")\n",
    "    def inner():\n",
    "        print(\"this is inner\")\n",
    "        return 20\n",
    "    return inner\n",
    "res=outer()\n",
    "print(\"result:\",res)\n",
    "res1=inner()\n",
    "print(\"result1:\",res1)"
   ]
  },
  {
   "cell_type": "code",
   "execution_count": 12,
   "metadata": {},
   "outputs": [
    {
     "name": "stdout",
     "output_type": "stream",
     "text": [
      "this is outer\n",
      "result: <function outer.<locals>.inner at 0x0000021774D5C700>\n",
      "this is inner\n",
      "result1: 20\n"
     ]
    }
   ],
   "source": [
    "def outer():\n",
    "    print(\"this is outer\")\n",
    "    def inner():\n",
    "        print(\"this is inner\")\n",
    "        return 20\n",
    "    return inner\n",
    "res=outer()\n",
    "print(\"result:\",res)\n",
    "res1=res()\n",
    "print(\"result1:\",res1)"
   ]
  },
  {
   "cell_type": "code",
   "execution_count": 13,
   "metadata": {},
   "outputs": [
    {
     "name": "stdout",
     "output_type": "stream",
     "text": [
      "this is outer\n",
      "this is inner\n",
      "result: 20\n"
     ]
    }
   ],
   "source": [
    "\n",
    "def outer():\n",
    "    print(\"this is outer\")\n",
    "    def inner():\n",
    "        print(\"this is inner\")\n",
    "        return 20\n",
    "    return inner\n",
    "res=outer()()\n",
    "print(\"result:\",res)"
   ]
  },
  {
   "cell_type": "code",
   "execution_count": 16,
   "metadata": {},
   "outputs": [
    {
     "name": "stdout",
     "output_type": "stream",
     "text": [
      "Result: 30\n"
     ]
    }
   ],
   "source": [
    "def add(x,y):\n",
    "    return x+y\n",
    "def sub(x,y):\n",
    "    return x-y\n",
    "def mul(x,y):\n",
    "    return x*y\n",
    "def outer(fun):\n",
    "    def inner(x,y):\n",
    "        return \"Result: %s\"%fun(x,y)\n",
    "    return inner\n",
    "res=outer(add)\n",
    "res1=res(10,20)\n",
    "print(res1)"
   ]
  },
  {
   "cell_type": "code",
   "execution_count": 17,
   "metadata": {},
   "outputs": [
    {
     "name": "stdout",
     "output_type": "stream",
     "text": [
      "Result: 30\n",
      "Result: 10\n"
     ]
    }
   ],
   "source": [
    "def add(x,y):\n",
    "    return x+y\n",
    "def sub(x,y):\n",
    "    return x-y\n",
    "def mul(x,y):\n",
    "    return x*y\n",
    "def outer(fun):\n",
    "    def inner(x,y):\n",
    "        return \"Result: %s\"%fun(x,y)\n",
    "    return inner\n",
    "res=outer(add)\n",
    "res1=res(10,20)\n",
    "print(res1)\n",
    "res=outer(sub)\n",
    "res2=res(20,10)\n",
    "print(res2)"
   ]
  },
  {
   "cell_type": "code",
   "execution_count": null,
   "metadata": {},
   "outputs": [],
   "source": [
    "def add(x,y):\n",
    "    \n",
    "    return x+y\n",
    "def sub(x,y):\n",
    "    \n",
    "    return x-y\n",
    "def mul(x,y):\n",
    "    \n",
    "    return x*y"
   ]
  },
  {
   "cell_type": "code",
   "execution_count": 18,
   "metadata": {},
   "outputs": [
    {
     "name": "stdout",
     "output_type": "stream",
     "text": [
      "Result: 30\n",
      "Result: 10\n"
     ]
    }
   ],
   "source": [
    "def add(x,y):\n",
    "    return x+y\n",
    "def sub(x,y):\n",
    "    return x-y\n",
    "def mul(x,y):\n",
    "    return x*y\n",
    "\n",
    "def outer(fun):\n",
    "    def inner(x,y):\n",
    "        if isinstance(x,(int,float)) and isinstance(y,(int,float)):\n",
    "            return \"Result: %s\"%fun(x,y)\n",
    "        else:\n",
    "            raise Exception(\"Invalid arguments.\")\n",
    "    return inner\n",
    "res=outer(add)\n",
    "res1=res(10,20)\n",
    "print(res1)\n",
    "res=outer(sub)\n",
    "res2=res(20,10)\n",
    "print(res2)"
   ]
  },
  {
   "cell_type": "code",
   "execution_count": 19,
   "metadata": {},
   "outputs": [
    {
     "name": "stdout",
     "output_type": "stream",
     "text": [
      "30\n",
      "10\n",
      "200\n"
     ]
    }
   ],
   "source": [
    "def add(x,y):\n",
    "    return x+y\n",
    "def sub(x,y):\n",
    "    return x-y\n",
    "def mul(x,y):\n",
    "    return x*y\n",
    "\n",
    "def outer(fun):\n",
    "    def inner(x,y):\n",
    "        if isinstance(x,(int,float)) and isinstance(y,(int,float)):\n",
    "            return \"Result: %s\"%fun(x,y)\n",
    "        else:\n",
    "            raise Exception(\"Invalid arguments.\")\n",
    "    return inner\n",
    "res=add(10,20)\n",
    "print(res)\n",
    "res=sub(20,10)\n",
    "print(res)\n",
    "res=mul(10,20)\n",
    "print(res)"
   ]
  },
  {
   "cell_type": "code",
   "execution_count": 20,
   "metadata": {},
   "outputs": [
    {
     "name": "stdout",
     "output_type": "stream",
     "text": [
      "Result: 30\n",
      "Result: 10\n",
      "Result: 200\n"
     ]
    }
   ],
   "source": [
    "def outer(fun):\n",
    "    def inner(x,y):\n",
    "        if isinstance(x,(int,float)) and isinstance(y,(int,float)):\n",
    "            return \"Result: %s\"%fun(x,y)\n",
    "        else:\n",
    "            raise Exception(\"Invalid arguments.\")\n",
    "    return inner\n",
    "\n",
    "@outer\n",
    "def add(x,y): \n",
    "    return x+y\n",
    "\n",
    "@outer\n",
    "def sub(x,y):\n",
    "    return x-y\n",
    "\n",
    "@outer\n",
    "def mul(x,y):\n",
    "    return x*y\n",
    "res=add(10,20)#outer(add)(10,20)\n",
    "print(res)\n",
    "res=sub(20,10)#outer(sub)(20,10)\n",
    "print(res)\n",
    "res=mul(10,20)#outer(mul)(10,20)\n",
    "print(res)"
   ]
  },
  {
   "cell_type": "code",
   "execution_count": 21,
   "metadata": {},
   "outputs": [
    {
     "name": "stdout",
     "output_type": "stream",
     "text": [
      "Result: 30\n",
      "Result: 10\n",
      "Result: 200\n"
     ]
    },
    {
     "ename": "Exception",
     "evalue": "Invalid arguments.",
     "output_type": "error",
     "traceback": [
      "\u001b[1;31m---------------------------------------------------------------------------\u001b[0m",
      "\u001b[1;31mException\u001b[0m                                 Traceback (most recent call last)",
      "\u001b[1;32m<ipython-input-21-d156bb7246f1>\u001b[0m in \u001b[0;36m<module>\u001b[1;34m\u001b[0m\n\u001b[0;32m     24\u001b[0m \u001b[0mres\u001b[0m\u001b[1;33m=\u001b[0m\u001b[0mmul\u001b[0m\u001b[1;33m(\u001b[0m\u001b[1;36m10\u001b[0m\u001b[1;33m,\u001b[0m\u001b[1;36m20\u001b[0m\u001b[1;33m)\u001b[0m\u001b[1;31m#outer(mul)(10,20)\u001b[0m\u001b[1;33m\u001b[0m\u001b[1;33m\u001b[0m\u001b[0m\n\u001b[0;32m     25\u001b[0m \u001b[0mprint\u001b[0m\u001b[1;33m(\u001b[0m\u001b[0mres\u001b[0m\u001b[1;33m)\u001b[0m\u001b[1;33m\u001b[0m\u001b[1;33m\u001b[0m\u001b[0m\n\u001b[1;32m---> 26\u001b[1;33m \u001b[0mres\u001b[0m\u001b[1;33m=\u001b[0m\u001b[0madd\u001b[0m\u001b[1;33m(\u001b[0m\u001b[1;36m1\u001b[0m\u001b[1;33m,\u001b[0m\u001b[1;34m\"abc\"\u001b[0m\u001b[1;33m)\u001b[0m\u001b[1;33m\u001b[0m\u001b[1;33m\u001b[0m\u001b[0m\n\u001b[0m\u001b[0;32m     27\u001b[0m \u001b[0mprint\u001b[0m\u001b[1;33m(\u001b[0m\u001b[0mres\u001b[0m\u001b[1;33m)\u001b[0m\u001b[1;33m\u001b[0m\u001b[1;33m\u001b[0m\u001b[0m\n",
      "\u001b[1;32m<ipython-input-21-d156bb7246f1>\u001b[0m in \u001b[0;36minner\u001b[1;34m(x, y)\u001b[0m\n\u001b[0;32m      4\u001b[0m             \u001b[1;32mreturn\u001b[0m \u001b[1;34m\"Result: %s\"\u001b[0m\u001b[1;33m%\u001b[0m\u001b[0mfun\u001b[0m\u001b[1;33m(\u001b[0m\u001b[0mx\u001b[0m\u001b[1;33m,\u001b[0m\u001b[0my\u001b[0m\u001b[1;33m)\u001b[0m\u001b[1;33m\u001b[0m\u001b[1;33m\u001b[0m\u001b[0m\n\u001b[0;32m      5\u001b[0m         \u001b[1;32melse\u001b[0m\u001b[1;33m:\u001b[0m\u001b[1;33m\u001b[0m\u001b[1;33m\u001b[0m\u001b[0m\n\u001b[1;32m----> 6\u001b[1;33m             \u001b[1;32mraise\u001b[0m \u001b[0mException\u001b[0m\u001b[1;33m(\u001b[0m\u001b[1;34m\"Invalid arguments.\"\u001b[0m\u001b[1;33m)\u001b[0m\u001b[1;33m\u001b[0m\u001b[1;33m\u001b[0m\u001b[0m\n\u001b[0m\u001b[0;32m      7\u001b[0m     \u001b[1;32mreturn\u001b[0m \u001b[0minner\u001b[0m\u001b[1;33m\u001b[0m\u001b[1;33m\u001b[0m\u001b[0m\n\u001b[0;32m      8\u001b[0m \u001b[1;33m\u001b[0m\u001b[0m\n",
      "\u001b[1;31mException\u001b[0m: Invalid arguments."
     ]
    }
   ],
   "source": [
    "def outer(fun): # closure\n",
    "    def inner(x,y):\n",
    "        if isinstance(x,(int,float)) and isinstance(y,(int,float)):\n",
    "            return \"Result: %s\"%fun(x,y)\n",
    "        else:\n",
    "            raise Exception(\"Invalid arguments.\")\n",
    "    return inner\n",
    "\n",
    "@outer # decorator\n",
    "def add(x,y): \n",
    "    return x+y\n",
    "\n",
    "@outer\n",
    "def sub(x,y):\n",
    "    return x-y\n",
    "\n",
    "@outer\n",
    "def mul(x,y):\n",
    "    return x*y\n",
    "res=add(10,20)#outer(add)(10,20)\n",
    "print(res)\n",
    "res=sub(20,10)#outer(sub)(20,10)\n",
    "print(res)\n",
    "res=mul(10,20)#outer(mul)(10,20)\n",
    "print(res)\n",
    "res=add(1,\"abc\")#outer(add)(1,\"abc\")\n",
    "print(res)"
   ]
  },
  {
   "cell_type": "code",
   "execution_count": 22,
   "metadata": {},
   "outputs": [
    {
     "name": "stdout",
     "output_type": "stream",
     "text": [
      "Result: 30\n",
      "Result: 10\n",
      "Result: 200\n"
     ]
    },
    {
     "ename": "Exception",
     "evalue": "Invalid arguments.",
     "output_type": "error",
     "traceback": [
      "\u001b[1;31m---------------------------------------------------------------------------\u001b[0m",
      "\u001b[1;31mException\u001b[0m                                 Traceback (most recent call last)",
      "\u001b[1;32m<ipython-input-22-79997919b2cc>\u001b[0m in \u001b[0;36m<module>\u001b[1;34m\u001b[0m\n\u001b[0;32m     24\u001b[0m \u001b[0mres\u001b[0m\u001b[1;33m=\u001b[0m\u001b[0mmul\u001b[0m\u001b[1;33m(\u001b[0m\u001b[1;36m10\u001b[0m\u001b[1;33m,\u001b[0m\u001b[1;36m20\u001b[0m\u001b[1;33m)\u001b[0m\u001b[1;31m#validator(mul)(10,20)\u001b[0m\u001b[1;33m\u001b[0m\u001b[1;33m\u001b[0m\u001b[0m\n\u001b[0;32m     25\u001b[0m \u001b[0mprint\u001b[0m\u001b[1;33m(\u001b[0m\u001b[0mres\u001b[0m\u001b[1;33m)\u001b[0m\u001b[1;33m\u001b[0m\u001b[1;33m\u001b[0m\u001b[0m\n\u001b[1;32m---> 26\u001b[1;33m \u001b[0mres\u001b[0m\u001b[1;33m=\u001b[0m\u001b[0madd\u001b[0m\u001b[1;33m(\u001b[0m\u001b[1;36m1\u001b[0m\u001b[1;33m,\u001b[0m\u001b[1;34m\"abc\"\u001b[0m\u001b[1;33m)\u001b[0m\u001b[1;31m#validator(add)(1,\"abc\")\u001b[0m\u001b[1;33m\u001b[0m\u001b[1;33m\u001b[0m\u001b[0m\n\u001b[0m\u001b[0;32m     27\u001b[0m \u001b[0mprint\u001b[0m\u001b[1;33m(\u001b[0m\u001b[0mres\u001b[0m\u001b[1;33m)\u001b[0m\u001b[1;33m\u001b[0m\u001b[1;33m\u001b[0m\u001b[0m\n",
      "\u001b[1;32m<ipython-input-22-79997919b2cc>\u001b[0m in \u001b[0;36mwrapper\u001b[1;34m(x, y)\u001b[0m\n\u001b[0;32m      4\u001b[0m             \u001b[1;32mreturn\u001b[0m \u001b[1;34m\"Result: %s\"\u001b[0m\u001b[1;33m%\u001b[0m\u001b[0mfun\u001b[0m\u001b[1;33m(\u001b[0m\u001b[0mx\u001b[0m\u001b[1;33m,\u001b[0m\u001b[0my\u001b[0m\u001b[1;33m)\u001b[0m\u001b[1;33m\u001b[0m\u001b[1;33m\u001b[0m\u001b[0m\n\u001b[0;32m      5\u001b[0m         \u001b[1;32melse\u001b[0m\u001b[1;33m:\u001b[0m\u001b[1;33m\u001b[0m\u001b[1;33m\u001b[0m\u001b[0m\n\u001b[1;32m----> 6\u001b[1;33m             \u001b[1;32mraise\u001b[0m \u001b[0mException\u001b[0m\u001b[1;33m(\u001b[0m\u001b[1;34m\"Invalid arguments.\"\u001b[0m\u001b[1;33m)\u001b[0m\u001b[1;33m\u001b[0m\u001b[1;33m\u001b[0m\u001b[0m\n\u001b[0m\u001b[0;32m      7\u001b[0m     \u001b[1;32mreturn\u001b[0m \u001b[0mwrapper\u001b[0m\u001b[1;33m\u001b[0m\u001b[1;33m\u001b[0m\u001b[0m\n\u001b[0;32m      8\u001b[0m \u001b[1;33m\u001b[0m\u001b[0m\n",
      "\u001b[1;31mException\u001b[0m: Invalid arguments."
     ]
    }
   ],
   "source": [
    "def validator(fun): # closure\n",
    "    def wrapper(x,y):\n",
    "        if isinstance(x,(int,float)) and isinstance(y,(int,float)):\n",
    "            return \"Result: %s\"%fun(x,y)\n",
    "        else:\n",
    "            raise Exception(\"Invalid arguments.\")\n",
    "    return wrapper\n",
    "\n",
    "@validator # decorator\n",
    "def add(x,y): \n",
    "    return x+y\n",
    "\n",
    "@validator\n",
    "def sub(x,y):\n",
    "    return x-y\n",
    "\n",
    "@validator\n",
    "def mul(x,y):\n",
    "    return x*y\n",
    "res=add(10,20)#validator(add)(10,20)\n",
    "print(res)\n",
    "res=sub(20,10)#validator(sub)(20,10)\n",
    "print(res)\n",
    "res=mul(10,20)#validator(mul)(10,20)\n",
    "print(res)\n",
    "res=add(1,\"abc\")#validator(add)(1,\"abc\")\n",
    "print(res)"
   ]
  },
  {
   "cell_type": "code",
   "execution_count": null,
   "metadata": {},
   "outputs": [],
   "source": [
    "def validator(fun): # closure\n",
    "    def wrapper(x,y):\n",
    "        \n",
    "        if isinstance(x,(int,float)) and isinstance(y,(int,float)):\n",
    "            return \"Result: %s\"%fun(x,y)\n",
    "        else:\n",
    "            raise Exception(\"Invalid arguments.\")\n",
    "    return wrapper\n",
    "\n",
    "@validator # decorator\n",
    "def add(x,y): \n",
    "    return x+y\n",
    "\n",
    "@validator\n",
    "def sub(x,y):\n",
    "    return x-y\n",
    "\n",
    "@validator\n",
    "def mul(x,y):\n",
    "    return x*y\n",
    "res=add(10,20)#validator(add)(10,20)\n",
    "print(res)\n",
    "res=sub(20,10)#validator(sub)(20,10)\n",
    "print(res)\n",
    "res=mul(10,20)#validator(mul)(10,20)\n",
    "print(res)\n",
    "res=add(1,\"abc\")#validator(add)(1,\"abc\")\n",
    "print(res)"
   ]
  }
 ],
 "metadata": {
  "kernelspec": {
   "display_name": "Python 3",
   "language": "python",
   "name": "python3"
  },
  "language_info": {
   "codemirror_mode": {
    "name": "ipython",
    "version": 3
   },
   "file_extension": ".py",
   "mimetype": "text/x-python",
   "name": "python",
   "nbconvert_exporter": "python",
   "pygments_lexer": "ipython3",
   "version": "3.8.3"
  }
 },
 "nbformat": 4,
 "nbformat_minor": 4
}
