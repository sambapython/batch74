{
 "cells": [
  {
   "cell_type": "code",
   "execution_count": 1,
   "metadata": {},
   "outputs": [
    {
     "name": "stdout",
     "output_type": "stream",
     "text": [
      "[1, 2, 3, 'batch', (10, 20, 3), [10, 20, 30, 40], {'name': 'jay'}, (12+3j), 1.2, True, None]\n"
     ]
    }
   ],
   "source": [
    "l=[1,2,3,\"batch\",(10,20,3),[10,20,30,40],{\"name\":\"jay\"},12+3j,1.2,True,None]\n",
    "print(l)"
   ]
  },
  {
   "cell_type": "code",
   "execution_count": 2,
   "metadata": {},
   "outputs": [
    {
     "data": {
      "text/plain": [
       "1"
      ]
     },
     "execution_count": 2,
     "metadata": {},
     "output_type": "execute_result"
    }
   ],
   "source": [
    "l=[1,2,3,4]\n",
    "l[0]"
   ]
  },
  {
   "cell_type": "code",
   "execution_count": 3,
   "metadata": {},
   "outputs": [
    {
     "name": "stdout",
     "output_type": "stream",
     "text": [
      "[1, 2, [10, 20], [30, 40, [100, 200, [1000, 2000, 3000], 400], 5000], 6000]\n"
     ]
    }
   ],
   "source": [
    "l=[1,2,[10,20],[30,40,[100,200,[1000,2000,3000],400],5000],6000]\n",
    "print(l)"
   ]
  },
  {
   "cell_type": "code",
   "execution_count": 4,
   "metadata": {},
   "outputs": [
    {
     "data": {
      "text/plain": [
       "5"
      ]
     },
     "execution_count": 4,
     "metadata": {},
     "output_type": "execute_result"
    }
   ],
   "source": [
    "len(l)"
   ]
  },
  {
   "cell_type": "code",
   "execution_count": 5,
   "metadata": {},
   "outputs": [
    {
     "name": "stdout",
     "output_type": "stream",
     "text": [
      "[30, 40, [100, 200, [1000, 2000, 3000], 400], 5000]\n"
     ]
    }
   ],
   "source": [
    "l=[1,2,[10,20],[30,40,[100,200,[1000,2000,3000],400],5000],6000]\n",
    "print(l[3])"
   ]
  },
  {
   "cell_type": "code",
   "execution_count": 6,
   "metadata": {},
   "outputs": [
    {
     "name": "stdout",
     "output_type": "stream",
     "text": [
      "[100, 200, [1000, 2000, 3000], 400]\n"
     ]
    }
   ],
   "source": [
    "l=[1,2,[10,20],[30,40,[100,200,[1000,2000,3000],400],5000],6000]\n",
    "print(l[3][2])"
   ]
  },
  {
   "cell_type": "code",
   "execution_count": 7,
   "metadata": {},
   "outputs": [
    {
     "name": "stdout",
     "output_type": "stream",
     "text": [
      "[1000, 2000, 3000]\n"
     ]
    }
   ],
   "source": [
    "l=[1,2,[10,20],[30,40,[100,200,[1000,2000,3000],400],5000],6000]\n",
    "print(l[3][2][2])"
   ]
  },
  {
   "cell_type": "code",
   "execution_count": 8,
   "metadata": {},
   "outputs": [
    {
     "name": "stdout",
     "output_type": "stream",
     "text": [
      "1000\n"
     ]
    }
   ],
   "source": [
    "l=[1,2,[10,20],[30,40,[100,200,[1000,2000,3000],400],5000],6000]\n",
    "print(l[3][2][2][0])"
   ]
  },
  {
   "cell_type": "code",
   "execution_count": 11,
   "metadata": {},
   "outputs": [
    {
     "name": "stdout",
     "output_type": "stream",
     "text": [
      "l= ['APPLE', 'orange', 'grape', [1000, 2000]]\n",
      "k= ['APPLE', 'orange', 'grape', [1000, 2000]]\n",
      "m= ['apple', 'orange', 'grape', [1000, 2000]]\n",
      "p= ['apple', 'orange', 'grape', [1000, 2000]]\n"
     ]
    }
   ],
   "source": [
    "l=[\"apple\",\"orange\",\"grape\",[1000,2000]]\n",
    "k=l\n",
    "m=l[:]\n",
    "p=l.copy()\n",
    "l[0]=\"APPLE\"\n",
    "print(\"l=\",l)\n",
    "print(\"k=\",k)\n",
    "print(\"m=\",m)\n",
    "print(\"p=\",p)      "
   ]
  },
  {
   "cell_type": "code",
   "execution_count": 12,
   "metadata": {},
   "outputs": [
    {
     "name": "stdout",
     "output_type": "stream",
     "text": [
      "[1000, 2000]\n",
      "l= ['APPLE', 'orange', 'grape', [1000, 2000]]\n",
      "k= ['APPLE', 'orange', 'grape', [1000, 2000]]\n",
      "m= ['apple', 'orange', 'grape', [1000, 2000]]\n",
      "p= ['apple', 'orange', 'grape', [1000, 2000]]\n"
     ]
    }
   ],
   "source": [
    "l=[\"apple\",\"orange\",\"grape\",[1000,2000]]\n",
    "k=l\n",
    "m=l[:]\n",
    "p=l.copy()\n",
    "l[0]=\"APPLE\"\n",
    "print(l[3])\n",
    "print(\"l=\",l)\n",
    "print(\"k=\",k)\n",
    "print(\"m=\",m)\n",
    "print(\"p=\",p)      "
   ]
  },
  {
   "cell_type": "code",
   "execution_count": 13,
   "metadata": {},
   "outputs": [
    {
     "name": "stdout",
     "output_type": "stream",
     "text": [
      "l= ['APPLE', 'orange', 'grape', [1, 2000]]\n",
      "k= ['APPLE', 'orange', 'grape', [1, 2000]]\n",
      "m= ['apple', 'orange', 'grape', [1, 2000]]\n",
      "p= ['apple', 'orange', 'grape', [1, 2000]]\n"
     ]
    }
   ],
   "source": [
    "l=[\"apple\",\"orange\",\"grape\",[1000,2000]]\n",
    "k=l\n",
    "m=l[:]\n",
    "p=l.copy()\n",
    "l[0]=\"APPLE\"\n",
    "l[3][0]=1\n",
    "print(\"l=\",l)\n",
    "print(\"k=\",k)\n",
    "print(\"m=\",m)\n",
    "print(\"p=\",p)      "
   ]
  },
  {
   "cell_type": "code",
   "execution_count": 14,
   "metadata": {},
   "outputs": [
    {
     "name": "stdout",
     "output_type": "stream",
     "text": [
      "l= ['APPLE', 'orange', 'grape', [1, 2000]]\n",
      "k= ['APPLE', 'orange', 'grape', [1, 2000]]\n",
      "m= ['apple', 'orange', 'grape', [1, 2000]]\n",
      "p= ['apple', 'orange', 'grape', [1, 2000]]\n"
     ]
    }
   ],
   "source": [
    "import copy\n",
    "l=[\"apple\",\"orange\",\"grape\",[1000,2000]]\n",
    "k=l\n",
    "m=l[:]\n",
    "p=copy.copy(l)\n",
    "l[0]=\"APPLE\"\n",
    "l[3][0]=1\n",
    "print(\"l=\",l)\n",
    "print(\"k=\",k)\n",
    "print(\"m=\",m)\n",
    "print(\"p=\",p)      "
   ]
  },
  {
   "cell_type": "code",
   "execution_count": 15,
   "metadata": {},
   "outputs": [
    {
     "name": "stdout",
     "output_type": "stream",
     "text": [
      "l= ['APPLE', 'orange', 'grape', [1, 2000]]\n",
      "k= ['APPLE', 'orange', 'grape', [1, 2000]]\n",
      "m= ['apple', 'orange', 'grape', [1, 2000]]\n",
      "p= ['apple', 'orange', 'grape', [1000, 2000]]\n"
     ]
    }
   ],
   "source": [
    "import copy\n",
    "l=[\"apple\",\"orange\",\"grape\",[1000,2000]]\n",
    "k=l\n",
    "m=l[:]\n",
    "p=copy.deepcopy(l)\n",
    "l[0]=\"APPLE\"\n",
    "l[3][0]=1\n",
    "print(\"l=\",l)\n",
    "print(\"k=\",k)\n",
    "print(\"m=\",m)\n",
    "print(\"p=\",p)      "
   ]
  },
  {
   "cell_type": "code",
   "execution_count": null,
   "metadata": {},
   "outputs": [],
   "source": []
  }
 ],
 "metadata": {
  "kernelspec": {
   "display_name": "Python 3",
   "language": "python",
   "name": "python3"
  },
  "language_info": {
   "codemirror_mode": {
    "name": "ipython",
    "version": 3
   },
   "file_extension": ".py",
   "mimetype": "text/x-python",
   "name": "python",
   "nbconvert_exporter": "python",
   "pygments_lexer": "ipython3",
   "version": "3.8.3"
  }
 },
 "nbformat": 4,
 "nbformat_minor": 4
}
