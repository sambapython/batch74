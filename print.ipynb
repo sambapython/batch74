{
 "cells": [
  {
   "cell_type": "code",
   "execution_count": 1,
   "metadata": {},
   "outputs": [
    {
     "name": "stdout",
     "output_type": "stream",
     "text": [
      "mango 10\n"
     ]
    }
   ],
   "source": [
    "name=\"mango\"\n",
    "cost=10\n",
    "print(name, cost)"
   ]
  },
  {
   "cell_type": "code",
   "execution_count": 2,
   "metadata": {},
   "outputs": [
    {
     "name": "stdout",
     "output_type": "stream",
     "text": [
      "mango:10\n"
     ]
    }
   ],
   "source": [
    "name=\"mango\"\n",
    "cost=10\n",
    "print(name, cost,sep=\":\")"
   ]
  },
  {
   "cell_type": "code",
   "execution_count": 3,
   "metadata": {},
   "outputs": [
    {
     "name": "stdout",
     "output_type": "stream",
     "text": [
      "mango;10\n"
     ]
    }
   ],
   "source": [
    "name=\"mango\"\n",
    "cost=10\n",
    "print(name, cost,sep=\";\")"
   ]
  },
  {
   "cell_type": "code",
   "execution_count": 4,
   "metadata": {},
   "outputs": [
    {
     "name": "stdout",
     "output_type": "stream",
     "text": [
      "hello\n",
      "hyderabad\n"
     ]
    }
   ],
   "source": [
    "print(\"hello\")\n",
    "print(\"hyderabad\")"
   ]
  },
  {
   "cell_type": "code",
   "execution_count": 5,
   "metadata": {},
   "outputs": [
    {
     "name": "stdout",
     "output_type": "stream",
     "text": [
      "hello\n",
      "hyderabad\n"
     ]
    }
   ],
   "source": [
    "print(\"hello\");print(\"hyderabad\")"
   ]
  },
  {
   "cell_type": "code",
   "execution_count": 6,
   "metadata": {},
   "outputs": [
    {
     "name": "stdout",
     "output_type": "stream",
     "text": [
      "hello\n",
      "hyderabad\n"
     ]
    }
   ],
   "source": [
    "print(\"hello\")\n",
    "print(\"hyderabad\")"
   ]
  },
  {
   "cell_type": "code",
   "execution_count": 7,
   "metadata": {},
   "outputs": [
    {
     "name": "stdout",
     "output_type": "stream",
     "text": [
      "hello hyderabad\n"
     ]
    }
   ],
   "source": [
    "print(\"hello\", end=\" \")\n",
    "print(\"hyderabad\")"
   ]
  },
  {
   "cell_type": "code",
   "execution_count": 8,
   "metadata": {},
   "outputs": [
    {
     "name": "stdout",
     "output_type": "stream",
     "text": [
      "the temperature in hyderabad drastically increasing.\n"
     ]
    }
   ],
   "source": [
    "s=\"the temperature in hyderabad drastically increasing.\"\n",
    "print(s)"
   ]
  },
  {
   "cell_type": "code",
   "execution_count": 9,
   "metadata": {},
   "outputs": [
    {
     "name": "stdout",
     "output_type": "stream",
     "text": [
      "the temperature in\thyderabad\n",
      " drastically increasing.\n"
     ]
    }
   ],
   "source": [
    "s=\"the temperature in\\thyderabad\\n drastically increasing.\"\n",
    "print(s)"
   ]
  },
  {
   "cell_type": "code",
   "execution_count": 10,
   "metadata": {},
   "outputs": [
    {
     "name": "stdout",
     "output_type": "stream",
     "text": [
      "\n"
     ]
    }
   ],
   "source": [
    "\"\"\"\n",
    "Fruits:\n",
    "      1. Mango\n",
    "      2. apple\n",
    "      3. banana\n",
    "      4. pineapple\n",
    "\"\"\"\n",
    "print(\"\")"
   ]
  },
  {
   "cell_type": "code",
   "execution_count": 13,
   "metadata": {},
   "outputs": [
    {
     "name": "stdout",
     "output_type": "stream",
     "text": [
      "Fruitr:\n",
      "\t1.Mango\n",
      "\t2.apple\n",
      "\t3.banana\n",
      "\t4.pineapple\n"
     ]
    }
   ],
   "source": [
    "print(\"Fruitr:\\n\\t1.Mango\\n\\t2.apple\\n\\t3.banana\\n\\t4.pineapple\")"
   ]
  },
  {
   "cell_type": "code",
   "execution_count": 14,
   "metadata": {},
   "outputs": [
    {
     "ename": "SyntaxError",
     "evalue": "EOL while scanning string literal (<ipython-input-14-056610152b5e>, line 1)",
     "output_type": "error",
     "traceback": [
      "\u001b[1;36m  File \u001b[1;32m\"<ipython-input-14-056610152b5e>\"\u001b[1;36m, line \u001b[1;32m1\u001b[0m\n\u001b[1;33m    print(\"Fruitr:\\n\\t1.Mango\\n\\t2.apple\\n\\t3.banana\\n\\t4.pineapple sfsdf sfsdf sd fsdfsdfsdf\u001b[0m\n\u001b[1;37m                                                                                             ^\u001b[0m\n\u001b[1;31mSyntaxError\u001b[0m\u001b[1;31m:\u001b[0m EOL while scanning string literal\n"
     ]
    }
   ],
   "source": [
    "print(\"Fruitr:\\n\\t1.Mango\\n\\t2.apple\\n\\t3.banana\\n\\t4.pineapple sfsdf sfsdf sd fsdfsdfsdf\n",
    "      sd fsd f sdf sdf sd fsd f sd fsd f sd fsd f sdf sd fsd f sdf sd fsd fsd fd\")"
   ]
  },
  {
   "cell_type": "code",
   "execution_count": 15,
   "metadata": {},
   "outputs": [
    {
     "name": "stdout",
     "output_type": "stream",
     "text": [
      "Fruitr:\n",
      "\t1.Mango\n",
      "\t2.apple\n",
      "\t3.banana\n",
      "\t4.pineapple sfsdf sfsdf sd fsdfsdfsdf      sd fsd f sdf sdf sd fsd f sd fsd f sd fsd f sdf sd fsd f sdf sd fsd fsd fd\n"
     ]
    }
   ],
   "source": [
    "print(\"Fruitr:\\n\\t1.Mango\\n\\t2.apple\\n\\t3.banana\\n\\t4.pineapple sfsdf sfsdf sd fsdfsdfsdf\\\n",
    "      sd fsd f sdf sdf sd fsd f sd fsd f sd fsd f sdf sd fsd f sdf sd fsd fsd fd\")"
   ]
  },
  {
   "cell_type": "code",
   "execution_count": 18,
   "metadata": {},
   "outputs": [
    {
     "name": "stdout",
     "output_type": "stream",
     "text": [
      "\n",
      "Fruites:\n",
      "    1.Mango\n",
      "    2.apple\n",
      "    3.banana\n",
      "    4.pineapple\n",
      "\n"
     ]
    }
   ],
   "source": [
    "print(\"\"\"\n",
    "Fruites:\n",
    "    1.Mango\n",
    "    2.apple\n",
    "    3.banana\n",
    "    4.pineapple\n",
    "\"\"\")"
   ]
  },
  {
   "cell_type": "code",
   "execution_count": 19,
   "metadata": {},
   "outputs": [
    {
     "name": "stdout",
     "output_type": "stream",
     "text": [
      "Fruitr:\n",
      "\t1.Mango\n",
      "\t2.apple\n",
      "\t3.banana\n",
      "\t4.pineapple sfsdf sfsdf sd fsdfsdfsdf      sd fsd f sdf sdf sd fsd f sd fsd f sd fsd f sdf sd fsd f sdf sd fsd fsd fd\n"
     ]
    }
   ],
   "source": [
    "print(\"Fruitr:\\n\\t1.Mango\\n\\t2.apple\\n\\t3.banana\\n\\t4.pineapple sfsdf sfsdf sd fsdfsdfsdf\\\n",
    "      sd fsd f sdf sdf sd fsd f sd fsd f sd fsd f sdf sd fsd f sdf sd fsd fsd fd\")"
   ]
  },
  {
   "cell_type": "code",
   "execution_count": 20,
   "metadata": {},
   "outputs": [
    {
     "name": "stdout",
     "output_type": "stream",
     "text": [
      "Fruitr:\\n\\t1.Mango\\n\\t2.apple\\n\\t3.banana\\n\\t4.pineapple sfsdf sfsdf sd fsdfsdfsdf      sd fsd f sdf sdf sd fsd f sd fsd f sd fsd f sdf sd fsd f sdf sd fsd fsd fd\n"
     ]
    }
   ],
   "source": [
    "print(\"Fruitr:\\\\n\\\\t1.Mango\\\\n\\\\t2.apple\\\\n\\\\t3.banana\\\\n\\\\t4.pineapple sfsdf sfsdf sd fsdfsdfsdf\\\n",
    "      sd fsd f sdf sdf sd fsd f sd fsd f sd fsd f sdf sd fsd f sdf sd fsd fsd fd\")"
   ]
  },
  {
   "cell_type": "code",
   "execution_count": 21,
   "metadata": {},
   "outputs": [
    {
     "name": "stdout",
     "output_type": "stream",
     "text": [
      "Fruitr:\\n\\t1.Mango\\n\\t2.apple\\n\\t3.banana\\n\\t4.pineapple sfsdf sfsdf sd fsdfsdfsdf\\\n",
      "      sd fsd f sdf sdf sd fsd f sd fsd f sd fsd f sdf sd fsd f sdf sd fsd fsd fd\n"
     ]
    }
   ],
   "source": [
    "# rawstrings\n",
    "print(r\"Fruitr:\\n\\t1.Mango\\n\\t2.apple\\n\\t3.banana\\n\\t4.pineapple sfsdf sfsdf sd fsdfsdfsdf\\\n",
    "      sd fsd f sdf sdf sd fsd f sd fsd f sd fsd f sdf sd fsd f sdf sd fsd fsd fd\")"
   ]
  },
  {
   "cell_type": "code",
   "execution_count": 22,
   "metadata": {},
   "outputs": [
    {
     "name": "stdout",
     "output_type": "stream",
     "text": [
      "Name of the person: jayaram Age: 3 Height: 3.2456789 weight: 12.3436\n"
     ]
    }
   ],
   "source": [
    "#Name of the person:jayaram, Age:3, Height:3.25, Weight:12.34\n",
    "name=\"jayaram\"\n",
    "age=3\n",
    "height=3.2456789\n",
    "weight=12.3436\n",
    "print(\"Name of the person:\",name,\"Age:\",age,\"Height:\",height,\"weight:\",weight)"
   ]
  },
  {
   "cell_type": "code",
   "execution_count": 23,
   "metadata": {},
   "outputs": [
    {
     "name": "stdout",
     "output_type": "stream",
     "text": [
      "Name of the person:jayaramAge:3Height:3.2456789weight:12.3436\n"
     ]
    }
   ],
   "source": [
    "#Name of the person:jayaram, Age:3, Height:3.25, Weight:12.34\n",
    "name=\"jayaram\"\n",
    "age=3\n",
    "height=3.2456789\n",
    "weight=12.3436\n",
    "print(\"Name of the person:\",name,\"Age:\",age,\"Height:\",height,\"weight:\",weight,sep=\"\")"
   ]
  },
  {
   "cell_type": "code",
   "execution_count": 24,
   "metadata": {},
   "outputs": [
    {
     "name": "stdout",
     "output_type": "stream",
     "text": [
      "Name of the person:jayaram Age:3 Height:3.2456789 weight:12.3436\n"
     ]
    }
   ],
   "source": [
    "#Name of the person:jayaram, Age:3, Height:3.25, Weight:12.34\n",
    "name=\"jayaram\"\n",
    "age=3\n",
    "height=3.2456789\n",
    "weight=12.3436\n",
    "print(\"Name of the person:\",name,\" Age:\",age,\" Height:\",height,\" weight:\",weight,sep=\"\")"
   ]
  },
  {
   "cell_type": "code",
   "execution_count": 25,
   "metadata": {},
   "outputs": [
    {
     "name": "stdout",
     "output_type": "stream",
     "text": [
      "Name of the person:jayaram Age:3 Height:3.2456789 weight:12.3436\n",
      "Name of the person:%s, Age:%s, Height:%s, Weight:%s ('jayaram', 3, 3.2456789, 12.3436)\n"
     ]
    }
   ],
   "source": [
    "#Name of the person:jayaram, Age:3, Height:3.25, Weight:12.34\n",
    "name=\"jayaram\"\n",
    "age=3\n",
    "height=3.2456789\n",
    "weight=12.3436\n",
    "print(\"Name of the person:\",name,\" Age:\",age,\" Height:\",height,\" weight:\",weight,sep=\"\")\n",
    "# format specifiers\n",
    "print(\"Name of the person:%s, Age:%s, Height:%s, Weight:%s\",(name,age,height, weight))"
   ]
  },
  {
   "cell_type": "code",
   "execution_count": 27,
   "metadata": {},
   "outputs": [
    {
     "name": "stdout",
     "output_type": "stream",
     "text": [
      "Name of the person:jayaram, Age:3, Height:3.2456789, weight:12.3436\n",
      "Name of the person:jayaram, Age:3, Height:3.2456789, Weight:12.3436\n"
     ]
    }
   ],
   "source": [
    "#Name of the person:jayaram, Age:3, Height:3.25, Weight:12.34\n",
    "name=\"jayaram\"\n",
    "age=3\n",
    "height=3.2456789\n",
    "weight=12.3436\n",
    "print(\"Name of the person:\",name,\", Age:\",age,\", Height:\",height,\", weight:\",weight,sep=\"\")\n",
    "# format specifiers\n",
    "print(\"Name of the person:%s, Age:%s, Height:%s, Weight:%s\"%(name,age,height, weight))"
   ]
  },
  {
   "cell_type": "code",
   "execution_count": 28,
   "metadata": {},
   "outputs": [
    {
     "name": "stdout",
     "output_type": "stream",
     "text": [
      "Name of the person:jayaram, Age:3, Height:3.2456789, weight:12.3436\n",
      "Name of the person:jayaram, Age:3, Height:3, Weight:12\n"
     ]
    }
   ],
   "source": [
    "#Name of the person:jayaram, Age:3, Height:3.25, Weight:12.34\n",
    "name=\"jayaram\"\n",
    "age=3\n",
    "height=3.2456789\n",
    "weight=12.3436\n",
    "print(\"Name of the person:\",name,\", Age:\",age,\", Height:\",height,\", weight:\",weight,sep=\"\")\n",
    "# format specifiers\n",
    "print(\"Name of the person:%s, Age:%d, Height:%d, Weight:%d\"%(name,age,height, weight))"
   ]
  },
  {
   "cell_type": "code",
   "execution_count": 29,
   "metadata": {},
   "outputs": [
    {
     "name": "stdout",
     "output_type": "stream",
     "text": [
      "Name of the person:jayaram, Age:3, Height:3.2456789, weight:12.3436\n",
      "Name of the person:jayaram, Age:3.000000, Height:3.245679, Weight:12.343600\n"
     ]
    }
   ],
   "source": [
    "#Name of the person:jayaram, Age:3, Height:3.25, Weight:12.34\n",
    "name=\"jayaram\"\n",
    "age=3\n",
    "height=3.2456789\n",
    "weight=12.3436\n",
    "print(\"Name of the person:\",name,\", Age:\",age,\", Height:\",height,\", weight:\",weight,sep=\"\")\n",
    "# format specifiers\n",
    "print(\"Name of the person:%s, Age:%f, Height:%f, Weight:%f\"%(name,age,height, weight))"
   ]
  },
  {
   "cell_type": "code",
   "execution_count": 30,
   "metadata": {},
   "outputs": [
    {
     "name": "stdout",
     "output_type": "stream",
     "text": [
      "Name of the person:jayaram, Age:3, Height:3.2456789, weight:12.3436\n",
      "Name of the person:jayaram, Age:3.00, Height:3.25, Weight:12.34\n"
     ]
    }
   ],
   "source": [
    "#Name of the person:jayaram, Age:3, Height:3.25, Weight:12.34\n",
    "name=\"jayaram\"\n",
    "age=3\n",
    "height=3.2456789\n",
    "weight=12.3436\n",
    "print(\"Name of the person:\",name,\", Age:\",age,\", Height:\",height,\", weight:\",weight,sep=\"\")\n",
    "# format specifiers\n",
    "print(\"Name of the person:%s, Age:%.2f, Height:%.2f, Weight:%.2f\"%(name,age,height, weight))"
   ]
  },
  {
   "cell_type": "code",
   "execution_count": 31,
   "metadata": {},
   "outputs": [
    {
     "name": "stdout",
     "output_type": "stream",
     "text": [
      "Name of the person:jayaram, Age:3, Height:3.2456789, weight:12.3436\n",
      "Name of the person:jayaram, Age:3.00, Height:3.25, Weight:12.34\n",
      "Name of the person:{name}, Age:{age}, Height:{hight}, Weight:{weight}\n"
     ]
    }
   ],
   "source": [
    "#Name of the person:jayaram, Age:3, Height:3.25, Weight:12.34\n",
    "name=\"jayaram\"\n",
    "age=3\n",
    "height=3.2456789\n",
    "weight=12.3436\n",
    "print(\"Name of the person:\",name,\", Age:\",age,\", Height:\",height,\", weight:\",weight,sep=\"\")\n",
    "# format specifiers\n",
    "print(\"Name of the person:%s, Age:%.2f, Height:%.2f, Weight:%.2f\"%(name,age,height, weight))\n",
    "# template strings, f-stabsrings\n",
    "print(\"Name of the person:{name}, Age:{age}, Height:{hight}, Weight:{weight}\")"
   ]
  },
  {
   "cell_type": "code",
   "execution_count": 33,
   "metadata": {},
   "outputs": [
    {
     "name": "stdout",
     "output_type": "stream",
     "text": [
      "Name of the person:jayaram, Age:3, Height:3.2456789, weight:12.3436\n",
      "Name of the person:jayaram, Age:3.00, Height:3.25, Weight:12.34\n",
      "Name of the person:jayaram, Age:3, Height:3.2456789, Weight:12.3436\n"
     ]
    }
   ],
   "source": [
    "#Name of the person:jayaram, Age:3, Height:3.25, Weight:12.34\n",
    "name=\"jayaram\"\n",
    "age=3\n",
    "height=3.2456789\n",
    "weight=12.3436\n",
    "print(\"Name of the person:\",name,\", Age:\",age,\", Height:\",height,\", weight:\",weight,sep=\"\")\n",
    "# format specifiers\n",
    "print(\"Name of the person:%s, Age:%.2f, Height:%.2f, Weight:%.2f\"%(name,age,height, weight))\n",
    "# template strings, f-stabsrings\n",
    "print(f\"Name of the person:{name}, Age:{age}, Height:{height}, Weight:{weight}\")"
   ]
  },
  {
   "cell_type": "code",
   "execution_count": 36,
   "metadata": {},
   "outputs": [
    {
     "name": "stdout",
     "output_type": "stream",
     "text": [
      "Name of the person:jayaram, Age:3, Height:3.2456789, weight:12.3436\n",
      "Name of the person:jayaram, Age:3.00, Height:3.25, Weight:12.34\n",
      "Name of the person:jayaram, Age:3, Height:3.25, Weight:12.34\n"
     ]
    }
   ],
   "source": [
    "#Name of the person:jayaram, Age:3, Height:3.25, Weight:12.34\n",
    "name=\"jayaram\"\n",
    "age=3\n",
    "height=3.2456789\n",
    "weight=12.3436\n",
    "print(\"Name of the person:\",name,\", Age:\",age,\", Height:\",height,\", weight:\",weight,sep=\"\")\n",
    "# format specifiers\n",
    "print(\"Name of the person:%s, Age:%.2f, Height:%.2f, Weight:%.2f\"%(name,age,height, weight))\n",
    "# template strings, f-stabsrings\n",
    "print(f\"Name of the person:{name}, Age:{age:d}, Height:{height:.2f}, Weight:{weight:.2f}\")"
   ]
  },
  {
   "cell_type": "code",
   "execution_count": 37,
   "metadata": {},
   "outputs": [
    {
     "name": "stdout",
     "output_type": "stream",
     "text": [
      "Name of the person:jayaram, Age:3, Height:3.2456789, weight:12.3436\n",
      "Name of the person:jayaram, Age:3.00, Height:3.25, Weight:12.34\n",
      "Name of the person:jayaram, Age:3.00, Height:3.25, Weight:12.34\n"
     ]
    }
   ],
   "source": [
    "#Name of the person:jayaram, Age:3, Height:3.25, Weight:12.34\n",
    "name=\"jayaram\"\n",
    "age=3\n",
    "height=3.2456789\n",
    "weight=12.3436\n",
    "print(\"Name of the person:\",name,\", Age:\",age,\", Height:\",height,\", weight:\",weight,sep=\"\")\n",
    "# format specifiers\n",
    "print(\"Name of the person:%s, Age:%.2f, Height:%.2f, Weight:%.2f\"%(name,age,height, weight))\n",
    "# template strings, f-stabsrings\n",
    "print(f\"Name of the person:{name}, Age:{age:.2f}, Height:{height:.2f}, Weight:{weight:.2f}\")"
   ]
  },
  {
   "cell_type": "code",
   "execution_count": null,
   "metadata": {},
   "outputs": [],
   "source": [
    "#Name of the person:jayaram, Age:3, Height:3.25, Weight:12.34\n",
    "name=\"jayaram\"\n",
    "age=3\n",
    "height=3.2456789\n",
    "weight=12.3436\n",
    "print(\"Name of the person:\",name,\", Age:\",age,\", Height:\",height,\", weight:\",weight,sep=\"\")\n",
    "# format specifiers\n",
    "print(\"Name of the person:%s, Age:%.2f, Height:%.2f, Weight:%.2f\"%(name,age,height, weight))\n",
    "# template strings, f-stabsrings\n",
    "print(f\"Name of the person:{name}, Age:{age:.2f}, Height:{height:.2f}, Weight:{weight:.2f}\")\n",
    "# the f-string are failing now with some localization modules."
   ]
  },
  {
   "cell_type": "code",
   "execution_count": 38,
   "metadata": {},
   "outputs": [],
   "source": [
    "# raw_input\n",
    "# input\n",
    "#  3.x\n",
    "# only input"
   ]
  },
  {
   "cell_type": "code",
   "execution_count": 39,
   "metadata": {},
   "outputs": [
    {
     "name": "stdout",
     "output_type": "stream",
     "text": [
      "enter a value:10.23\n",
      "10.23\n"
     ]
    }
   ],
   "source": [
    "a=input(\"enter a value:\") # str\n",
    "a=float(a) # float\n",
    "print(a)"
   ]
  },
  {
   "cell_type": "code",
   "execution_count": 40,
   "metadata": {},
   "outputs": [
    {
     "name": "stdout",
     "output_type": "stream",
     "text": [
      "115\n"
     ]
    }
   ],
   "source": [
    "a=\"s\"\n",
    "print(ord(a))"
   ]
  },
  {
   "cell_type": "code",
   "execution_count": 41,
   "metadata": {},
   "outputs": [
    {
     "data": {
      "text/plain": [
       "'s'"
      ]
     },
     "execution_count": 41,
     "metadata": {},
     "output_type": "execute_result"
    }
   ],
   "source": [
    "chr(115)"
   ]
  },
  {
   "cell_type": "code",
   "execution_count": 42,
   "metadata": {},
   "outputs": [
    {
     "data": {
      "text/plain": [
       "65"
      ]
     },
     "execution_count": 42,
     "metadata": {},
     "output_type": "execute_result"
    }
   ],
   "source": [
    "ord(\"A\")"
   ]
  },
  {
   "cell_type": "code",
   "execution_count": 43,
   "metadata": {},
   "outputs": [
    {
     "data": {
      "text/plain": [
       "97"
      ]
     },
     "execution_count": 43,
     "metadata": {},
     "output_type": "execute_result"
    }
   ],
   "source": [
    "ord(\"a\")"
   ]
  },
  {
   "cell_type": "code",
   "execution_count": 44,
   "metadata": {},
   "outputs": [
    {
     "name": "stdout",
     "output_type": "stream",
     "text": [
      "113\n"
     ]
    }
   ],
   "source": [
    "s=\"q\"\n",
    "print(ord(s))"
   ]
  },
  {
   "cell_type": "code",
   "execution_count": 45,
   "metadata": {},
   "outputs": [
    {
     "name": "stdout",
     "output_type": "stream",
     "text": [
      "81\n"
     ]
    }
   ],
   "source": [
    "s=\"q\"\n",
    "print(ord(s)-32)"
   ]
  },
  {
   "cell_type": "code",
   "execution_count": 46,
   "metadata": {},
   "outputs": [
    {
     "name": "stdout",
     "output_type": "stream",
     "text": [
      "Q\n"
     ]
    }
   ],
   "source": [
    "s=\"q\"\n",
    "print(chr(ord(s)-32))"
   ]
  },
  {
   "cell_type": "code",
   "execution_count": 47,
   "metadata": {},
   "outputs": [
    {
     "name": "stdout",
     "output_type": "stream",
     "text": [
      "\u0003\n"
     ]
    }
   ],
   "source": [
    "s=\"#\"\n",
    "print(chr(ord(s)-32))"
   ]
  },
  {
   "cell_type": "code",
   "execution_count": null,
   "metadata": {},
   "outputs": [],
   "source": []
  }
 ],
 "metadata": {
  "kernelspec": {
   "display_name": "Python 3",
   "language": "python",
   "name": "python3"
  },
  "language_info": {
   "codemirror_mode": {
    "name": "ipython",
    "version": 3
   },
   "file_extension": ".py",
   "mimetype": "text/x-python",
   "name": "python",
   "nbconvert_exporter": "python",
   "pygments_lexer": "ipython3",
   "version": "3.8.3"
  }
 },
 "nbformat": 4,
 "nbformat_minor": 4
}
