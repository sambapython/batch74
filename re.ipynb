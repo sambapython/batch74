{
 "cells": [
  {
   "cell_type": "code",
   "execution_count": 2,
   "metadata": {},
   "outputs": [
    {
     "name": "stdout",
     "output_type": "stream",
     "text": [
      "['', 'id,name,phone,email', '1,jay,9676622023,jay@gmail.com', '2,vedha anvesh,9676622024,VedhAnvesh@gov.in', '3,samba siva rao,9676622025,SambaODOO@yahoo.co.in']\n"
     ]
    }
   ],
   "source": [
    "data=\"\"\"\n",
    "id,name,phone,email\n",
    "1,jay,9676622023,jay@gmail.com\n",
    "2,vedha anvesh,9676622024,VedhAnvesh@gov.in\n",
    "3,samba siva rao,9676622025,SambaODOO@yahoo.co.in\n",
    "\"\"\"\n",
    "print(data.splitlines())"
   ]
  },
  {
   "cell_type": "code",
   "execution_count": 3,
   "metadata": {},
   "outputs": [
    {
     "name": "stdout",
     "output_type": "stream",
     "text": [
      "id,name,phone,email\n",
      "1,jay,9676622023,jay@gmail.com\n",
      "2,vedha anvesh,9676622024,VedhAnvesh@gov.in\n",
      "3,samba siva rao,9676622025,SambaODOO@yahoo.co.in\n"
     ]
    }
   ],
   "source": [
    "data=\"\"\"\n",
    "id,name,phone,email\n",
    "1,jay,9676622023,jay@gmail.com\n",
    "2,vedha anvesh,9676622024,VedhAnvesh@gov.in\n",
    "3,samba siva rao,9676622025,SambaODOO@yahoo.co.in\n",
    "\"\"\"\n",
    "for row in data.splitlines():\n",
    "    if row:\n",
    "        print(row)"
   ]
  },
  {
   "cell_type": "code",
   "execution_count": 4,
   "metadata": {},
   "outputs": [
    {
     "name": "stdout",
     "output_type": "stream",
     "text": [
      "['id', 'name', 'phone', 'email']\n",
      "['1', 'jay', '9676622023', 'jay@gmail.com']\n",
      "['2', 'vedha anvesh', '9676622024', 'VedhAnvesh@gov.in']\n",
      "['3', 'samba siva rao', '9676622025', 'SambaODOO@yahoo.co.in']\n"
     ]
    }
   ],
   "source": [
    "data=\"\"\"\n",
    "id,name,phone,email\n",
    "1,jay,9676622023,jay@gmail.com\n",
    "2,vedha anvesh,9676622024,VedhAnvesh@gov.in\n",
    "3,samba siva rao,9676622025,SambaODOO@yahoo.co.in\n",
    "\"\"\"\n",
    "for row in data.splitlines():\n",
    "    if row:\n",
    "        print(row.split(\",\"))"
   ]
  },
  {
   "cell_type": "code",
   "execution_count": 5,
   "metadata": {},
   "outputs": [
    {
     "name": "stdout",
     "output_type": "stream",
     "text": [
      "email\n",
      "jay@gmail.com\n",
      "VedhAnvesh@gov.in\n",
      "SambaODOO@yahoo.co.in\n"
     ]
    }
   ],
   "source": [
    "data=\"\"\"\n",
    "id,name,phone,email\n",
    "1,jay,9676622023,jay@gmail.com\n",
    "2,vedha anvesh,9676622024,VedhAnvesh@gov.in\n",
    "3,samba siva rao,9676622025,SambaODOO@yahoo.co.in\n",
    "\"\"\"\n",
    "for row in data.splitlines():\n",
    "    if row:\n",
    "        print(row.split(\",\")[-1])"
   ]
  },
  {
   "cell_type": "code",
   "execution_count": 6,
   "metadata": {},
   "outputs": [
    {
     "name": "stdout",
     "output_type": "stream",
     "text": [
      "phone\n",
      "9676622023\n",
      "9676622024\n",
      "9676622025\n"
     ]
    }
   ],
   "source": [
    "data=\"\"\"\n",
    "id,name,phone,email\n",
    "1,jay,9676622023,jay@gmail.com\n",
    "2,vedha anvesh,9676622024,VedhAnvesh@gov.in\n",
    "3,samba siva rao,9676622025,SambaODOO@yahoo.co.in\n",
    "\"\"\"\n",
    "for row in data.splitlines():\n",
    "    if row:\n",
    "        print(row.split(\",\")[2])"
   ]
  },
  {
   "cell_type": "code",
   "execution_count": 7,
   "metadata": {},
   "outputs": [
    {
     "name": "stdout",
     "output_type": "stream",
     "text": [
      "jay\n",
      "vedha anvesh\n",
      "9676622025\n"
     ]
    }
   ],
   "source": [
    "data=\"\"\"\n",
    "jay@gmail.com,1,jay,9676622023\n",
    "9676622024,2,vedha anvesh,VedhAnvesh@gov.in\n",
    "samba siva rao,3,9676622025,SambaODOO@yahoo.co.in\n",
    "\"\"\"\n",
    "for row in data.splitlines():\n",
    "    if row:\n",
    "        print(row.split(\",\")[2])"
   ]
  },
  {
   "cell_type": "code",
   "execution_count": 10,
   "metadata": {},
   "outputs": [
    {
     "data": {
      "text/plain": [
       "['a', 'a', 'a', 'a', 'a', 'a', 'a', 'a', 'a', 'a', 'a', 'a']"
      ]
     },
     "execution_count": 10,
     "metadata": {},
     "output_type": "execute_result"
    }
   ],
   "source": [
    "import re\n",
    "data=\"\"\"\n",
    "jay@gmail.com,1,jay,9676622023\n",
    "9676622024,2,vedha anvesh,VedhAnvesh@gov.in\n",
    "samba siva rao,3,9676622025,SambaODOO@yahoo.co.in\n",
    "\"\"\"\n",
    "re.findall(\"a\",data)"
   ]
  },
  {
   "cell_type": "code",
   "execution_count": 11,
   "metadata": {},
   "outputs": [
    {
     "data": {
      "text/plain": [
       "['samba']"
      ]
     },
     "execution_count": 11,
     "metadata": {},
     "output_type": "execute_result"
    }
   ],
   "source": [
    "import re\n",
    "data=\"\"\"\n",
    "jay@gmail.com,1,jay,9676622023\n",
    "9676622024,2,vedha anvesh,VedhAnvesh@gov.in\n",
    "samba siva rao,3,9676622025,SambaODOO@yahoo.co.in\n",
    "\"\"\"\n",
    "re.findall(\"samba\",data)"
   ]
  },
  {
   "cell_type": "code",
   "execution_count": 12,
   "metadata": {},
   "outputs": [
    {
     "data": {
      "text/plain": [
       "['9676622023']"
      ]
     },
     "execution_count": 12,
     "metadata": {},
     "output_type": "execute_result"
    }
   ],
   "source": [
    "import re\n",
    "data=\"\"\"\n",
    "jay@gmail.com,1,jay,9676622023\n",
    "9676622024,2,vedha anvesh,VedhAnvesh@gov.in\n",
    "samba siva rao,3,9676622025,SambaODOO@yahoo.co.in\n",
    "\"\"\"\n",
    "re.findall(\"9676622023\",data)"
   ]
  },
  {
   "cell_type": "code",
   "execution_count": 14,
   "metadata": {},
   "outputs": [
    {
     "name": "stdout",
     "output_type": "stream",
     "text": [
      "['1', '9', '6', '7', '6', '6', '2', '2', '0', '2', '3', '9', '6', '7', '6', '6', '2', '2', '0', '2', '4', '2', '3', '9', '6', '7', '6', '6', '2', '2', '0', '2', '5']\n"
     ]
    }
   ],
   "source": [
    "import re\n",
    "data=\"\"\"\n",
    "jay@gmail.com,1,jay,9676622023\n",
    "9676622024,2,vedha anvesh,VedhAnvesh@gov.in\n",
    "samba siva rao,3,9676622025,SambaODOO@yahoo.co.in\n",
    "\"\"\"\n",
    "print(re.findall(\"[0123456789]\",data))"
   ]
  },
  {
   "cell_type": "code",
   "execution_count": 15,
   "metadata": {},
   "outputs": [
    {
     "name": "stdout",
     "output_type": "stream",
     "text": [
      "['1', '9', '6', '7', '6', '6', '2', '2', '0', '2', '3', '9', '6', '7', '6', '6', '2', '2', '0', '2', '4', '2', '3', '9', '6', '7', '6', '6', '2', '2', '0', '2', '5']\n"
     ]
    }
   ],
   "source": [
    "import re\n",
    "data=\"\"\"\n",
    "jay@gmail.com,1,jay,9676622023\n",
    "9676622024,2,vedha anvesh,VedhAnvesh@gov.in\n",
    "samba siva rao,3,9676622025,SambaODOO@yahoo.co.in\n",
    "\"\"\"\n",
    "print(re.findall(\"[0-9]\",data))"
   ]
  },
  {
   "cell_type": "code",
   "execution_count": 16,
   "metadata": {},
   "outputs": [
    {
     "name": "stdout",
     "output_type": "stream",
     "text": [
      "['96', '76', '62', '20', '23', '96', '76', '62', '20', '24', '96', '76', '62', '20', '25']\n"
     ]
    }
   ],
   "source": [
    "import re\n",
    "data=\"\"\"\n",
    "jay@gmail.com,1,jay,9676622023\n",
    "9676622024,2,vedha anvesh,VedhAnvesh@gov.in\n",
    "samba siva rao,3,9676622025,SambaODOO@yahoo.co.in\n",
    "\"\"\"\n",
    "print(re.findall(\"[0-9][0-9]\",data))"
   ]
  },
  {
   "cell_type": "code",
   "execution_count": 17,
   "metadata": {},
   "outputs": [
    {
     "name": "stdout",
     "output_type": "stream",
     "text": [
      "['967', '662', '202', '967', '662', '202', '967', '662', '202']\n"
     ]
    }
   ],
   "source": [
    "import re\n",
    "data=\"\"\"\n",
    "jay@gmail.com,1,jay,9676622023\n",
    "9676622024,2,vedha anvesh,VedhAnvesh@gov.in\n",
    "samba siva rao,3,9676622025,SambaODOO@yahoo.co.in\n",
    "\"\"\"\n",
    "print(re.findall(\"[0-9][0-9][0-9]\",data))"
   ]
  },
  {
   "cell_type": "code",
   "execution_count": 18,
   "metadata": {},
   "outputs": [
    {
     "name": "stdout",
     "output_type": "stream",
     "text": [
      "['967', '662', '202', '967', '662', '202', '967', '662', '202']\n"
     ]
    }
   ],
   "source": [
    "import re\n",
    "data=\"\"\"\n",
    "jay@gmail.com,1,jay,9676622023\n",
    "9676622024,2,vedha anvesh,VedhAnvesh@gov.in\n",
    "samba siva rao,3,9676622025,SambaODOO@yahoo.co.in\n",
    "\"\"\"\n",
    "print(re.findall(\"[0-9]{3}\",data))"
   ]
  },
  {
   "cell_type": "code",
   "execution_count": 19,
   "metadata": {},
   "outputs": [
    {
     "name": "stdout",
     "output_type": "stream",
     "text": [
      "['9676622023', '9676622024', '9676622025']\n"
     ]
    }
   ],
   "source": [
    "import re\n",
    "data=\"\"\"\n",
    "jay@gmail.com,1,jay,9676622023\n",
    "9676622024,2,vedha anvesh,VedhAnvesh@gov.in\n",
    "samba siva rao,3,9676622025,SambaODOO@yahoo.co.in\n",
    "\"\"\"\n",
    "print(re.findall(\"[0-9]{10}\",data))"
   ]
  },
  {
   "cell_type": "code",
   "execution_count": 20,
   "metadata": {},
   "outputs": [
    {
     "name": "stdout",
     "output_type": "stream",
     "text": [
      "['9676622023', '9676622024', '9676622025']\n"
     ]
    }
   ],
   "source": [
    "import re\n",
    "data=\"\"\"\n",
    "jay@gmail.com,1,jay,9676622023\n",
    "9676622024,2,vedha anvesh,VedhAnvesh@gov.in\n",
    "samba siva rao,3,9676622025,SambaODOO@yahoo.co.in\n",
    "\"\"\"\n",
    "print(re.findall(\"[0-9]{5,10}\",data))"
   ]
  },
  {
   "cell_type": "code",
   "execution_count": 21,
   "metadata": {},
   "outputs": [
    {
     "name": "stdout",
     "output_type": "stream",
     "text": [
      "['000001', '9676622023', '9676622024', '000002', '000003', '9676622025']\n"
     ]
    }
   ],
   "source": [
    "import re\n",
    "data=\"\"\"\n",
    "jay@gmail.com,000001,jay,9676622023\n",
    "9676622024,000002,vedha anvesh,VedhAnvesh@gov.in\n",
    "samba siva rao,000003,9676622025,SambaODOO@yahoo.co.in\n",
    "\"\"\"\n",
    "print(re.findall(\"[0-9]{5,10}\",data))"
   ]
  },
  {
   "cell_type": "code",
   "execution_count": 22,
   "metadata": {},
   "outputs": [
    {
     "name": "stdout",
     "output_type": "stream",
     "text": [
      "['', '', '', '', '', '', '', '', '', '', '', '', '', '', '', '000001', '', '', '', '', '', '9676622023', '', '9676622024', '', '000002', '', '', '', '', '', '', '', '', '', '', '', '', '', '', '', '', '', '', '', '', '', '', '', '', '', '', '', '', '', '', '', '', '', '', '', '', '', '', '', '', '', '', '', '', '', '', '', '000003', '', '9676622025', '', '', '', '', '', '', '', '', '', '', '', '', '', '', '', '', '', '', '', '', '', '', '', '']\n"
     ]
    }
   ],
   "source": [
    "import re\n",
    "data=\"\"\"\n",
    "jay@gmail.com,000001,jay,9676622023\n",
    "9676622024,000002,vedha anvesh,VedhAnvesh@gov.in\n",
    "samba siva rao,000003,9676622025,SambaODOO@yahoo.co.in\n",
    "\"\"\"\n",
    "print(re.findall(\"[0-9]{0,10}\",data))"
   ]
  },
  {
   "cell_type": "code",
   "execution_count": 23,
   "metadata": {},
   "outputs": [
    {
     "name": "stdout",
     "output_type": "stream",
     "text": [
      "['000001', '9676622023', '9676622024', '000002', '000003', '9676622025']\n"
     ]
    }
   ],
   "source": [
    "import re\n",
    "data=\"\"\"\n",
    "jay@gmail.com,000001,jay,9676622023\n",
    "9676622024,000002,vedha anvesh,VedhAnvesh@gov.in\n",
    "samba siva rao,000003,9676622025,SambaODOO@yahoo.co.in\n",
    "\"\"\"\n",
    "print(re.findall(\"[0-9]{1,10}\",data))"
   ]
  },
  {
   "cell_type": "code",
   "execution_count": 25,
   "metadata": {},
   "outputs": [
    {
     "name": "stdout",
     "output_type": "stream",
     "text": [
      "['', '', '', '', '', '', '', '', '', '', '', '', '', '', '', '000001', '', '', '', '', '', '9676622023', '', '24243242242423', '', '9676622024', '', '000002', '', '', '', '', '', '', '', '', '', '', '', '', '', '', '', '', '', '', '', '', '', '', '', '', '', '', '', '', '', '', '', '', '3223432454353436364', '', '', '', '', '', '', '', '', '', '', '', '', '', '', '', '', '000003', '', '9676622025', '', '', '', '', '', '', '', '', '', '', '', '', '', '', '', '', '', '', '', '', '', '', '', '34546234265463524', '', '']\n"
     ]
    }
   ],
   "source": [
    "import re\n",
    "data=\"\"\"\n",
    "jay@gmail.com,000001,jay,9676622023,24243242242423\n",
    "9676622024,000002,vedha anvesh,VedhAnvesh@gov.in,3223432454353436364\n",
    "samba siva rao,000003,9676622025,SambaODOO@yahoo.co.in,34546234265463524\n",
    "\"\"\"\n",
    "print(re.findall(\"[0-9]{0,}\",data))"
   ]
  },
  {
   "cell_type": "code",
   "execution_count": 26,
   "metadata": {},
   "outputs": [
    {
     "name": "stdout",
     "output_type": "stream",
     "text": [
      "['000001', '9676622023', '24243242242423', '9676622024', '000002', '3223432454353436364', '000003', '9676622025', '34546234265463524']\n"
     ]
    }
   ],
   "source": [
    "import re\n",
    "data=\"\"\"\n",
    "jay@gmail.com,000001,jay,9676622023,24243242242423\n",
    "9676622024,000002,vedha anvesh,VedhAnvesh@gov.in,3223432454353436364\n",
    "samba siva rao,000003,9676622025,SambaODOO@yahoo.co.in,34546234265463524\n",
    "\"\"\"\n",
    "print(re.findall(\"[0-9]{1,}\",data))"
   ]
  },
  {
   "cell_type": "code",
   "execution_count": 27,
   "metadata": {},
   "outputs": [
    {
     "name": "stdout",
     "output_type": "stream",
     "text": [
      "['', '', '', '', '', '', '', '', '', '', '', '', '', '', '', '000001', '', '', '', '', '', '9676622023', '', '24243242242423', '', '9676622024', '', '000002', '', '', '', '', '', '', '', '', '', '', '', '', '', '', '', '', '', '', '', '', '', '', '', '', '', '', '', '', '', '', '', '', '3223432454353436364', '', '', '', '', '', '', '', '', '', '', '', '', '', '', '', '', '000003', '', '9676622025', '', '', '', '', '', '', '', '', '', '', '', '', '', '', '', '', '', '', '', '', '', '', '', '34546234265463524', '', '']\n",
      "['', '', '', '', '', '', '', '', '', '', '', '', '', '', '', '000001', '', '', '', '', '', '9676622023', '', '24243242242423', '', '9676622024', '', '000002', '', '', '', '', '', '', '', '', '', '', '', '', '', '', '', '', '', '', '', '', '', '', '', '', '', '', '', '', '', '', '', '', '3223432454353436364', '', '', '', '', '', '', '', '', '', '', '', '', '', '', '', '', '000003', '', '9676622025', '', '', '', '', '', '', '', '', '', '', '', '', '', '', '', '', '', '', '', '', '', '', '', '34546234265463524', '', '']\n"
     ]
    }
   ],
   "source": [
    "import re\n",
    "data=\"\"\"\n",
    "jay@gmail.com,000001,jay,9676622023,24243242242423\n",
    "9676622024,000002,vedha anvesh,VedhAnvesh@gov.in,3223432454353436364\n",
    "samba siva rao,000003,9676622025,SambaODOO@yahoo.co.in,34546234265463524\n",
    "\"\"\"\n",
    "print(re.findall(\"[0-9]{0,}\",data))\n",
    "print(re.findall(\"[0-9]*\",data))"
   ]
  },
  {
   "cell_type": "code",
   "execution_count": 28,
   "metadata": {},
   "outputs": [
    {
     "name": "stdout",
     "output_type": "stream",
     "text": [
      "['000001', '9676622023', '24243242242423', '9676622024', '000002', '3223432454353436364', '000003', '9676622025', '34546234265463524']\n",
      "['000001', '9676622023', '24243242242423', '9676622024', '000002', '3223432454353436364', '000003', '9676622025', '34546234265463524']\n"
     ]
    }
   ],
   "source": [
    "import re\n",
    "data=\"\"\"\n",
    "jay@gmail.com,000001,jay,9676622023,24243242242423\n",
    "9676622024,000002,vedha anvesh,VedhAnvesh@gov.in,3223432454353436364\n",
    "samba siva rao,000003,9676622025,SambaODOO@yahoo.co.in,34546234265463524\n",
    "\"\"\"\n",
    "print(re.findall(\"[0-9]{1,}\",data))\n",
    "print(re.findall(\"[0-9]+\",data))"
   ]
  },
  {
   "cell_type": "code",
   "execution_count": 31,
   "metadata": {},
   "outputs": [
    {
     "name": "stdout",
     "output_type": "stream",
     "text": [
      "['', '', '', '', '', '', '', '', '', '', '', '', '', '', '', '0', '0', '0', '0', '0', '1', '', '', '', '', '', '9', '6', '7', '6', '6', '2', '2', '0', '2', '3', '', '2', '4', '2', '4', '3', '2', '4', '2', '2', '4', '2', '4', '2', '3', '', '9', '6', '7', '6', '6', '2', '2', '0', '2', '4', '', '0', '0', '0', '0', '0', '2', '', '', '', '', '', '', '', '', '', '', '', '', '', '', '', '', '', '', '', '', '', '', '', '', '', '', '', '', '', '', '', '', '3', '2', '2', '3', '4', '3', '2', '4', '5', '4', '3', '5', '3', '4', '3', '6', '3', '6', '4', '', '', '', '', '', '', '', '', '', '', '', '', '', '', '', '', '0', '0', '0', '0', '0', '3', '', '9', '6', '7', '6', '6', '2', '2', '0', '2', '5', '', '', '', '', '', '', '', '', '', '', '', '', '', '', '', '', '', '', '', '', '', '', '', '3', '4', '5', '4', '6', '2', '3', '4', '2', '6', '5', '4', '6', '3', '5', '2', '4', '', '']\n",
      "['', '', '', '', '', '', '', '', '', '', '', '', '', '', '', '0', '0', '0', '0', '0', '1', '', '', '', '', '', '9', '6', '7', '6', '6', '2', '2', '0', '2', '3', '', '2', '4', '2', '4', '3', '2', '4', '2', '2', '4', '2', '4', '2', '3', '', '9', '6', '7', '6', '6', '2', '2', '0', '2', '4', '', '0', '0', '0', '0', '0', '2', '', '', '', '', '', '', '', '', '', '', '', '', '', '', '', '', '', '', '', '', '', '', '', '', '', '', '', '', '', '', '', '', '3', '2', '2', '3', '4', '3', '2', '4', '5', '4', '3', '5', '3', '4', '3', '6', '3', '6', '4', '', '', '', '', '', '', '', '', '', '', '', '', '', '', '', '', '0', '0', '0', '0', '0', '3', '', '9', '6', '7', '6', '6', '2', '2', '0', '2', '5', '', '', '', '', '', '', '', '', '', '', '', '', '', '', '', '', '', '', '', '', '', '', '', '3', '4', '5', '4', '6', '2', '3', '4', '2', '6', '5', '4', '6', '3', '5', '2', '4', '', '']\n"
     ]
    }
   ],
   "source": [
    "import re\n",
    "data=\"\"\"\n",
    "jay@gmail.com,000001,jay,9676622023,24243242242423\n",
    "9676622024,000002,vedha anvesh,VedhAnvesh@gov.in,3223432454353436364\n",
    "samba siva rao,000003,9676622025,SambaODOO@yahoo.co.in,34546234265463524\n",
    "\"\"\"\n",
    "print(re.findall(\"[0-9]{0,1}\",data))\n",
    "print(re.findall(\"[0-9]?\",data))"
   ]
  },
  {
   "cell_type": "code",
   "execution_count": 32,
   "metadata": {},
   "outputs": [
    {
     "name": "stdout",
     "output_type": "stream",
     "text": [
      "['j', 'a', 'y', 'g', 'm', 'a', 'i', 'l', 'c', 'o', 'm', 'j', 'a', 'y', 'v', 'e', 'd', 'h', 'a', 'a', 'n', 'v', 'e', 's', 'h', 'e', 'd', 'h', 'n', 'v', 'e', 's', 'h', 'g', 'o', 'v', 'i', 'n', 's', 'a', 'm', 'b', 'a', 's', 'i', 'v', 'a', 'r', 'a', 'o', 'a', 'm', 'b', 'a', 'y', 'a', 'h', 'o', 'o', 'c', 'o', 'i', 'n']\n"
     ]
    }
   ],
   "source": [
    "import re\n",
    "data=\"\"\"\n",
    "jay@gmail.com,000001,jay,9676622023,24243242242423\n",
    "9676622024,000002,vedha anvesh,VedhAnvesh@gov.in,3223432454353436364\n",
    "samba siva rao,000003,9676622025,SambaODOO@yahoo.co.in,34546234265463524\n",
    "\"\"\"\n",
    "print(re.findall(\"[a-z]\",data))"
   ]
  },
  {
   "cell_type": "code",
   "execution_count": 34,
   "metadata": {},
   "outputs": [
    {
     "name": "stdout",
     "output_type": "stream",
     "text": [
      "['V', 'A', 'S', 'O', 'D', 'O', 'O']\n"
     ]
    }
   ],
   "source": [
    "import re\n",
    "data=\"\"\"\n",
    "jay@gmail.com,000001,jay,9676622023,24243242242423\n",
    "9676622024,000002,vedha anvesh,VedhAnvesh@gov.in,3223432454353436364\n",
    "samba siva rao,000003,9676622025,SambaODOO@yahoo.co.in,34546234265463524\n",
    "\"\"\"\n",
    "print(re.findall(\"[A-Z]\",data))"
   ]
  },
  {
   "cell_type": "code",
   "execution_count": 35,
   "metadata": {},
   "outputs": [
    {
     "name": "stdout",
     "output_type": "stream",
     "text": [
      "['j', 'a', 'y', 'g', 'm', 'a', 'i', 'l', 'c', 'o', 'm', 'j', 'a', 'y', 'v', 'e', 'd', 'h', 'a', 'a', 'n', 'v', 'e', 's', 'h', 'V', 'e', 'd', 'h', 'A', 'n', 'v', 'e', 's', 'h', 'g', 'o', 'v', 'i', 'n', 's', 'a', 'm', 'b', 'a', 's', 'i', 'v', 'a', 'r', 'a', 'o', 'S', 'a', 'm', 'b', 'a', 'O', 'D', 'O', 'O', 'y', 'a', 'h', 'o', 'o', 'c', 'o', 'i', 'n']\n"
     ]
    }
   ],
   "source": [
    "import re\n",
    "data=\"\"\"\n",
    "jay@gmail.com,000001,jay,9676622023,24243242242423\n",
    "9676622024,000002,vedha anvesh,VedhAnvesh@gov.in,3223432454353436364\n",
    "samba siva rao,000003,9676622025,SambaODOO@yahoo.co.in,34546234265463524\n",
    "\"\"\"\n",
    "print(re.findall(\"[a-zA-Z]\",data))"
   ]
  },
  {
   "cell_type": "code",
   "execution_count": 36,
   "metadata": {},
   "outputs": [
    {
     "name": "stdout",
     "output_type": "stream",
     "text": [
      "['j', 'a', 'y', 'g', 'm', 'a', 'i', 'l', 'c', 'o', 'm', 'j', 'a', 'y', 'v', 'e', 'd', 'h', 'a', 'a', 'n', 'v', 'e', 's', 'h', 'V', 'e', 'd', 'h', 'A', 'n', 'v', 'e', 's', 'h', 'g', 'o', 'v', 'i', 'n', 's', 'a', 'm', 'b', 'a', 's', 'i', 'v', 'a', 'r', 'a', 'o', 'S', 'a', 'm', 'b', 'a', 'O', 'D', 'O', 'O', 'y', 'a', 'h', 'o', 'o', 'c', 'o', 'i', 'n']\n"
     ]
    }
   ],
   "source": [
    "import re\n",
    "data=\"\"\"\n",
    "jay@gmail.com,000001,jay,9676622023,24243242242423\n",
    "9676622024,000002,vedha anvesh,VedhAnvesh@gov.in,3223432454353436364\n",
    "samba siva rao,000003,9676622025,SambaODOO@yahoo.co.in,34546234265463524\n",
    "\"\"\"\n",
    "print(re.findall(\"[a-z]\",data,re.I))"
   ]
  },
  {
   "cell_type": "code",
   "execution_count": 38,
   "metadata": {},
   "outputs": [
    {
     "name": "stdout",
     "output_type": "stream",
     "text": [
      "['j', 'a', 'y', '@', 'g', 'm', 'a', 'i', 'l', '.', 'c', 'o', 'm', ',', '0', '0', '0', '0', '0', '1', ',', 'j', 'a', 'y', ',', '9', '6', '7', '6', '6', '2', '2', '0', '2', '3', ',', '2', '4', '2', '4', '3', '2', '4', '2', '2', '4', '2', '4', '2', '3', '9', '6', '7', '6', '6', '2', '2', '0', '2', '4', ',', '0', '0', '0', '0', '0', '2', ',', 'v', 'e', 'd', 'h', 'a', ' ', 'a', 'n', 'v', 'e', 's', 'h', ',', 'V', 'e', 'd', 'h', 'A', 'n', 'v', 'e', 's', 'h', '@', 'g', 'o', 'v', '.', 'i', 'n', ',', '3', '2', '2', '3', '4', '3', '2', '4', '5', '4', '3', '5', '3', '4', '3', '6', '3', '6', '4', 's', 'a', 'm', 'b', 'a', ' ', 's', 'i', 'v', 'a', ' ', 'r', 'a', 'o', ',', '0', '0', '0', '0', '0', '3', ',', '9', '6', '7', '6', '6', '2', '2', '0', '2', '5', ',', 'S', 'a', 'm', 'b', 'a', 'O', 'D', 'O', 'O', '@', 'y', 'a', 'h', 'o', 'o', '.', 'c', 'o', '.', 'i', 'n', ',', '3', '4', '5', '4', '6', '2', '3', '4', '2', '6', '5', '4', '6', '3', '5', '2', '4']\n"
     ]
    }
   ],
   "source": [
    "import re\n",
    "data=\"\"\"\n",
    "jay@gmail.com,000001,jay,9676622023,24243242242423\n",
    "9676622024,000002,vedha anvesh,VedhAnvesh@gov.in,3223432454353436364\n",
    "samba siva rao,000003,9676622025,SambaODOO@yahoo.co.in,34546234265463524\n",
    "\"\"\"\n",
    "print(re.findall(\".\",data))"
   ]
  },
  {
   "cell_type": "code",
   "execution_count": 39,
   "metadata": {},
   "outputs": [
    {
     "name": "stdout",
     "output_type": "stream",
     "text": [
      "['\\n', 'j', 'a', 'y', '@', 'g', 'm', 'a', 'i', 'l', '.', 'c', 'o', 'm', ',', '0', '0', '0', '0', '0', '1', ',', 'j', 'a', 'y', ',', '9', '6', '7', '6', '6', '2', '2', '0', '2', '3', ',', '2', '4', '2', '4', '3', '2', '4', '2', '2', '4', '2', '4', '2', '3', '\\n', '9', '6', '7', '6', '6', '2', '2', '0', '2', '4', ',', '0', '0', '0', '0', '0', '2', ',', 'v', 'e', 'd', 'h', 'a', ' ', 'a', 'n', 'v', 'e', 's', 'h', ',', 'V', 'e', 'd', 'h', 'A', 'n', 'v', 'e', 's', 'h', '@', 'g', 'o', 'v', '.', 'i', 'n', ',', '3', '2', '2', '3', '4', '3', '2', '4', '5', '4', '3', '5', '3', '4', '3', '6', '3', '6', '4', '\\n', 's', 'a', 'm', 'b', 'a', ' ', 's', 'i', 'v', 'a', ' ', 'r', 'a', 'o', ',', '0', '0', '0', '0', '0', '3', ',', '9', '6', '7', '6', '6', '2', '2', '0', '2', '5', ',', 'S', 'a', 'm', 'b', 'a', 'O', 'D', 'O', 'O', '@', 'y', 'a', 'h', 'o', 'o', '.', 'c', 'o', '.', 'i', 'n', ',', '3', '4', '5', '4', '6', '2', '3', '4', '2', '6', '5', '4', '6', '3', '5', '2', '4', '\\n']\n"
     ]
    }
   ],
   "source": [
    "import re\n",
    "data=\"\"\"\n",
    "jay@gmail.com,000001,jay,9676622023,24243242242423\n",
    "9676622024,000002,vedha anvesh,VedhAnvesh@gov.in,3223432454353436364\n",
    "samba siva rao,000003,9676622025,SambaODOO@yahoo.co.in,34546234265463524\n",
    "\"\"\"\n",
    "print(re.findall(\".\",data,re.DOTALL))"
   ]
  },
  {
   "cell_type": "code",
   "execution_count": 40,
   "metadata": {},
   "outputs": [
    {
     "name": "stdout",
     "output_type": "stream",
     "text": [
      "['.', '.', '.', '.']\n"
     ]
    }
   ],
   "source": [
    "import re\n",
    "data=\"\"\"\n",
    "jay@gmail.com,000001,jay,9676622023,24243242242423\n",
    "9676622024,000002,vedha anvesh,VedhAnvesh@gov.in,3223432454353436364\n",
    "samba siva rao,000003,9676622025,SambaODOO@yahoo.co.in,34546234265463524\n",
    "\"\"\"\n",
    "print(re.findall(\"\\.\",data,re.DOTALL))"
   ]
  },
  {
   "cell_type": "code",
   "execution_count": 41,
   "metadata": {},
   "outputs": [
    {
     "name": "stdout",
     "output_type": "stream",
     "text": [
      "['jay_guduru@', 'VedhAnvesh1@', 'Samba-ODOO@']\n"
     ]
    }
   ],
   "source": [
    "import re\n",
    "data=\"\"\"\n",
    "jay_guduru@gmail.com,000001,jay,9676622023,24243242242423\n",
    "9676622024,000002,vedha anvesh,VedhAnvesh1@gov.in,3223432454353436364\n",
    "samba siva rao,000003,9676622025,Samba-ODOO@yahoo.co.in,34546234265463524\n",
    "\"\"\"\n",
    "# email id:   username@domain\n",
    "#username:It will allow alphabets caps and small, numbers, _,-\n",
    "#domain: alphabets and . only\n",
    "print(re.findall(\"[a-z0-9_-]+@\",data,re.DOTALL|re.I))"
   ]
  },
  {
   "cell_type": "code",
   "execution_count": 42,
   "metadata": {},
   "outputs": [
    {
     "name": "stdout",
     "output_type": "stream",
     "text": [
      "['guduru@', 'VedhAnvesh1@', 'ODOO@']\n"
     ]
    }
   ],
   "source": [
    "import re\n",
    "data=\"\"\"\n",
    "jay_guduru@gmail.com,000001,jay,9676622023,24243242242423\n",
    "9676622024,000002,vedha anvesh,VedhAnvesh1@gov.in,3223432454353436364\n",
    "samba siva rao,000003,9676622025,Samba-ODOO@yahoo.co.in,34546234265463524\n",
    "\"\"\"\n",
    "# email id:   username@domain\n",
    "#username:It will allow alphabets caps and small, numbers, _,-\n",
    "#domain: alphabets and . only\n",
    "print(re.findall(\"[a-z0-9]+@\",data,re.DOTALL|re.I))"
   ]
  },
  {
   "cell_type": "code",
   "execution_count": 43,
   "metadata": {},
   "outputs": [
    {
     "name": "stdout",
     "output_type": "stream",
     "text": [
      "['jay_guduru@', 'nvesh1@']\n"
     ]
    }
   ],
   "source": [
    "import re\n",
    "data=\"\"\"\n",
    "jay_guduru@gmail.com,000001,jay,9676622023,24243242242423\n",
    "9676622024,000002,vedha anvesh,VedhAnvesh1@gov.in,3223432454353436364\n",
    "samba siva rao,000003,9676622025,Samba-ODOO@yahoo.co.in,34546234265463524\n",
    "\"\"\"\n",
    "# email id:   username@domain\n",
    "#username:It will allow alphabets caps and small, numbers, _,-\n",
    "#domain: alphabets and . only\n",
    "print(re.findall(\"[a-z0-9_-]+@\",data,re.DOTALL))"
   ]
  },
  {
   "cell_type": "code",
   "execution_count": 44,
   "metadata": {},
   "outputs": [
    {
     "name": "stdout",
     "output_type": "stream",
     "text": [
      "['jay_guduru@', 'VedhAnvesh1@', 'Samba-ODOO@']\n"
     ]
    }
   ],
   "source": [
    "import re\n",
    "data=\"\"\"\n",
    "jay_guduru@gmail.com,000001,jay,9676622023,24243242242423\n",
    "9676622024,000002,vedha anvesh,VedhAnvesh1@gov.in,3223432454353436364\n",
    "samba siva rao,000003,9676622025,Samba-ODOO@yahoo.co.in,34546234265463524\n",
    "\"\"\"\n",
    "# email id:   username@domain\n",
    "#username:It will allow alphabets caps and small, numbers, _,-\n",
    "#domain: alphabets and . only\n",
    "print(re.findall(\"[a-z0-9_-]+@\",data,re.DOTALL|re.I))"
   ]
  },
  {
   "cell_type": "code",
   "execution_count": 45,
   "metadata": {},
   "outputs": [
    {
     "name": "stdout",
     "output_type": "stream",
     "text": [
      "['jay_guduru@gmail.com', 'VedhAnvesh1@gov.in', 'Samba-ODOO@yahoo.co.in']\n"
     ]
    }
   ],
   "source": [
    "import re\n",
    "data=\"\"\"\n",
    "jay_guduru@gmail.com,000001,jay,9676622023,24243242242423\n",
    "9676622024,000002,vedha anvesh,VedhAnvesh1@gov.in,3223432454353436364\n",
    "samba siva rao,000003,9676622025,Samba-ODOO@yahoo.co.in,34546234265463524\n",
    "\"\"\"\n",
    "# email id:   username@domain\n",
    "#username:It will allow alphabets caps and small, numbers, _,-\n",
    "#domain: alphabets and . only\n",
    "print(re.findall(\"[a-z0-9_-]+@[a-z.]+\",data,re.DOTALL|re.I))"
   ]
  },
  {
   "cell_type": "code",
   "execution_count": 46,
   "metadata": {},
   "outputs": [
    {
     "ename": "SyntaxError",
     "evalue": "(unicode error) 'unicodeescape' codec can't decode bytes in position 0-1: truncated \\uXXXX escape (<ipython-input-46-238bf36ac9b9>, line 10)",
     "output_type": "error",
     "traceback": [
      "\u001b[1;36m  File \u001b[1;32m\"<ipython-input-46-238bf36ac9b9>\"\u001b[1;36m, line \u001b[1;32m10\u001b[0m\n\u001b[1;33m    print(re.findall(\"\\u+@[a-z.]+\",data,re.DOTALL|re.I))\u001b[0m\n\u001b[1;37m                     ^\u001b[0m\n\u001b[1;31mSyntaxError\u001b[0m\u001b[1;31m:\u001b[0m (unicode error) 'unicodeescape' codec can't decode bytes in position 0-1: truncated \\uXXXX escape\n"
     ]
    }
   ],
   "source": [
    "import re\n",
    "data=\"\"\"\n",
    "jay_guduru@gmail.com,000001,jay,9676622023,24243242242423\n",
    "9676622024,000002,vedha anvesh,VedhAnvesh1@gov.in,3223432454353436364\n",
    "samba siva rao,000003,9676622025,Samba-ODOO@yahoo.co.in,34546234265463524\n",
    "\"\"\"\n",
    "# email id:   username@domain\n",
    "#username:It will allow alphabets caps and small, numbers, _,-\n",
    "#domain: alphabets and . only\n",
    "print(re.findall(\"\\u+@[a-z.]+\",data,re.DOTALL|re.I))"
   ]
  },
  {
   "cell_type": "code",
   "execution_count": 47,
   "metadata": {},
   "outputs": [
    {
     "name": "stdout",
     "output_type": "stream",
     "text": [
      "['000001', '9676622023', '24243242242423', '9676622024', '000002', '1', '3223432454353436364', '000003', '9676622025', '34546234265463524']\n"
     ]
    }
   ],
   "source": [
    "import re\n",
    "data=\"\"\"\n",
    "jay_guduru@gmail.com,000001,jay,9676622023,24243242242423\n",
    "9676622024,000002,vedha anvesh,VedhAnvesh1@gov.in,3223432454353436364\n",
    "samba siva rao,000003,9676622025,Samba-ODOO@yahoo.co.in,34546234265463524\n",
    "\"\"\"\n",
    "print(re.findall(\"[0-9]+\",data,re.DOTALL|re.I))"
   ]
  },
  {
   "cell_type": "code",
   "execution_count": 48,
   "metadata": {},
   "outputs": [
    {
     "name": "stdout",
     "output_type": "stream",
     "text": [
      "['000001', '9676622023', '24243242242423', '9676622024', '000002', '1', '3223432454353436364', '000003', '9676622025', '34546234265463524']\n"
     ]
    }
   ],
   "source": [
    "import re\n",
    "data=\"\"\"\n",
    "jay_guduru@gmail.com,000001,jay,9676622023,24243242242423\n",
    "9676622024,000002,vedha anvesh,VedhAnvesh1@gov.in,3223432454353436364\n",
    "samba siva rao,000003,9676622025,Samba-ODOO@yahoo.co.in,34546234265463524\n",
    "\"\"\"\n",
    "print(re.findall(\"\\d+\",data,re.DOTALL|re.I))"
   ]
  },
  {
   "cell_type": "code",
   "execution_count": 49,
   "metadata": {},
   "outputs": [
    {
     "name": "stdout",
     "output_type": "stream",
     "text": [
      "['000001', '9676622023', '24243242242423', '9676622024', '000002', '1', '3223432454353436364', '000003', '9676622025', '34546234265463524']\n"
     ]
    }
   ],
   "source": [
    "import re\n",
    "data=\"\"\"\n",
    "jay_guduru@gmail.com,000001,jay,9676622023,24243242242423\n",
    "9676622024,000002,vedha anvesh,VedhAnvesh1@gov.in,3223432454353436364\n",
    "samba siva rao,000003,9676622025,Samba-ODOO@yahoo.co.in,34546234265463524\n",
    "\"\"\"\n",
    "print(re.findall(\"[0-9]+\",data,re.DOTALL|re.I))"
   ]
  },
  {
   "cell_type": "code",
   "execution_count": 50,
   "metadata": {},
   "outputs": [
    {
     "name": "stdout",
     "output_type": "stream",
     "text": [
      "['\\njay_guduru@gmail.com,', ',jay,', ',', '\\n', ',', ',vedha anvesh,VedhAnvesh', '@gov.in,', '\\nsamba siva rao,', ',', ',Samba-ODOO@yahoo.co.in,', '\\n']\n"
     ]
    }
   ],
   "source": [
    "import re\n",
    "data=\"\"\"\n",
    "jay_guduru@gmail.com,000001,jay,9676622023,24243242242423\n",
    "9676622024,000002,vedha anvesh,VedhAnvesh1@gov.in,3223432454353436364\n",
    "samba siva rao,000003,9676622025,Samba-ODOO@yahoo.co.in,34546234265463524\n",
    "\"\"\"\n",
    "print(re.findall(\"[^0-9]+\",data,re.DOTALL|re.I))"
   ]
  },
  {
   "cell_type": "code",
   "execution_count": 51,
   "metadata": {},
   "outputs": [
    {
     "name": "stdout",
     "output_type": "stream",
     "text": [
      "['\\njay_guduru@gmail.com,', ',jay,', ',', '\\n', ',', ',vedha anvesh,VedhAnvesh', '@gov.in,', '\\nsamba siva rao,', ',', ',Samba-ODOO@yahoo.co.in,', '\\n']\n"
     ]
    }
   ],
   "source": [
    "import re\n",
    "data=\"\"\"\n",
    "jay_guduru@gmail.com,000001,jay,9676622023,24243242242423\n",
    "9676622024,000002,vedha anvesh,VedhAnvesh1@gov.in,3223432454353436364\n",
    "samba siva rao,000003,9676622025,Samba_ODOO@yahoo.co.in,34546234265463524\n",
    "\"\"\"\n",
    "print(re.findall(\"\\D+\",data,re.DOTALL|re.I))"
   ]
  },
  {
   "cell_type": "code",
   "execution_count": 53,
   "metadata": {},
   "outputs": [
    {
     "name": "stdout",
     "output_type": "stream",
     "text": [
      "['jay_guduru@', 'VedhAnvesh1@', 'Samba_ODOO@']\n"
     ]
    }
   ],
   "source": [
    "import re\n",
    "data=\"\"\"\n",
    "jay_guduru@gmail.com,000001,jay,9676622023,24243242242423\n",
    "9676622024,000002,vedha anvesh,VedhAnvesh1@gov.in,3223432454353436364\n",
    "samba siva rao,000003,9676622025,Samba_ODOO@yahoo.co.in,34546234265463524\n",
    "\"\"\"\n",
    "print(re.findall(\"\\w+@\",data,re.DOTALL|re.I))"
   ]
  },
  {
   "cell_type": "code",
   "execution_count": 54,
   "metadata": {},
   "outputs": [
    {
     "name": "stdout",
     "output_type": "stream",
     "text": [
      "['jay_guduru@gmail.com', 'VedhAnvesh1@gov.in', 'Samba_ODOO@yahoo.co.in']\n"
     ]
    }
   ],
   "source": [
    "import re\n",
    "data=\"\"\"\n",
    "jay_guduru@gmail.com,000001,jay,9676622023,24243242242423\n",
    "9676622024,000002,vedha anvesh,VedhAnvesh1@gov.in,3223432454353436364\n",
    "samba siva rao,000003,9676622025,Samba_ODOO@yahoo.co.in,34546234265463524\n",
    "\"\"\"\n",
    "print(re.findall(\"\\w+@[a-z.]+\",data,re.DOTALL|re.I))"
   ]
  },
  {
   "cell_type": "code",
   "execution_count": 58,
   "metadata": {},
   "outputs": [
    {
     "name": "stdout",
     "output_type": "stream",
     "text": [
      "[]\n"
     ]
    }
   ],
   "source": [
    "import re\n",
    "data=\"\"\"jay_guduru@gmail.com,000001,jay,9676622023,24243242242423\n",
    "9676622024,000002,vedha anvesh,VedhAnvesh1@gov.in,3223432454353436364\n",
    "samba siva rao,000003,9676622025,Samba_ODOO@yahoo.co.in,34546234265463524\n",
    "\"\"\"\n",
    "print(re.findall(\"^[0-9]+\",data))"
   ]
  },
  {
   "cell_type": "code",
   "execution_count": 57,
   "metadata": {},
   "outputs": [
    {
     "name": "stdout",
     "output_type": "stream",
     "text": [
      "['jay_guduru']\n"
     ]
    }
   ],
   "source": [
    "import re\n",
    "data=\"\"\"jay_guduru@gmail.com,000001,jay,9676622023,24243242242423\n",
    "9676622024,000002,vedha anvesh,VedhAnvesh1@gov.in,3223432454353436364\n",
    "samba siva rao,000003,9676622025,Samba_ODOO@yahoo.co.in,34546234265463524\n",
    "\"\"\"\n",
    "print(re.findall(\"^\\w+\",data))"
   ]
  },
  {
   "cell_type": "code",
   "execution_count": 59,
   "metadata": {},
   "outputs": [
    {
     "name": "stdout",
     "output_type": "stream",
     "text": [
      "['34546234265463524']\n"
     ]
    }
   ],
   "source": [
    "import re\n",
    "data=\"\"\"jay_guduru@gmail.com,000001,jay,9676622023,24243242242423\n",
    "9676622024,000002,vedha anvesh,VedhAnvesh1@gov.in,3223432454353436364\n",
    "samba siva rao,000003,9676622025,Samba_ODOO@yahoo.co.in,34546234265463524\n",
    "\"\"\"\n",
    "print(re.findall(\"\\w+$\",data))"
   ]
  },
  {
   "cell_type": "code",
   "execution_count": 60,
   "metadata": {},
   "outputs": [
    {
     "name": "stdout",
     "output_type": "stream",
     "text": [
      "['4265463524']\n"
     ]
    }
   ],
   "source": [
    "import re\n",
    "data=\"\"\"jay_guduru@gmail.com,000001,jay,9676622023,24243242242423\n",
    "3223432454353436364,9676622024,000002,vedha anvesh,VedhAnvesh1@gov.in\n",
    "samba siva rao,000003,9676622025,Samba_ODOO@yahoo.co.in,34546234265463524\n",
    "\"\"\"\n",
    "print(re.findall(\"[0-9]{10}$\",data))"
   ]
  },
  {
   "cell_type": "code",
   "execution_count": 61,
   "metadata": {},
   "outputs": [
    {
     "name": "stdout",
     "output_type": "stream",
     "text": [
      "['jay_guduru@']\n"
     ]
    }
   ],
   "source": [
    "import re\n",
    "data=\"\"\"jay_guduru@gmail.com,000001,jay,9676622023,24243242242423\n",
    "3223432454353436364,9676622024,000002,vedha anvesh,VedhAnvesh1@gov.in\n",
    "samba siva rao,000003,9676622025,Samba_ODOO@yahoo.co.in,34546234265463524\n",
    "sai_laxmi@rediff.com,000003,9676622025,34546234265463524\"\"\"\n",
    "print(re.findall(\"^\\w+@\",data))"
   ]
  },
  {
   "cell_type": "code",
   "execution_count": 62,
   "metadata": {},
   "outputs": [
    {
     "name": "stdout",
     "output_type": "stream",
     "text": [
      "['jay_guduru@', 'sai_laxmi@']\n"
     ]
    }
   ],
   "source": [
    "import re\n",
    "data=\"\"\"jay_guduru@gmail.com,000001,jay,9676622023,24243242242423\n",
    "3223432454353436364,9676622024,000002,vedha anvesh,VedhAnvesh1@gov.in\n",
    "samba siva rao,000003,9676622025,Samba_ODOO@yahoo.co.in,34546234265463524\n",
    "sai_laxmi@rediff.com,000003,9676622025,34546234265463524\"\"\"\n",
    "print(re.findall(\"^\\w+@\",data,re.M))"
   ]
  },
  {
   "cell_type": "code",
   "execution_count": 64,
   "metadata": {},
   "outputs": [
    {
     "name": "stdout",
     "output_type": "stream",
     "text": [
      "['gov.in']\n"
     ]
    }
   ],
   "source": [
    "import re\n",
    "data=\"\"\"jay_guduru@gmail.com,000001,jay,9676622023,24243242242423\n",
    "3223432454353436364,9676622024,000002,vedha anvesh,VedhAnvesh1@gov.in\n",
    "samba siva rao,000003,9676622025,Samba_ODOO@yahoo.co.in,34546234265463524\n",
    "sai_laxmi@rediff.com,000003,9676622025,34546234265463524\"\"\"\n",
    "print(re.findall(\"[a-z.]+$\",data,re.M))"
   ]
  },
  {
   "cell_type": "code",
   "execution_count": 66,
   "metadata": {},
   "outputs": [
    {
     "name": "stdout",
     "output_type": "stream",
     "text": [
      "<callable_iterator object at 0x000001AB5191FCD0>\n"
     ]
    }
   ],
   "source": [
    "import re\n",
    "data=\"\"\"jay_guduru@gmail.com,000001,jay,9676622023,24243242242423\n",
    "3223432454353436364,9676622024,000002,vedha anvesh,VedhAnvesh1@gov.in\n",
    "samba siva rao,000003,9676622025,Samba_ODOO@yahoo.co.in,34546234265463524\n",
    "sai_laxmi@rediff.com,000003,9676622025,34546234265463524\"\"\"\n",
    "print(re.finditer(\"^\\w+@\",data,re.M))"
   ]
  },
  {
   "cell_type": "code",
   "execution_count": 67,
   "metadata": {},
   "outputs": [
    {
     "name": "stdout",
     "output_type": "stream",
     "text": [
      "['jay_guduru@gmail.com', 'VedhAnvesh1@gov.in', 'Samba_ODOO@yahoo.co.in', 'sai_laxmi@rediff.com']\n"
     ]
    }
   ],
   "source": [
    "import re\n",
    "data=\"\"\"jay_guduru@gmail.com,000001,jay,9676622023,24243242242423\n",
    "3223432454353436364,9676622024,000002,vedha anvesh,VedhAnvesh1@gov.in\n",
    "samba siva rao,000003,9676622025,Samba_ODOO@yahoo.co.in,34546234265463524\n",
    "sai_laxmi@rediff.com,000003,9676622025,34546234265463524\"\"\"\n",
    "print(re.findall(\"\\w+@[a-z.]+\",data,re.M))"
   ]
  },
  {
   "cell_type": "code",
   "execution_count": 69,
   "metadata": {},
   "outputs": [
    {
     "name": "stdout",
     "output_type": "stream",
     "text": [
      "<re.Match object; span=(0, 20), match='jay_guduru@gmail.com'>\n",
      "<re.Match object; span=(109, 127), match='VedhAnvesh1@gov.in'>\n",
      "<re.Match object; span=(161, 183), match='Samba_ODOO@yahoo.co.in'>\n",
      "<re.Match object; span=(202, 222), match='sai_laxmi@rediff.com'>\n",
      "not found it\n"
     ]
    }
   ],
   "source": [
    "import re\n",
    "data=\"\"\"jay_guduru@gmail.com,000001,jay,9676622023,24243242242423\n",
    "3223432454353436364,9676622024,000002,vedha anvesh,VedhAnvesh1@gov.in\n",
    "samba siva rao,000003,9676622025,Samba_ODOO@yahoo.co.in,34546234265463524\n",
    "sai_laxmi@rediff.com,000003,9676622025,34546234265463524\"\"\"\n",
    "for email in re.finditer(\"\\w+@[a-z.]+\",data):\n",
    "    print(email)\n",
    "    if email==\"Samba_ODOO@yahoo.co.in\":\n",
    "        print(\"found it\")\n",
    "        break\n",
    "else:\n",
    "    print(\"not found it\")"
   ]
  },
  {
   "cell_type": "code",
   "execution_count": 70,
   "metadata": {},
   "outputs": [
    {
     "name": "stdout",
     "output_type": "stream",
     "text": [
      "True\n"
     ]
    }
   ],
   "source": [
    "import re\n",
    "data=\"\"\"jay_guduru@gmail.com,000001,jay,9676622023,24243242242423\n",
    "3223432454353436364,9676622024,000002,vedha anvesh,VedhAnvesh1@gov.in\n",
    "samba siva rao,000003,9676622025,Samba_ODOO@yahoo.co.in,34546234265463524\n",
    "sai_laxmi@rediff.com,000003,9676622025,34546234265463524\"\"\"\n",
    "print(\"Samba_ODOO@yahoo.co.in\" in data)\n",
    "        "
   ]
  },
  {
   "cell_type": "code",
   "execution_count": 72,
   "metadata": {},
   "outputs": [
    {
     "name": "stdout",
     "output_type": "stream",
     "text": [
      "<re.Match object; span=(0, 10), match='jay_guduru'>\n"
     ]
    }
   ],
   "source": [
    "import re\n",
    "data=\"\"\"jay_guduru@gmail.com,000001,jay,9676622023,24243242242423\n",
    "3223432454353436364,9676622024,000002,vedha anvesh,VedhAnvesh1@gov.in\n",
    "samba siva rao,000003,9676622025,Samba_ODOO@yahoo.co.in,34546234265463524\n",
    "sai_laxmi@rediff.com,000003,9676622025,34546234265463524\"\"\"\n",
    "print(re.search(\"\\w+[a-z.]+\",data))"
   ]
  },
  {
   "cell_type": "code",
   "execution_count": 73,
   "metadata": {},
   "outputs": [
    {
     "name": "stdout",
     "output_type": "stream",
     "text": [
      "None\n"
     ]
    }
   ],
   "source": [
    "import re\n",
    "data=\"\"\"jay_guduru@gmail.com,000001,jay,9676622023,24243242242423\n",
    "3223432454353436364,9676622024,000002,vedha anvesh,VedhAnvesh1@gov.in\n",
    "samba siva rao,000003,9676622025,Samba_ODOO@yahoo.co.in,34546234265463524\n",
    "sai_laxmi@rediff.com,000003,9676622025,34546234265463524\"\"\"\n",
    "print(re.search(\"[$$]+\",data))"
   ]
  },
  {
   "cell_type": "code",
   "execution_count": 74,
   "metadata": {},
   "outputs": [
    {
     "name": "stdout",
     "output_type": "stream",
     "text": [
      "<re.Match object; span=(0, 10), match='jay_guduru'>\n"
     ]
    }
   ],
   "source": [
    "import re\n",
    "data=\"\"\"jay_guduru@gmail.com,000001,jay,9676622023,24243242242423\n",
    "3223432454353436364,9676622024,000002,vedha anvesh,VedhAnvesh1@gov.in\n",
    "samba siva rao,000003,9676622025,Samba_ODOO@yahoo.co.in,34546234265463524\n",
    "sai_laxmi@rediff.com,000003,9676622025,34546234265463524\"\"\"\n",
    "print(re.match(\"\\w+[a-z.]+\",data))"
   ]
  },
  {
   "cell_type": "code",
   "execution_count": 75,
   "metadata": {},
   "outputs": [
    {
     "name": "stdout",
     "output_type": "stream",
     "text": [
      "None\n"
     ]
    }
   ],
   "source": [
    "import re\n",
    "data=\"\"\"jay_guduru@gmail.com,000001,jay,9676622023,24243242242423\n",
    "3223432454353436364,9676622024,000002,vedha anvesh,VedhAnvesh1@gov.in\n",
    "samba siva rao,000003,9676622025,Samba_ODOO@yahoo.co.in,34546234265463524\n",
    "sai_laxmi@rediff.com,000003,9676622025,34546234265463524\"\"\"\n",
    "print(re.match(\"[$$]+\",data))"
   ]
  },
  {
   "cell_type": "code",
   "execution_count": 76,
   "metadata": {},
   "outputs": [
    {
     "name": "stdout",
     "output_type": "stream",
     "text": [
      "None\n"
     ]
    }
   ],
   "source": [
    "import re\n",
    "data=\"\"\"jay_guduru@gmail.com,000001,jay,9676622023,24243242242423\n",
    "3223432454353436364,9676622024,000002,vedha anvesh,VedhAnvesh1@gov.in\n",
    "samba siva rao,000003,9676622025,Samba_ODOO@yahoo.co.in,34546234265463524\n",
    "sai_laxmi@rediff.com,000003,9676622025,34546234265463524\"\"\"\n",
    "print(re.match(\"[0-9]+\",data))"
   ]
  },
  {
   "cell_type": "code",
   "execution_count": 77,
   "metadata": {},
   "outputs": [
    {
     "name": "stdout",
     "output_type": "stream",
     "text": [
      "foud an email\n"
     ]
    }
   ],
   "source": [
    "import re\n",
    "data=\"\"\"jay_guduru@gmail.com,000001,jay,9676622023,24243242242423\n",
    "3223432454353436364,9676622024,000002,vedha anvesh,VedhAnvesh1@gov.in\n",
    "samba siva rao,000003,9676622025,Samba_ODOO@yahoo.co.in,34546234265463524\n",
    "sai_laxmi@rediff.com,000003,9676622025,34546234265463524\"\"\"\n",
    "if re.search(\"\\w+[a-z.]+\",data):\n",
    "    print(\"foud an email\")\n",
    "else:\n",
    "    print(\"not found an email\")"
   ]
  },
  {
   "cell_type": "code",
   "execution_count": 79,
   "metadata": {},
   "outputs": [
    {
     "name": "stdout",
     "output_type": "stream",
     "text": [
      "<re.Match object; span=(0, 10), match='jay_guduru'>\n"
     ]
    }
   ],
   "source": [
    "import re\n",
    "data=\"\"\"jay_guduru@gmail.com,000001,jay,9676622023,24243242242423\n",
    "3223432454353436364,9676622024,000002,vedha anvesh,VedhAnvesh1@gov.in\n",
    "samba siva rao,000003,9676622025,Samba_ODOO@yahoo.co.in,34546234265463524\n",
    "sai_laxmi@rediff.com,000003,9676622025,34546234265463524\"\"\"\n",
    "obj = re.match(\"\\w+[a-z.]+\",data)\n",
    "print(obj)\n",
    "    "
   ]
  },
  {
   "cell_type": "code",
   "execution_count": 82,
   "metadata": {},
   "outputs": [
    {
     "name": "stdout",
     "output_type": "stream",
     "text": [
      "jay_guduru@gmail.com\n"
     ]
    }
   ],
   "source": [
    "import re\n",
    "data=\"\"\"jay_guduru@gmail.com,000001,jay,9676622023,24243242242423\n",
    "3223432454353436364,9676622024,000002,vedha anvesh,VedhAnvesh1@gov.in\n",
    "samba siva rao,000003,9676622025,Samba_ODOO@yahoo.co.in,34546234265463524\n",
    "sai_laxmi@rediff.com,000003,9676622025,34546234265463524\"\"\"\n",
    "obj = re.match(\"\\w+@[a-z.]+\",data)\n",
    "print(obj.group(0))\n",
    "    "
   ]
  },
  {
   "cell_type": "code",
   "execution_count": 84,
   "metadata": {},
   "outputs": [
    {
     "name": "stdout",
     "output_type": "stream",
     "text": [
      "jay_guduru@gmail.com\n",
      "VedhAnvesh1@gov.in\n",
      "Samba_ODOO@yahoo.co.in\n",
      "sai_laxmi@rediff.com\n"
     ]
    }
   ],
   "source": [
    "import re\n",
    "data=\"\"\"jay_guduru@gmail.com,000001,jay,9676622023,24243242242423\n",
    "3223432454353436364,9676622024,000002,vedha anvesh,VedhAnvesh1@gov.in\n",
    "samba siva rao,000003,9676622025,Samba_ODOO@yahoo.co.in,34546234265463524\n",
    "sai_laxmi@rediff.com,000003,9676622025,34546234265463524\"\"\"\n",
    "for obj in re.finditer(\"\\w+@[a-z.]+\",data):\n",
    "    print(obj.group(0))\n",
    "    "
   ]
  },
  {
   "cell_type": "code",
   "execution_count": 85,
   "metadata": {},
   "outputs": [
    {
     "name": "stdout",
     "output_type": "stream",
     "text": [
      "['A', 'ASCII', 'DEBUG', 'DOTALL', 'I', 'IGNORECASE', 'L', 'LOCALE', 'M', 'MULTILINE', 'Match', 'Pattern', 'RegexFlag', 'S', 'Scanner', 'T', 'TEMPLATE', 'U', 'UNICODE', 'VERBOSE', 'X', '_MAXCACHE', '__all__', '__builtins__', '__cached__', '__doc__', '__file__', '__loader__', '__name__', '__package__', '__spec__', '__version__', '_cache', '_compile', '_compile_repl', '_expand', '_locale', '_pickle', '_special_chars_map', '_subx', 'compile', 'copyreg', 'enum', 'error', 'escape', 'findall', 'finditer', 'fullmatch', 'functools', 'match', 'purge', 'search', 'split', 'sre_compile', 'sre_parse', 'sub', 'subn', 'template']\n"
     ]
    }
   ],
   "source": [
    "print(dir(re))"
   ]
  },
  {
   "cell_type": "code",
   "execution_count": null,
   "metadata": {},
   "outputs": [],
   "source": []
  }
 ],
 "metadata": {
  "kernelspec": {
   "display_name": "Python 3",
   "language": "python",
   "name": "python3"
  },
  "language_info": {
   "codemirror_mode": {
    "name": "ipython",
    "version": 3
   },
   "file_extension": ".py",
   "mimetype": "text/x-python",
   "name": "python",
   "nbconvert_exporter": "python",
   "pygments_lexer": "ipython3",
   "version": "3.8.3"
  }
 },
 "nbformat": 4,
 "nbformat_minor": 4
}
