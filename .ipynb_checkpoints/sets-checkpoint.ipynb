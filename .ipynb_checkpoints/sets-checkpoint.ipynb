{
 "cells": [
  {
   "cell_type": "code",
   "execution_count": 1,
   "metadata": {},
   "outputs": [
    {
     "name": "stdout",
     "output_type": "stream",
     "text": [
      "1\n",
      "2\n",
      "3\n",
      "4\n"
     ]
    }
   ],
   "source": [
    "l=[1,2,3,4]\n",
    "for i in l:\n",
    "    print(i)"
   ]
  },
  {
   "cell_type": "code",
   "execution_count": 2,
   "metadata": {},
   "outputs": [
    {
     "name": "stdout",
     "output_type": "stream",
     "text": [
      "{1, 2, 3, 4} <class 'set'>\n"
     ]
    }
   ],
   "source": [
    "s={1,2,3,4,30,40,12,34,56}\n",
    "print(s, type(s))"
   ]
  },
  {
   "cell_type": "code",
   "execution_count": 3,
   "metadata": {},
   "outputs": [
    {
     "name": "stdout",
     "output_type": "stream",
     "text": [
      "{1, 2, 3, 4, 34, 40, 12, 56, 30} <class 'set'>\n"
     ]
    }
   ],
   "source": [
    "s={1,2,3,4,30,40,12,34,56}\n",
    "print(s, type(s))"
   ]
  },
  {
   "cell_type": "code",
   "execution_count": 4,
   "metadata": {},
   "outputs": [
    {
     "name": "stdout",
     "output_type": "stream",
     "text": [
      "{1, 2, 3, 4, 5}\n"
     ]
    }
   ],
   "source": [
    "s=set([1,2,3,4,5])\n",
    "print(s)"
   ]
  },
  {
   "cell_type": "code",
   "execution_count": 5,
   "metadata": {},
   "outputs": [
    {
     "name": "stdout",
     "output_type": "stream",
     "text": [
      "{1, 2, 3, 4, 5, 6, 7, 8, 9}\n"
     ]
    }
   ],
   "source": [
    "s=set([1,2,3,4,5,1,2,3,4,5,6,7,8,9])\n",
    "print(s)"
   ]
  },
  {
   "cell_type": "code",
   "execution_count": 6,
   "metadata": {},
   "outputs": [
    {
     "data": {
      "text/plain": [
       "False"
      ]
     },
     "execution_count": 6,
     "metadata": {},
     "output_type": "execute_result"
    }
   ],
   "source": [
    "l=[1,2,3]\n",
    "k=[1,3,2]\n",
    "l==k"
   ]
  },
  {
   "cell_type": "code",
   "execution_count": 7,
   "metadata": {},
   "outputs": [
    {
     "data": {
      "text/plain": [
       "True"
      ]
     },
     "execution_count": 7,
     "metadata": {},
     "output_type": "execute_result"
    }
   ],
   "source": [
    "l={1,2,3}\n",
    "k={1,3,2}\n",
    "l==k"
   ]
  },
  {
   "cell_type": "code",
   "execution_count": 8,
   "metadata": {},
   "outputs": [
    {
     "data": {
      "text/plain": [
       "False"
      ]
     },
     "execution_count": 8,
     "metadata": {},
     "output_type": "execute_result"
    }
   ],
   "source": [
    "l={1,2,3}\n",
    "k={1,3,2,20}\n",
    "l==k"
   ]
  },
  {
   "cell_type": "code",
   "execution_count": 9,
   "metadata": {},
   "outputs": [
    {
     "data": {
      "text/plain": [
       "False"
      ]
     },
     "execution_count": 9,
     "metadata": {},
     "output_type": "execute_result"
    }
   ],
   "source": [
    "l={10,20,30,40}\n",
    "k={20,30,10,40,50}\n",
    "l>k"
   ]
  },
  {
   "cell_type": "code",
   "execution_count": 11,
   "metadata": {},
   "outputs": [
    {
     "data": {
      "text/plain": [
       "False"
      ]
     },
     "execution_count": 11,
     "metadata": {},
     "output_type": "execute_result"
    }
   ],
   "source": [
    "l={1,2,3,4}\n",
    "k={1,2,3,4}\n",
    "l>k"
   ]
  },
  {
   "cell_type": "code",
   "execution_count": 12,
   "metadata": {},
   "outputs": [
    {
     "data": {
      "text/plain": [
       "False"
      ]
     },
     "execution_count": 12,
     "metadata": {},
     "output_type": "execute_result"
    }
   ],
   "source": [
    "l={10,2,3,4}\n",
    "k={1,2,3,4}\n",
    "l>k"
   ]
  },
  {
   "cell_type": "code",
   "execution_count": 13,
   "metadata": {},
   "outputs": [
    {
     "data": {
      "text/plain": [
       "False"
      ]
     },
     "execution_count": 13,
     "metadata": {},
     "output_type": "execute_result"
    }
   ],
   "source": [
    "l={10,20,3,4}\n",
    "k={1,2,3,4}\n",
    "l>k"
   ]
  },
  {
   "cell_type": "code",
   "execution_count": 14,
   "metadata": {},
   "outputs": [
    {
     "data": {
      "text/plain": [
       "False"
      ]
     },
     "execution_count": 14,
     "metadata": {},
     "output_type": "execute_result"
    }
   ],
   "source": [
    "l={10,20,30,4}\n",
    "k={1,2,3,4}\n",
    "l>k"
   ]
  },
  {
   "cell_type": "code",
   "execution_count": 15,
   "metadata": {},
   "outputs": [
    {
     "data": {
      "text/plain": [
       "False"
      ]
     },
     "execution_count": 15,
     "metadata": {},
     "output_type": "execute_result"
    }
   ],
   "source": [
    "l={10,20,30,40}\n",
    "k={1,2,3,4}\n",
    "l>k"
   ]
  },
  {
   "cell_type": "code",
   "execution_count": 16,
   "metadata": {},
   "outputs": [
    {
     "data": {
      "text/plain": [
       "False"
      ]
     },
     "execution_count": 16,
     "metadata": {},
     "output_type": "execute_result"
    }
   ],
   "source": [
    "l={10,20,30,40,50}\n",
    "k={1,2,3,4}\n",
    "l>k"
   ]
  },
  {
   "cell_type": "code",
   "execution_count": 18,
   "metadata": {},
   "outputs": [
    {
     "data": {
      "text/plain": [
       "False"
      ]
     },
     "execution_count": 18,
     "metadata": {},
     "output_type": "execute_result"
    }
   ],
   "source": [
    "l={10,20,30,40,50}\n",
    "k={1,2,3,4}\n",
    "l<k"
   ]
  },
  {
   "cell_type": "code",
   "execution_count": 19,
   "metadata": {},
   "outputs": [
    {
     "data": {
      "text/plain": [
       "False"
      ]
     },
     "execution_count": 19,
     "metadata": {},
     "output_type": "execute_result"
    }
   ],
   "source": [
    "l={1,2,3,4} \n",
    "k={10,20,30,40,50}\n",
    "l<k"
   ]
  },
  {
   "cell_type": "code",
   "execution_count": 20,
   "metadata": {},
   "outputs": [
    {
     "data": {
      "text/plain": [
       "False"
      ]
     },
     "execution_count": 20,
     "metadata": {},
     "output_type": "execute_result"
    }
   ],
   "source": [
    "l={1,2,3,4} \n",
    "k={10,20,30,40}\n",
    "l<k"
   ]
  },
  {
   "cell_type": "code",
   "execution_count": 21,
   "metadata": {},
   "outputs": [
    {
     "data": {
      "text/plain": [
       "False"
      ]
     },
     "execution_count": 21,
     "metadata": {},
     "output_type": "execute_result"
    }
   ],
   "source": [
    "l={1,2,3,4} \n",
    "k={10,20,30}\n",
    "l<k"
   ]
  },
  {
   "cell_type": "code",
   "execution_count": 22,
   "metadata": {},
   "outputs": [
    {
     "data": {
      "text/plain": [
       "False"
      ]
     },
     "execution_count": 22,
     "metadata": {},
     "output_type": "execute_result"
    }
   ],
   "source": [
    "l={1,2,3,4} \n",
    "k={10,20,30,40}\n",
    "l<=k"
   ]
  },
  {
   "cell_type": "code",
   "execution_count": 23,
   "metadata": {},
   "outputs": [
    {
     "name": "stdout",
     "output_type": "stream",
     "text": [
      "{1, 2, 3, 4, 10}\n"
     ]
    }
   ],
   "source": [
    "s={1,2,3,4}\n",
    "s.add(10)\n",
    "print(s)"
   ]
  },
  {
   "cell_type": "code",
   "execution_count": 25,
   "metadata": {},
   "outputs": [
    {
     "name": "stdout",
     "output_type": "stream",
     "text": [
      "{1, 2, 3, 4, 10}\n",
      "{1, 2, 3, 4, 10}\n",
      "{1, 2, 3, 4}\n"
     ]
    }
   ],
   "source": [
    "s={1,2,3,4}\n",
    "s1=s\n",
    "s2=s.copy()\n",
    "s.add(10)\n",
    "print(s)\n",
    "print(s1)\n",
    "print(s2)"
   ]
  },
  {
   "cell_type": "code",
   "execution_count": 26,
   "metadata": {},
   "outputs": [
    {
     "ename": "TypeError",
     "evalue": "'set' object is not subscriptable",
     "output_type": "error",
     "traceback": [
      "\u001b[1;31m---------------------------------------------------------------------------\u001b[0m",
      "\u001b[1;31mTypeError\u001b[0m                                 Traceback (most recent call last)",
      "\u001b[1;32m<ipython-input-26-4a9307edc994>\u001b[0m in \u001b[0;36m<module>\u001b[1;34m\u001b[0m\n\u001b[0;32m      1\u001b[0m \u001b[0ms\u001b[0m\u001b[1;33m=\u001b[0m\u001b[1;33m{\u001b[0m\u001b[1;34m\"apple\"\u001b[0m\u001b[1;33m,\u001b[0m\u001b[1;34m\"orange\"\u001b[0m\u001b[1;33m,\u001b[0m\u001b[1;34m\"grape\"\u001b[0m\u001b[1;33m}\u001b[0m\u001b[1;33m\u001b[0m\u001b[1;33m\u001b[0m\u001b[0m\n\u001b[1;32m----> 2\u001b[1;33m \u001b[0mprint\u001b[0m\u001b[1;33m(\u001b[0m\u001b[0ms\u001b[0m\u001b[1;33m[\u001b[0m\u001b[1;36m0\u001b[0m\u001b[1;33m]\u001b[0m\u001b[1;33m)\u001b[0m\u001b[1;33m\u001b[0m\u001b[1;33m\u001b[0m\u001b[0m\n\u001b[0m",
      "\u001b[1;31mTypeError\u001b[0m: 'set' object is not subscriptable"
     ]
    }
   ],
   "source": [
    "s={\"apple\",\"orange\",\"grape\"}\n",
    "print(s[0])"
   ]
  },
  {
   "cell_type": "code",
   "execution_count": 28,
   "metadata": {},
   "outputs": [
    {
     "name": "stdout",
     "output_type": "stream",
     "text": [
      "{'orange', (1, 2, 3), 'apple', 'grape'}\n"
     ]
    }
   ],
   "source": [
    "s={\"apple\",\"orange\",\"grape\",(1,2,3)}\n",
    "print(s)"
   ]
  },
  {
   "cell_type": "code",
   "execution_count": 29,
   "metadata": {},
   "outputs": [
    {
     "ename": "TypeError",
     "evalue": "unhashable type: 'list'",
     "output_type": "error",
     "traceback": [
      "\u001b[1;31m---------------------------------------------------------------------------\u001b[0m",
      "\u001b[1;31mTypeError\u001b[0m                                 Traceback (most recent call last)",
      "\u001b[1;32m<ipython-input-29-910476204847>\u001b[0m in \u001b[0;36m<module>\u001b[1;34m\u001b[0m\n\u001b[1;32m----> 1\u001b[1;33m \u001b[0ms\u001b[0m\u001b[1;33m=\u001b[0m\u001b[1;33m{\u001b[0m\u001b[1;34m\"apple\"\u001b[0m\u001b[1;33m,\u001b[0m\u001b[1;34m\"orange\"\u001b[0m\u001b[1;33m,\u001b[0m\u001b[1;34m\"grape\"\u001b[0m\u001b[1;33m,\u001b[0m\u001b[1;33m[\u001b[0m\u001b[1;36m1\u001b[0m\u001b[1;33m,\u001b[0m\u001b[1;36m2\u001b[0m\u001b[1;33m,\u001b[0m\u001b[1;36m3\u001b[0m\u001b[1;33m]\u001b[0m\u001b[1;33m}\u001b[0m\u001b[1;33m\u001b[0m\u001b[1;33m\u001b[0m\u001b[0m\n\u001b[0m\u001b[0;32m      2\u001b[0m \u001b[0mprint\u001b[0m\u001b[1;33m(\u001b[0m\u001b[0ms\u001b[0m\u001b[1;33m)\u001b[0m\u001b[1;33m\u001b[0m\u001b[1;33m\u001b[0m\u001b[0m\n",
      "\u001b[1;31mTypeError\u001b[0m: unhashable type: 'list'"
     ]
    }
   ],
   "source": [
    "s={\"apple\",\"orange\",\"grape\",[1,2,3]}\n",
    "print(s)"
   ]
  },
  {
   "cell_type": "code",
   "execution_count": 30,
   "metadata": {},
   "outputs": [
    {
     "name": "stdout",
     "output_type": "stream",
     "text": [
      "{'apple', 'grape'}\n"
     ]
    }
   ],
   "source": [
    "s={\"apple\",\"orange\",\"grape\"}\n",
    "s.pop()\n",
    "print(s)"
   ]
  },
  {
   "cell_type": "code",
   "execution_count": 31,
   "metadata": {},
   "outputs": [
    {
     "name": "stdout",
     "output_type": "stream",
     "text": [
      "{'orange', 'apple'}\n"
     ]
    }
   ],
   "source": [
    "s={\"apple\",\"orange\",\"grape\"}\n",
    "s.remove(\"grape\")\n",
    "print(s)"
   ]
  },
  {
   "cell_type": "code",
   "execution_count": 32,
   "metadata": {},
   "outputs": [
    {
     "ename": "KeyError",
     "evalue": "'mango'",
     "output_type": "error",
     "traceback": [
      "\u001b[1;31m---------------------------------------------------------------------------\u001b[0m",
      "\u001b[1;31mKeyError\u001b[0m                                  Traceback (most recent call last)",
      "\u001b[1;32m<ipython-input-32-9d0c5706e39c>\u001b[0m in \u001b[0;36m<module>\u001b[1;34m\u001b[0m\n\u001b[0;32m      1\u001b[0m \u001b[0ms\u001b[0m\u001b[1;33m=\u001b[0m\u001b[1;33m{\u001b[0m\u001b[1;34m\"apple\"\u001b[0m\u001b[1;33m,\u001b[0m\u001b[1;34m\"orange\"\u001b[0m\u001b[1;33m,\u001b[0m\u001b[1;34m\"grape\"\u001b[0m\u001b[1;33m}\u001b[0m\u001b[1;33m\u001b[0m\u001b[1;33m\u001b[0m\u001b[0m\n\u001b[1;32m----> 2\u001b[1;33m \u001b[0ms\u001b[0m\u001b[1;33m.\u001b[0m\u001b[0mremove\u001b[0m\u001b[1;33m(\u001b[0m\u001b[1;34m\"mango\"\u001b[0m\u001b[1;33m)\u001b[0m\u001b[1;33m\u001b[0m\u001b[1;33m\u001b[0m\u001b[0m\n\u001b[0m\u001b[0;32m      3\u001b[0m \u001b[0mprint\u001b[0m\u001b[1;33m(\u001b[0m\u001b[0ms\u001b[0m\u001b[1;33m)\u001b[0m\u001b[1;33m\u001b[0m\u001b[1;33m\u001b[0m\u001b[0m\n",
      "\u001b[1;31mKeyError\u001b[0m: 'mango'"
     ]
    }
   ],
   "source": [
    "s={\"apple\",\"orange\",\"grape\"}\n",
    "s.remove(\"mango\")\n",
    "print(s)"
   ]
  },
  {
   "cell_type": "code",
   "execution_count": 33,
   "metadata": {},
   "outputs": [
    {
     "name": "stdout",
     "output_type": "stream",
     "text": [
      "{'orange', 'apple', 'grape'}\n"
     ]
    }
   ],
   "source": [
    "s={\"apple\",\"orange\",\"grape\"}\n",
    "s.discard(\"mango\")\n",
    "print(s)"
   ]
  },
  {
   "cell_type": "code",
   "execution_count": 34,
   "metadata": {},
   "outputs": [
    {
     "name": "stdout",
     "output_type": "stream",
     "text": [
      "{'orange', 'grape'}\n"
     ]
    }
   ],
   "source": [
    "vs={\"apple\",\"orange\",\"grape\"}\n",
    "s.discard(\"apple\")\n",
    "print(s)"
   ]
  },
  {
   "cell_type": "code",
   "execution_count": 35,
   "metadata": {},
   "outputs": [
    {
     "ename": "TypeError",
     "evalue": "unsupported operand type(s) for +: 'set' and 'set'",
     "output_type": "error",
     "traceback": [
      "\u001b[1;31m---------------------------------------------------------------------------\u001b[0m",
      "\u001b[1;31mTypeError\u001b[0m                                 Traceback (most recent call last)",
      "\u001b[1;32m<ipython-input-35-120f229af67f>\u001b[0m in \u001b[0;36m<module>\u001b[1;34m\u001b[0m\n\u001b[0;32m      1\u001b[0m \u001b[0ms\u001b[0m\u001b[1;33m=\u001b[0m\u001b[1;33m{\u001b[0m\u001b[1;34m\"apple\"\u001b[0m\u001b[1;33m,\u001b[0m\u001b[1;34m\"orange\"\u001b[0m\u001b[1;33m,\u001b[0m\u001b[1;34m\"grape\"\u001b[0m\u001b[1;33m}\u001b[0m\u001b[1;33m\u001b[0m\u001b[1;33m\u001b[0m\u001b[0m\n\u001b[0;32m      2\u001b[0m \u001b[0ms1\u001b[0m\u001b[1;33m=\u001b[0m\u001b[1;33m{\u001b[0m\u001b[1;34m\"apple\"\u001b[0m\u001b[1;33m,\u001b[0m\u001b[1;34m\"orange\"\u001b[0m\u001b[1;33m,\u001b[0m\u001b[1;34m\"grape\"\u001b[0m\u001b[1;33m,\u001b[0m\u001b[1;34m\"mango\"\u001b[0m\u001b[1;33m}\u001b[0m\u001b[1;33m\u001b[0m\u001b[1;33m\u001b[0m\u001b[0m\n\u001b[1;32m----> 3\u001b[1;33m \u001b[0ms\u001b[0m\u001b[1;33m+\u001b[0m\u001b[0ms1\u001b[0m\u001b[1;33m\u001b[0m\u001b[1;33m\u001b[0m\u001b[0m\n\u001b[0m",
      "\u001b[1;31mTypeError\u001b[0m: unsupported operand type(s) for +: 'set' and 'set'"
     ]
    }
   ],
   "source": [
    "s={\"apple\",\"orange\",\"grape\"}\n",
    "s1={\"apple\",\"orange\",\"grape\",\"mango\"}\n",
    "s+s1"
   ]
  },
  {
   "cell_type": "code",
   "execution_count": 37,
   "metadata": {},
   "outputs": [
    {
     "name": "stdout",
     "output_type": "stream",
     "text": [
      "{'orange', 'apple', 'grape'}\n",
      "{'mango', 'grape', 'orange', 'apple'}\n",
      "{'orange', 'mango', 'apple', 'grape'}\n",
      "None\n"
     ]
    }
   ],
   "source": [
    "s={\"apple\",\"orange\",\"grape\"}\n",
    "print(s)\n",
    "s1={\"apple\",\"orange\",\"grape\",\"mango\"}\n",
    "s2=s.update(s1)\n",
    "print(s)\n",
    "print(s1)\n",
    "print(s2)"
   ]
  },
  {
   "cell_type": "code",
   "execution_count": 38,
   "metadata": {},
   "outputs": [
    {
     "name": "stdout",
     "output_type": "stream",
     "text": [
      "{'orange', 'apple', 'grape'}\n",
      "{'mango', 'grape', 'orange', 'apple', 'guva'}\n",
      "{'mango', 'guva'}\n",
      "None\n"
     ]
    }
   ],
   "source": [
    "s={\"apple\",\"orange\",\"grape\"}\n",
    "print(s)\n",
    "s1={\"mango\",\"guva\"}\n",
    "s2=s.update(s1)\n",
    "print(s)\n",
    "print(s1)\n",
    "print(s2)"
   ]
  },
  {
   "cell_type": "code",
   "execution_count": 39,
   "metadata": {},
   "outputs": [
    {
     "name": "stdout",
     "output_type": "stream",
     "text": [
      "{'orange', 'apple', 'grape'}\n",
      "{'orange', 'apple', 'grape'}\n",
      "{'mango', 'guva'}\n",
      "{'mango', 'grape', 'orange', 'apple', 'guva'}\n"
     ]
    }
   ],
   "source": [
    "s={\"apple\",\"orange\",\"grape\"}\n",
    "print(s)\n",
    "s1={\"mango\",\"guva\"}\n",
    "s2=s.union(s1)\n",
    "print(s)\n",
    "print(s1)\n",
    "print(s2)"
   ]
  },
  {
   "cell_type": "code",
   "execution_count": 40,
   "metadata": {},
   "outputs": [
    {
     "name": "stdout",
     "output_type": "stream",
     "text": [
      "{'orange', 'apple', 'grape'}\n",
      "{'orange', 'apple', 'grape'}\n",
      "{'mango', 'grape', 'orange', 'apple', 'guva'}\n",
      "None\n"
     ]
    }
   ],
   "source": [
    "s={\"apple\",\"orange\",\"grape\"}\n",
    "print(s)\n",
    "s1={\"mango\",\"guva\"}\n",
    "s2=s1.update(s)\n",
    "print(s)\n",
    "print(s1)\n",
    "print(s2)"
   ]
  },
  {
   "cell_type": "code",
   "execution_count": 42,
   "metadata": {},
   "outputs": [
    {
     "data": {
      "text/plain": [
       "{'apple', 'orange'}"
      ]
     },
     "execution_count": 42,
     "metadata": {},
     "output_type": "execute_result"
    }
   ],
   "source": [
    "s={\"apple\",\"orange\",\"grape\"}\n",
    "s1={\"mango\",\"guva\",\"grape\"}\n",
    "s-s1"
   ]
  },
  {
   "cell_type": "code",
   "execution_count": 43,
   "metadata": {},
   "outputs": [
    {
     "data": {
      "text/plain": [
       "{'guva', 'mango'}"
      ]
     },
     "execution_count": 43,
     "metadata": {},
     "output_type": "execute_result"
    }
   ],
   "source": [
    "s={\"apple\",\"orange\",\"grape\"}\n",
    "s1={\"mango\",\"guva\",\"grape\"}\n",
    "s1-s"
   ]
  },
  {
   "cell_type": "code",
   "execution_count": 44,
   "metadata": {},
   "outputs": [
    {
     "name": "stdout",
     "output_type": "stream",
     "text": [
      "{'orange', 'apple', 'grape'}\n",
      "{'grape', 'mango', 'guva'}\n",
      "{'mango', 'guva'}\n"
     ]
    }
   ],
   "source": [
    "s={\"apple\",\"orange\",\"grape\"}\n",
    "s1={\"mango\",\"guva\",\"grape\"}\n",
    "s2=s1-s\n",
    "print(s)\n",
    "print(s1)\n",
    "print(s2)"
   ]
  },
  {
   "cell_type": "code",
   "execution_count": 45,
   "metadata": {},
   "outputs": [
    {
     "name": "stdout",
     "output_type": "stream",
     "text": [
      "{'orange', 'apple', 'grape'}\n",
      "{'grape', 'mango', 'guva'}\n",
      "{'mango', 'guva'}\n"
     ]
    }
   ],
   "source": [
    "s={\"apple\",\"orange\",\"grape\"}\n",
    "s1={\"mango\",\"guva\",\"grape\"}\n",
    "s2=s1.difference(s)\n",
    "print(s)\n",
    "print(s1)\n",
    "print(s2)"
   ]
  },
  {
   "cell_type": "code",
   "execution_count": 46,
   "metadata": {},
   "outputs": [
    {
     "name": "stdout",
     "output_type": "stream",
     "text": [
      "{'orange', 'apple', 'grape'}\n",
      "{'mango', 'guva'}\n",
      "None\n"
     ]
    }
   ],
   "source": [
    "s={\"apple\",\"orange\",\"grape\"}\n",
    "s1={\"mango\",\"guva\",\"grape\"}\n",
    "s2=s1.difference_update(s)\n",
    "print(s)\n",
    "print(s1)\n",
    "print(s2)"
   ]
  },
  {
   "cell_type": "code",
   "execution_count": 47,
   "metadata": {},
   "outputs": [
    {
     "name": "stdout",
     "output_type": "stream",
     "text": [
      "{'orange', 'apple', 'grape'}\n",
      "{'grape', 'mango', 'guva'}\n",
      "{'orange', 'mango', 'apple', 'guva'}\n"
     ]
    }
   ],
   "source": [
    "s={\"apple\",\"orange\",\"grape\"}\n",
    "s1={\"mango\",\"guva\",\"grape\"}\n",
    "s2=s1.symmetric_difference(s)\n",
    "print(s)\n",
    "print(s1)\n",
    "print(s2)"
   ]
  },
  {
   "cell_type": "code",
   "execution_count": 48,
   "metadata": {},
   "outputs": [
    {
     "name": "stdout",
     "output_type": "stream",
     "text": [
      "{'orange', 'apple', 'grape'}\n",
      "{'mango', 'orange', 'apple', 'guva'}\n",
      "None\n"
     ]
    }
   ],
   "source": [
    "s={\"apple\",\"orange\",\"grape\"}\n",
    "s1={\"mango\",\"guva\",\"grape\"}\n",
    "s2=s1.symmetric_difference_update(s)\n",
    "print(s)\n",
    "print(s1)\n",
    "print(s2)"
   ]
  },
  {
   "cell_type": "code",
   "execution_count": 49,
   "metadata": {},
   "outputs": [
    {
     "name": "stdout",
     "output_type": "stream",
     "text": [
      "{'orange', 'apple', 'grape'}\n",
      "{'mango', 'orange', 'apple', 'guva'}\n",
      "None\n"
     ]
    }
   ],
   "source": [
    "s={\"apple\",\"orange\",\"grape\"}\n",
    "s1={\"mango\",\"guva\",\"grape\"}\n",
    "s2=s1.symmetric_difference_update(s)\n",
    "print(s)\n",
    "print(s1)\n",
    "print(s2)"
   ]
  },
  {
   "cell_type": "code",
   "execution_count": 50,
   "metadata": {},
   "outputs": [
    {
     "data": {
      "text/plain": [
       "False"
      ]
     },
     "execution_count": 50,
     "metadata": {},
     "output_type": "execute_result"
    }
   ],
   "source": [
    "s={\"apple\",\"orange\",\"grape\"}\n",
    "s1={\"apple\",\"orange\"}\n",
    "s.issubset(s1)"
   ]
  },
  {
   "cell_type": "code",
   "execution_count": 51,
   "metadata": {},
   "outputs": [
    {
     "data": {
      "text/plain": [
       "True"
      ]
     },
     "execution_count": 51,
     "metadata": {},
     "output_type": "execute_result"
    }
   ],
   "source": [
    "s={\"apple\",\"orange\",\"grape\"}\n",
    "s1={\"apple\",\"orange\"}\n",
    "s1.issubset(s)"
   ]
  },
  {
   "cell_type": "code",
   "execution_count": 52,
   "metadata": {},
   "outputs": [
    {
     "data": {
      "text/plain": [
       "False"
      ]
     },
     "execution_count": 52,
     "metadata": {},
     "output_type": "execute_result"
    }
   ],
   "source": [
    "s={\"apple\",\"orange\",\"grape\"}\n",
    "s1={\"apple\",\"orange\"}\n",
    "s1.issuperset(s)"
   ]
  },
  {
   "cell_type": "code",
   "execution_count": 53,
   "metadata": {},
   "outputs": [
    {
     "data": {
      "text/plain": [
       "True"
      ]
     },
     "execution_count": 53,
     "metadata": {},
     "output_type": "execute_result"
    }
   ],
   "source": [
    "s={\"apple\",\"orange\",\"grape\"}\n",
    "s1={\"apple\",\"orange\"}\n",
    "s.issuperset(s1)"
   ]
  },
  {
   "cell_type": "code",
   "execution_count": 54,
   "metadata": {},
   "outputs": [
    {
     "name": "stdout",
     "output_type": "stream",
     "text": [
      "['__and__', '__class__', '__contains__', '__delattr__', '__dir__', '__doc__', '__eq__', '__format__', '__ge__', '__getattribute__', '__gt__', '__hash__', '__iand__', '__init__', '__init_subclass__', '__ior__', '__isub__', '__iter__', '__ixor__', '__le__', '__len__', '__lt__', '__ne__', '__new__', '__or__', '__rand__', '__reduce__', '__reduce_ex__', '__repr__', '__ror__', '__rsub__', '__rxor__', '__setattr__', '__sizeof__', '__str__', '__sub__', '__subclasshook__', '__xor__', 'add', 'clear', 'copy', 'difference', 'difference_update', 'discard', 'intersection', 'intersection_update', 'isdisjoint', 'issubset', 'issuperset', 'pop', 'remove', 'symmetric_difference', 'symmetric_difference_update', 'union', 'update']\n"
     ]
    }
   ],
   "source": [
    "print(dir(s))"
   ]
  },
  {
   "cell_type": "code",
   "execution_count": 55,
   "metadata": {},
   "outputs": [
    {
     "name": "stdout",
     "output_type": "stream",
     "text": [
      "{'orange', 'apple'}\n"
     ]
    }
   ],
   "source": [
    "s={\"apple\",\"orange\",\"grape\"}\n",
    "s1={\"apple\",\"orange\",\"guva\"}\n",
    "s2=s.intersection(s1)\n",
    "print(s2)\n"
   ]
  },
  {
   "cell_type": "code",
   "execution_count": 56,
   "metadata": {},
   "outputs": [
    {
     "name": "stdout",
     "output_type": "stream",
     "text": [
      "{'orange', 'apple'}\n",
      "None\n"
     ]
    }
   ],
   "source": [
    "s={\"apple\",\"orange\",\"grape\"}\n",
    "s1={\"apple\",\"orange\",\"guva\"}\n",
    "s2=s.intersection_update(s1)\n",
    "print(s)\n",
    "print(s2)\n"
   ]
  },
  {
   "cell_type": "code",
   "execution_count": 57,
   "metadata": {},
   "outputs": [
    {
     "name": "stdout",
     "output_type": "stream",
     "text": [
      "{'orange', 'apple'}\n",
      "None\n"
     ]
    }
   ],
   "source": [
    "s={\"apple\",\"orange\",\"grape\"}\n",
    "s1={\"apple\",\"orange\",\"guva\"}\n",
    "s2=s1.intersection_update(s)\n",
    "print(s1)\n",
    "print(s2)\n"
   ]
  },
  {
   "cell_type": "code",
   "execution_count": 58,
   "metadata": {},
   "outputs": [
    {
     "name": "stdout",
     "output_type": "stream",
     "text": [
      "['__and__', '__class__', '__contains__', '__delattr__', '__dir__', '__doc__', '__eq__', '__format__', '__ge__', '__getattribute__', '__gt__', '__hash__', '__iand__', '__init__', '__init_subclass__', '__ior__', '__isub__', '__iter__', '__ixor__', '__le__', '__len__', '__lt__', '__ne__', '__new__', '__or__', '__rand__', '__reduce__', '__reduce_ex__', '__repr__', '__ror__', '__rsub__', '__rxor__', '__setattr__', '__sizeof__', '__str__', '__sub__', '__subclasshook__', '__xor__', 'add', 'clear', 'copy', 'difference', 'difference_update', 'discard', 'intersection', 'intersection_update', 'isdisjoint', 'issubset', 'issuperset', 'pop', 'remove', 'symmetric_difference', 'symmetric_difference_update', 'union', 'update']\n"
     ]
    }
   ],
   "source": [
    "# API: {\"name\",\"age\",\"adhar\",\"phone\",\"pan\",\"email\"}\n",
    "# {name,age,email} mandatory. {adhar,phone,pan} optional\n",
    "actual_parameters={\"name\",\"age\",\"adhar\",\"phone\",\"pan\",\"email\"}\n",
    "mandatory_parameters={\"name\",\"age\",\"email\"}\n",
    "optional_parameters ={\"adhar\",\"phone\",\"pan\"}\n",
    "given_paramaeters={\"name\"}\n",
    "# missing age and email\n",
    "# given_paramaeters={\"name\",\"age\",\"email\"} : OK\n",
    "# given_paramaeters = {\"name\",\"age\",\"adhar\",\"phone\"}:ok\n",
    "#given_parameters = {\"name\",\"age\",\"adhar\",\"country\"}: unknow parameter:country,missing: email\n",
    "print(dir(s))"
   ]
  },
  {
   "cell_type": "code",
   "execution_count": 59,
   "metadata": {},
   "outputs": [
    {
     "name": "stdout",
     "output_type": "stream",
     "text": [
      "False\n"
     ]
    }
   ],
   "source": [
    "actual_parameters={\"name\",\"age\",\"adhar\",\"phone\",\"pan\",\"email\"}\n",
    "mandatory_parameters={\"name\",\"age\",\"email\"}\n",
    "optional_parameters ={\"adhar\",\"phone\",\"pan\"}\n",
    "given_paramaeters={\"name\",\"country\"}\n",
    "print(given_paramaeters.issubset(actual_parameters))"
   ]
  },
  {
   "cell_type": "code",
   "execution_count": 60,
   "metadata": {},
   "outputs": [
    {
     "name": "stdout",
     "output_type": "stream",
     "text": [
      "{'country'}\n"
     ]
    }
   ],
   "source": [
    "actual_parameters={\"name\",\"age\",\"adhar\",\"phone\",\"pan\",\"email\"}\n",
    "mandatory_parameters={\"name\",\"age\",\"email\"}\n",
    "optional_parameters ={\"adhar\",\"phone\",\"pan\"}\n",
    "given_paramaeters={\"name\",\"country\"}\n",
    "print(given_paramaeters.difference(actual_parameters))"
   ]
  },
  {
   "cell_type": "code",
   "execution_count": 61,
   "metadata": {},
   "outputs": [
    {
     "name": "stdout",
     "output_type": "stream",
     "text": [
      "unknown parameters: {'country'}\n"
     ]
    }
   ],
   "source": [
    "actual_parameters={\"name\",\"age\",\"adhar\",\"phone\",\"pan\",\"email\"}\n",
    "mandatory_parameters={\"name\",\"age\",\"email\"}\n",
    "optional_parameters ={\"adhar\",\"phone\",\"pan\"}\n",
    "given_paramaeters={\"name\",\"country\"}\n",
    "if not given_paramaeters.issubset(actual_parameters):\n",
    "    print(\"unknown parameters:\",given_paramaeters.difference(actual_parameters))\n"
   ]
  },
  {
   "cell_type": "code",
   "execution_count": 62,
   "metadata": {},
   "outputs": [
    {
     "name": "stdout",
     "output_type": "stream",
     "text": [
      "[\"missing:{'age'}\"]\n"
     ]
    }
   ],
   "source": [
    "actual_parameters={\"name\",\"age\",\"adhar\",\"phone\",\"pan\",\"email\"}\n",
    "mandatory_parameters={\"name\",\"age\",\"email\"}\n",
    "optional_parameters ={\"adhar\",\"phone\",\"pan\"}\n",
    "given_paramaeters={\"name\",\"adhar\",\"pan\",\"email\"}\n",
    "errors = []\n",
    "if not given_paramaeters.issubset(actual_parameters):\n",
    "    msg=\"unknown parameters: %s\"%given_paramaeters.difference(actual_parameters)\n",
    "    errors.append(msg)\n",
    "if not mandatory_parameters.issubset(given_paramaeters):\n",
    "    msg = \"missing:%s\" % (mandatory_parameters-given_paramaeters)\n",
    "    errors.append(msg)\n",
    "if errors:\n",
    "    print(errors)\n",
    "else:\n",
    "    print(\"OK\")\n"
   ]
  },
  {
   "cell_type": "code",
   "execution_count": 63,
   "metadata": {},
   "outputs": [
    {
     "name": "stdout",
     "output_type": "stream",
     "text": [
      "[\"unknown parameters: {'country'}\", \"missing:{'age'}\"]\n"
     ]
    }
   ],
   "source": [
    "actual_parameters={\"name\",\"age\",\"adhar\",\"phone\",\"pan\",\"email\"}\n",
    "mandatory_parameters={\"name\",\"age\",\"email\"}\n",
    "optional_parameters ={\"adhar\",\"phone\",\"pan\"}\n",
    "given_paramaeters={\"name\",\"adhar\",\"pan\",\"email\",\"country\"}\n",
    "errors = []\n",
    "if not given_paramaeters.issubset(actual_parameters):\n",
    "    msg=\"unknown parameters: %s\"%given_paramaeters.difference(actual_parameters)\n",
    "    errors.append(msg)\n",
    "if not mandatory_parameters.issubset(given_paramaeters):\n",
    "    msg = \"missing:%s\" % (mandatory_parameters-given_paramaeters)\n",
    "    errors.append(msg)\n",
    "if errors:\n",
    "    print(errors)\n",
    "else:\n",
    "    print(\"OK\")\n"
   ]
  },
  {
   "cell_type": "code",
   "execution_count": 64,
   "metadata": {},
   "outputs": [
    {
     "name": "stdout",
     "output_type": "stream",
     "text": [
      "[\"unknown parameters: {'country'}\"]\n"
     ]
    }
   ],
   "source": [
    "actual_parameters={\"name\",\"age\",\"adhar\",\"phone\",\"pan\",\"email\"}\n",
    "mandatory_parameters={\"name\",\"age\",\"email\"}\n",
    "optional_parameters ={\"adhar\",\"phone\",\"pan\"}\n",
    "given_paramaeters={\"name\",\"adhar\",\"pan\",\"email\",\"country\",\"age\"}\n",
    "errors = []\n",
    "if not given_paramaeters.issubset(actual_parameters):\n",
    "    msg=\"unknown parameters: %s\"%given_paramaeters.difference(actual_parameters)\n",
    "    errors.append(msg)\n",
    "if not mandatory_parameters.issubset(given_paramaeters):\n",
    "    msg = \"missing:%s\" % (mandatory_parameters-given_paramaeters)\n",
    "    errors.append(msg)\n",
    "if errors:\n",
    "    print(errors)\n",
    "else:\n",
    "    print(\"OK\")\n"
   ]
  },
  {
   "cell_type": "code",
   "execution_count": 65,
   "metadata": {},
   "outputs": [
    {
     "name": "stdout",
     "output_type": "stream",
     "text": [
      "OK\n"
     ]
    }
   ],
   "source": [
    "actual_parameters={\"name\",\"age\",\"adhar\",\"phone\",\"pan\",\"email\"}\n",
    "mandatory_parameters={\"name\",\"age\",\"email\"}\n",
    "optional_parameters ={\"adhar\",\"phone\",\"pan\"}\n",
    "given_paramaeters={\"name\",\"adhar\",\"pan\",\"email\",\"age\"}\n",
    "errors = []\n",
    "if not given_paramaeters.issubset(actual_parameters):\n",
    "    msg=\"unknown parameters: %s\"%given_paramaeters.difference(actual_parameters)\n",
    "    errors.append(msg)\n",
    "if not mandatory_parameters.issubset(given_paramaeters):\n",
    "    msg = \"missing:%s\" % (mandatory_parameters-given_paramaeters)\n",
    "    errors.append(msg)\n",
    "if errors:\n",
    "    print(errors)\n",
    "else:\n",
    "    print(\"OK\")\n"
   ]
  },
  {
   "cell_type": "code",
   "execution_count": 67,
   "metadata": {},
   "outputs": [
    {
     "name": "stdout",
     "output_type": "stream",
     "text": [
      "{'apple', 'grape'}\n"
     ]
    }
   ],
   "source": [
    "s={\"orange\",\"apple\",\"grape\"}\n",
    "s.remove(\"orange\")\n",
    "print(s)"
   ]
  },
  {
   "cell_type": "code",
   "execution_count": 68,
   "metadata": {},
   "outputs": [
    {
     "ename": "TypeError",
     "evalue": "'str' object does not support item assignment",
     "output_type": "error",
     "traceback": [
      "\u001b[1;31m---------------------------------------------------------------------------\u001b[0m",
      "\u001b[1;31mTypeError\u001b[0m                                 Traceback (most recent call last)",
      "\u001b[1;32m<ipython-input-68-f66e0fc89d94>\u001b[0m in \u001b[0;36m<module>\u001b[1;34m\u001b[0m\n\u001b[0;32m      2\u001b[0m \u001b[0ms\u001b[0m\u001b[1;33m=\u001b[0m\u001b[1;34m\"python\"\u001b[0m\u001b[1;33m\u001b[0m\u001b[1;33m\u001b[0m\u001b[0m\n\u001b[0;32m      3\u001b[0m \u001b[0ml\u001b[0m\u001b[1;33m=\u001b[0m\u001b[1;33m[\u001b[0m\u001b[1;36m10\u001b[0m\u001b[1;33m,\u001b[0m\u001b[1;36m20\u001b[0m\u001b[1;33m,\u001b[0m\u001b[1;36m30\u001b[0m\u001b[1;33m,\u001b[0m\u001b[1;36m40\u001b[0m\u001b[1;33m]\u001b[0m\u001b[1;33m\u001b[0m\u001b[1;33m\u001b[0m\u001b[0m\n\u001b[1;32m----> 4\u001b[1;33m \u001b[0ms\u001b[0m\u001b[1;33m[\u001b[0m\u001b[1;36m0\u001b[0m\u001b[1;33m]\u001b[0m\u001b[1;33m=\u001b[0m\u001b[1;34m\"Q\"\u001b[0m\u001b[1;33m\u001b[0m\u001b[1;33m\u001b[0m\u001b[0m\n\u001b[0m\u001b[0;32m      5\u001b[0m \u001b[0mprint\u001b[0m\u001b[1;33m(\u001b[0m\u001b[0ms\u001b[0m\u001b[1;33m)\u001b[0m\u001b[1;33m\u001b[0m\u001b[1;33m\u001b[0m\u001b[0m\n",
      "\u001b[1;31mTypeError\u001b[0m: 'str' object does not support item assignment"
     ]
    }
   ],
   "source": [
    "# in python immutable sets\n",
    "s=\"python\"\n",
    "l=[10,20,30,40]\n",
    "s[0]=\"Q\"\n",
    "print(s)"
   ]
  },
  {
   "cell_type": "code",
   "execution_count": 69,
   "metadata": {},
   "outputs": [
    {
     "name": "stdout",
     "output_type": "stream",
     "text": [
      "['Q', 20, 30, 40]\n"
     ]
    }
   ],
   "source": [
    "# in python immutable sets\n",
    "s=\"python\"\n",
    "l=[10,20,30,40]\n",
    "l[0]=\"Q\"\n",
    "print(l)"
   ]
  },
  {
   "cell_type": "code",
   "execution_count": 70,
   "metadata": {},
   "outputs": [
    {
     "name": "stdout",
     "output_type": "stream",
     "text": [
      "python\n",
      "jython\n"
     ]
    }
   ],
   "source": [
    "s=\"python\"\n",
    "s1=s.replace(\"p\",\"j\")\n",
    "print(s)\n",
    "print(s1)"
   ]
  },
  {
   "cell_type": "code",
   "execution_count": 71,
   "metadata": {},
   "outputs": [
    {
     "name": "stdout",
     "output_type": "stream",
     "text": [
      "{1, 2, 3}\n"
     ]
    }
   ],
   "source": [
    "s={1,2}\n",
    "s.add(3)\n",
    "print(s)"
   ]
  },
  {
   "cell_type": "code",
   "execution_count": 72,
   "metadata": {},
   "outputs": [
    {
     "name": "stdout",
     "output_type": "stream",
     "text": [
      "{2, 3}\n"
     ]
    }
   ],
   "source": [
    "s.remove(1)\n",
    "print(s)"
   ]
  },
  {
   "cell_type": "code",
   "execution_count": 74,
   "metadata": {},
   "outputs": [
    {
     "name": "stdout",
     "output_type": "stream",
     "text": [
      "frozenset({1, 2, 3})\n"
     ]
    }
   ],
   "source": [
    "s=frozenset([1,2,3])\n",
    "print(s)"
   ]
  },
  {
   "cell_type": "code",
   "execution_count": 75,
   "metadata": {},
   "outputs": [
    {
     "name": "stdout",
     "output_type": "stream",
     "text": [
      "frozenset({1, 2, 3})\n",
      "['__and__', '__class__', '__contains__', '__delattr__', '__dir__', '__doc__', '__eq__', '__format__', '__ge__', '__getattribute__', '__gt__', '__hash__', '__init__', '__init_subclass__', '__iter__', '__le__', '__len__', '__lt__', '__ne__', '__new__', '__or__', '__rand__', '__reduce__', '__reduce_ex__', '__repr__', '__ror__', '__rsub__', '__rxor__', '__setattr__', '__sizeof__', '__str__', '__sub__', '__subclasshook__', '__xor__', 'copy', 'difference', 'intersection', 'isdisjoint', 'issubset', 'issuperset', 'symmetric_difference', 'union']\n"
     ]
    }
   ],
   "source": [
    "s=frozenset([1,2,3])\n",
    "print(s)\n",
    "print(dir(s))"
   ]
  },
  {
   "cell_type": "code",
   "execution_count": null,
   "metadata": {},
   "outputs": [],
   "source": [
    "# read sql queries: create, insert, update, delete, select"
   ]
  }
 ],
 "metadata": {
  "kernelspec": {
   "display_name": "Python 3",
   "language": "python",
   "name": "python3"
  },
  "language_info": {
   "codemirror_mode": {
    "name": "ipython",
    "version": 3
   },
   "file_extension": ".py",
   "mimetype": "text/x-python",
   "name": "python",
   "nbconvert_exporter": "python",
   "pygments_lexer": "ipython3",
   "version": "3.8.3"
  }
 },
 "nbformat": 4,
 "nbformat_minor": 4
}
