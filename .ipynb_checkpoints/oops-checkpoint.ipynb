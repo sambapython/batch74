{
 "cells": [
  {
   "cell_type": "code",
   "execution_count": 1,
   "metadata": {},
   "outputs": [
    {
     "name": "stdout",
     "output_type": "stream",
     "text": [
      "this is class\n"
     ]
    }
   ],
   "source": [
    "def fun():\n",
    "    print(\"this is fun\")\n",
    "    \n",
    "class cls1:\n",
    "    print(\"this is class\")"
   ]
  },
  {
   "cell_type": "code",
   "execution_count": 2,
   "metadata": {},
   "outputs": [],
   "source": [
    "class emp:\n",
    "    company_name=\"Khyaathi\"\n",
    "    def get(x):\n",
    "        print(\"this is get\")\n",
    "    def put(x):\n",
    "        print(\"this is put\")\n",
    "    \n",
    "samba=emp()\n",
    "samba.name=\"sambasiva\"\n",
    "samba.emp_id=1\n",
    "sai=emp()\n",
    "sai.name=\"sailaxmi\"\n",
    "sai.phone=9876567894\n",
    "sai.emp_id=2"
   ]
  },
  {
   "cell_type": "code",
   "execution_count": 3,
   "metadata": {},
   "outputs": [
    {
     "ename": "NameError",
     "evalue": "name 'company_name' is not defined",
     "output_type": "error",
     "traceback": [
      "\u001b[1;31m---------------------------------------------------------------------------\u001b[0m",
      "\u001b[1;31mNameError\u001b[0m                                 Traceback (most recent call last)",
      "\u001b[1;32m<ipython-input-3-446a59ad143a>\u001b[0m in \u001b[0;36m<module>\u001b[1;34m\u001b[0m\n\u001b[0;32m      5\u001b[0m     \u001b[1;32mdef\u001b[0m \u001b[0mput\u001b[0m\u001b[1;33m(\u001b[0m\u001b[0mx\u001b[0m\u001b[1;33m)\u001b[0m\u001b[1;33m:\u001b[0m\u001b[1;33m\u001b[0m\u001b[1;33m\u001b[0m\u001b[0m\n\u001b[0;32m      6\u001b[0m         \u001b[0mprint\u001b[0m\u001b[1;33m(\u001b[0m\u001b[1;34m\"this is put\"\u001b[0m\u001b[1;33m)\u001b[0m\u001b[1;33m\u001b[0m\u001b[1;33m\u001b[0m\u001b[0m\n\u001b[1;32m----> 7\u001b[1;33m \u001b[0mprint\u001b[0m\u001b[1;33m(\u001b[0m\u001b[0mcompany_name\u001b[0m\u001b[1;33m)\u001b[0m\u001b[1;33m\u001b[0m\u001b[1;33m\u001b[0m\u001b[0m\n\u001b[0m",
      "\u001b[1;31mNameError\u001b[0m: name 'company_name' is not defined"
     ]
    }
   ],
   "source": [
    "class emp:\n",
    "    company_name=\"Khyaathi\"\n",
    "    def get(x):\n",
    "        print(\"this is get\")\n",
    "    def put(x):\n",
    "        print(\"this is put\")\n",
    "print(company_name)"
   ]
  },
  {
   "cell_type": "code",
   "execution_count": 4,
   "metadata": {},
   "outputs": [
    {
     "name": "stdout",
     "output_type": "stream",
     "text": [
      "Khyaathi\n"
     ]
    }
   ],
   "source": [
    "class emp:\n",
    "    company_name=\"Khyaathi\"\n",
    "    def get(x):\n",
    "        print(\"this is get\")\n",
    "    def put(x):\n",
    "        print(\"this is put\")\n",
    "print(emp.company_name)"
   ]
  },
  {
   "cell_type": "code",
   "execution_count": 5,
   "metadata": {},
   "outputs": [
    {
     "name": "stdout",
     "output_type": "stream",
     "text": [
      "Khyaathi\n",
      "this is get\n",
      "this is put\n"
     ]
    }
   ],
   "source": [
    "class emp:\n",
    "    company_name=\"Khyaathi\"\n",
    "    def get(x):\n",
    "        print(\"this is get\")\n",
    "    def put(x):\n",
    "        print(\"this is put\")\n",
    "print(emp.company_name)\n",
    "emp.get(10)\n",
    "emp.put(20)"
   ]
  },
  {
   "cell_type": "code",
   "execution_count": 6,
   "metadata": {},
   "outputs": [
    {
     "name": "stdout",
     "output_type": "stream",
     "text": [
      "sambasiva 1 Khyaathi\n",
      "sailaxmi 2 9876567894 Khyaathi\n"
     ]
    }
   ],
   "source": [
    "class emp:\n",
    "    company_name=\"Khyaathi\"\n",
    "    def get(x):\n",
    "        print(\"this is get\")\n",
    "    def put(x):\n",
    "        print(\"this is put\")\n",
    "    \n",
    "samba=emp()\n",
    "samba.name=\"sambasiva\"\n",
    "samba.emp_id=1\n",
    "print(samba.name,samba.emp_id,samba.company_name)\n",
    "sai=emp()\n",
    "sai.name=\"sailaxmi\"\n",
    "sai.phone=9876567894\n",
    "sai.emp_id=2\n",
    "print(sai.name,sai.emp_id,sai.phone,sai.company_name)"
   ]
  },
  {
   "cell_type": "code",
   "execution_count": 7,
   "metadata": {},
   "outputs": [
    {
     "name": "stdout",
     "output_type": "stream",
     "text": [
      "sambasiva 1 Khyaathi\n",
      "sailaxmi 2 9876567894 Khyaathi\n"
     ]
    },
    {
     "ename": "AttributeError",
     "evalue": "'emp' object has no attribute 'phone'",
     "output_type": "error",
     "traceback": [
      "\u001b[1;31m---------------------------------------------------------------------------\u001b[0m",
      "\u001b[1;31mAttributeError\u001b[0m                            Traceback (most recent call last)",
      "\u001b[1;32m<ipython-input-7-74be0d593640>\u001b[0m in \u001b[0;36m<module>\u001b[1;34m\u001b[0m\n\u001b[0;32m     15\u001b[0m \u001b[0msai\u001b[0m\u001b[1;33m.\u001b[0m\u001b[0memp_id\u001b[0m\u001b[1;33m=\u001b[0m\u001b[1;36m2\u001b[0m\u001b[1;33m\u001b[0m\u001b[1;33m\u001b[0m\u001b[0m\n\u001b[0;32m     16\u001b[0m \u001b[0mprint\u001b[0m\u001b[1;33m(\u001b[0m\u001b[0msai\u001b[0m\u001b[1;33m.\u001b[0m\u001b[0mname\u001b[0m\u001b[1;33m,\u001b[0m\u001b[0msai\u001b[0m\u001b[1;33m.\u001b[0m\u001b[0memp_id\u001b[0m\u001b[1;33m,\u001b[0m\u001b[0msai\u001b[0m\u001b[1;33m.\u001b[0m\u001b[0mphone\u001b[0m\u001b[1;33m,\u001b[0m\u001b[0msai\u001b[0m\u001b[1;33m.\u001b[0m\u001b[0mcompany_name\u001b[0m\u001b[1;33m)\u001b[0m\u001b[1;33m\u001b[0m\u001b[1;33m\u001b[0m\u001b[0m\n\u001b[1;32m---> 17\u001b[1;33m \u001b[0mprint\u001b[0m\u001b[1;33m(\u001b[0m\u001b[0msamba\u001b[0m\u001b[1;33m.\u001b[0m\u001b[0mphone\u001b[0m\u001b[1;33m)\u001b[0m\u001b[1;33m\u001b[0m\u001b[1;33m\u001b[0m\u001b[0m\n\u001b[0m",
      "\u001b[1;31mAttributeError\u001b[0m: 'emp' object has no attribute 'phone'"
     ]
    }
   ],
   "source": [
    "class emp:\n",
    "    company_name=\"Khyaathi\"\n",
    "    def get(x):\n",
    "        print(\"this is get\")\n",
    "    def put(x):\n",
    "        print(\"this is put\")\n",
    "    \n",
    "samba=emp()\n",
    "samba.name=\"sambasiva\"\n",
    "samba.emp_id=1\n",
    "print(samba.name,samba.emp_id,samba.company_name)\n",
    "sai=emp()\n",
    "sai.name=\"sailaxmi\"\n",
    "sai.phone=9876567894\n",
    "sai.emp_id=2\n",
    "print(sai.name,sai.emp_id,sai.phone,sai.company_name)\n",
    "print(samba.phone)"
   ]
  },
  {
   "cell_type": "code",
   "execution_count": 8,
   "metadata": {},
   "outputs": [
    {
     "name": "stdout",
     "output_type": "stream",
     "text": [
      "sambasiva 1 None Khyaathi\n",
      "sailaxmi 2 9876567894 Khyaathi\n"
     ]
    }
   ],
   "source": [
    "class emp:\n",
    "    company_name=\"Khyaathi\"\n",
    "    def get(x):\n",
    "        print(x.name,x.emp_id,x.phone,x.company_name)\n",
    "    def put(x,name, emp_id, phone=None):\n",
    "        x.name=name\n",
    "        x.emp_id=emp_id\n",
    "        x.phone=phone\n",
    "        \n",
    "        \n",
    "        \n",
    "    \n",
    "samba=emp()\n",
    "# samba.name=\"sambasiva\"\n",
    "# samba.emp_id=1\n",
    "emp.put(samba,\"sambasiva\",1)\n",
    "#print(samba.name,samba.emp_id,samba.company_name)\n",
    "emp.get(samba)\n",
    "sai=emp()\n",
    "emp.put(sai,\"sailaxmi\",2,9876567894)\n",
    "# sai.name=\"sailaxmi\"\n",
    "# sai.phone=9876567894\n",
    "# sai.emp_id=2\n",
    "# print(sai.name,sai.emp_id,sai.phone,sai.company_name)\n",
    "# print(samba.phone)\n",
    "emp.get(sai)"
   ]
  },
  {
   "cell_type": "code",
   "execution_count": null,
   "metadata": {},
   "outputs": [],
   "source": [
    "class emp:\n",
    "    company_name=\"Khyaathi\"\n",
    "    def get(x):\n",
    "        print(x.name,x.emp_id,x.phone,x.company_name)\n",
    "    def put(x,name, emp_id, phone=None):\n",
    "        x.name=name\n",
    "        x.emp_id=emp_id\n",
    "        x.phone=phone\n",
    "        \n",
    "\n",
    "samba=emp()\n",
    "emp.put(samba,\"sambasiva\",1)\n",
    "emp.get(samba)\n",
    "sai=emp()\n",
    "emp.put(sai,\"sailaxmi\",2,9876567894)\n",
    "emp.get(sai)"
   ]
  },
  {
   "cell_type": "code",
   "execution_count": 9,
   "metadata": {},
   "outputs": [
    {
     "name": "stdout",
     "output_type": "stream",
     "text": [
      "Vagonr 700000 navy Blue 23*32*45 Maruthi\n",
      "Swift 9000000 Grey 25*32*43 Maruthi\n"
     ]
    }
   ],
   "source": [
    "# define a class for car which is belongs maruthi compnay. every car may have cost,color, dimensions,\n",
    "class Car:\n",
    "    company=\"Maruthi\" # class object atribute\n",
    "    \n",
    "    def put(x, name, cost,color,dimensions):\n",
    "        x.name=name # name, color, cost, dimensions are data object attributes\n",
    "        x.color=color\n",
    "        x.cost=cost\n",
    "        x.dimensions=dimensions\n",
    "        \n",
    "    def get(x):\n",
    "        print(x.name, x.cost, x.color, x.dimensions, x.company)\n",
    "        \n",
    "vagonr = Car()# car() is a data object, vagonr is a reference to the data object. called as an instance\n",
    "Car.put(vagonr, \"Vagonr\",700000, \"navy Blue\",\"23*32*45\")\n",
    "swift = Car()\n",
    "Car.put(swift,\"Swift\",9000000,\"Grey\",\"25*32*43\")\n",
    "Car.get(vagonr)\n",
    "Car.get(swift)"
   ]
  },
  {
   "cell_type": "code",
   "execution_count": 10,
   "metadata": {},
   "outputs": [
    {
     "name": "stdout",
     "output_type": "stream",
     "text": [
      "Vagonr 700000 navy Blue 23*32*45 Maruthi\n",
      "Swift 9000000 Grey 25*32*43 Maruthi\n"
     ]
    },
    {
     "ename": "AttributeError",
     "evalue": "'Car' object has no attribute 'name'",
     "output_type": "error",
     "traceback": [
      "\u001b[1;31m---------------------------------------------------------------------------\u001b[0m",
      "\u001b[1;31mAttributeError\u001b[0m                            Traceback (most recent call last)",
      "\u001b[1;32m<ipython-input-10-cb77a621a9d9>\u001b[0m in \u001b[0;36m<module>\u001b[1;34m\u001b[0m\n\u001b[0;32m     19\u001b[0m \u001b[0mCar\u001b[0m\u001b[1;33m.\u001b[0m\u001b[0mget\u001b[0m\u001b[1;33m(\u001b[0m\u001b[0mswift\u001b[0m\u001b[1;33m)\u001b[0m\u001b[1;33m\u001b[0m\u001b[1;33m\u001b[0m\u001b[0m\n\u001b[0;32m     20\u001b[0m \u001b[0mscross\u001b[0m\u001b[1;33m=\u001b[0m\u001b[0mCar\u001b[0m\u001b[1;33m(\u001b[0m\u001b[1;33m)\u001b[0m\u001b[1;33m\u001b[0m\u001b[1;33m\u001b[0m\u001b[0m\n\u001b[1;32m---> 21\u001b[1;33m \u001b[0mCar\u001b[0m\u001b[1;33m.\u001b[0m\u001b[0mget\u001b[0m\u001b[1;33m(\u001b[0m\u001b[0mscross\u001b[0m\u001b[1;33m)\u001b[0m\u001b[1;33m\u001b[0m\u001b[1;33m\u001b[0m\u001b[0m\n\u001b[0m",
      "\u001b[1;32m<ipython-input-10-cb77a621a9d9>\u001b[0m in \u001b[0;36mget\u001b[1;34m(x)\u001b[0m\n\u001b[0;32m     10\u001b[0m \u001b[1;33m\u001b[0m\u001b[0m\n\u001b[0;32m     11\u001b[0m     \u001b[1;32mdef\u001b[0m \u001b[0mget\u001b[0m\u001b[1;33m(\u001b[0m\u001b[0mx\u001b[0m\u001b[1;33m)\u001b[0m\u001b[1;33m:\u001b[0m\u001b[1;33m\u001b[0m\u001b[1;33m\u001b[0m\u001b[0m\n\u001b[1;32m---> 12\u001b[1;33m         \u001b[0mprint\u001b[0m\u001b[1;33m(\u001b[0m\u001b[0mx\u001b[0m\u001b[1;33m.\u001b[0m\u001b[0mname\u001b[0m\u001b[1;33m,\u001b[0m \u001b[0mx\u001b[0m\u001b[1;33m.\u001b[0m\u001b[0mcost\u001b[0m\u001b[1;33m,\u001b[0m \u001b[0mx\u001b[0m\u001b[1;33m.\u001b[0m\u001b[0mcolor\u001b[0m\u001b[1;33m,\u001b[0m \u001b[0mx\u001b[0m\u001b[1;33m.\u001b[0m\u001b[0mdimensions\u001b[0m\u001b[1;33m,\u001b[0m \u001b[0mx\u001b[0m\u001b[1;33m.\u001b[0m\u001b[0mcompany\u001b[0m\u001b[1;33m)\u001b[0m\u001b[1;33m\u001b[0m\u001b[1;33m\u001b[0m\u001b[0m\n\u001b[0m\u001b[0;32m     13\u001b[0m \u001b[1;33m\u001b[0m\u001b[0m\n\u001b[0;32m     14\u001b[0m \u001b[0mvagonr\u001b[0m \u001b[1;33m=\u001b[0m \u001b[0mCar\u001b[0m\u001b[1;33m(\u001b[0m\u001b[1;33m)\u001b[0m\u001b[1;31m# car() is a data object, vagonr is a reference to the data object. called as an instance\u001b[0m\u001b[1;33m\u001b[0m\u001b[1;33m\u001b[0m\u001b[0m\n",
      "\u001b[1;31mAttributeError\u001b[0m: 'Car' object has no attribute 'name'"
     ]
    }
   ],
   "source": [
    "# define a class for car which is belongs maruthi compnay. every car may have cost,color, dimensions,\n",
    "class Car:\n",
    "    company=\"Maruthi\" # class object atribute\n",
    "    \n",
    "    def put(x, name, cost,color,dimensions):\n",
    "        x.name=name # name, color, cost, dimensions are data object attributes\n",
    "        x.color=color\n",
    "        x.cost=cost\n",
    "        x.dimensions=dimensions\n",
    "        \n",
    "    def get(x):\n",
    "        print(x.name, x.cost, x.color, x.dimensions, x.company)\n",
    "        \n",
    "vagonr = Car()# car() is a data object, vagonr is a reference to the data object. called as an instance\n",
    "Car.put(vagonr, \"Vagonr\",700000, \"navy Blue\",\"23*32*45\")\n",
    "swift = Car()\n",
    "Car.put(swift,\"Swift\",9000000,\"Grey\",\"25*32*43\")\n",
    "Car.get(vagonr)\n",
    "Car.get(swift)\n",
    "scross=Car()\n",
    "Car.get(scross)"
   ]
  },
  {
   "cell_type": "code",
   "execution_count": 1,
   "metadata": {},
   "outputs": [],
   "source": [
    "# take any scenario identify the entties in that scenario.\n",
    "# we need to define the classes for travel agency project."
   ]
  },
  {
   "cell_type": "code",
   "execution_count": 2,
   "metadata": {},
   "outputs": [
    {
     "name": "stdout",
     "output_type": "stream",
     "text": [
      "this is class\n"
     ]
    }
   ],
   "source": [
    "class Emp:\n",
    "    print(\"this is class\")\n",
    "    def __init__(x):\n",
    "        print(\"this is init\")\n",
    "    def get(x):\n",
    "        print(\"this is get\")"
   ]
  },
  {
   "cell_type": "code",
   "execution_count": 3,
   "metadata": {},
   "outputs": [
    {
     "name": "stdout",
     "output_type": "stream",
     "text": [
      "this is class\n",
      "this is init\n"
     ]
    }
   ],
   "source": [
    "class Emp:\n",
    "    print(\"this is class\")\n",
    "    def __init__(x):\n",
    "        print(\"this is init\")\n",
    "    def get(x):\n",
    "        print(\"this is get\")\n",
    "jay=Emp()"
   ]
  },
  {
   "cell_type": "code",
   "execution_count": 4,
   "metadata": {},
   "outputs": [
    {
     "name": "stdout",
     "output_type": "stream",
     "text": [
      "this is class\n",
      "this is init\n",
      "this is init\n",
      "this is init\n"
     ]
    }
   ],
   "source": [
    "class Emp:\n",
    "    print(\"this is class\")\n",
    "    def __init__(x):\n",
    "        print(\"this is init\")\n",
    "    def get(x):\n",
    "        print(\"this is get\")\n",
    "jay=Emp()\n",
    "vedha=Emp()\n",
    "sai=Emp()"
   ]
  },
  {
   "cell_type": "code",
   "execution_count": null,
   "metadata": {},
   "outputs": [],
   "source": [
    "class Emp:\n",
    "    print(\"this is class\")\n",
    "    def __init__(x):\n",
    "        print(\"this is init\")\n",
    "    def get(x):\n",
    "        print(\"this is get\")\n",
    "jay=Emp()\n",
    "\"\"\"\n",
    "1. internally it will call __new__ method,this method returns the data object\n",
    "2. by using this data object, the constructor gets called.\n",
    "3. at the end it will return the data object.\n",
    "\"\"\"\n",
    "vedha=Emp()\n",
    "sai=Emp()"
   ]
  },
  {
   "cell_type": "code",
   "execution_count": 5,
   "metadata": {},
   "outputs": [
    {
     "name": "stdout",
     "output_type": "stream",
     "text": [
      "Vagonr 700000 navy Blue 23*32*45 Maruthi\n",
      "Swift 9000000 Grey 25*32*43 Maruthi\n"
     ]
    }
   ],
   "source": [
    "class Car:\n",
    "    company=\"Maruthi\" \n",
    "    \n",
    "    def __init__(x, name, cost,color,dimensions):\n",
    "        x.name=name \n",
    "        x.color=color\n",
    "        x.cost=cost\n",
    "        x.dimensions=dimensions\n",
    "        \n",
    "    def get(x):\n",
    "        print(x.name, x.cost, x.color, x.dimensions, x.company)\n",
    "        \n",
    "vagonr = Car(\"Vagonr\",700000, \"navy Blue\",\"23*32*45\")\n",
    "swift = Car(\"Swift\",9000000,\"Grey\",\"25*32*43\")\n",
    "Car.get(vagonr)\n",
    "Car.get(swift)"
   ]
  },
  {
   "cell_type": "code",
   "execution_count": 6,
   "metadata": {},
   "outputs": [
    {
     "name": "stdout",
     "output_type": "stream",
     "text": [
      "Vagonr 700000 navy Blue 23*32*45 Maruthi\n",
      "Swift 9000000 Grey 25*32*43 Maruthi\n"
     ]
    },
    {
     "ename": "TypeError",
     "evalue": "__init__() missing 4 required positional arguments: 'name', 'cost', 'color', and 'dimensions'",
     "output_type": "error",
     "traceback": [
      "\u001b[1;31m---------------------------------------------------------------------------\u001b[0m",
      "\u001b[1;31mTypeError\u001b[0m                                 Traceback (most recent call last)",
      "\u001b[1;32m<ipython-input-6-a3ada1f83458>\u001b[0m in \u001b[0;36m<module>\u001b[1;34m\u001b[0m\n\u001b[0;32m     15\u001b[0m \u001b[0mCar\u001b[0m\u001b[1;33m.\u001b[0m\u001b[0mget\u001b[0m\u001b[1;33m(\u001b[0m\u001b[0mvagonr\u001b[0m\u001b[1;33m)\u001b[0m\u001b[1;33m\u001b[0m\u001b[1;33m\u001b[0m\u001b[0m\n\u001b[0;32m     16\u001b[0m \u001b[0mCar\u001b[0m\u001b[1;33m.\u001b[0m\u001b[0mget\u001b[0m\u001b[1;33m(\u001b[0m\u001b[0mswift\u001b[0m\u001b[1;33m)\u001b[0m\u001b[1;33m\u001b[0m\u001b[1;33m\u001b[0m\u001b[0m\n\u001b[1;32m---> 17\u001b[1;33m \u001b[0mscross\u001b[0m\u001b[1;33m=\u001b[0m\u001b[0mCar\u001b[0m\u001b[1;33m(\u001b[0m\u001b[1;33m)\u001b[0m\u001b[1;33m\u001b[0m\u001b[1;33m\u001b[0m\u001b[0m\n\u001b[0m",
      "\u001b[1;31mTypeError\u001b[0m: __init__() missing 4 required positional arguments: 'name', 'cost', 'color', and 'dimensions'"
     ]
    }
   ],
   "source": [
    "class Car:\n",
    "    company=\"Maruthi\" \n",
    "    \n",
    "    def __init__(x, name, cost,color,dimensions):\n",
    "        x.name=name \n",
    "        x.color=color\n",
    "        x.cost=cost\n",
    "        x.dimensions=dimensions\n",
    "        \n",
    "    def get(x):\n",
    "        print(x.name, x.cost, x.color, x.dimensions, x.company)\n",
    "        \n",
    "vagonr = Car(\"Vagonr\",700000, \"navy Blue\",\"23*32*45\")\n",
    "swift = Car(\"Swift\",9000000,\"Grey\",\"25*32*43\")\n",
    "Car.get(vagonr)\n",
    "Car.get(swift)\n",
    "scross=Car()"
   ]
  },
  {
   "cell_type": "code",
   "execution_count": 7,
   "metadata": {},
   "outputs": [
    {
     "name": "stdout",
     "output_type": "stream",
     "text": [
      "Vagonr 700000 navy Blue 23*32*45 Maruthi\n",
      "Swift 9000000 Grey 25*32*43 Maruthi\n"
     ]
    }
   ],
   "source": [
    "class Car:\n",
    "    company=\"Maruthi\" \n",
    "    \n",
    "    def __init__(x, name, cost,color,dimensions):\n",
    "        x.name=name \n",
    "        x.color=color\n",
    "        x.cost=cost\n",
    "        x.dimensions=dimensions\n",
    "        \n",
    "    def get(x):\n",
    "        print(x.name, x.cost, x.color, x.dimensions, x.company)\n",
    "        \n",
    "vagonr = Car(\"Vagonr\",700000, \"navy Blue\",\"23*32*45\")\n",
    "swift = Car(\"Swift\",9000000,\"Grey\",\"25*32*43\")\n",
    "#Car.get(vagonr)\n",
    "vagonr.get()\n",
    "#Car.get(swift)\n",
    "swift.get()"
   ]
  },
  {
   "cell_type": "code",
   "execution_count": 9,
   "metadata": {},
   "outputs": [
    {
     "name": "stdout",
     "output_type": "stream",
     "text": [
      "('Vagonr', 700000, 'navy Blue', '23*32*45')\n",
      "Maruthi\n",
      "('Swift', 9000000, 'Grey', '25*32*43')\n",
      "Maruthi\n"
     ]
    }
   ],
   "source": [
    "class Car:\n",
    "    company=\"Maruthi\" \n",
    "    \n",
    "    def __init__(self, name, cost,color,dimensions):\n",
    "        self.name=name \n",
    "        self.color=color\n",
    "        self.cost=cost\n",
    "        self.dimensions=dimensions\n",
    "        \n",
    "    def get_company(self):\n",
    "        return self.company\n",
    "        \n",
    "    def get(self):\n",
    "        return self.name, self.cost, self.color, self.dimensions\n",
    "        \n",
    "vagonr = Car(\"Vagonr\",700000, \"navy Blue\",\"23*32*45\")\n",
    "swift = Car(\"Swift\",9000000,\"Grey\",\"25*32*43\")\n",
    "#Car.get(vagonr)\n",
    "print(vagonr.get())\n",
    "print(vagonr.get_company())\n",
    "#Car.get(swift)\n",
    "print(swift.get())\n",
    "print(swift.get_company())"
   ]
  },
  {
   "cell_type": "code",
   "execution_count": 11,
   "metadata": {},
   "outputs": [
    {
     "name": "stdout",
     "output_type": "stream",
     "text": [
      "19450.0\n"
     ]
    }
   ],
   "source": [
    "# define a product class with purchase cost,name as mandatory attributes delivery cost and discount and profit percentage\n",
    "# as optional attributes.\n",
    "#default dicount percentage is 5% and default profit percentage is 30%, delivery cost by default 0\n",
    "# write methods to calculate sales price and profit.\n",
    "class Product:\n",
    "    def __init__(self, name,purchase_cost, delivery_cost=0,discount_per=5,profit_per=30):\n",
    "        self.name=name\n",
    "        self.purchase_cost=purchase_cost\n",
    "        self.delivery_cost =delivery_cost\n",
    "        self.discount_per=discount_per\n",
    "        self.profit_per=profit_per\n",
    "        \n",
    "    def get_grossprice(self):\n",
    "        # without discount with profit+delivery charges\n",
    "        return self.purchase_cost+self.get_profit()+self.delivery_cost\n",
    "        \n",
    "    def get_discount(self):\n",
    "        return self.get_grossprice() * (self.discount_per/100)\n",
    "        \n",
    "    def get_profit(self):\n",
    "        return self.purchase_cost * (self.profit_per/100)\n",
    "        \n",
    "    def get_salesprice(self):\n",
    "        return self.get_max_retail_price() - self.get_discount()\n",
    "    \n",
    "    def get_max_retail_price(self):\n",
    "        return self.get_grossprice() + self.get_discount() + self.get_profit()\n",
    "    \n",
    "Mi_version_7=Product(\"Mi PRO 7\",12000,250)\n",
    "print(Mi_version_7.get_salesprice())\n",
    "        "
   ]
  },
  {
   "cell_type": "code",
   "execution_count": 12,
   "metadata": {},
   "outputs": [
    {
     "name": "stdout",
     "output_type": "stream",
     "text": [
      "25.67\n",
      "-20\n"
     ]
    }
   ],
   "source": [
    "# define product class cost price and sales price as attributes write a method to calculate profit or loss\n",
    "# show profit in + number, show loss in - number.\n",
    "class Product:\n",
    "    def __init__(self, cp,sp):\n",
    "        self.cp=cp\n",
    "        self.sp=sp\n",
    "    def profit(self):\n",
    "        return self.sp-self.cp\n",
    "    \n",
    "apple = Product(100,125.67)\n",
    "print(apple.profit())\n",
    "mango = Product(120,100)\n",
    "print(mango.profit())"
   ]
  },
  {
   "cell_type": "code",
   "execution_count": 14,
   "metadata": {},
   "outputs": [
    {
     "name": "stdout",
     "output_type": "stream",
     "text": [
      "19450.0\n"
     ]
    }
   ],
   "source": [
    "# define a product class with purchase cost,name as mandatory attributes delivery cost and discount and profit percentage\n",
    "# as optional attributes.\n",
    "#default dicount percentage is 5% and default profit percentage is 30%, delivery cost by default 0\n",
    "# write methods to calculate sales price and profit.\n",
    "class Product:\n",
    "    def __init__(self, name,purchase_cost, delivery_cost=0,discount_per=5,profit_per=30):\n",
    "        self.name=name\n",
    "        self.purchase_cost=purchase_cost\n",
    "        self.delivery_cost =delivery_cost\n",
    "        self.discount_per=discount_per\n",
    "        self.profit_per=profit_per\n",
    "        self.profit=self.purchase_cost * (self.profit_per/100)\n",
    "        self.grossprice=self.purchase_cost+self.profit+self.delivery_cost\n",
    "        self.discount= self.grossprice * (self.discount_per/100)\n",
    "        self.mrp = self.grossprice + self.discount + self.profit\n",
    "        self.sales_price = self.mrp-self.discount\n",
    "        \n",
    "Mi_version_7=Product(\"Mi PRO 7\",12000,250)\n",
    "print(Mi_version_7.sales_price)\n",
    "        "
   ]
  },
  {
   "cell_type": "code",
   "execution_count": 1,
   "metadata": {},
   "outputs": [
    {
     "name": "stdout",
     "output_type": "stream",
     "text": [
      "this is fun\n",
      "30 -10 10 20\n"
     ]
    },
    {
     "data": {
      "text/plain": [
       "<__main__.emp at 0x1f0480bb520>"
      ]
     },
     "execution_count": 1,
     "metadata": {},
     "output_type": "execute_result"
    }
   ],
   "source": [
    "def fun(x,y):\n",
    "    a=x+y\n",
    "    b=x-y\n",
    "    print(\"this is fun\")\n",
    "    print(a,b,x,y)\n",
    "    \n",
    "class emp:\n",
    "    pass\n",
    "\n",
    "fun(10,20)\n",
    "emp()"
   ]
  },
  {
   "cell_type": "code",
   "execution_count": 2,
   "metadata": {},
   "outputs": [
    {
     "name": "stdout",
     "output_type": "stream",
     "text": [
      "jay 3\n"
     ]
    }
   ],
   "source": [
    "def fun(x,y):\n",
    "    a=x+y\n",
    "    b=x-y\n",
    "    print(\"this is fun\")\n",
    "    print(a,b,x,y)\n",
    "    \n",
    "class Emp:\n",
    "    name=\"jay\"\n",
    "    age=3\n",
    "    print(name,age)"
   ]
  },
  {
   "cell_type": "code",
   "execution_count": 3,
   "metadata": {},
   "outputs": [
    {
     "name": "stdout",
     "output_type": "stream",
     "text": [
      "jay 3\n"
     ]
    }
   ],
   "source": [
    "class Emp:\n",
    "    name=\"jay\"\n",
    "    age=3\n",
    "    print(name,age)\n",
    "    \n",
    "    def get_details(x):\n",
    "        print(\"this is get_details function\")"
   ]
  },
  {
   "cell_type": "code",
   "execution_count": 4,
   "metadata": {},
   "outputs": [
    {
     "name": "stdout",
     "output_type": "stream",
     "text": [
      "jay 3\n",
      "this is get_details function\n"
     ]
    }
   ],
   "source": [
    "class Emp:\n",
    "    name=\"jay\"\n",
    "    age=3\n",
    "    print(name,age)\n",
    "    \n",
    "    def get_details(x):\n",
    "        print(\"this is get_details function\")\n",
    "    get_details(10)"
   ]
  },
  {
   "cell_type": "code",
   "execution_count": 7,
   "metadata": {},
   "outputs": [
    {
     "name": "stdout",
     "output_type": "stream",
     "text": [
      "28000.0\n"
     ]
    }
   ],
   "source": [
    "# some data binded to data object. the class functions(methods) will help us to process the data\n",
    "class Emp:\n",
    "    def sal_cal(x):\n",
    "        return x.salary - ((x.salary/30)*x.leaves)\n",
    "        \n",
    "\n",
    "jay = Emp()\n",
    "jay.name=\"Jayaram\"\n",
    "jay.salary=30000\n",
    "jay.leaves=2\n",
    "print(Emp.sal_cal(jay))\n"
   ]
  },
  {
   "cell_type": "code",
   "execution_count": 8,
   "metadata": {},
   "outputs": [],
   "source": [
    "# I need a software to calculate my profit/loss based on cost price and the sales price.\n"
   ]
  },
  {
   "cell_type": "code",
   "execution_count": 9,
   "metadata": {},
   "outputs": [],
   "source": []
  },
  {
   "cell_type": "code",
   "execution_count": 10,
   "metadata": {},
   "outputs": [
    {
     "name": "stdout",
     "output_type": "stream",
     "text": [
      "30\n",
      "0.5\n",
      "200\n"
     ]
    }
   ],
   "source": [
    "x=10\n",
    "y=20\n",
    "def add(x,y):\n",
    "    return x+y\n",
    "def dev(x,y):\n",
    "    return x/y\n",
    "def mul(x,y):\n",
    "    return x*y\n",
    "print(add(x,y))\n",
    "print(dev(x,y))\n",
    "print(mul(x,y))"
   ]
  },
  {
   "cell_type": "code",
   "execution_count": 12,
   "metadata": {},
   "outputs": [
    {
     "name": "stdout",
     "output_type": "stream",
     "text": [
      "30\n",
      "200\n"
     ]
    }
   ],
   "source": [
    "class Operation:\n",
    "    def add(x):\n",
    "        return x.x1+x.x2\n",
    "    def mul(x):\n",
    "        return x.x1*x.x2\n",
    "o1=Operation()\n",
    "o1.x1=10\n",
    "o1.x2=20\n",
    "print(Operation.add(o1))\n",
    "print(Operation.mul(o1))"
   ]
  },
  {
   "cell_type": "code",
   "execution_count": 13,
   "metadata": {},
   "outputs": [
    {
     "name": "stdout",
     "output_type": "stream",
     "text": [
      "28000.0\n"
     ]
    },
    {
     "ename": "AttributeError",
     "evalue": "'Emp' object has no attribute 'salary'",
     "output_type": "error",
     "traceback": [
      "\u001b[1;31m---------------------------------------------------------------------------\u001b[0m",
      "\u001b[1;31mAttributeError\u001b[0m                            Traceback (most recent call last)",
      "\u001b[1;32m<ipython-input-13-79795b3a6478>\u001b[0m in \u001b[0;36m<module>\u001b[1;34m\u001b[0m\n\u001b[0;32m     14\u001b[0m \u001b[1;31m#Note: in vedha frame we dont have salary and leaves attributes\u001b[0m\u001b[1;33m\u001b[0m\u001b[1;33m\u001b[0m\u001b[1;33m\u001b[0m\u001b[0m\n\u001b[0;32m     15\u001b[0m \u001b[0mvedha\u001b[0m\u001b[1;33m.\u001b[0m\u001b[0mname\u001b[0m\u001b[1;33m=\u001b[0m\u001b[1;34m\"vehdavesh\"\u001b[0m\u001b[1;33m\u001b[0m\u001b[1;33m\u001b[0m\u001b[0m\n\u001b[1;32m---> 16\u001b[1;33m \u001b[0mEmp\u001b[0m\u001b[1;33m.\u001b[0m\u001b[0msal_cal\u001b[0m\u001b[1;33m(\u001b[0m\u001b[0mvedha\u001b[0m\u001b[1;33m)\u001b[0m\u001b[1;31m# internally sal_cal expected a salary and leaves attributes which leads to the crash\u001b[0m\u001b[1;33m\u001b[0m\u001b[1;33m\u001b[0m\u001b[0m\n\u001b[0m",
      "\u001b[1;32m<ipython-input-13-79795b3a6478>\u001b[0m in \u001b[0;36msal_cal\u001b[1;34m(x)\u001b[0m\n\u001b[0;32m      2\u001b[0m \u001b[1;32mclass\u001b[0m \u001b[0mEmp\u001b[0m\u001b[1;33m:\u001b[0m \u001b[1;31m# Emp refrence has a frame in the stack, sal_cal referenceit will inside thatframe:\u001b[0m\u001b[1;33m\u001b[0m\u001b[1;33m\u001b[0m\u001b[0m\n\u001b[0;32m      3\u001b[0m     \u001b[1;32mdef\u001b[0m \u001b[0msal_cal\u001b[0m\u001b[1;33m(\u001b[0m\u001b[0mx\u001b[0m\u001b[1;33m)\u001b[0m\u001b[1;33m:\u001b[0m\u001b[1;33m\u001b[0m\u001b[1;33m\u001b[0m\u001b[0m\n\u001b[1;32m----> 4\u001b[1;33m         \u001b[1;32mreturn\u001b[0m \u001b[0mx\u001b[0m\u001b[1;33m.\u001b[0m\u001b[0msalary\u001b[0m \u001b[1;33m-\u001b[0m \u001b[1;33m(\u001b[0m\u001b[1;33m(\u001b[0m\u001b[0mx\u001b[0m\u001b[1;33m.\u001b[0m\u001b[0msalary\u001b[0m\u001b[1;33m/\u001b[0m\u001b[1;36m30\u001b[0m\u001b[1;33m)\u001b[0m\u001b[1;33m*\u001b[0m\u001b[0mx\u001b[0m\u001b[1;33m.\u001b[0m\u001b[0mleaves\u001b[0m\u001b[1;33m)\u001b[0m\u001b[1;33m\u001b[0m\u001b[1;33m\u001b[0m\u001b[0m\n\u001b[0m\u001b[0;32m      5\u001b[0m \u001b[1;33m\u001b[0m\u001b[0m\n\u001b[0;32m      6\u001b[0m \u001b[1;33m\u001b[0m\u001b[0m\n",
      "\u001b[1;31mAttributeError\u001b[0m: 'Emp' object has no attribute 'salary'"
     ]
    }
   ],
   "source": [
    "# some data binded to data object. the class functions(methods) will help us to process the data\n",
    "class Emp: # Emp refrence has a frame in the stack, sal_cal referenceit will inside thatframe:\n",
    "    def sal_cal(x):\n",
    "        return x.salary - ((x.salary/30)*x.leaves)\n",
    "        \n",
    "\n",
    "jay = Emp() # it will create jay frame in the stack. name,sal,leaves inside that frame. If you want fetch any of the frame\n",
    "# references, you need use frame name i.e jay\n",
    "jay.name=\"Jayaram\"\n",
    "jay.salary=30000\n",
    "jay.leaves=2\n",
    "print(Emp.sal_cal(jay))\n",
    "vedha=Emp()# it will create a vedha frame in stack. name attribute is added to the frame. \n",
    "#Note: in vedha frame we dont have salary and leaves attributes\n",
    "vedha.name=\"vehdavesh\"\n",
    "Emp.sal_cal(vedha)# internally sal_cal expected a salary and leaves attributes which leads to the crash\n"
   ]
  },
  {
   "cell_type": "code",
   "execution_count": 16,
   "metadata": {},
   "outputs": [
    {
     "name": "stdout",
     "output_type": "stream",
     "text": [
      "2800.0\n"
     ]
    },
    {
     "ename": "TypeError",
     "evalue": "data_bind() missing 2 required positional arguments: 'e_salary' and 'e_leaves'",
     "output_type": "error",
     "traceback": [
      "\u001b[1;31m---------------------------------------------------------------------------\u001b[0m",
      "\u001b[1;31mTypeError\u001b[0m                                 Traceback (most recent call last)",
      "\u001b[1;32m<ipython-input-16-5fbc46645318>\u001b[0m in \u001b[0;36m<module>\u001b[1;34m\u001b[0m\n\u001b[0;32m     18\u001b[0m \u001b[0mvedha\u001b[0m\u001b[1;33m=\u001b[0m\u001b[0mEmp\u001b[0m\u001b[1;33m(\u001b[0m\u001b[1;33m)\u001b[0m\u001b[1;31m# it will create a vedha frame in stack. name attribute is added to the frame.\u001b[0m\u001b[1;33m\u001b[0m\u001b[1;33m\u001b[0m\u001b[0m\n\u001b[0;32m     19\u001b[0m \u001b[1;31m#Note: in vedha frame we dont have salary and leaves attributes\u001b[0m\u001b[1;33m\u001b[0m\u001b[1;33m\u001b[0m\u001b[1;33m\u001b[0m\u001b[0m\n\u001b[1;32m---> 20\u001b[1;33m \u001b[0mEmp\u001b[0m\u001b[1;33m.\u001b[0m\u001b[0mdata_bind\u001b[0m\u001b[1;33m(\u001b[0m\u001b[0mvedha\u001b[0m\u001b[1;33m,\u001b[0m\u001b[1;34m\"Vedhanvesh\"\u001b[0m\u001b[1;33m)\u001b[0m\u001b[1;33m\u001b[0m\u001b[1;33m\u001b[0m\u001b[0m\n\u001b[0m\u001b[0;32m     21\u001b[0m \u001b[0mEmp\u001b[0m\u001b[1;33m.\u001b[0m\u001b[0msal_cal\u001b[0m\u001b[1;33m(\u001b[0m\u001b[0mvedha\u001b[0m\u001b[1;33m)\u001b[0m\u001b[1;31m# internally sal_cal expected a salary and leaves attributes which leads to the crash\u001b[0m\u001b[1;33m\u001b[0m\u001b[1;33m\u001b[0m\u001b[0m\n",
      "\u001b[1;31mTypeError\u001b[0m: data_bind() missing 2 required positional arguments: 'e_salary' and 'e_leaves'"
     ]
    }
   ],
   "source": [
    "# some data binded to data object. the class functions(methods) will help us to process the data\n",
    "class Emp: # Emp refrence has a frame in the stack, sal_cal referenceit will inside thatframe:\n",
    "    def data_bind(x,e_name,e_salary,e_leaves):\n",
    "        x.name=e_name\n",
    "        x.salary=e_salary\n",
    "        x.leaves=e_leaves\n",
    "    def sal_cal(x):\n",
    "        return x.salary - ((x.salary/30)*x.leaves)\n",
    "        \n",
    "\n",
    "jay = Emp() # it will create jay frame in the stack. name,sal,leaves inside that frame. If you want fetch any of the frame\n",
    "# references, you need use frame name i.e jay\n",
    "# jay.name=\"Jayaram\"\n",
    "# jay.salary=30000\n",
    "# jay.leaves=2\n",
    "Emp.data_bind(jay,\"Jayaram\",3000,2)\n",
    "print(Emp.sal_cal(jay))\n",
    "vedha=Emp()# it will create a vedha frame in stack. name attribute is added to the frame. \n",
    "#Note: in vedha frame we dont have salary and leaves attributes\n",
    "Emp.data_bind(vedha,\"Vedhanvesh\")\n",
    "Emp.sal_cal(vedha)# internally sal_cal expected a salary and leaves attributes which leads to the crash\n"
   ]
  },
  {
   "cell_type": "code",
   "execution_count": 18,
   "metadata": {},
   "outputs": [
    {
     "name": "stdout",
     "output_type": "stream",
     "text": [
      "2800.0\n",
      "4000.0\n"
     ]
    }
   ],
   "source": [
    "# some data binded to data object. the class functions(methods) will help us to process the data\n",
    "class Emp: # Emp refrence has a frame in the stack, sal_cal referenceit will inside thatframe:\n",
    "    def data_bind(x,e_name,e_salary,e_leaves):\n",
    "        x.name=e_name\n",
    "        x.salary=e_salary\n",
    "        x.leaves=e_leaves\n",
    "    def sal_cal(x):\n",
    "        return x.salary - ((x.salary/30)*x.leaves)\n",
    "        \n",
    "\n",
    "jay = Emp() # it will create jay frame in the stack. name,sal,leaves inside that frame. If you want fetch any of the frame\n",
    "# references, you need use frame name i.e jay\n",
    "# jay.name=\"Jayaram\"\n",
    "# jay.salary=30000\n",
    "# jay.leaves=2\n",
    "Emp.data_bind(jay,\"Jayaram\",3000,2)\n",
    "print(Emp.sal_cal(jay))\n",
    "vedha=Emp()# it will create a vedha frame in stack. name attribute is added to the frame. \n",
    "#Note: in vedha frame we dont have salary and leaves attributes\n",
    "Emp.data_bind(vedha,\"Vedhanvesh\",4000,0)\n",
    "print(Emp.sal_cal(vedha))# internally sal_cal expected a salary and leaves attributes which leads to the crash\n"
   ]
  },
  {
   "cell_type": "code",
   "execution_count": 19,
   "metadata": {},
   "outputs": [
    {
     "name": "stdout",
     "output_type": "stream",
     "text": [
      "2800.0\n",
      "4000.0\n"
     ]
    }
   ],
   "source": [
    "class Emp:\n",
    "    def data_bind(x,e_name,e_salary,e_leaves):\n",
    "        x.name=e_name\n",
    "        x.salary=e_salary\n",
    "        x.leaves=e_leaves\n",
    "    def sal_cal(x):\n",
    "        return x.salary - ((x.salary/30)*x.leaves)\n",
    "jay = Emp() \n",
    "Emp.data_bind(jay,\"Jayaram\",3000,2)\n",
    "print(Emp.sal_cal(jay))\n",
    "vedha=Emp()\n",
    "Emp.data_bind(vedha,\"Vedhanvesh\",4000,0)\n",
    "print(Emp.sal_cal(vedha))"
   ]
  },
  {
   "cell_type": "code",
   "execution_count": 20,
   "metadata": {},
   "outputs": [
    {
     "name": "stdout",
     "output_type": "stream",
     "text": [
      "2800.0\n",
      "4000.0\n"
     ]
    }
   ],
   "source": [
    "class Emp:\n",
    "    def data_bind(x,e_name,e_salary,e_leaves):\n",
    "        x.name=e_name\n",
    "        x.salary=e_salary\n",
    "        x.leaves=e_leaves\n",
    "    def sal_cal(x):\n",
    "        return x.salary - ((x.salary/30)*x.leaves)\n",
    "jay = Emp() \n",
    "#Emp.data_bind(jay,\"Jayaram\",3000,2)\n",
    "jay.data_bind(\"Jayaram\",3000,2)\n",
    "print(Emp.sal_cal(jay))\n",
    "vedha=Emp()\n",
    "#Emp.data_bind(vedha,\"Vedhanvesh\",4000,0)\n",
    "vedha.data_bind(\"Vedhanvesh\",4000,0)\n",
    "print(Emp.sal_cal(vedha))"
   ]
  },
  {
   "cell_type": "code",
   "execution_count": 21,
   "metadata": {},
   "outputs": [
    {
     "name": "stdout",
     "output_type": "stream",
     "text": [
      "2800.0\n",
      "4000.0\n"
     ]
    }
   ],
   "source": [
    "class Emp:\n",
    "    def data_bind(x,e_name,e_salary,e_leaves):\n",
    "        x.name=e_name\n",
    "        x.salary=e_salary\n",
    "        x.leaves=e_leaves\n",
    "    def sal_cal(x):\n",
    "        return x.salary - ((x.salary/30)*x.leaves)\n",
    "jay = Emp() \n",
    "jay.data_bind(\"Jayaram\",3000,2)\n",
    "print(Emp.sal_cal(jay))\n",
    "vedha=Emp()\n",
    "vedha.data_bind(\"Vedhanvesh\",4000,0)\n",
    "print(Emp.sal_cal(vedha))"
   ]
  },
  {
   "cell_type": "code",
   "execution_count": 22,
   "metadata": {},
   "outputs": [
    {
     "name": "stdout",
     "output_type": "stream",
     "text": [
      "this is fun\n"
     ]
    }
   ],
   "source": [
    "def fun(a,b,c,d):\n",
    "    print(\"this is fun\")\n",
    "fun(1,2,3,4)  "
   ]
  },
  {
   "cell_type": "code",
   "execution_count": 23,
   "metadata": {},
   "outputs": [
    {
     "ename": "TypeError",
     "evalue": "fun() missing 1 required positional argument: 'd'",
     "output_type": "error",
     "traceback": [
      "\u001b[1;31m---------------------------------------------------------------------------\u001b[0m",
      "\u001b[1;31mTypeError\u001b[0m                                 Traceback (most recent call last)",
      "\u001b[1;32m<ipython-input-23-e724e846ed2d>\u001b[0m in \u001b[0;36m<module>\u001b[1;34m\u001b[0m\n\u001b[0;32m      1\u001b[0m \u001b[1;32mdef\u001b[0m \u001b[0mfun\u001b[0m\u001b[1;33m(\u001b[0m\u001b[0ma\u001b[0m\u001b[1;33m,\u001b[0m\u001b[0mb\u001b[0m\u001b[1;33m,\u001b[0m\u001b[0mc\u001b[0m\u001b[1;33m,\u001b[0m\u001b[0md\u001b[0m\u001b[1;33m)\u001b[0m\u001b[1;33m:\u001b[0m\u001b[1;33m\u001b[0m\u001b[1;33m\u001b[0m\u001b[0m\n\u001b[0;32m      2\u001b[0m     \u001b[0mprint\u001b[0m\u001b[1;33m(\u001b[0m\u001b[1;34m\"this is fun\"\u001b[0m\u001b[1;33m)\u001b[0m\u001b[1;33m\u001b[0m\u001b[1;33m\u001b[0m\u001b[0m\n\u001b[1;32m----> 3\u001b[1;33m \u001b[0mfun\u001b[0m\u001b[1;33m(\u001b[0m\u001b[1;36m1\u001b[0m\u001b[1;33m,\u001b[0m\u001b[1;36m2\u001b[0m\u001b[1;33m,\u001b[0m\u001b[1;36m3\u001b[0m\u001b[1;33m)\u001b[0m\u001b[1;33m\u001b[0m\u001b[1;33m\u001b[0m\u001b[0m\n\u001b[0m",
      "\u001b[1;31mTypeError\u001b[0m: fun() missing 1 required positional argument: 'd'"
     ]
    }
   ],
   "source": [
    "def fun(a,b,c,d):\n",
    "    print(\"this is fun\")\n",
    "fun(1,2,3)  "
   ]
  },
  {
   "cell_type": "code",
   "execution_count": 24,
   "metadata": {},
   "outputs": [
    {
     "name": "stdout",
     "output_type": "stream",
     "text": [
      "None\n",
      "4000.0\n"
     ]
    }
   ],
   "source": [
    "class Emp:\n",
    "    def data_bind(x,e_name,e_salary,e_leaves):\n",
    "        x.name=e_name\n",
    "        x.salary=e_salary\n",
    "        x.leaves=e_leaves\n",
    "    def sal_cal(x):\n",
    "        x.this_month_salary = x.salary - ((x.salary/30)*x.leaves)\n",
    "        #return x.salary - ((x.salary/30)*x.leaves)\n",
    "jay = Emp() \n",
    "jay.data_bind(\"Jayaram\",3000,2)\n",
    "print(Emp.sal_cal(jay))\n",
    "vedha=Emp()\n",
    "vedha.data_bind(\"Vedhanvesh\",4000,0)\n",
    "Emp.sal_cal(vedha)\n",
    "print(vedha.this_month_salary)"
   ]
  },
  {
   "cell_type": "code",
   "execution_count": 25,
   "metadata": {},
   "outputs": [
    {
     "name": "stdout",
     "output_type": "stream",
     "text": [
      "2800.0\n",
      "2\n",
      "0\n"
     ]
    }
   ],
   "source": [
    "class Emp:\n",
    "    def data_bind(x,e_name,e_salary,e_leaves):\n",
    "        x.name=e_name\n",
    "        x.salary=e_salary\n",
    "        x.leaves=e_leaves\n",
    "    def sal_cal(x):\n",
    "        #x.this_month_salary = x.salary - ((x.salary/30)*x.leaves)\n",
    "        return x.salary - ((x.salary/30)*x.leaves)\n",
    "jay = Emp() \n",
    "jay.data_bind(\"Jayaram\",3000,2)\n",
    "print(Emp.sal_cal(jay))\n",
    "vedha=Emp()\n",
    "vedha.data_bind(\"Vedhanvesh\",4000,0)\n",
    "Emp.sal_cal(vedha)\n",
    "\n",
    "print(jay.leaves)\n",
    "print(vedha.leaves)"
   ]
  },
  {
   "cell_type": "code",
   "execution_count": null,
   "metadata": {},
   "outputs": [],
   "source": [
    "class Emp:\n",
    "    def data_bind(x,e_name,e_salary,e_leaves):\n",
    "        x.name=e_name\n",
    "        x.salary=e_salary\n",
    "        x.leaves=e_leaves\n",
    "    def sal_cal(x):\n",
    "        #x.this_month_salary = x.salary - ((x.salary/30)*x.leaves)\n",
    "        return x.salary - ((x.salary/30)*x.leaves)\n",
    "jay = Emp() \n",
    "jay.data_bind(\"Jayaram\",3000,2)\n",
    "print(Emp.sal_cal(jay))\n",
    "vedha=Emp()\n",
    "vedha.data_bind(\"Vedhanvesh\",4000,0)\n",
    "Emp.sal_cal(vedha)\n",
    "print(jay.leaves)\n",
    "print(vedha.leaves)\n",
    "print(Emp.leaves)"
   ]
  },
  {
   "cell_type": "code",
   "execution_count": 27,
   "metadata": {},
   "outputs": [
    {
     "name": "stdout",
     "output_type": "stream",
     "text": [
      "1200\n"
     ]
    }
   ],
   "source": [
    "class Product:\n",
    "    def revenue(x,e_cp,e_sp):\n",
    "        x.cp = e_cp\n",
    "        x.sp = e_sp\n",
    "        x.rev = x.cp - x.sp\n",
    "  \n",
    "prod1 = Product()\n",
    "prod1.revenue(1500,300)\n",
    "print(prod1.rev)\n"
   ]
  },
  {
   "cell_type": "code",
   "execution_count": 28,
   "metadata": {},
   "outputs": [
    {
     "name": "stdout",
     "output_type": "stream",
     "text": [
      "2800.0\n",
      "2\n",
      "0\n"
     ]
    },
    {
     "ename": "AttributeError",
     "evalue": "type object 'Emp' has no attribute 'leaves'",
     "output_type": "error",
     "traceback": [
      "\u001b[1;31m---------------------------------------------------------------------------\u001b[0m",
      "\u001b[1;31mAttributeError\u001b[0m                            Traceback (most recent call last)",
      "\u001b[1;32m<ipython-input-28-0514dd2d9706>\u001b[0m in \u001b[0;36m<module>\u001b[1;34m\u001b[0m\n\u001b[0;32m     15\u001b[0m \u001b[0mprint\u001b[0m\u001b[1;33m(\u001b[0m\u001b[0mjay\u001b[0m\u001b[1;33m.\u001b[0m\u001b[0mleaves\u001b[0m\u001b[1;33m)\u001b[0m\u001b[1;33m\u001b[0m\u001b[1;33m\u001b[0m\u001b[0m\n\u001b[0;32m     16\u001b[0m \u001b[0mprint\u001b[0m\u001b[1;33m(\u001b[0m\u001b[0mvedha\u001b[0m\u001b[1;33m.\u001b[0m\u001b[0mleaves\u001b[0m\u001b[1;33m)\u001b[0m\u001b[1;33m\u001b[0m\u001b[1;33m\u001b[0m\u001b[0m\n\u001b[1;32m---> 17\u001b[1;33m \u001b[0mprint\u001b[0m\u001b[1;33m(\u001b[0m\u001b[0mEmp\u001b[0m\u001b[1;33m.\u001b[0m\u001b[0mleaves\u001b[0m\u001b[1;33m)\u001b[0m\u001b[1;33m\u001b[0m\u001b[1;33m\u001b[0m\u001b[0m\n\u001b[0m",
      "\u001b[1;31mAttributeError\u001b[0m: type object 'Emp' has no attribute 'leaves'"
     ]
    }
   ],
   "source": [
    "class Emp:\n",
    "    def data_bind(x,e_name,e_salary,e_leaves):\n",
    "        x.name=e_name\n",
    "        x.salary=e_salary\n",
    "        x.leaves=e_leaves\n",
    "    def sal_cal(x):\n",
    "        #x.this_month_salary = x.salary - ((x.salary/30)*x.leaves)\n",
    "        return x.salary - ((x.salary/30)*x.leaves)\n",
    "jay = Emp() \n",
    "jay.data_bind(\"Jayaram\",3000,2)\n",
    "print(Emp.sal_cal(jay))\n",
    "vedha=Emp()\n",
    "vedha.data_bind(\"Vedhanvesh\",4000,0)\n",
    "Emp.sal_cal(vedha)\n",
    "print(jay.leaves)\n",
    "print(vedha.leaves)\n",
    "print(Emp.leaves)"
   ]
  },
  {
   "cell_type": "code",
   "execution_count": 2,
   "metadata": {},
   "outputs": [
    {
     "name": "stdout",
     "output_type": "stream",
     "text": [
      "2800.0\n",
      "2\n",
      "0\n"
     ]
    },
    {
     "ename": "AttributeError",
     "evalue": "'Emp' object has no attribute 'salary'",
     "output_type": "error",
     "traceback": [
      "\u001b[1;31m---------------------------------------------------------------------------\u001b[0m",
      "\u001b[1;31mAttributeError\u001b[0m                            Traceback (most recent call last)",
      "\u001b[1;32m<ipython-input-2-aee7f963945c>\u001b[0m in \u001b[0;36m<module>\u001b[1;34m\u001b[0m\n\u001b[0;32m     15\u001b[0m \u001b[0mprint\u001b[0m\u001b[1;33m(\u001b[0m\u001b[0mvedha\u001b[0m\u001b[1;33m.\u001b[0m\u001b[0mleaves\u001b[0m\u001b[1;33m)\u001b[0m\u001b[1;33m\u001b[0m\u001b[1;33m\u001b[0m\u001b[0m\n\u001b[0;32m     16\u001b[0m \u001b[0msai\u001b[0m\u001b[1;33m=\u001b[0m\u001b[0mEmp\u001b[0m\u001b[1;33m(\u001b[0m\u001b[1;33m)\u001b[0m\u001b[1;33m\u001b[0m\u001b[1;33m\u001b[0m\u001b[0m\n\u001b[1;32m---> 17\u001b[1;33m \u001b[0mprint\u001b[0m\u001b[1;33m(\u001b[0m\u001b[0msai\u001b[0m\u001b[1;33m.\u001b[0m\u001b[0msal_cal\u001b[0m\u001b[1;33m(\u001b[0m\u001b[1;33m)\u001b[0m\u001b[1;33m)\u001b[0m \u001b[1;31m# Emp.sal_cal(sai)\u001b[0m\u001b[1;33m\u001b[0m\u001b[1;33m\u001b[0m\u001b[0m\n\u001b[0m",
      "\u001b[1;32m<ipython-input-2-aee7f963945c>\u001b[0m in \u001b[0;36msal_cal\u001b[1;34m(x)\u001b[0m\n\u001b[0;32m      5\u001b[0m         \u001b[0mx\u001b[0m\u001b[1;33m.\u001b[0m\u001b[0mleaves\u001b[0m\u001b[1;33m=\u001b[0m\u001b[0me_leaves\u001b[0m\u001b[1;33m\u001b[0m\u001b[1;33m\u001b[0m\u001b[0m\n\u001b[0;32m      6\u001b[0m     \u001b[1;32mdef\u001b[0m \u001b[0msal_cal\u001b[0m\u001b[1;33m(\u001b[0m\u001b[0mx\u001b[0m\u001b[1;33m)\u001b[0m\u001b[1;33m:\u001b[0m\u001b[1;33m\u001b[0m\u001b[1;33m\u001b[0m\u001b[0m\n\u001b[1;32m----> 7\u001b[1;33m         \u001b[1;32mreturn\u001b[0m \u001b[0mx\u001b[0m\u001b[1;33m.\u001b[0m\u001b[0msalary\u001b[0m \u001b[1;33m-\u001b[0m \u001b[1;33m(\u001b[0m\u001b[1;33m(\u001b[0m\u001b[0mx\u001b[0m\u001b[1;33m.\u001b[0m\u001b[0msalary\u001b[0m\u001b[1;33m/\u001b[0m\u001b[1;36m30\u001b[0m\u001b[1;33m)\u001b[0m\u001b[1;33m*\u001b[0m\u001b[0mx\u001b[0m\u001b[1;33m.\u001b[0m\u001b[0mleaves\u001b[0m\u001b[1;33m)\u001b[0m\u001b[1;33m\u001b[0m\u001b[1;33m\u001b[0m\u001b[0m\n\u001b[0m\u001b[0;32m      8\u001b[0m \u001b[0mjay\u001b[0m \u001b[1;33m=\u001b[0m \u001b[0mEmp\u001b[0m\u001b[1;33m(\u001b[0m\u001b[1;33m)\u001b[0m\u001b[1;33m\u001b[0m\u001b[1;33m\u001b[0m\u001b[0m\n\u001b[0;32m      9\u001b[0m \u001b[0mjay\u001b[0m\u001b[1;33m.\u001b[0m\u001b[0mdata_bind\u001b[0m\u001b[1;33m(\u001b[0m\u001b[1;34m\"Jayaram\"\u001b[0m\u001b[1;33m,\u001b[0m\u001b[1;36m3000\u001b[0m\u001b[1;33m,\u001b[0m\u001b[1;36m2\u001b[0m\u001b[1;33m)\u001b[0m\u001b[1;33m\u001b[0m\u001b[1;33m\u001b[0m\u001b[0m\n",
      "\u001b[1;31mAttributeError\u001b[0m: 'Emp' object has no attribute 'salary'"
     ]
    }
   ],
   "source": [
    "class Emp:\n",
    "    def data_bind(x,e_name,e_salary,e_leaves):\n",
    "        x.name=e_name\n",
    "        x.salary=e_salary\n",
    "        x.leaves=e_leaves\n",
    "    def sal_cal(x):\n",
    "        return x.salary - ((x.salary/30)*x.leaves)\n",
    "jay = Emp() \n",
    "jay.data_bind(\"Jayaram\",3000,2)\n",
    "print(Emp.sal_cal(jay))\n",
    "vedha=Emp()\n",
    "vedha.data_bind(\"Vedhanvesh\",4000,0)\n",
    "Emp.sal_cal(vedha)\n",
    "print(jay.leaves)\n",
    "print(vedha.leaves)\n",
    "sai=Emp()\n",
    "print(sai.sal_cal()) # Emp.sal_cal(sai)"
   ]
  },
  {
   "cell_type": "code",
   "execution_count": 3,
   "metadata": {},
   "outputs": [
    {
     "name": "stdout",
     "output_type": "stream",
     "text": [
      "this is class\n"
     ]
    }
   ],
   "source": [
    "class Emp:\n",
    "    print(\"this is class\")\n",
    "    def get(x):\n",
    "        print(\"this is get\")\n",
    "    def __init__(x):\n",
    "        print(\"this is init\")\n"
   ]
  },
  {
   "cell_type": "code",
   "execution_count": 4,
   "metadata": {},
   "outputs": [
    {
     "name": "stdout",
     "output_type": "stream",
     "text": [
      "this is class\n",
      "this is init\n"
     ]
    }
   ],
   "source": [
    "class Emp:\n",
    "    print(\"this is class\")\n",
    "    def get(x):\n",
    "        print(\"this is get\")\n",
    "    def __init__(x):\n",
    "        print(\"this is init\")\n",
    "jay=Emp()"
   ]
  },
  {
   "cell_type": "code",
   "execution_count": 5,
   "metadata": {},
   "outputs": [
    {
     "name": "stdout",
     "output_type": "stream",
     "text": [
      "this is class\n",
      "this is init\n",
      "this is init\n",
      "this is init\n",
      "this is init\n"
     ]
    }
   ],
   "source": [
    "class Emp:\n",
    "    print(\"this is class\")\n",
    "    def get(x):\n",
    "        print(\"this is get\")\n",
    "    def __init__(x):\n",
    "        print(\"this is init\")\n",
    "jay=Emp()\n",
    "vedha=Emp()\n",
    "sai=Emp()\n",
    "samba=Emp()"
   ]
  },
  {
   "cell_type": "code",
   "execution_count": 6,
   "metadata": {},
   "outputs": [
    {
     "name": "stdout",
     "output_type": "stream",
     "text": [
      "this is class\n",
      "('jayaram', 4, 'emp_1')\n"
     ]
    }
   ],
   "source": [
    "class Emp:\n",
    "    print(\"this is class\")\n",
    "    def get(self):\n",
    "        return self.name, self.age,self.id\n",
    "    def __init__(self,e_name,e_age,e_id):\n",
    "        # constructor\n",
    "        self.name=e_name\n",
    "        self.age=e_age\n",
    "        self.id=e_id\n",
    "jay=Emp(\"jayaram\",4,\"emp_1\")\n",
    "print(jay.get())# Emp.get(jay)"
   ]
  },
  {
   "cell_type": "code",
   "execution_count": 8,
   "metadata": {},
   "outputs": [
    {
     "name": "stdout",
     "output_type": "stream",
     "text": [
      "('Aryabhatta', '2021-May-7 7:30 AM', '2021-May-7 9:30 AM', ['samba', 'santhosh', 'jay', 'vedha'])\n"
     ]
    }
   ],
   "source": [
    "# define a session booking class for a batminton court\n",
    "# court name(string), starttime(string), endtime(string), players(list).\n",
    "#BookSession(\"Aryabhatta\",\"2021-May-7 7:30 AM\",\"2021-May-7 9:30 AM\",[\"samba\",\"santhosh\",\"jay\",\"vedha\"])\n",
    "# write a method to fetch the session details.\n",
    "\n",
    "class BookSession:\n",
    "    def __init__(self, name, start_date,end_date,players):\n",
    "        self.name=name\n",
    "        self.start_date=start_date\n",
    "        self.end_date=end_date\n",
    "        self.players=players\n",
    "    def create(self):\n",
    "        pass\n",
    "        # code to insert the db\n",
    "    def check_availability(self, start_date, end_date):\n",
    "        # we will execute a select to fetch the details in given timings.\n",
    "        # based on the records we can take a decission\n",
    "        \n",
    "    def get(self):\n",
    "        return self.name, self.start_date, self.end_date, self.players\n",
    "    \n",
    "session1 = BookSession(\"Aryabhatta\",\"2021-May-7 7:30 AM\",\"2021-May-7 9:30 AM\",[\"samba\",\"santhosh\",\"jay\",\"vedha\"])\n",
    "print(session1.get())"
   ]
  },
  {
   "cell_type": "code",
   "execution_count": null,
   "metadata": {},
   "outputs": [],
   "source": [
    "# define a session booking class for a batminton court\n",
    "# court name(string), starttime(string), endtime(string), players(list).\n",
    "#BookSession(\"Aryabhatta\",\"2021-May-7 7:30 AM\",\"2021-May-7 9:30 AM\",[\"samba\",\"santhosh\",\"jay\",\"vedha\"])\n",
    "# write a method to fetch the session details.\n",
    "\n",
    "class BookSession:\n",
    "    def __init__(self, name, start_date,end_date,players):\n",
    "        self.name=name\n",
    "        self.start_date=start_date\n",
    "        self.end_date=end_date\n",
    "        self.players=players\n",
    "    def create(self):\n",
    "        pass\n",
    "        # code to insert the db\n",
    "    def check_availability(self, start_date, end_date):\n",
    "        # we will execute a select to fetch the details in given timings.\n",
    "        # based on the records we can take a decission\n",
    "        \n",
    "    def get(self):\n",
    "        return self.name, self.start_date, self.end_date, self.players\n",
    "    \n",
    "session1 = BookSession(\"Aryabhatta\",\"2021-May-7 7:30 AM\",\"2021-May-7 9:30 AM\",[\"samba\",\"santhosh\",\"jay\",\"vedha\"])\n",
    "print(session1.get())"
   ]
  },
  {
   "cell_type": "code",
   "execution_count": 9,
   "metadata": {},
   "outputs": [
    {
     "name": "stdout",
     "output_type": "stream",
     "text": [
      "('samba', 'Hyderabad', 9676622023)\n"
     ]
    }
   ],
   "source": [
    "# I got the module sales.py from internet.\n",
    "# sales.py : v 1.0.1\n",
    "class Customer:\n",
    "    def __init__(self, name,address,phone):\n",
    "        self.name=name\n",
    "        self.address=address\n",
    "        self.phone=phone\n",
    "        \n",
    "    def get(self):\n",
    "        return self.name,self.address, self.phone\n",
    "    \n",
    "#main.py\n",
    "#from sales import Customer\n",
    "samba = Customer(\"samba\",\"Hyderabad\",9676622023)\n",
    "print(samba.get())\n"
   ]
  },
  {
   "cell_type": "code",
   "execution_count": null,
   "metadata": {},
   "outputs": [],
   "source": [
    "# I got the module sales.py from internet.\n",
    "# sales.py : v 1.0.1\n",
    "class Customer:\n",
    "    def __init__(self, name,address,phone):\n",
    "        self.name=name\n",
    "        self.address=address\n",
    "        self.phone=phone\n",
    "        \n",
    "    def get(self):\n",
    "        return self.name,self.address, self.phone\n",
    "    # some other functionalities\n",
    "    \n",
    "#main.py\n",
    "#from sales import Customer\n",
    "samba = Customer(\"samba\",\"Hyderabad\",9676622023)\n",
    "print(samba.get())\n",
    "# got the requirement to add email attribute to the customerclass and we should have methods to validate phone number and email.\n"
   ]
  },
  {
   "cell_type": "code",
   "execution_count": 12,
   "metadata": {},
   "outputs": [
    {
     "name": "stdout",
     "output_type": "stream",
     "text": [
      "('samba', 'Hyderabad', '9676622023', 'sambaodoo@gmail.com')\n"
     ]
    }
   ],
   "source": [
    "# I got the module sales.py from internet.\n",
    "# sales.py : v 1.0.1\n",
    "class Customer:\n",
    "    def __init__(self, name,address,phone, email):\n",
    "        self.name=name\n",
    "        self.address=address\n",
    "        self.phone=str(phone)\n",
    "        self.email=email\n",
    "        if len(self.phone)!=10:\n",
    "            raise Exception(\"phone numebr should be 10 size\")\n",
    "        \n",
    "    def get(self):\n",
    "        return self.name,self.address, self.phone, self.email\n",
    "    \n",
    "    # some other functionalities\n",
    "    \n",
    "#main.py\n",
    "#from sales import Customer\n",
    "samba = Customer(\"samba\",\"Hyderabad\",9676622023,\"sambaodoo@gmail.com\")\n",
    "print(samba.get())\n",
    "# got the requirement to add email attribute to the customerclass and we should have methods to validate phone number and email.\n"
   ]
  },
  {
   "cell_type": "code",
   "execution_count": 13,
   "metadata": {},
   "outputs": [
    {
     "name": "stdout",
     "output_type": "stream",
     "text": [
      "('samba', 'Hyderabad', '9676622023', 'sambaodoo@gmail.com')\n",
      "('Sailaxmi', 'Hyderabad', '9676622024', 'sail@gmail.com')\n"
     ]
    }
   ],
   "source": [
    "# I got the module sales.py from internet.\n",
    "# sales.py : v 1.0.1\n",
    "class Customer:\n",
    "    def __init__(self, name,address,phone, email):\n",
    "        self.name=name\n",
    "        self.address=address\n",
    "        self.phone=str(phone)\n",
    "        self.email=email\n",
    "        if len(self.phone)!=10:\n",
    "            raise Exception(\"phone numebr should be 10 size\")\n",
    "        \n",
    "    def get(self):\n",
    "        return self.name,self.address, self.phone, self.email\n",
    "    \n",
    "    # some other functionalities\n",
    "    \n",
    "#main.py\n",
    "#from sales import Customer\n",
    "samba = Customer(\"samba\",\"Hyderabad\",9676622023,\"sambaodoo@gmail.com\")\n",
    "print(samba.get())\n",
    "# got the requirement to add email attribute to the customerclass and we should have methods to validate phone number and email.\n",
    "sai=Customer(\"Sailaxmi\",\"Hyderabad\",9676622024,\"sail@gmail.com\")\n",
    "print(sai.get())"
   ]
  },
  {
   "cell_type": "code",
   "execution_count": 14,
   "metadata": {},
   "outputs": [
    {
     "name": "stdout",
     "output_type": "stream",
     "text": [
      "('samba', 'Hyderabad', '9676622023')\n",
      "('Sailaxmi', 'Hyderabad', '9676622024')\n"
     ]
    }
   ],
   "source": [
    "# consider the scenario that sales people released a new version v 1.0.2, they added the few features whcih you required.\n",
    "# what if you update the module. do you have your changes in sales.py if you update the code?\n",
    "# when you update the module, you lost your changes.\n",
    "# what is the best way to do it?\n",
    "# I got the module sales.py from internet.\n",
    "# sales.py : v 1.0.1\n",
    "class Customer:\n",
    "    def __init__(self, name,address,phone):\n",
    "        self.name=name\n",
    "        self.address=address\n",
    "        self.phone=str(phone)\n",
    "        \n",
    "        \n",
    "    def get(self):\n",
    "        return self.name,self.address, self.phone\n",
    "    \n",
    "    # some other functionalities\n",
    "    \n",
    "# mysales.py\n",
    "class MyCustomer(Customer):\n",
    "    def __init__(self, name,address,phone, email):\n",
    "        self.name=name\n",
    "        self.address=address\n",
    "        self.phone=str(phone)\n",
    "        self.email=email\n",
    "        if len(self.phone) !=10:\n",
    "            raise Eaception(\"Phone number should 10 in size\")\n",
    "    \n",
    "#main.py\n",
    "#from mysales import MyCustomer\n",
    "samba = MyCustomer(\"samba\",\"Hyderabad\",9676622023,\"sambaodoo@gmail.com\")\n",
    "print(samba.get())\n",
    "# got the requirement to add email attribute to the customerclass and we should have methods to validate phone number and email.\n",
    "sai=MyCustomer(\"Sailaxmi\",\"Hyderabad\",9676622024,\"sail@gmail.com\")\n",
    "print(sai.get())"
   ]
  },
  {
   "cell_type": "code",
   "execution_count": null,
   "metadata": {},
   "outputs": [],
   "source": []
  }
 ],
 "metadata": {
  "kernelspec": {
   "display_name": "Python 3",
   "language": "python",
   "name": "python3"
  },
  "language_info": {
   "codemirror_mode": {
    "name": "ipython",
    "version": 3
   },
   "file_extension": ".py",
   "mimetype": "text/x-python",
   "name": "python",
   "nbconvert_exporter": "python",
   "pygments_lexer": "ipython3",
   "version": "3.8.3"
  }
 },
 "nbformat": 4,
 "nbformat_minor": 4
}
