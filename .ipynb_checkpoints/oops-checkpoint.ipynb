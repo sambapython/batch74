{
 "cells": [
  {
   "cell_type": "code",
   "execution_count": 1,
   "metadata": {},
   "outputs": [
    {
     "name": "stdout",
     "output_type": "stream",
     "text": [
      "this is class\n"
     ]
    }
   ],
   "source": [
    "def fun():\n",
    "    print(\"this is fun\")\n",
    "    \n",
    "class cls1:\n",
    "    print(\"this is class\")"
   ]
  },
  {
   "cell_type": "code",
   "execution_count": 2,
   "metadata": {},
   "outputs": [],
   "source": [
    "class emp:\n",
    "    company_name=\"Khyaathi\"\n",
    "    def get(x):\n",
    "        print(\"this is get\")\n",
    "    def put(x):\n",
    "        print(\"this is put\")\n",
    "    \n",
    "samba=emp()\n",
    "samba.name=\"sambasiva\"\n",
    "samba.emp_id=1\n",
    "sai=emp()\n",
    "sai.name=\"sailaxmi\"\n",
    "sai.phone=9876567894\n",
    "sai.emp_id=2"
   ]
  },
  {
   "cell_type": "code",
   "execution_count": 3,
   "metadata": {},
   "outputs": [
    {
     "ename": "NameError",
     "evalue": "name 'company_name' is not defined",
     "output_type": "error",
     "traceback": [
      "\u001b[1;31m---------------------------------------------------------------------------\u001b[0m",
      "\u001b[1;31mNameError\u001b[0m                                 Traceback (most recent call last)",
      "\u001b[1;32m<ipython-input-3-446a59ad143a>\u001b[0m in \u001b[0;36m<module>\u001b[1;34m\u001b[0m\n\u001b[0;32m      5\u001b[0m     \u001b[1;32mdef\u001b[0m \u001b[0mput\u001b[0m\u001b[1;33m(\u001b[0m\u001b[0mx\u001b[0m\u001b[1;33m)\u001b[0m\u001b[1;33m:\u001b[0m\u001b[1;33m\u001b[0m\u001b[1;33m\u001b[0m\u001b[0m\n\u001b[0;32m      6\u001b[0m         \u001b[0mprint\u001b[0m\u001b[1;33m(\u001b[0m\u001b[1;34m\"this is put\"\u001b[0m\u001b[1;33m)\u001b[0m\u001b[1;33m\u001b[0m\u001b[1;33m\u001b[0m\u001b[0m\n\u001b[1;32m----> 7\u001b[1;33m \u001b[0mprint\u001b[0m\u001b[1;33m(\u001b[0m\u001b[0mcompany_name\u001b[0m\u001b[1;33m)\u001b[0m\u001b[1;33m\u001b[0m\u001b[1;33m\u001b[0m\u001b[0m\n\u001b[0m",
      "\u001b[1;31mNameError\u001b[0m: name 'company_name' is not defined"
     ]
    }
   ],
   "source": [
    "class emp:\n",
    "    company_name=\"Khyaathi\"\n",
    "    def get(x):\n",
    "        print(\"this is get\")\n",
    "    def put(x):\n",
    "        print(\"this is put\")\n",
    "print(company_name)"
   ]
  },
  {
   "cell_type": "code",
   "execution_count": 4,
   "metadata": {},
   "outputs": [
    {
     "name": "stdout",
     "output_type": "stream",
     "text": [
      "Khyaathi\n"
     ]
    }
   ],
   "source": [
    "class emp:\n",
    "    company_name=\"Khyaathi\"\n",
    "    def get(x):\n",
    "        print(\"this is get\")\n",
    "    def put(x):\n",
    "        print(\"this is put\")\n",
    "print(emp.company_name)"
   ]
  },
  {
   "cell_type": "code",
   "execution_count": 5,
   "metadata": {},
   "outputs": [
    {
     "name": "stdout",
     "output_type": "stream",
     "text": [
      "Khyaathi\n",
      "this is get\n",
      "this is put\n"
     ]
    }
   ],
   "source": [
    "class emp:\n",
    "    company_name=\"Khyaathi\"\n",
    "    def get(x):\n",
    "        print(\"this is get\")\n",
    "    def put(x):\n",
    "        print(\"this is put\")\n",
    "print(emp.company_name)\n",
    "emp.get(10)\n",
    "emp.put(20)"
   ]
  },
  {
   "cell_type": "code",
   "execution_count": 6,
   "metadata": {},
   "outputs": [
    {
     "name": "stdout",
     "output_type": "stream",
     "text": [
      "sambasiva 1 Khyaathi\n",
      "sailaxmi 2 9876567894 Khyaathi\n"
     ]
    }
   ],
   "source": [
    "class emp:\n",
    "    company_name=\"Khyaathi\"\n",
    "    def get(x):\n",
    "        print(\"this is get\")\n",
    "    def put(x):\n",
    "        print(\"this is put\")\n",
    "    \n",
    "samba=emp()\n",
    "samba.name=\"sambasiva\"\n",
    "samba.emp_id=1\n",
    "print(samba.name,samba.emp_id,samba.company_name)\n",
    "sai=emp()\n",
    "sai.name=\"sailaxmi\"\n",
    "sai.phone=9876567894\n",
    "sai.emp_id=2\n",
    "print(sai.name,sai.emp_id,sai.phone,sai.company_name)"
   ]
  },
  {
   "cell_type": "code",
   "execution_count": 7,
   "metadata": {},
   "outputs": [
    {
     "name": "stdout",
     "output_type": "stream",
     "text": [
      "sambasiva 1 Khyaathi\n",
      "sailaxmi 2 9876567894 Khyaathi\n"
     ]
    },
    {
     "ename": "AttributeError",
     "evalue": "'emp' object has no attribute 'phone'",
     "output_type": "error",
     "traceback": [
      "\u001b[1;31m---------------------------------------------------------------------------\u001b[0m",
      "\u001b[1;31mAttributeError\u001b[0m                            Traceback (most recent call last)",
      "\u001b[1;32m<ipython-input-7-74be0d593640>\u001b[0m in \u001b[0;36m<module>\u001b[1;34m\u001b[0m\n\u001b[0;32m     15\u001b[0m \u001b[0msai\u001b[0m\u001b[1;33m.\u001b[0m\u001b[0memp_id\u001b[0m\u001b[1;33m=\u001b[0m\u001b[1;36m2\u001b[0m\u001b[1;33m\u001b[0m\u001b[1;33m\u001b[0m\u001b[0m\n\u001b[0;32m     16\u001b[0m \u001b[0mprint\u001b[0m\u001b[1;33m(\u001b[0m\u001b[0msai\u001b[0m\u001b[1;33m.\u001b[0m\u001b[0mname\u001b[0m\u001b[1;33m,\u001b[0m\u001b[0msai\u001b[0m\u001b[1;33m.\u001b[0m\u001b[0memp_id\u001b[0m\u001b[1;33m,\u001b[0m\u001b[0msai\u001b[0m\u001b[1;33m.\u001b[0m\u001b[0mphone\u001b[0m\u001b[1;33m,\u001b[0m\u001b[0msai\u001b[0m\u001b[1;33m.\u001b[0m\u001b[0mcompany_name\u001b[0m\u001b[1;33m)\u001b[0m\u001b[1;33m\u001b[0m\u001b[1;33m\u001b[0m\u001b[0m\n\u001b[1;32m---> 17\u001b[1;33m \u001b[0mprint\u001b[0m\u001b[1;33m(\u001b[0m\u001b[0msamba\u001b[0m\u001b[1;33m.\u001b[0m\u001b[0mphone\u001b[0m\u001b[1;33m)\u001b[0m\u001b[1;33m\u001b[0m\u001b[1;33m\u001b[0m\u001b[0m\n\u001b[0m",
      "\u001b[1;31mAttributeError\u001b[0m: 'emp' object has no attribute 'phone'"
     ]
    }
   ],
   "source": [
    "class emp:\n",
    "    company_name=\"Khyaathi\"\n",
    "    def get(x):\n",
    "        print(\"this is get\")\n",
    "    def put(x):\n",
    "        print(\"this is put\")\n",
    "    \n",
    "samba=emp()\n",
    "samba.name=\"sambasiva\"\n",
    "samba.emp_id=1\n",
    "print(samba.name,samba.emp_id,samba.company_name)\n",
    "sai=emp()\n",
    "sai.name=\"sailaxmi\"\n",
    "sai.phone=9876567894\n",
    "sai.emp_id=2\n",
    "print(sai.name,sai.emp_id,sai.phone,sai.company_name)\n",
    "print(samba.phone)"
   ]
  },
  {
   "cell_type": "code",
   "execution_count": 8,
   "metadata": {},
   "outputs": [
    {
     "name": "stdout",
     "output_type": "stream",
     "text": [
      "sambasiva 1 None Khyaathi\n",
      "sailaxmi 2 9876567894 Khyaathi\n"
     ]
    }
   ],
   "source": [
    "class emp:\n",
    "    company_name=\"Khyaathi\"\n",
    "    def get(x):\n",
    "        print(x.name,x.emp_id,x.phone,x.company_name)\n",
    "    def put(x,name, emp_id, phone=None):\n",
    "        x.name=name\n",
    "        x.emp_id=emp_id\n",
    "        x.phone=phone\n",
    "        \n",
    "        \n",
    "        \n",
    "    \n",
    "samba=emp()\n",
    "# samba.name=\"sambasiva\"\n",
    "# samba.emp_id=1\n",
    "emp.put(samba,\"sambasiva\",1)\n",
    "#print(samba.name,samba.emp_id,samba.company_name)\n",
    "emp.get(samba)\n",
    "sai=emp()\n",
    "emp.put(sai,\"sailaxmi\",2,9876567894)\n",
    "# sai.name=\"sailaxmi\"\n",
    "# sai.phone=9876567894\n",
    "# sai.emp_id=2\n",
    "# print(sai.name,sai.emp_id,sai.phone,sai.company_name)\n",
    "# print(samba.phone)\n",
    "emp.get(sai)"
   ]
  },
  {
   "cell_type": "code",
   "execution_count": null,
   "metadata": {},
   "outputs": [],
   "source": [
    "class emp:\n",
    "    company_name=\"Khyaathi\"\n",
    "    def get(x):\n",
    "        print(x.name,x.emp_id,x.phone,x.company_name)\n",
    "    def put(x,name, emp_id, phone=None):\n",
    "        x.name=name\n",
    "        x.emp_id=emp_id\n",
    "        x.phone=phone\n",
    "        \n",
    "\n",
    "samba=emp()\n",
    "emp.put(samba,\"sambasiva\",1)\n",
    "emp.get(samba)\n",
    "sai=emp()\n",
    "emp.put(sai,\"sailaxmi\",2,9876567894)\n",
    "emp.get(sai)"
   ]
  },
  {
   "cell_type": "code",
   "execution_count": 9,
   "metadata": {},
   "outputs": [
    {
     "name": "stdout",
     "output_type": "stream",
     "text": [
      "Vagonr 700000 navy Blue 23*32*45 Maruthi\n",
      "Swift 9000000 Grey 25*32*43 Maruthi\n"
     ]
    }
   ],
   "source": [
    "# define a class for car which is belongs maruthi compnay. every car may have cost,color, dimensions,\n",
    "class Car:\n",
    "    company=\"Maruthi\" # class object atribute\n",
    "    \n",
    "    def put(x, name, cost,color,dimensions):\n",
    "        x.name=name # name, color, cost, dimensions are data object attributes\n",
    "        x.color=color\n",
    "        x.cost=cost\n",
    "        x.dimensions=dimensions\n",
    "        \n",
    "    def get(x):\n",
    "        print(x.name, x.cost, x.color, x.dimensions, x.company)\n",
    "        \n",
    "vagonr = Car()# car() is a data object, vagonr is a reference to the data object. called as an instance\n",
    "Car.put(vagonr, \"Vagonr\",700000, \"navy Blue\",\"23*32*45\")\n",
    "swift = Car()\n",
    "Car.put(swift,\"Swift\",9000000,\"Grey\",\"25*32*43\")\n",
    "Car.get(vagonr)\n",
    "Car.get(swift)"
   ]
  },
  {
   "cell_type": "code",
   "execution_count": 10,
   "metadata": {},
   "outputs": [
    {
     "name": "stdout",
     "output_type": "stream",
     "text": [
      "Vagonr 700000 navy Blue 23*32*45 Maruthi\n",
      "Swift 9000000 Grey 25*32*43 Maruthi\n"
     ]
    },
    {
     "ename": "AttributeError",
     "evalue": "'Car' object has no attribute 'name'",
     "output_type": "error",
     "traceback": [
      "\u001b[1;31m---------------------------------------------------------------------------\u001b[0m",
      "\u001b[1;31mAttributeError\u001b[0m                            Traceback (most recent call last)",
      "\u001b[1;32m<ipython-input-10-cb77a621a9d9>\u001b[0m in \u001b[0;36m<module>\u001b[1;34m\u001b[0m\n\u001b[0;32m     19\u001b[0m \u001b[0mCar\u001b[0m\u001b[1;33m.\u001b[0m\u001b[0mget\u001b[0m\u001b[1;33m(\u001b[0m\u001b[0mswift\u001b[0m\u001b[1;33m)\u001b[0m\u001b[1;33m\u001b[0m\u001b[1;33m\u001b[0m\u001b[0m\n\u001b[0;32m     20\u001b[0m \u001b[0mscross\u001b[0m\u001b[1;33m=\u001b[0m\u001b[0mCar\u001b[0m\u001b[1;33m(\u001b[0m\u001b[1;33m)\u001b[0m\u001b[1;33m\u001b[0m\u001b[1;33m\u001b[0m\u001b[0m\n\u001b[1;32m---> 21\u001b[1;33m \u001b[0mCar\u001b[0m\u001b[1;33m.\u001b[0m\u001b[0mget\u001b[0m\u001b[1;33m(\u001b[0m\u001b[0mscross\u001b[0m\u001b[1;33m)\u001b[0m\u001b[1;33m\u001b[0m\u001b[1;33m\u001b[0m\u001b[0m\n\u001b[0m",
      "\u001b[1;32m<ipython-input-10-cb77a621a9d9>\u001b[0m in \u001b[0;36mget\u001b[1;34m(x)\u001b[0m\n\u001b[0;32m     10\u001b[0m \u001b[1;33m\u001b[0m\u001b[0m\n\u001b[0;32m     11\u001b[0m     \u001b[1;32mdef\u001b[0m \u001b[0mget\u001b[0m\u001b[1;33m(\u001b[0m\u001b[0mx\u001b[0m\u001b[1;33m)\u001b[0m\u001b[1;33m:\u001b[0m\u001b[1;33m\u001b[0m\u001b[1;33m\u001b[0m\u001b[0m\n\u001b[1;32m---> 12\u001b[1;33m         \u001b[0mprint\u001b[0m\u001b[1;33m(\u001b[0m\u001b[0mx\u001b[0m\u001b[1;33m.\u001b[0m\u001b[0mname\u001b[0m\u001b[1;33m,\u001b[0m \u001b[0mx\u001b[0m\u001b[1;33m.\u001b[0m\u001b[0mcost\u001b[0m\u001b[1;33m,\u001b[0m \u001b[0mx\u001b[0m\u001b[1;33m.\u001b[0m\u001b[0mcolor\u001b[0m\u001b[1;33m,\u001b[0m \u001b[0mx\u001b[0m\u001b[1;33m.\u001b[0m\u001b[0mdimensions\u001b[0m\u001b[1;33m,\u001b[0m \u001b[0mx\u001b[0m\u001b[1;33m.\u001b[0m\u001b[0mcompany\u001b[0m\u001b[1;33m)\u001b[0m\u001b[1;33m\u001b[0m\u001b[1;33m\u001b[0m\u001b[0m\n\u001b[0m\u001b[0;32m     13\u001b[0m \u001b[1;33m\u001b[0m\u001b[0m\n\u001b[0;32m     14\u001b[0m \u001b[0mvagonr\u001b[0m \u001b[1;33m=\u001b[0m \u001b[0mCar\u001b[0m\u001b[1;33m(\u001b[0m\u001b[1;33m)\u001b[0m\u001b[1;31m# car() is a data object, vagonr is a reference to the data object. called as an instance\u001b[0m\u001b[1;33m\u001b[0m\u001b[1;33m\u001b[0m\u001b[0m\n",
      "\u001b[1;31mAttributeError\u001b[0m: 'Car' object has no attribute 'name'"
     ]
    }
   ],
   "source": [
    "# define a class for car which is belongs maruthi compnay. every car may have cost,color, dimensions,\n",
    "class Car:\n",
    "    company=\"Maruthi\" # class object atribute\n",
    "    \n",
    "    def put(x, name, cost,color,dimensions):\n",
    "        x.name=name # name, color, cost, dimensions are data object attributes\n",
    "        x.color=color\n",
    "        x.cost=cost\n",
    "        x.dimensions=dimensions\n",
    "        \n",
    "    def get(x):\n",
    "        print(x.name, x.cost, x.color, x.dimensions, x.company)\n",
    "        \n",
    "vagonr = Car()# car() is a data object, vagonr is a reference to the data object. called as an instance\n",
    "Car.put(vagonr, \"Vagonr\",700000, \"navy Blue\",\"23*32*45\")\n",
    "swift = Car()\n",
    "Car.put(swift,\"Swift\",9000000,\"Grey\",\"25*32*43\")\n",
    "Car.get(vagonr)\n",
    "Car.get(swift)\n",
    "scross=Car()\n",
    "Car.get(scross)"
   ]
  },
  {
   "cell_type": "code",
   "execution_count": 1,
   "metadata": {},
   "outputs": [],
   "source": [
    "# take any scenario identify the entties in that scenario.\n",
    "# we need to define the classes for travel agency project."
   ]
  },
  {
   "cell_type": "code",
   "execution_count": 2,
   "metadata": {},
   "outputs": [
    {
     "name": "stdout",
     "output_type": "stream",
     "text": [
      "this is class\n"
     ]
    }
   ],
   "source": [
    "class Emp:\n",
    "    print(\"this is class\")\n",
    "    def __init__(x):\n",
    "        print(\"this is init\")\n",
    "    def get(x):\n",
    "        print(\"this is get\")"
   ]
  },
  {
   "cell_type": "code",
   "execution_count": 3,
   "metadata": {},
   "outputs": [
    {
     "name": "stdout",
     "output_type": "stream",
     "text": [
      "this is class\n",
      "this is init\n"
     ]
    }
   ],
   "source": [
    "class Emp:\n",
    "    print(\"this is class\")\n",
    "    def __init__(x):\n",
    "        print(\"this is init\")\n",
    "    def get(x):\n",
    "        print(\"this is get\")\n",
    "jay=Emp()"
   ]
  },
  {
   "cell_type": "code",
   "execution_count": 4,
   "metadata": {},
   "outputs": [
    {
     "name": "stdout",
     "output_type": "stream",
     "text": [
      "this is class\n",
      "this is init\n",
      "this is init\n",
      "this is init\n"
     ]
    }
   ],
   "source": [
    "class Emp:\n",
    "    print(\"this is class\")\n",
    "    def __init__(x):\n",
    "        print(\"this is init\")\n",
    "    def get(x):\n",
    "        print(\"this is get\")\n",
    "jay=Emp()\n",
    "vedha=Emp()\n",
    "sai=Emp()"
   ]
  },
  {
   "cell_type": "code",
   "execution_count": null,
   "metadata": {},
   "outputs": [],
   "source": [
    "class Emp:\n",
    "    print(\"this is class\")\n",
    "    def __init__(x):\n",
    "        print(\"this is init\")\n",
    "    def get(x):\n",
    "        print(\"this is get\")\n",
    "jay=Emp()\n",
    "\"\"\"\n",
    "1. internally it will call __new__ method,this method returns the data object\n",
    "2. by using this data object, the constructor gets called.\n",
    "3. at the end it will return the data object.\n",
    "\"\"\"\n",
    "vedha=Emp()\n",
    "sai=Emp()"
   ]
  },
  {
   "cell_type": "code",
   "execution_count": 5,
   "metadata": {},
   "outputs": [
    {
     "name": "stdout",
     "output_type": "stream",
     "text": [
      "Vagonr 700000 navy Blue 23*32*45 Maruthi\n",
      "Swift 9000000 Grey 25*32*43 Maruthi\n"
     ]
    }
   ],
   "source": [
    "class Car:\n",
    "    company=\"Maruthi\" \n",
    "    \n",
    "    def __init__(x, name, cost,color,dimensions):\n",
    "        x.name=name \n",
    "        x.color=color\n",
    "        x.cost=cost\n",
    "        x.dimensions=dimensions\n",
    "        \n",
    "    def get(x):\n",
    "        print(x.name, x.cost, x.color, x.dimensions, x.company)\n",
    "        \n",
    "vagonr = Car(\"Vagonr\",700000, \"navy Blue\",\"23*32*45\")\n",
    "swift = Car(\"Swift\",9000000,\"Grey\",\"25*32*43\")\n",
    "Car.get(vagonr)\n",
    "Car.get(swift)"
   ]
  },
  {
   "cell_type": "code",
   "execution_count": 6,
   "metadata": {},
   "outputs": [
    {
     "name": "stdout",
     "output_type": "stream",
     "text": [
      "Vagonr 700000 navy Blue 23*32*45 Maruthi\n",
      "Swift 9000000 Grey 25*32*43 Maruthi\n"
     ]
    },
    {
     "ename": "TypeError",
     "evalue": "__init__() missing 4 required positional arguments: 'name', 'cost', 'color', and 'dimensions'",
     "output_type": "error",
     "traceback": [
      "\u001b[1;31m---------------------------------------------------------------------------\u001b[0m",
      "\u001b[1;31mTypeError\u001b[0m                                 Traceback (most recent call last)",
      "\u001b[1;32m<ipython-input-6-a3ada1f83458>\u001b[0m in \u001b[0;36m<module>\u001b[1;34m\u001b[0m\n\u001b[0;32m     15\u001b[0m \u001b[0mCar\u001b[0m\u001b[1;33m.\u001b[0m\u001b[0mget\u001b[0m\u001b[1;33m(\u001b[0m\u001b[0mvagonr\u001b[0m\u001b[1;33m)\u001b[0m\u001b[1;33m\u001b[0m\u001b[1;33m\u001b[0m\u001b[0m\n\u001b[0;32m     16\u001b[0m \u001b[0mCar\u001b[0m\u001b[1;33m.\u001b[0m\u001b[0mget\u001b[0m\u001b[1;33m(\u001b[0m\u001b[0mswift\u001b[0m\u001b[1;33m)\u001b[0m\u001b[1;33m\u001b[0m\u001b[1;33m\u001b[0m\u001b[0m\n\u001b[1;32m---> 17\u001b[1;33m \u001b[0mscross\u001b[0m\u001b[1;33m=\u001b[0m\u001b[0mCar\u001b[0m\u001b[1;33m(\u001b[0m\u001b[1;33m)\u001b[0m\u001b[1;33m\u001b[0m\u001b[1;33m\u001b[0m\u001b[0m\n\u001b[0m",
      "\u001b[1;31mTypeError\u001b[0m: __init__() missing 4 required positional arguments: 'name', 'cost', 'color', and 'dimensions'"
     ]
    }
   ],
   "source": [
    "class Car:\n",
    "    company=\"Maruthi\" \n",
    "    \n",
    "    def __init__(x, name, cost,color,dimensions):\n",
    "        x.name=name \n",
    "        x.color=color\n",
    "        x.cost=cost\n",
    "        x.dimensions=dimensions\n",
    "        \n",
    "    def get(x):\n",
    "        print(x.name, x.cost, x.color, x.dimensions, x.company)\n",
    "        \n",
    "vagonr = Car(\"Vagonr\",700000, \"navy Blue\",\"23*32*45\")\n",
    "swift = Car(\"Swift\",9000000,\"Grey\",\"25*32*43\")\n",
    "Car.get(vagonr)\n",
    "Car.get(swift)\n",
    "scross=Car()"
   ]
  },
  {
   "cell_type": "code",
   "execution_count": 7,
   "metadata": {},
   "outputs": [
    {
     "name": "stdout",
     "output_type": "stream",
     "text": [
      "Vagonr 700000 navy Blue 23*32*45 Maruthi\n",
      "Swift 9000000 Grey 25*32*43 Maruthi\n"
     ]
    }
   ],
   "source": [
    "class Car:\n",
    "    company=\"Maruthi\" \n",
    "    \n",
    "    def __init__(x, name, cost,color,dimensions):\n",
    "        x.name=name \n",
    "        x.color=color\n",
    "        x.cost=cost\n",
    "        x.dimensions=dimensions\n",
    "        \n",
    "    def get(x):\n",
    "        print(x.name, x.cost, x.color, x.dimensions, x.company)\n",
    "        \n",
    "vagonr = Car(\"Vagonr\",700000, \"navy Blue\",\"23*32*45\")\n",
    "swift = Car(\"Swift\",9000000,\"Grey\",\"25*32*43\")\n",
    "#Car.get(vagonr)\n",
    "vagonr.get()\n",
    "#Car.get(swift)\n",
    "swift.get()"
   ]
  },
  {
   "cell_type": "code",
   "execution_count": 9,
   "metadata": {},
   "outputs": [
    {
     "name": "stdout",
     "output_type": "stream",
     "text": [
      "('Vagonr', 700000, 'navy Blue', '23*32*45')\n",
      "Maruthi\n",
      "('Swift', 9000000, 'Grey', '25*32*43')\n",
      "Maruthi\n"
     ]
    }
   ],
   "source": [
    "class Car:\n",
    "    company=\"Maruthi\" \n",
    "    \n",
    "    def __init__(self, name, cost,color,dimensions):\n",
    "        self.name=name \n",
    "        self.color=color\n",
    "        self.cost=cost\n",
    "        self.dimensions=dimensions\n",
    "        \n",
    "    def get_company(self):\n",
    "        return self.company\n",
    "        \n",
    "    def get(self):\n",
    "        return self.name, self.cost, self.color, self.dimensions\n",
    "        \n",
    "vagonr = Car(\"Vagonr\",700000, \"navy Blue\",\"23*32*45\")\n",
    "swift = Car(\"Swift\",9000000,\"Grey\",\"25*32*43\")\n",
    "#Car.get(vagonr)\n",
    "print(vagonr.get())\n",
    "print(vagonr.get_company())\n",
    "#Car.get(swift)\n",
    "print(swift.get())\n",
    "print(swift.get_company())"
   ]
  },
  {
   "cell_type": "code",
   "execution_count": 11,
   "metadata": {},
   "outputs": [
    {
     "name": "stdout",
     "output_type": "stream",
     "text": [
      "19450.0\n"
     ]
    }
   ],
   "source": [
    "# define a product class with purchase cost,name as mandatory attributes delivery cost and discount and profit percentage\n",
    "# as optional attributes.\n",
    "#default dicount percentage is 5% and default profit percentage is 30%, delivery cost by default 0\n",
    "# write methods to calculate sales price and profit.\n",
    "class Product:\n",
    "    def __init__(self, name,purchase_cost, delivery_cost=0,discount_per=5,profit_per=30):\n",
    "        self.name=name\n",
    "        self.purchase_cost=purchase_cost\n",
    "        self.delivery_cost =delivery_cost\n",
    "        self.discount_per=discount_per\n",
    "        self.profit_per=profit_per\n",
    "        \n",
    "    def get_grossprice(self):\n",
    "        # without discount with profit+delivery charges\n",
    "        return self.purchase_cost+self.get_profit()+self.delivery_cost\n",
    "        \n",
    "    def get_discount(self):\n",
    "        return self.get_grossprice() * (self.discount_per/100)\n",
    "        \n",
    "    def get_profit(self):\n",
    "        return self.purchase_cost * (self.profit_per/100)\n",
    "        \n",
    "    def get_salesprice(self):\n",
    "        return self.get_max_retail_price() - self.get_discount()\n",
    "    \n",
    "    def get_max_retail_price(self):\n",
    "        return self.get_grossprice() + self.get_discount() + self.get_profit()\n",
    "    \n",
    "Mi_version_7=Product(\"Mi PRO 7\",12000,250)\n",
    "print(Mi_version_7.get_salesprice())\n",
    "        "
   ]
  },
  {
   "cell_type": "code",
   "execution_count": 12,
   "metadata": {},
   "outputs": [
    {
     "name": "stdout",
     "output_type": "stream",
     "text": [
      "25.67\n",
      "-20\n"
     ]
    }
   ],
   "source": [
    "# define product class cost price and sales price as attributes write a method to calculate profit or loss\n",
    "# show profit in + number, show loss in - number.\n",
    "class Product:\n",
    "    def __init__(self, cp,sp):\n",
    "        self.cp=cp\n",
    "        self.sp=sp\n",
    "    def profit(self):\n",
    "        return self.sp-self.cp\n",
    "    \n",
    "apple = Product(100,125.67)\n",
    "print(apple.profit())\n",
    "mango = Product(120,100)\n",
    "print(mango.profit())"
   ]
  },
  {
   "cell_type": "code",
   "execution_count": 14,
   "metadata": {},
   "outputs": [
    {
     "name": "stdout",
     "output_type": "stream",
     "text": [
      "19450.0\n"
     ]
    }
   ],
   "source": [
    "# define a product class with purchase cost,name as mandatory attributes delivery cost and discount and profit percentage\n",
    "# as optional attributes.\n",
    "#default dicount percentage is 5% and default profit percentage is 30%, delivery cost by default 0\n",
    "# write methods to calculate sales price and profit.\n",
    "class Product:\n",
    "    def __init__(self, name,purchase_cost, delivery_cost=0,discount_per=5,profit_per=30):\n",
    "        self.name=name\n",
    "        self.purchase_cost=purchase_cost\n",
    "        self.delivery_cost =delivery_cost\n",
    "        self.discount_per=discount_per\n",
    "        self.profit_per=profit_per\n",
    "        self.profit=self.purchase_cost * (self.profit_per/100)\n",
    "        self.grossprice=self.purchase_cost+self.profit+self.delivery_cost\n",
    "        self.discount= self.grossprice * (self.discount_per/100)\n",
    "        self.mrp = self.grossprice + self.discount + self.profit\n",
    "        self.sales_price = self.mrp-self.discount\n",
    "        \n",
    "Mi_version_7=Product(\"Mi PRO 7\",12000,250)\n",
    "print(Mi_version_7.sales_price)\n",
    "        "
   ]
  },
  {
   "cell_type": "code",
   "execution_count": null,
   "metadata": {},
   "outputs": [],
   "source": []
  }
 ],
 "metadata": {
  "kernelspec": {
   "display_name": "Python 3",
   "language": "python",
   "name": "python3"
  },
  "language_info": {
   "codemirror_mode": {
    "name": "ipython",
    "version": 3
   },
   "file_extension": ".py",
   "mimetype": "text/x-python",
   "name": "python",
   "nbconvert_exporter": "python",
   "pygments_lexer": "ipython3",
   "version": "3.8.3"
  }
 },
 "nbformat": 4,
 "nbformat_minor": 4
}
