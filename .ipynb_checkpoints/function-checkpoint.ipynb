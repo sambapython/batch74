{
 "cells": [
  {
   "cell_type": "code",
   "execution_count": 1,
   "metadata": {},
   "outputs": [
    {
     "name": "stdout",
     "output_type": "stream",
     "text": [
      "a=10,b=20\n",
      "res=30\n"
     ]
    }
   ],
   "source": [
    "a=10\n",
    "b=20\n",
    "print(f\"a={a},b={b}\")\n",
    "res=a+b\n",
    "print(f\"res={res}\")"
   ]
  },
  {
   "cell_type": "code",
   "execution_count": 2,
   "metadata": {},
   "outputs": [
    {
     "name": "stdout",
     "output_type": "stream",
     "text": [
      "a=10,b=20\n",
      "res=30\n",
      "a=100,b=200\n",
      "res=300\n",
      "a=1000,b=2000\n",
      "res=3000\n",
      "a=10000,b=20000\n",
      "res=30000\n"
     ]
    }
   ],
   "source": [
    "a=10\n",
    "b=20\n",
    "print(f\"a={a},b={b}\")\n",
    "res=a+b\n",
    "print(f\"res={res}\")\n",
    "a=100\n",
    "b=200\n",
    "print(f\"a={a},b={b}\")\n",
    "res=a+b\n",
    "print(f\"res={res}\")\n",
    "a=1000\n",
    "b=2000\n",
    "print(f\"a={a},b={b}\")\n",
    "res=a+b\n",
    "print(f\"res={res}\")\n",
    "a=10000\n",
    "b=20000\n",
    "print(f\"a={a},b={b}\")\n",
    "res=a+b\n",
    "print(f\"res={res}\")"
   ]
  },
  {
   "cell_type": "code",
   "execution_count": 3,
   "metadata": {},
   "outputs": [
    {
     "name": "stdout",
     "output_type": "stream",
     "text": [
      "started\n",
      "ended\n"
     ]
    }
   ],
   "source": [
    "print(\"started\")\n",
    "#function definition\n",
    "def fun(): # function signature\n",
    "    # function body\n",
    "    print(\"hi\")\n",
    "    print(\"hello\")\n",
    "print(\"ended\")"
   ]
  },
  {
   "cell_type": "code",
   "execution_count": 4,
   "metadata": {},
   "outputs": [
    {
     "name": "stdout",
     "output_type": "stream",
     "text": [
      "started\n",
      "ended\n",
      "hi\n",
      "hello\n"
     ]
    }
   ],
   "source": [
    "print(\"started\")\n",
    "def fun():\n",
    "    print(\"hi\")\n",
    "    print(\"hello\")\n",
    "print(\"ended\")\n",
    "fun()"
   ]
  },
  {
   "cell_type": "code",
   "execution_count": 5,
   "metadata": {},
   "outputs": [
    {
     "name": "stdout",
     "output_type": "stream",
     "text": [
      "started\n",
      "ended\n",
      "hi\n",
      "hello\n",
      "hi\n",
      "hello\n",
      "hi\n",
      "hello\n"
     ]
    }
   ],
   "source": [
    "print(\"started\")\n",
    "def fun():\n",
    "    print(\"hi\")\n",
    "    print(\"hello\")\n",
    "print(\"ended\")\n",
    "fun()\n",
    "fun()\n",
    "fun()"
   ]
  },
  {
   "cell_type": "code",
   "execution_count": 6,
   "metadata": {},
   "outputs": [
    {
     "name": "stdout",
     "output_type": "stream",
     "text": [
      "started\n",
      "hi\n",
      "hello\n",
      "ended\n",
      "hi\n",
      "hello\n",
      "hi\n",
      "hello\n",
      "hi\n",
      "hello\n"
     ]
    }
   ],
   "source": [
    "print(\"started\")\n",
    "def fun():\n",
    "    print(\"hi\")\n",
    "    print(\"hello\")\n",
    "fun()\n",
    "print(\"ended\")\n",
    "fun()\n",
    "fun()\n",
    "fun()"
   ]
  },
  {
   "cell_type": "code",
   "execution_count": 7,
   "metadata": {},
   "outputs": [
    {
     "name": "stdout",
     "output_type": "stream",
     "text": [
      "hi\n",
      "hello\n",
      "hi\n",
      "hello\n"
     ]
    }
   ],
   "source": [
    "def add():\n",
    "    print(\"hi\")\n",
    "    print(\"hello\")\n",
    "add()\n",
    "add()"
   ]
  },
  {
   "cell_type": "code",
   "execution_count": 8,
   "metadata": {},
   "outputs": [
    {
     "name": "stdout",
     "output_type": "stream",
     "text": [
      "x=10,y=20\n",
      "hi\n",
      "hello\n",
      "x=100,y=200\n",
      "hi\n",
      "hello\n"
     ]
    }
   ],
   "source": [
    "def add(x,y): # x,y parameters\n",
    "    print(f\"x={x},y={y}\")\n",
    "    print(\"hi\")\n",
    "    print(\"hello\")\n",
    "add(10,20) # 10,20 arguments\n",
    "add(100,200) # 100, 200 arguments"
   ]
  },
  {
   "cell_type": "code",
   "execution_count": 9,
   "metadata": {},
   "outputs": [
    {
     "name": "stdout",
     "output_type": "stream",
     "text": [
      "x=10,y=20\n",
      "res= 30\n",
      "x=100,y=200\n",
      "res= 300\n",
      "x=1000,y=2000\n",
      "res= 3000\n",
      "x=10000,y=20000\n",
      "res= 30000\n"
     ]
    }
   ],
   "source": [
    "\"\"\"\n",
    "a=10\n",
    "b=20\n",
    "print(f\"a={a},b={b}\")\n",
    "res=a+b\n",
    "print(f\"res={res}\")\n",
    "a=100\n",
    "b=200\n",
    "print(f\"a={a},b={b}\")\n",
    "res=a+b\n",
    "print(f\"res={res}\")\n",
    "a=1000\n",
    "b=2000\n",
    "print(f\"a={a},b={b}\")\n",
    "res=a+b\n",
    "print(f\"res={res}\")\n",
    "a=10000\n",
    "b=20000\n",
    "print(f\"a={a},b={b}\")\n",
    "res=a+b\n",
    "print(f\"res={res}\")\n",
    "\"\"\"\n",
    "def add(x,y): # x,y parameters\n",
    "    print(f\"x={x},y={y}\")\n",
    "    res=x+y\n",
    "    print(\"res=\",res)\n",
    "add(10,20) # 10,20 arguments\n",
    "add(100,200) # 100, 200 arguments\n",
    "add(1000,2000)\n",
    "add(10000,20000)"
   ]
  },
  {
   "cell_type": "code",
   "execution_count": 10,
   "metadata": {},
   "outputs": [
    {
     "name": "stdout",
     "output_type": "stream",
     "text": [
      "x=10,y=20, z=30\n",
      "res= 60\n"
     ]
    }
   ],
   "source": [
    "def add(x,y,z): # x,y parameters\n",
    "    print(f\"x={x},y={y}, z={z}\")\n",
    "    res=x+y+z\n",
    "    print(\"res=\",res)\n",
    "add(10,20,30)# 10,20,30 positional arguments"
   ]
  },
  {
   "cell_type": "code",
   "execution_count": 11,
   "metadata": {},
   "outputs": [
    {
     "ename": "TypeError",
     "evalue": "add() missing 1 required positional argument: 'z'",
     "output_type": "error",
     "traceback": [
      "\u001b[1;31m---------------------------------------------------------------------------\u001b[0m",
      "\u001b[1;31mTypeError\u001b[0m                                 Traceback (most recent call last)",
      "\u001b[1;32m<ipython-input-11-6dfea09611c7>\u001b[0m in \u001b[0;36m<module>\u001b[1;34m\u001b[0m\n\u001b[0;32m      3\u001b[0m     \u001b[0mres\u001b[0m\u001b[1;33m=\u001b[0m\u001b[0mx\u001b[0m\u001b[1;33m+\u001b[0m\u001b[0my\u001b[0m\u001b[1;33m+\u001b[0m\u001b[0mz\u001b[0m\u001b[1;33m\u001b[0m\u001b[1;33m\u001b[0m\u001b[0m\n\u001b[0;32m      4\u001b[0m     \u001b[0mprint\u001b[0m\u001b[1;33m(\u001b[0m\u001b[1;34m\"res=\"\u001b[0m\u001b[1;33m,\u001b[0m\u001b[0mres\u001b[0m\u001b[1;33m)\u001b[0m\u001b[1;33m\u001b[0m\u001b[1;33m\u001b[0m\u001b[0m\n\u001b[1;32m----> 5\u001b[1;33m \u001b[0madd\u001b[0m\u001b[1;33m(\u001b[0m\u001b[1;36m10\u001b[0m\u001b[1;33m,\u001b[0m\u001b[1;36m20\u001b[0m\u001b[1;33m)\u001b[0m\u001b[1;33m\u001b[0m\u001b[1;33m\u001b[0m\u001b[0m\n\u001b[0m",
      "\u001b[1;31mTypeError\u001b[0m: add() missing 1 required positional argument: 'z'"
     ]
    }
   ],
   "source": [
    "def add(x,y,z): # x,y,z are mandatory parameters\n",
    "    print(f\"x={x},y={y}, z={z}\")\n",
    "    res=x+y+z\n",
    "    print(\"res=\",res)\n",
    "add(10,20)"
   ]
  },
  {
   "cell_type": "code",
   "execution_count": 12,
   "metadata": {},
   "outputs": [
    {
     "name": "stdout",
     "output_type": "stream",
     "text": [
      "x=10,y=20, z=0\n",
      "res= 30\n"
     ]
    }
   ],
   "source": [
    "def add(x,y,z): # x,y,z are mandatory parameters\n",
    "    print(f\"x={x},y={y}, z={z}\")\n",
    "    res=x+y+z\n",
    "    print(\"res=\",res)\n",
    "add(10,20,0)"
   ]
  },
  {
   "cell_type": "code",
   "execution_count": 13,
   "metadata": {},
   "outputs": [
    {
     "name": "stdout",
     "output_type": "stream",
     "text": [
      "x=10,y=20, z=30\n",
      "res= 60\n",
      "x=10,y=20, z=0\n",
      "res= 30\n"
     ]
    }
   ],
   "source": [
    "def add(x,y,z=0): # x,y are mandatory parameters, z is an optional parameter\n",
    "    print(f\"x={x},y={y}, z={z}\")\n",
    "    res=x+y+z\n",
    "    print(\"res=\",res)\n",
    "add(10,20,30)\n",
    "add(10,20)"
   ]
  },
  {
   "cell_type": "code",
   "execution_count": 14,
   "metadata": {},
   "outputs": [
    {
     "name": "stdout",
     "output_type": "stream",
     "text": [
      "x=10,y=20, z=30\n",
      "res= 6000\n",
      "x=10,y=20, z=0\n",
      "res= 0\n"
     ]
    }
   ],
   "source": [
    "def add(x,y,z=0): # x,y are mandatory parameters, z is an optional parameter\n",
    "    print(f\"x={x},y={y}, z={z}\")\n",
    "    res=x*y*z\n",
    "    print(\"res=\",res)\n",
    "add(10,20,30)\n",
    "add(10,20)"
   ]
  },
  {
   "cell_type": "code",
   "execution_count": 15,
   "metadata": {},
   "outputs": [
    {
     "name": "stdout",
     "output_type": "stream",
     "text": [
      "x=10,y=20, z=30\n",
      "res= 6000\n",
      "x=10,y=20, z=1\n",
      "res= 200\n"
     ]
    }
   ],
   "source": [
    "def add(x,y,z=1): # x,y are mandatory parameters, z is an optional parameter\n",
    "    print(f\"x={x},y={y}, z={z}\")\n",
    "    res=x*y*z\n",
    "    print(\"res=\",res)\n",
    "add(10,20,30)\n",
    "add(10,20)"
   ]
  },
  {
   "cell_type": "code",
   "execution_count": 16,
   "metadata": {},
   "outputs": [
    {
     "name": "stdout",
     "output_type": "stream",
     "text": [
      "x=10,y=20, z=30, w=0\n",
      "res= 60\n",
      "x=10,y=20, z=0, w=0\n",
      "res= 30\n"
     ]
    }
   ],
   "source": [
    "def add(x,y,z=0,w=0): # x,y are mandatory parameters, z,w is an optional parameter\n",
    "    print(f\"x={x},y={y}, z={z}, w={w}\")\n",
    "    res=x+y+z+w\n",
    "    print(\"res=\",res)\n",
    "add(10,20,30)\n",
    "add(10,20)"
   ]
  },
  {
   "cell_type": "code",
   "execution_count": 17,
   "metadata": {},
   "outputs": [
    {
     "name": "stdout",
     "output_type": "stream",
     "text": [
      "x=10,y=20, z=300, w=0\n",
      "res= 330\n"
     ]
    }
   ],
   "source": [
    "def add(x,y,z=0,w=0): # x,y are mandatory parameters, z,w is an optional parameter\n",
    "    print(f\"x={x},y={y}, z={z}, w={w}\")\n",
    "    res=x+y+z+w\n",
    "    print(\"res=\",res)\n",
    "add(10,20,300)"
   ]
  },
  {
   "cell_type": "code",
   "execution_count": 18,
   "metadata": {},
   "outputs": [
    {
     "name": "stdout",
     "output_type": "stream",
     "text": [
      "x=10,y=20, z=0, w=300\n",
      "res= 330\n"
     ]
    }
   ],
   "source": [
    "def add(x,y,z=0,w=0): # x,y are mandatory parameters, z,w is an optional parameter\n",
    "    print(f\"x={x},y={y}, z={z}, w={w}\")\n",
    "    res=x+y+z+w\n",
    "    print(\"res=\",res)\n",
    "add(10,20,0,300)"
   ]
  },
  {
   "cell_type": "code",
   "execution_count": 19,
   "metadata": {},
   "outputs": [],
   "source": [
    "import pandas as pd"
   ]
  },
  {
   "cell_type": "code",
   "execution_count": 20,
   "metadata": {},
   "outputs": [],
   "source": [
    "pd.read_csv?"
   ]
  },
  {
   "cell_type": "code",
   "execution_count": 21,
   "metadata": {},
   "outputs": [
    {
     "name": "stdout",
     "output_type": "stream",
     "text": [
      "x=10,y=20, z=0, w=300\n",
      "res= 330\n"
     ]
    }
   ],
   "source": [
    "def add(x,y,z=0,w=0): # x,y are mandatory parameters, z,w is an optional parameter\n",
    "    print(f\"x={x},y={y}, z={z}, w={w}\")\n",
    "    res=x+y+z+w\n",
    "    print(\"res=\",res)\n",
    "add(10,20,w=300)# 10,20 positional arguments, w=300 keyword argument.\n"
   ]
  },
  {
   "cell_type": "code",
   "execution_count": 22,
   "metadata": {},
   "outputs": [
    {
     "name": "stdout",
     "output_type": "stream",
     "text": [
      "x=20,y=10, z=0, w=300\n",
      "res= 330\n"
     ]
    }
   ],
   "source": [
    "def add(x,y,z=0,w=0): # x,y are mandatory parameters, z,w is an optional parameter\n",
    "    print(f\"x={x},y={y}, z={z}, w={w}\")\n",
    "    res=x+y+z+w\n",
    "    print(\"res=\",res)\n",
    "add(y=10,x=20,w=300) #,x,y,w keyword arguments."
   ]
  },
  {
   "cell_type": "code",
   "execution_count": 23,
   "metadata": {},
   "outputs": [
    {
     "ename": "TypeError",
     "evalue": "add() got multiple values for argument 'x'",
     "output_type": "error",
     "traceback": [
      "\u001b[1;31m---------------------------------------------------------------------------\u001b[0m",
      "\u001b[1;31mTypeError\u001b[0m                                 Traceback (most recent call last)",
      "\u001b[1;32m<ipython-input-23-ded397664b4a>\u001b[0m in \u001b[0;36m<module>\u001b[1;34m\u001b[0m\n\u001b[0;32m      3\u001b[0m     \u001b[0mres\u001b[0m\u001b[1;33m=\u001b[0m\u001b[0mx\u001b[0m\u001b[1;33m+\u001b[0m\u001b[0my\u001b[0m\u001b[1;33m+\u001b[0m\u001b[0mz\u001b[0m\u001b[1;33m+\u001b[0m\u001b[0mw\u001b[0m\u001b[1;33m\u001b[0m\u001b[1;33m\u001b[0m\u001b[0m\n\u001b[0;32m      4\u001b[0m     \u001b[0mprint\u001b[0m\u001b[1;33m(\u001b[0m\u001b[1;34m\"res=\"\u001b[0m\u001b[1;33m,\u001b[0m\u001b[0mres\u001b[0m\u001b[1;33m)\u001b[0m\u001b[1;33m\u001b[0m\u001b[1;33m\u001b[0m\u001b[0m\n\u001b[1;32m----> 5\u001b[1;33m \u001b[0madd\u001b[0m\u001b[1;33m(\u001b[0m\u001b[1;36m10\u001b[0m\u001b[1;33m,\u001b[0m\u001b[1;36m20\u001b[0m\u001b[1;33m,\u001b[0m\u001b[0mx\u001b[0m\u001b[1;33m=\u001b[0m\u001b[1;36m100\u001b[0m\u001b[1;33m)\u001b[0m\u001b[1;33m\u001b[0m\u001b[1;33m\u001b[0m\u001b[0m\n\u001b[0m",
      "\u001b[1;31mTypeError\u001b[0m: add() got multiple values for argument 'x'"
     ]
    }
   ],
   "source": [
    "def add(x,y,z=0,w=0):\n",
    "    print(f\"x={x},y={y}, z={z}, w={w}\")\n",
    "    res=x+y+z+w\n",
    "    print(\"res=\",res)\n",
    "add(10,20,x=100)"
   ]
  },
  {
   "cell_type": "code",
   "execution_count": 24,
   "metadata": {},
   "outputs": [
    {
     "ename": "TypeError",
     "evalue": "add() missing 1 required positional argument: 'x'",
     "output_type": "error",
     "traceback": [
      "\u001b[1;31m---------------------------------------------------------------------------\u001b[0m",
      "\u001b[1;31mTypeError\u001b[0m                                 Traceback (most recent call last)",
      "\u001b[1;32m<ipython-input-24-3f39dd68e728>\u001b[0m in \u001b[0;36m<module>\u001b[1;34m\u001b[0m\n\u001b[0;32m      3\u001b[0m     \u001b[0mres\u001b[0m\u001b[1;33m=\u001b[0m\u001b[0mx\u001b[0m\u001b[1;33m+\u001b[0m\u001b[0my\u001b[0m\u001b[1;33m+\u001b[0m\u001b[0mz\u001b[0m\u001b[1;33m+\u001b[0m\u001b[0mw\u001b[0m\u001b[1;33m\u001b[0m\u001b[1;33m\u001b[0m\u001b[0m\n\u001b[0;32m      4\u001b[0m     \u001b[0mprint\u001b[0m\u001b[1;33m(\u001b[0m\u001b[1;34m\"res=\"\u001b[0m\u001b[1;33m,\u001b[0m\u001b[0mres\u001b[0m\u001b[1;33m)\u001b[0m\u001b[1;33m\u001b[0m\u001b[1;33m\u001b[0m\u001b[0m\n\u001b[1;32m----> 5\u001b[1;33m \u001b[0madd\u001b[0m\u001b[1;33m(\u001b[0m\u001b[0my\u001b[0m\u001b[1;33m=\u001b[0m\u001b[1;36m200\u001b[0m\u001b[1;33m,\u001b[0m\u001b[0mz\u001b[0m\u001b[1;33m=\u001b[0m\u001b[1;36m300\u001b[0m\u001b[1;33m)\u001b[0m\u001b[1;33m\u001b[0m\u001b[1;33m\u001b[0m\u001b[0m\n\u001b[0m",
      "\u001b[1;31mTypeError\u001b[0m: add() missing 1 required positional argument: 'x'"
     ]
    }
   ],
   "source": [
    "def add(x,y,z=0,w=0):\n",
    "    print(f\"x={x},y={y}, z={z}, w={w}\")\n",
    "    res=x+y+z+w\n",
    "    print(\"res=\",res)\n",
    "add(y=200,z=300)"
   ]
  },
  {
   "cell_type": "code",
   "execution_count": null,
   "metadata": {},
   "outputs": [],
   "source": [
    "def add():\n",
    "    pass\n",
    "add()\n",
    "add(1)\n",
    "add(1,2)\n",
    "add(1,2,3)\n",
    "add(1,2,3,4)\n",
    "add(1,2,3,4,5,6,7,8,8,89,90)"
   ]
  },
  {
   "cell_type": "code",
   "execution_count": 25,
   "metadata": {},
   "outputs": [
    {
     "name": "stdout",
     "output_type": "stream",
     "text": [
      "() <class 'tuple'>\n",
      "(1,) <class 'tuple'>\n",
      "(1, 2) <class 'tuple'>\n",
      "(1, 2, 3) <class 'tuple'>\n",
      "(1, 2, 3, 4) <class 'tuple'>\n",
      "(1, 2, 3, 4, 5, 6, 7, 8, 8, 89, 90) <class 'tuple'>\n"
     ]
    }
   ],
   "source": [
    "def add(*x): # *args\n",
    "    print(x, type(x))\n",
    "add()\n",
    "add(1)\n",
    "add(1,2)\n",
    "add(1,2,3)\n",
    "add(1,2,3,4)\n",
    "add(1,2,3,4,5,6,7,8,8,89,90)"
   ]
  },
  {
   "cell_type": "code",
   "execution_count": 26,
   "metadata": {},
   "outputs": [
    {
     "name": "stdout",
     "output_type": "stream",
     "text": [
      "0\n",
      "1\n",
      "3\n",
      "6\n",
      "10\n",
      "223\n"
     ]
    }
   ],
   "source": [
    "def add(*x): # *args\n",
    "    res=0\n",
    "    for i in x:\n",
    "        res=res+i\n",
    "    print(res)\n",
    "add()\n",
    "add(1)\n",
    "add(1,2)\n",
    "add(1,2,3)\n",
    "add(1,2,3,4)\n",
    "add(1,2,3,4,5,6,7,8,8,89,90)"
   ]
  },
  {
   "cell_type": "code",
   "execution_count": 28,
   "metadata": {},
   "outputs": [
    {
     "name": "stdout",
     "output_type": "stream",
     "text": [
      "name=jay, address=devendernagar, dob=2017-feb-28, pan=None\n"
     ]
    }
   ],
   "source": [
    "def person(name,address,dob,pan=None):\n",
    "    print(f\"name={name}, address={address}, dob={dob}, pan={pan}\")\n",
    "    #processinga\n",
    "person(\"jay\",\"devendernagar\",\"2017-feb-28\")"
   ]
  },
  {
   "cell_type": "code",
   "execution_count": 29,
   "metadata": {},
   "outputs": [
    {
     "name": "stdout",
     "output_type": "stream",
     "text": [
      "name=jay, address=devendernagar, dob=2017-feb-28, pan=None, adhar=None\n",
      "name=samba, address=devendernagar, dob=1989-jan-08, pan=pan_1, adhar=adhar_1\n"
     ]
    }
   ],
   "source": [
    "def person(name,address,dob,pan=None, adhar=None):\n",
    "    print(f\"name={name}, address={address}, dob={dob}, pan={pan}, adhar={adhar}\")\n",
    "    #processinga\n",
    "person(\"jay\",\"devendernagar\",\"2017-feb-28\")\n",
    "person(\"samba\",\"devendernagar\",\"1989-jan-08\",\"pan_1\",\"adhar_1\")"
   ]
  },
  {
   "cell_type": "code",
   "execution_count": 30,
   "metadata": {},
   "outputs": [
    {
     "name": "stdout",
     "output_type": "stream",
     "text": [
      "name=samba, address=devendernagar, dob=1989-JAN-8, pan=None, adhar=adhar_1\n"
     ]
    },
    {
     "ename": "TypeError",
     "evalue": "person() got an unexpected keyword argument 'citizenid'",
     "output_type": "error",
     "traceback": [
      "\u001b[1;31m---------------------------------------------------------------------------\u001b[0m",
      "\u001b[1;31mTypeError\u001b[0m                                 Traceback (most recent call last)",
      "\u001b[1;32m<ipython-input-30-12b5a975ed7c>\u001b[0m in \u001b[0;36m<module>\u001b[1;34m\u001b[0m\n\u001b[0;32m      3\u001b[0m     \u001b[1;31m#processinga\u001b[0m\u001b[1;33m\u001b[0m\u001b[1;33m\u001b[0m\u001b[1;33m\u001b[0m\u001b[0m\n\u001b[0;32m      4\u001b[0m \u001b[0mperson\u001b[0m\u001b[1;33m(\u001b[0m\u001b[0mname\u001b[0m\u001b[1;33m=\u001b[0m\u001b[1;34m\"samba\"\u001b[0m\u001b[1;33m,\u001b[0m\u001b[0maddress\u001b[0m\u001b[1;33m=\u001b[0m\u001b[1;34m\"devendernagar\"\u001b[0m\u001b[1;33m,\u001b[0m\u001b[0mdob\u001b[0m\u001b[1;33m=\u001b[0m\u001b[1;34m\"1989-JAN-8\"\u001b[0m\u001b[1;33m,\u001b[0m\u001b[0madhar\u001b[0m\u001b[1;33m=\u001b[0m\u001b[1;34m\"adhar_1\"\u001b[0m\u001b[1;33m)\u001b[0m\u001b[1;33m\u001b[0m\u001b[1;33m\u001b[0m\u001b[0m\n\u001b[1;32m----> 5\u001b[1;33m \u001b[0mperson\u001b[0m\u001b[1;33m(\u001b[0m\u001b[0mname\u001b[0m\u001b[1;33m=\u001b[0m\u001b[1;34m\"samba\"\u001b[0m\u001b[1;33m,\u001b[0m\u001b[0maddress\u001b[0m\u001b[1;33m=\u001b[0m\u001b[1;34m\"devendernagar\"\u001b[0m\u001b[1;33m,\u001b[0m\u001b[0mdob\u001b[0m\u001b[1;33m=\u001b[0m\u001b[1;34m\"1989-JAN-8\"\u001b[0m\u001b[1;33m,\u001b[0m\u001b[0madhar\u001b[0m\u001b[1;33m=\u001b[0m\u001b[1;34m\"adhar_1\"\u001b[0m\u001b[1;33m,\u001b[0m\u001b[0mcitizenid\u001b[0m\u001b[1;33m=\u001b[0m\u001b[1;34m\"hyd_23456\"\u001b[0m\u001b[1;33m)\u001b[0m\u001b[1;33m\u001b[0m\u001b[1;33m\u001b[0m\u001b[0m\n\u001b[0m",
      "\u001b[1;31mTypeError\u001b[0m: person() got an unexpected keyword argument 'citizenid'"
     ]
    }
   ],
   "source": [
    "def person(name,address,dob,pan=None, adhar=None):\n",
    "    print(f\"name={name}, address={address}, dob={dob}, pan={pan}, adhar={adhar}\")\n",
    "    #processinga\n",
    "person(name=\"samba\",address=\"devendernagar\",dob=\"1989-JAN-8\",adhar=\"adhar_1\")\n",
    "person(name=\"samba\",address=\"devendernagar\",dob=\"1989-JAN-8\",adhar=\"adhar_1\",citizenid=\"hyd_23456\")"
   ]
  },
  {
   "cell_type": "code",
   "execution_count": 31,
   "metadata": {},
   "outputs": [
    {
     "name": "stdout",
     "output_type": "stream",
     "text": [
      "name=samba, address=devendernagar, dob=1989-JAN-8, pan=None, adhar=adhar_1\n",
      "{} <class 'dict'>\n",
      "name=samba, address=devendernagar, dob=1989-JAN-8, pan=None, adhar=adhar_1\n",
      "{'citizenid': 'hyd_23456'} <class 'dict'>\n"
     ]
    }
   ],
   "source": [
    "def person(name,address,dob,pan=None, adhar=None, **context): #**kwargs\n",
    "    print(f\"name={name}, address={address}, dob={dob}, pan={pan}, adhar={adhar}\")\n",
    "    print(context, type(context))\n",
    "    #processinga\n",
    "person(name=\"samba\",address=\"devendernagar\",dob=\"1989-JAN-8\",adhar=\"adhar_1\")\n",
    "person(name=\"samba\",address=\"devendernagar\",dob=\"1989-JAN-8\",adhar=\"adhar_1\",citizenid=\"hyd_23456\")"
   ]
  },
  {
   "cell_type": "code",
   "execution_count": 32,
   "metadata": {},
   "outputs": [
    {
     "name": "stdout",
     "output_type": "stream",
     "text": [
      "name=samba, address=devendernagar, dob=1989-JAN-8, pan=None, adhar=adhar_1\n",
      "{} <class 'dict'>\n",
      "name=samba, address=devendernagar, dob=1989-JAN-8, pan=None, adhar=adhar_1\n",
      "{'citizenid': 'hyd_23456', 'someid': 2345} <class 'dict'>\n"
     ]
    }
   ],
   "source": [
    "def person(name,address,dob,pan=None, adhar=None, **context): #**kwargs\n",
    "    print(f\"name={name}, address={address}, dob={dob}, pan={pan}, adhar={adhar}\")\n",
    "    print(context, type(context))\n",
    "    #processinga\n",
    "person(name=\"samba\",address=\"devendernagar\",dob=\"1989-JAN-8\",adhar=\"adhar_1\")\n",
    "person(name=\"samba\",address=\"devendernagar\",dob=\"1989-JAN-8\",adhar=\"adhar_1\",citizenid=\"hyd_23456\",someid=2345)"
   ]
  },
  {
   "cell_type": "code",
   "execution_count": null,
   "metadata": {},
   "outputs": [],
   "source": [
    "# mandatory, optional, *args, **kwargs"
   ]
  }
 ],
 "metadata": {
  "kernelspec": {
   "display_name": "Python 3",
   "language": "python",
   "name": "python3"
  },
  "language_info": {
   "codemirror_mode": {
    "name": "ipython",
    "version": 3
   },
   "file_extension": ".py",
   "mimetype": "text/x-python",
   "name": "python",
   "nbconvert_exporter": "python",
   "pygments_lexer": "ipython3",
   "version": "3.8.3"
  }
 },
 "nbformat": 4,
 "nbformat_minor": 4
}
